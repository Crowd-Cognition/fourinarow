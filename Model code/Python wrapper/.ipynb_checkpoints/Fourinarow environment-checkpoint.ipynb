{
 "cells": [
  {
   "cell_type": "code",
   "execution_count": 1,
   "metadata": {},
   "outputs": [],
   "source": [
    "# The MIT License\n",
    "# \n",
    "# Permission is hereby granted, free of charge, to any person obtaining a copy of this software and associated documentation \n",
    "# files (the \"Software\"), to deal in the Software without restriction, including without limitation the rights to use, copy, \n",
    "# modify, merge, publish, distribute, sublicense, and/or sell copies of the Software, and to permit persons to whom the \n",
    "# Software is furnished to do so, subject to the following conditions:\n",
    "# \n",
    "# The above copyright notice and this permission notice shall be included in all copies or substantial portions of the Software.\n",
    "# THE SOFTWARE IS PROVIDED \"AS IS\", WITHOUT WARRANTY OF ANY KIND, EXPRESS OR IMPLIED, INCLUDING BUT NOT LIMITED TO THE \n",
    "# WARRANTIES OF MERCHANTABILITY, FITNESS FOR A PARTICULAR PURPOSE AND NONINFRINGEMENT. IN NO EVENT SHALL THE AUTHORS OR \n",
    "# COPYRIGHT HOLDERS BE LIABLE FOR ANY CLAIM, DAMAGES OR OTHER LIABILITY, WHETHER IN AN ACTION OF CONTRACT, TORT OR OTHERWISE, \n",
    "# ARISING FROM, OUT OF OR IN CONNECTION WITH THE SOFTWARE OR THE USE OR OTHER DEALINGS IN THE SOFTWARE.\n",
    "# \n",
    "# ============================================================================\n",
    "\"\"\"Fourinarow reinforcement learning environment.\"\"\"\n",
    "\n",
    "from __future__ import absolute_import\n",
    "from __future__ import division\n",
    "from __future__ import print_function\n",
    "\n",
    "import dm_env\n",
    "from dm_env import specs\n",
    "import numpy as np"
   ]
  },
  {
   "cell_type": "code",
   "execution_count": 2,
   "metadata": {},
   "outputs": [],
   "source": [
    "def makemove(bp,wp,color):\n",
    "    \"\"\"\n",
    "    stand-in for the opponent, currently the opponent moves on a random unoccupied square on the board\n",
    "    in the future, this function will wrap the C++ agent code\n",
    "    \"\"\"\n",
    "    unoccupied_squares = np.nonzero(np.logical_and([bp==0,wp==0]))\n",
    "    return np.random.choice(unoccupied_squares)"
   ]
  },
  {
   "cell_type": "code",
   "execution_count": 48,
   "metadata": {},
   "outputs": [
    {
     "ename": "IndentationError",
     "evalue": "expected an indented block (<ipython-input-48-f87a5d06fa54>, line 80)",
     "output_type": "error",
     "traceback": [
      "\u001b[1;36m  File \u001b[1;32m\"<ipython-input-48-f87a5d06fa54>\"\u001b[1;36m, line \u001b[1;32m80\u001b[0m\n\u001b[1;33m    self._bp[agent_move] = 1\u001b[0m\n\u001b[1;37m       ^\u001b[0m\n\u001b[1;31mIndentationError\u001b[0m\u001b[1;31m:\u001b[0m expected an indented block\n"
     ]
    }
   ],
   "source": [
    "class Fourinarow(dm_env.Environment):\n",
    "    \"\"\"\n",
    "    DM environment for playing fourinarow against a constant opponent\n",
    "    \"\"\"\n",
    "\n",
    "    def __init__(self, seed=1):\n",
    "        self._rng = np.random.RandomState(seed)\n",
    "        self._fourinarows = np.array( [[ 0,  9, 18, 27], #hard-coding all ways in which four-in-a-row can appear\n",
    "                                       [ 1, 10, 19, 28],\n",
    "                                       [ 2, 11, 20, 29],\n",
    "                                       [ 3, 12, 21, 30],\n",
    "                                       [ 4, 13, 22, 31],\n",
    "                                       [ 5, 14, 23, 32],\n",
    "                                       [ 6, 15, 24, 33],\n",
    "                                       [ 7, 16, 25, 34],\n",
    "                                       [ 8, 17, 26, 35],\n",
    "                                       [ 0, 10, 20, 30],\n",
    "                                       [ 1, 11, 21, 31],\n",
    "                                       [ 2, 12, 22, 32],\n",
    "                                       [ 3, 13, 23, 33],\n",
    "                                       [ 4, 14, 24, 34],\n",
    "                                       [ 5, 15, 25, 35],\n",
    "                                       [ 3, 11, 19, 27],\n",
    "                                       [ 4, 12, 20, 28],\n",
    "                                       [ 5, 13, 21, 29],\n",
    "                                       [ 6, 14, 22, 30],\n",
    "                                       [ 7, 15, 23, 31],\n",
    "                                       [ 8, 16, 24, 32],\n",
    "                                       [ 0,  1,  2,  3],\n",
    "                                       [ 1,  2,  3,  4],\n",
    "                                       [ 2,  3,  4,  5],\n",
    "                                       [ 3,  4,  5,  6],\n",
    "                                       [ 4,  5,  6,  7],\n",
    "                                       [ 5,  6,  7,  8],\n",
    "                                       [ 9, 10, 11, 12],\n",
    "                                       [10, 11, 12, 13],\n",
    "                                       [11, 12, 13, 14],\n",
    "                                       [12, 13, 14, 15],\n",
    "                                       [13, 14, 15, 16],\n",
    "                                       [14, 15, 16, 17],\n",
    "                                       [18, 19, 20, 21],\n",
    "                                       [19, 20, 21, 22],\n",
    "                                       [20, 21, 22, 23],\n",
    "                                       [21, 22, 23, 24],\n",
    "                                       [22, 23, 24, 25],\n",
    "                                       [23, 24, 25, 26],\n",
    "                                       [27, 28, 29, 30],\n",
    "                                       [28, 29, 30, 31],\n",
    "                                       [29, 30, 31, 32],\n",
    "                                       [30, 31, 32, 33],\n",
    "                                       [31, 32, 33, 34],\n",
    "                                       [32, 33, 34, 35]],dtype=int)\n",
    "        self._reset_next_step = True\n",
    "        self.reset()\n",
    "\n",
    "    def check_fourinarow(self,pieces):\n",
    "        return np.any(np.sum(pieces[self._fourinarows],axis=1)==4)\n",
    "        \n",
    "    def check_draw(self):\n",
    "        return np.sum(self._bp) + np.sum(self._wp)==36\n",
    "        \n",
    "    def reset(self):\n",
    "        \"\"\"Returns the first `TimeStep` of a new episode.\"\"\"\n",
    "        self._reset_next_step = False\n",
    "        self._bp = np.zeros(36, dtype=np.float32) #Black pieces\n",
    "        self._wp = np.zeros(36, dtype=np.float32) #White pieces\n",
    "        return dm_env.restart(self._observation())\n",
    "\n",
    "    def step(self, action):\n",
    "        \"\"\"Updates the environment according to the action.\"\"\"\n",
    "        if self._reset_next_step:\n",
    "            return self.reset()\n",
    "\n",
    "        agent_move = action\n",
    "\n",
    "        if self._bp[agent_move] == 1: #illegal move\n",
    "            terminate = True\n",
    "            reward = -1 #making an illegal move incurs a reward of -1\n",
    "        else:\n",
    "            terminate = False\n",
    "        \n",
    "        if not terminate:    \n",
    "            # Add a black piece to the board\n",
    "            self._bp[agent_move] = 1\n",
    "\n",
    "            #check if the agent has ended the game\n",
    "            if self.check_fourinarow(self._bp): #check if the agent made a winning move\n",
    "                reward = 1 #winning incurs a reward of 1 \n",
    "                terminate = True\n",
    "            if self.check_draw():\n",
    "                reward = 0 # drawing is neutral\n",
    "                terminate = True\n",
    "\n",
    "        if not terminate:\n",
    "            opponent_move = makemove(self._bp,self._wp,\"White\")\n",
    "            self._wp[opponent_move] = 1\n",
    "            if self.check_fourinarow(self._wp): #check if the opponent made a winning move\n",
    "                reward = -1 #losing incurs a penalty of -1\n",
    "                terminate = True\n",
    "            if self.check_draw():\n",
    "                reward = 0 # drawing is neutral\n",
    "                terminate = True\n",
    "                \n",
    "        if not terminate:\n",
    "            return dm_env.transition(reward=0., observation=self._observation())\n",
    "\n",
    "        else:            \n",
    "            self._reset_next_step = True\n",
    "            return dm_env.termination(reward=reward, observation=self._observation())\n",
    "            \n",
    "    def observation_spec(self):\n",
    "        \"\"\"Returns the observation spec.\"\"\"\n",
    "        return specs.BoundedArray(shape=(12,9), dtype=int, name=\"observation\", minimum=0, maximum=1)\n",
    "\n",
    "    def action_spec(self):\n",
    "        \"\"\"Returns the action spec.\"\"\"\n",
    "        return specs.DiscreteArray(dtype=int, num_values=36, name=\"action\")\n",
    "\n",
    "    def _observation(self):\n",
    "        \"\"\"\n",
    "        An observation consists of the placement of the black pieces, the placement of the white pieces and \n",
    "        a mask for unoccupied squares\n",
    "        \"\"\"\n",
    "        return np.vstack([self._bp.copy(),\n",
    "                          self._wp.copy(),\n",
    "                          np.logical_and(self._bp==0,self._wp==0)])"
   ]
  },
  {
   "cell_type": "code",
   "execution_count": 49,
   "metadata": {},
   "outputs": [],
   "source": [
    "env = Fourinarow()"
   ]
  },
  {
   "cell_type": "code",
   "execution_count": 50,
   "metadata": {},
   "outputs": [
    {
     "data": {
      "text/plain": [
       "BoundedArray(shape=(3, 36), dtype=dtype('int32'), name='observation', minimum=0, maximum=1)"
      ]
     },
     "execution_count": 50,
     "metadata": {},
     "output_type": "execute_result"
    }
   ],
   "source": [
    "env.observation_spec()"
   ]
  },
  {
   "cell_type": "code",
   "execution_count": 47,
   "metadata": {},
   "outputs": [
    {
     "data": {
      "text/plain": [
       "array([[0., 0., 0., 0., 0., 0., 0., 0., 0.],\n",
       "       [0., 0., 0., 0., 0., 0., 0., 0., 0.],\n",
       "       [0., 0., 0., 0., 0., 0., 0., 0., 0.],\n",
       "       [0., 0., 0., 0., 0., 0., 0., 0., 0.],\n",
       "       [0., 0., 0., 0., 0., 0., 0., 0., 0.],\n",
       "       [0., 0., 0., 0., 0., 0., 0., 0., 0.],\n",
       "       [0., 0., 0., 0., 0., 0., 0., 0., 0.],\n",
       "       [0., 0., 0., 0., 0., 0., 0., 0., 0.],\n",
       "       [1., 1., 1., 1., 1., 1., 1., 1., 1.],\n",
       "       [1., 1., 1., 1., 1., 1., 1., 1., 1.],\n",
       "       [1., 1., 1., 1., 1., 1., 1., 1., 1.],\n",
       "       [1., 1., 1., 1., 1., 1., 1., 1., 1.]], dtype=float32)"
      ]
     },
     "execution_count": 47,
     "metadata": {},
     "output_type": "execute_result"
    }
   ],
   "source": [
    "env._observation()"
   ]
  },
  {
   "cell_type": "code",
   "execution_count": 51,
   "metadata": {},
   "outputs": [],
   "source": [
    "from ctypes import *\n",
    "cdll.LoadLibrary('C:/')"
   ]
  },
  {
   "cell_type": "code",
   "execution_count": null,
   "metadata": {},
   "outputs": [],
   "source": []
  }
 ],
 "metadata": {
  "kernelspec": {
   "display_name": "Python 3",
   "language": "python",
   "name": "python3"
  },
  "language_info": {
   "codemirror_mode": {
    "name": "ipython",
    "version": 3
   },
   "file_extension": ".py",
   "mimetype": "text/x-python",
   "name": "python",
   "nbconvert_exporter": "python",
   "pygments_lexer": "ipython3",
   "version": "3.7.4"
  }
 },
 "nbformat": 4,
 "nbformat_minor": 2
}
