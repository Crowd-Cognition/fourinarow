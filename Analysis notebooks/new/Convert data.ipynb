{
 "cells": [
  {
   "cell_type": "code",
   "execution_count": 1,
   "metadata": {},
   "outputs": [],
   "source": [
    "import numpy as np\n",
    "import matplotlib.pyplot as plt\n",
    "import scipy.stats as sts\n",
    "from matplotlib import rcParams,font_manager\n",
    "from matplotlib.ticker import FormatStrFormatter\n",
    "import pickle\n",
    "import pandas as pd\n",
    "\n",
    "%load_ext autoreload\n",
    "%autoreload 2"
   ]
  },
  {
   "cell_type": "code",
   "execution_count": 3,
   "metadata": {},
   "outputs": [],
   "source": [
    "rcParams['figure.figsize'] = (6,6) #figure size in inches\n",
    "rcParams['font.family'] = \"sans-serif\" \n",
    "rcParams['font.weight'] = \"roman\" \n",
    "rcParams['font.style'] = \"normal\" # not 100% sure what this does but it was recommended\n",
    "rcParams['font.size'] = 32 # not 100% sure what this does but it was recommended\n",
    "rcParams['pdf.fonttype'] = 42\n",
    "rcParams['axes.linewidth'] = 2 #thickness of the border\n",
    "rcParams['xtick.major.width'] = rcParams['axes.linewidth'] # make sure line widths are consistent\n",
    "rcParams['ytick.major.width'] = rcParams['axes.linewidth']\n",
    "rcParams['axes.spines.right'] = False #hides right border\n",
    "rcParams['axes.spines.top'] = False #hides top\n",
    "rcParams['legend.frameon'] = False #hides box around the legend\n",
    "rcParams['legend.fontsize'] = 18 #font size in pt\n",
    "rcParams['axes.labelsize'] = 32 \n",
    "rcParams['xtick.labelsize'] = 24\n",
    "rcParams['ytick.labelsize'] = rcParams['xtick.labelsize']\n",
    "rcParams['lines.linewidth'] = 3\n",
    "rcParams['xtick.major.size'] = 5\n",
    "rcParams['lines.markersize'] = 16\n",
    "rcParams['ytick.major.size'] = rcParams['xtick.major.size'] "
   ]
  },
  {
   "cell_type": "code",
   "execution_count": 6,
   "metadata": {},
   "outputs": [],
   "source": [
    "direc = 'C:/Users/svo/Google Drive/Bas Games/'\n"
   ]
  },
  {
   "cell_type": "code",
   "execution_count": 71,
   "metadata": {},
   "outputs": [],
   "source": [
    "with open(direc + 'Data/data_eye.cpp') as f:\n",
    "    data = f.read()\n",
    "data=data[data.find('{{{'):]\n",
    "data=data[:data.find('}}'):]\n",
    "data = data.replace('{','').replace(',\\n','\\n').replace('}','').replace('0x','').replace('ULL','').replace('BLACK','Black').replace('WHITE','White').split()\n",
    "data = [line.split(',') for line in data]\n",
    "df = pd.DataFrame(data,columns=['bp','wp','move','color','rt','id','group'])\n",
    "df = df[['bp','wp','color','move','group','rt','id']]\n",
    "df['bp']=df['bp'].apply(lambda x: int(x,16))\n",
    "df['wp']=df['wp'].apply(lambda x: int(x,16))\n",
    "df['move']=df['move'].apply(lambda x: int(x,16))"
   ]
  },
  {
   "cell_type": "code",
   "execution_count": 73,
   "metadata": {},
   "outputs": [],
   "source": [
    "df.to_csv(direc + 'Data/data_eye.txt',header=None,index=False,sep='\\t',line_terminator='\\n')"
   ]
  },
  {
   "cell_type": "code",
   "execution_count": null,
   "metadata": {},
   "outputs": [],
   "source": []
  }
 ],
 "metadata": {
  "kernelspec": {
   "display_name": "Python 3",
   "language": "python",
   "name": "python3"
  },
  "language_info": {
   "codemirror_mode": {
    "name": "ipython",
    "version": 3
   },
   "file_extension": ".py",
   "mimetype": "text/x-python",
   "name": "python",
   "nbconvert_exporter": "python",
   "pygments_lexer": "ipython3",
   "version": "3.7.4"
  }
 },
 "nbformat": 4,
 "nbformat_minor": 4
}
