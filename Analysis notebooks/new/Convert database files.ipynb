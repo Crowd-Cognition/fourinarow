{
 "cells": [
  {
   "cell_type": "code",
   "execution_count": 1,
   "metadata": {},
   "outputs": [],
   "source": [
    "import numpy as np\n",
    "import matplotlib.pyplot as plt\n",
    "from matplotlib import rcParams,font_manager\n",
    "from matplotlib.ticker import FormatStrFormatter\n",
    "import json\n",
    "import pandas as pd\n",
    "import subprocess\n",
    "import os\n",
    "\n",
    "%load_ext autoreload\n",
    "%autoreload 2"
   ]
  },
  {
   "cell_type": "code",
   "execution_count": 2,
   "metadata": {},
   "outputs": [],
   "source": [
    "rcParams['figure.figsize'] = (6,6) #figure size in inches\n",
    "rcParams['font.family'] = \"sans-serif\" \n",
    "rcParams['font.weight'] = \"roman\" \n",
    "rcParams['font.style'] = \"normal\" # not 100% sure what this does but it was recommended\n",
    "rcParams['font.size'] = 32 # not 100% sure what this does but it was recommended\n",
    "rcParams['pdf.fonttype'] = 42\n",
    "rcParams['axes.linewidth'] = 2 #thickness of the border\n",
    "rcParams['xtick.major.width'] = rcParams['axes.linewidth'] # make sure line widths are consistent\n",
    "rcParams['ytick.major.width'] = rcParams['axes.linewidth']\n",
    "rcParams['axes.spines.right'] = False #hides right border\n",
    "rcParams['axes.spines.top'] = False #hides top\n",
    "rcParams['legend.frameon'] = False #hides box around the legend\n",
    "rcParams['legend.fontsize'] = 18 #font size in pt\n",
    "rcParams['axes.labelsize'] = 32 \n",
    "rcParams['xtick.labelsize'] = 24\n",
    "rcParams['ytick.labelsize'] = rcParams['xtick.labelsize']\n",
    "rcParams['lines.linewidth'] = 3\n",
    "rcParams['xtick.major.size'] = 5\n",
    "rcParams['lines.markersize'] = 16\n",
    "rcParams['ytick.major.size'] = rcParams['xtick.major.size'] "
   ]
  },
  {
   "cell_type": "code",
   "execution_count": 3,
   "metadata": {},
   "outputs": [],
   "source": [
    "direc = 'H:/.shortcut-targets-by-id/1R8CaJc_5SkyYuvNB8yd4KCaXFKSi2zoz/2022 Time pressure replication/Data/'"
   ]
  },
  {
   "cell_type": "code",
   "execution_count": 4,
   "metadata": {},
   "outputs": [],
   "source": [
    "def load_json_data(direc,filename):\n",
    "    with open(direc + filename) as f:\n",
    "        return json.load(f)"
   ]
  },
  {
   "cell_type": "code",
   "execution_count": 5,
   "metadata": {},
   "outputs": [],
   "source": [
    "json_data = [load_json_data(direc,f) for f in os.listdir(direc) if f.endswith('.json')]"
   ]
  },
  {
   "cell_type": "code",
   "execution_count": 6,
   "metadata": {},
   "outputs": [],
   "source": [
    "condition_dict = dict(sum([[(e['user_name'],str(e['event_info']['condition'])) for e in d if e['event_type']=='Select condition'] \n",
    "          for d in json_data],[]))"
   ]
  },
  {
   "cell_type": "code",
   "execution_count": 36,
   "metadata": {},
   "outputs": [
    {
     "data": {
      "text/plain": [
       "{'20220630_dn': 'random',\n",
       " '20220630_hz': '[0, 2, 1]',\n",
       " '20220701_ot': '[0, 1, 2]',\n",
       " '20220701_yl': '[1, 0, 2]',\n",
       " '20220701_xl': '[0, 1, 2]',\n",
       " '20220701_ar': 'random',\n",
       " '20220701_hl': '[2, 1, 0]',\n",
       " '20220705_tl': '[0, 2, 1]',\n",
       " '20220705_ar2': 'random',\n",
       " '20220705_ao': '[0, 1, 2]',\n",
       " '20220705_cm': 'random',\n",
       " '20220706_kt': 'random',\n",
       " '20220706_cb': 'random',\n",
       " '20220706_kg': '[0, 1, 2]',\n",
       " '20220706_ll': 'random',\n",
       " '20220706_nl': '[2, 0, 1]',\n",
       " '20220706_bg': 'random',\n",
       " '20220706_hr': '[0, 2, 1]',\n",
       " '20220706_bh': '[1, 0, 2]',\n",
       " '20220706_rl': 'random',\n",
       " '20220707_wjk': 'random',\n",
       " '20220707_vb': 'random',\n",
       " '20220707_sw': '[1, 2, 0]',\n",
       " '20220707_il': '[2, 1, 0]',\n",
       " '20220707_mm': '[0, 2, 1]',\n",
       " '20220707_jn': 'random',\n",
       " '20220708_pp': '[2, 0, 1]',\n",
       " '20220708_sc': '[1, 2, 0]',\n",
       " '20220708_lp': 'random',\n",
       " '20220708_jk': '[2, 0, 1]',\n",
       " '20220711_gl': 'random',\n",
       " '20220711_kc': '[1, 2, 0]',\n",
       " '20220711_re': 'random',\n",
       " '20220711_pb': 'random',\n",
       " '20220711_ch': 'random',\n",
       " '20220712_va': 'random',\n",
       " '20220712_ms': 'random',\n",
       " '20220712_yd': '[0, 2, 1]',\n",
       " '20220712_ss': 'random',\n",
       " '20220712_ih': '[2, 0, 1]',\n",
       " '20220712_km': 'random',\n",
       " '20220712_km2': 'random',\n",
       " '20220713_aq': 'random',\n",
       " '20220713_st': 'random',\n",
       " '20220714_jf': '[2, 1, 0]',\n",
       " '20220714_sh': '[1, 2, 0]',\n",
       " '20220714_zm': 'random',\n",
       " '20220714_cm': '[2, 1, 0]',\n",
       " '20220715_ab': '[0, 1, 2]',\n",
       " '20220715_mo': 'random',\n",
       " '20220715_yf': '[1, 0, 2]',\n",
       " '20220715_zz': 'random',\n",
       " '20220718_aw': 'random',\n",
       " '20220718_yz': 'random',\n",
       " '20220718_aj': '[2, 0, 1]',\n",
       " '20220720_ae': '[1, 0, 2]',\n",
       " '20220720_cc': '[1, 0, 2]',\n",
       " '20220720_mm': 'random',\n",
       " '20220721_ag': '[1, 2, 0]',\n",
       " '20220722_rz': 'random'}"
      ]
     },
     "execution_count": 36,
     "metadata": {},
     "output_type": "execute_result"
    }
   ],
   "source": [
    "condition_dict"
   ]
  },
  {
   "cell_type": "code",
   "execution_count": 7,
   "metadata": {},
   "outputs": [],
   "source": [
    "def load_data_for_elo(direc,filename):\n",
    "    with open(direc + filename) as f:\n",
    "        data = json.load(f)\n",
    "        #print([e['event_info']['trial_number'] for e in data if e['event_type']=='Timeout' and e['event_info']['timer_id']=='visTimerOpp'])\n",
    "        #print(np.unique([e['event_info']['time_limit'] for e in data if e['event_type']=='Time drawn'],return_counts=True))\n",
    "        event_types = ['Make player move','Make opponent move','Timeout']\n",
    "        df = pd.DataFrame([{'user_name' : e['user_name'],'event_type' : e['event_type'],**e['event_info']} \n",
    "                           for e in data if e['event_type'] in event_types and \n",
    "                           (not 'status' in e['event_info'] or e['event_info']['status']!='playing')])\n",
    "        df['time_limit']=pd.DataFrame([e['event_info'] for e in data if e['event_type']=='Time drawn']\n",
    "                           ).set_index('trial_number').loc[df['trial_number']]['time_limit'].reset_index(drop=True)\n",
    "        return df"
   ]
  },
  {
   "cell_type": "code",
   "execution_count": 8,
   "metadata": {},
   "outputs": [],
   "source": [
    "df_for_elo = pd.concat([load_data_for_elo(direc,f) for f in os.listdir(direc) if f.endswith('.json')]).reset_index(drop=True)\n"
   ]
  },
  {
   "cell_type": "code",
   "execution_count": 9,
   "metadata": {},
   "outputs": [],
   "source": [
    "def get_results_from_row(row):\n",
    "    user_name = row['user_name'] + '_' + str(row['time_limit'])\n",
    "    opp = 'comp{:03d}'.format(row['opponent'])\n",
    "    if row['event_type']=='Make player move':        \n",
    "        if row['color']==0:\n",
    "            black = user_name\n",
    "            white = opp\n",
    "            outcome = 1\n",
    "        else:\n",
    "            black = opp\n",
    "            white = user_name\n",
    "            outcome = -1\n",
    "        if row['status']=='draw':\n",
    "            outcome=0\n",
    "    elif row['event_type']=='Make opponent move':        \n",
    "        if row['opponent_color']==0:\n",
    "            black = opp\n",
    "            white = user_name\n",
    "            outcome = 1\n",
    "        else:\n",
    "            black = user_name\n",
    "            white = opp\n",
    "            outcome = -1\n",
    "        if row['status']=='draw':\n",
    "            outcome=0\n",
    "    else: \n",
    "        if row['color']==0:\n",
    "            black = user_name\n",
    "            white = opp\n",
    "            outcome = -1\n",
    "        else:\n",
    "            black = opp\n",
    "            white = user_name\n",
    "            outcome = 1\n",
    "    return [str(black),str(white),outcome]"
   ]
  },
  {
   "cell_type": "code",
   "execution_count": 33,
   "metadata": {},
   "outputs": [],
   "source": [
    "results = list(df_for_elo.apply(get_results_from_row,axis=1))"
   ]
  },
  {
   "cell_type": "code",
   "execution_count": 35,
   "metadata": {},
   "outputs": [],
   "source": [
    "with open('G:/My Drive/Bas Games/Analysis/Ratings/results_time_rep.txt','w') as f:\n",
    "    json.dump(results,f)"
   ]
  },
  {
   "cell_type": "code",
   "execution_count": 11,
   "metadata": {},
   "outputs": [],
   "source": [
    "def load_data(direc,filename):\n",
    "    print(filename)\n",
    "    with open(direc + filename) as f:\n",
    "        data = json.load(f)\n",
    "        #print([e['event_info']['trial_number'] for e in data if e['event_type']=='Timeout' and e['event_info']['timer_id']=='visTimerOpp'])\n",
    "        #print(np.unique([e['event_info']['time_limit'] for e in data if e['event_type']=='Time drawn'],return_counts=True))\n",
    "        \n",
    "        df = pd.DataFrame([e['event_info'] for e in data if e['event_type']=='Make player move'])\n",
    "        df['user_name'] = [e['user_name'] for e in data if e['event_type']=='Make player move']        \n",
    "        df['time_limit']=pd.DataFrame([e['event_info'] for e in data if e['event_type']=='Time drawn']\n",
    "                           ).set_index('trial_number').loc[df['trial_number']]['time_limit'].reset_index(drop=True)\n",
    "        return df"
   ]
  },
  {
   "cell_type": "code",
   "execution_count": 12,
   "metadata": {},
   "outputs": [],
   "source": [
    "def encode_board(pieces):\n",
    "    return np.sum([2**i for i,p in enumerate(pieces) if p=='1']).astype(np.int64)\n",
    "\n",
    "def encode_move(m):\n",
    "    return 2**m"
   ]
  },
  {
   "cell_type": "code",
   "execution_count": 13,
   "metadata": {
    "scrolled": false
   },
   "outputs": [
    {
     "name": "stdout",
     "output_type": "stream",
     "text": [
      "20220630_dn_Fourinarow_1656598804921.json\n",
      "20220630_hz_Fourinarow_1656619392350.json\n",
      "20220701_ot_Fourinarow_1656684693552.json\n",
      "20220701_yl_Fourinarow_1656685238367.json\n",
      "20220701_xl_Fourinarow_1656690409863.json\n",
      "20220701_ar_Fourinarow_1656695570122.json\n",
      "20220701_hl_Fourinarow_1656705552623.json\n",
      "20220705_tl_Fourinarow_1657031758097.json\n",
      "20220705_ar2_Fourinarow_1657037007906.json\n",
      "20220705_ao_Fourinarow_1657042202277.json\n",
      "20220705_cm_Fourinarow_1657046283966.json\n",
      "20220706_kt_Fourinarow_1657116555776.json\n",
      "20220706_cb_Fourinarow_1657121683465.json\n",
      "20220706_kg_Fourinarow_1657122320617.json\n",
      "20220706_ll_Fourinarow_1657127224653.json\n",
      "20220706_nl_Fourinarow_1657127738072.json\n",
      "20220706_bg_Fourinarow_1657132516301.json\n",
      "20220706_hr_Fourinarow_1657133440632.json\n",
      "20220706_bh_Fourinarow_1657139253932.json\n",
      "20220706_rl_Fourinarow_1657139038897.json\n",
      "20220707_wjk_Fourinarow_1657203749368.json\n",
      "20220707_vb_Fourinarow_1657209556290.json\n",
      "20220707_sw_Fourinarow_1657214209050.json\n",
      "20220707_il_Fourinarow_1657219658428.json\n",
      "20220707_mm_1_Fourinarow_1657219786559.json\n",
      "20220707_jn_Fourinarow_1657214071045.json\n",
      "20220708_pp_Fourinarow_1657295239498.json\n",
      "20220708_sc_Fourinarow_1657307429890.json\n",
      "20220708_lp_Fourinarow_1657311512057.json\n",
      "20220708_jk_Fourinarow_1657311315091.json\n",
      "20220711_kc_Fourinarow_1657549408279.json\n",
      "20220711_gl_Fourinarow_1657549481347.json\n",
      "20220711_re_Fourinarow_1657565143637.json\n",
      "20220711_pb_Fourinarow_1657565387557.json\n",
      "20220711_ch_Fourinarow_1657568548195.json\n",
      "20220712_va_Fourinarow_1657642586591.json\n",
      "20220712_ms_Fourinarow_1657646752184.json\n",
      "20220712_yd_Fourinarow_1657647457460.json\n",
      "20220712_ss_Fourinarow_1657651093837.json\n",
      "20220712_ih_Fourinarow_1657657391356.json\n",
      "20220712_km_Fourinarow_1657635923560.json\n",
      "20220712_km2_Fourinarow_1657657210081.json\n",
      "20220713_aq_Fourinarow_1657743965353.json\n",
      "20220713_st_Fourinarow_1657742829271.json\n",
      "20220714_jf_Fourinarow_1657813130803.json\n",
      "20220714_sh_Fourinarow_1657826872385.json\n",
      "20220714_zm_Fourinarow_1657825111509.json\n",
      "20220714_cm_Fourinarow_1657830560651.json\n",
      "20220715_ab_Fourinarow_1657894690769.json\n",
      "20220715_mo_Fourinarow_1657900859845.json\n",
      "20220715_yf_Fourinarow_1657905988962.json\n",
      "20220715_zz_Fourinarow_1657901654018.json\n",
      "20220718_aw_Fourinarow_1658153172945.json\n",
      "20220718_yz_Fourinarow_1658154283520.json\n",
      "20220718_aj_Fourinarow_1658175861306.json\n",
      "20220720_ae_Fourinarow_1658343426083.json\n",
      "20220720_cc_Fourinarow_1658348964351.json\n",
      "20220720_mm_Fourinarow_1658347233968.json\n",
      "20220721_ag_Fourinarow_1658418257530.json\n",
      "20220722_rz_Fourinarow_1658500966013.json\n"
     ]
    }
   ],
   "source": [
    "df = pd.concat([load_data(direc,f) for f in os.listdir(direc) if f.endswith('.json')]).reset_index(drop=True)\n",
    "df['user_number'] = df['user_name'].map(dict(zip(df['user_name'].unique(),range(61))))\n",
    "df['time_limit_number'] = df['time_limit'].map(dict(zip(sorted(df['time_limit'].unique()),range(61))))\n",
    "df['user_id'] = 3*df['user_number'] + df['time_limit_number']\n",
    "for i in df['user_id'].unique():\n",
    "    n = (df['user_id']==i).sum()\n",
    "    df.loc[df['user_id']==i,'group'] = (5*(np.random.permutation(n)/n)+1)\n",
    "df['group']=df['group'].astype(int)\n",
    "df['color'] = df['color'].map({0: 'Black', 1: 'White'})\n",
    "df['bp']=df['bp'].apply(encode_board)\n",
    "df['wp']=df['wp'].apply(encode_board)\n",
    "df['move']=2**df['move']\n"
   ]
  },
  {
   "cell_type": "code",
   "execution_count": 14,
   "metadata": {},
   "outputs": [],
   "source": [
    "names_from_sheet = ['20220630_dn','20220714_jf','20220630_hz','20220701_yl','20220701_ot','20220701_xl','20220701_ar','20220707_vb','20220707_wjk','20220701_hl','20220714_sh','20220705_ce','20220705_tl','20220705_ar2','20220707_sw','20220705_ao','20220705_cm','20220707_jn','20220706_kt','20220706_cb','20220706_kg','20220706_ll','20220706_nl','20220706_bg','20220706_hr','20220706_rl','20220706_bh','20220707_il','20220707_mm','20220708_pp','20220708_lp','20220708_jk','20220708_sc','20220711_kc','20220711_gl','20220711_re','20220711_pb','20220711_ch','20220712_km','20220712_va','20220712_ms','20220712_yd','20220712_ss','20220712_km2','20220712_ih','20220713_aq','20220713_st','20220714_zm','20220714_cm','20220715_ab','20220715_mo','20220715_zz','20220715_yf','20220718_aw','20220718_yz','20220718_aj','20220720_ae','20220720_mm','20220720_cc','20220721_ag','20220722_rz']"
   ]
  },
  {
   "cell_type": "code",
   "execution_count": 15,
   "metadata": {},
   "outputs": [
    {
     "data": {
      "text/plain": [
       "{'20220705_ce'}"
      ]
     },
     "execution_count": 15,
     "metadata": {},
     "output_type": "execute_result"
    }
   ],
   "source": [
    "set(names_from_sheet) - set(condition_dict.keys())"
   ]
  },
  {
   "cell_type": "code",
   "execution_count": 16,
   "metadata": {},
   "outputs": [
    {
     "data": {
      "text/plain": [
       "set()"
      ]
     },
     "execution_count": 16,
     "metadata": {},
     "output_type": "execute_result"
    }
   ],
   "source": [
    "set(condition_dict.keys()) - set(names_from_sheet)"
   ]
  },
  {
   "cell_type": "code",
   "execution_count": 21,
   "metadata": {},
   "outputs": [
    {
     "data": {
      "text/plain": [
       "60"
      ]
     },
     "execution_count": 21,
     "metadata": {},
     "output_type": "execute_result"
    }
   ],
   "source": [
    "len(json_data)"
   ]
  },
  {
   "cell_type": "code",
   "execution_count": 18,
   "metadata": {},
   "outputs": [
    {
     "data": {
      "image/png": "[encoded data removed]",
      "text/plain": [
       "<Figure size 432x432 with 1 Axes>"
      ]
     },
     "metadata": {
      "needs_background": "light"
     },
     "output_type": "display_data"
    }
   ],
   "source": [
    "for i in [5000,10000,20000]:\n",
    "    plt.hist(df[(df['time_limit']==i)]['duration']/1000,density='normed',bins=np.arange(0,20,0.2),histtype='step',linewidth=2,label=str(i//1000) + ' seconds')\n",
    "plt.legend()\n",
    "plt.xlabel('Response time')\n",
    "plt.ylabel('Density')\n",
    "plt.show()"
   ]
  },
  {
   "cell_type": "code",
   "execution_count": 19,
   "metadata": {},
   "outputs": [
    {
     "data": {
      "image/png": "[encoded data removed]",
      "text/plain": [
       "<Figure size 432x432 with 1 Axes>"
      ]
     },
     "metadata": {
      "needs_background": "light"
     },
     "output_type": "display_data"
    }
   ],
   "source": [
    "m = df.groupby('time_limit')['duration'].mean().values\n",
    "sem = df.groupby('time_limit')['duration'].sem().values\n",
    "plt.errorbar([5,10,20],m/1000,sem/1000)\n",
    "plt.xlabel('Time limit')\n",
    "plt.ylabel('Response time')\n",
    "plt.ylim([1.5,3.5])\n",
    "plt.show()"
   ]
  },
  {
   "cell_type": "code",
   "execution_count": 20,
   "metadata": {},
   "outputs": [],
   "source": [
    "direc = 'C:/Users/svo/Documents/FourinarowData/Data/timepressure_rep/'\n",
    "cols = ['bp','wp','color','move','duration','group','user_name',]\n",
    "if not os.path.exists(direc + 'splits/'):\n",
    "    os.mkdir(direc + 'splits/')\n",
    "for i in range(180):\n",
    "    if not os.path.exists(direc + 'splits/' + str(i+1)):\n",
    "        os.mkdir(direc + 'splits/' + str(i+1))\n",
    "    with open(direc + 'splits/' + str(i+1) + '/data.csv','w') as f:\n",
    "        f.write(df[df['user_id']==i][cols].to_csv(None, index = False, header=False,sep='\\t',line_terminator ='\\n')[:-1])\n",
    "    for g in range(1,6):\n",
    "        with open(direc + 'splits/' + str(i+1) + '/' + str(g) + '.csv','w') as f:\n",
    "            f.write(df[(df['user_id']==i) & (df['group']==g)][cols].to_csv(None, index = False, header=False,sep='\\t',line_terminator ='\\n')[:-1])"
   ]
  },
  {
   "cell_type": "code",
   "execution_count": null,
   "metadata": {},
   "outputs": [],
   "source": []
  },
  {
   "cell_type": "code",
   "execution_count": null,
   "metadata": {},
   "outputs": [],
   "source": []
  },
  {
   "cell_type": "code",
   "execution_count": null,
   "metadata": {},
   "outputs": [],
   "source": []
  }
 ],
 "metadata": {
  "kernelspec": {
   "display_name": "Python 3",
   "language": "python",
   "name": "python3"
  },
  "language_info": {
   "codemirror_mode": {
    "name": "ipython",
    "version": 3
   },
   "file_extension": ".py",
   "mimetype": "text/x-python",
   "name": "python",
   "nbconvert_exporter": "python",
   "pygments_lexer": "ipython3",
   "version": "3.7.4"
  }
 },
 "nbformat": 4,
 "nbformat_minor": 4
}
