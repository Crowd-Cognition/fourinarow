{
 "cells": [
  {
   "cell_type": "code",
   "execution_count": 1,
   "metadata": {},
   "outputs": [],
   "source": [
    "import numpy as np\n",
    "import matplotlib.pyplot as plt\n",
    "import scipy.stats as sts\n",
    "from matplotlib import rcParams,font_manager\n",
    "import os\n",
    "from matplotlib.ticker import FormatStrFormatter\n",
    "import pandas as pd\n",
    "import pickle\n",
    "from fourinarowfunctions import *\n",
    "\n",
    "%load_ext autoreload\n",
    "%autoreload 2"
   ]
  },
  {
   "cell_type": "code",
   "execution_count": 2,
   "metadata": {},
   "outputs": [],
   "source": [
    "rcParams['figure.figsize'] = (6,6) #figure size in inches\n",
    "rcParams['font.family'] = \"sans-serif\" \n",
    "rcParams['font.weight'] = \"roman\" \n",
    "rcParams['font.style'] = \"normal\" # not 100% sure what this does but it was recommended\n",
    "rcParams['font.size'] = 32 # not 100% sure what this does but it was recommended\n",
    "rcParams['pdf.fonttype'] = 42\n",
    "rcParams['axes.linewidth'] = 2 #thickness of the border\n",
    "rcParams['xtick.major.width'] = rcParams['axes.linewidth'] # make sure line widths are consistent\n",
    "rcParams['ytick.major.width'] = rcParams['axes.linewidth']\n",
    "rcParams['axes.spines.right'] = False #hides right border\n",
    "rcParams['axes.spines.top'] = False #hides top\n",
    "rcParams['legend.frameon'] = False #hides box around the legend\n",
    "rcParams['legend.fontsize'] = 18 #font size in pt\n",
    "rcParams['axes.labelsize'] = 32 \n",
    "rcParams['xtick.labelsize'] = 24\n",
    "rcParams['ytick.labelsize'] = rcParams['xtick.labelsize']\n",
    "rcParams['lines.linewidth'] = 3\n",
    "rcParams['xtick.major.size'] = 5\n",
    "rcParams['lines.markersize'] = 16\n",
    "rcParams['ytick.major.size'] = rcParams['xtick.major.size'] "
   ]
  },
  {
   "cell_type": "code",
   "execution_count": 33,
   "metadata": {},
   "outputs": [],
   "source": [
    "direc = 'C:/Users/svo/Google Drive/Bas Games/Analysis/'\n",
    "osf_direc = 'C:/Users/svo/Documents/FourinarowData/OSF/'"
   ]
  },
  {
   "cell_type": "code",
   "execution_count": 34,
   "metadata": {},
   "outputs": [],
   "source": [
    "with open(direc + 'loglik_all_pickled.txt','rb') as f:\n",
    "    loglik_all = pickle.load(f)"
   ]
  },
  {
   "cell_type": "code",
   "execution_count": 35,
   "metadata": {},
   "outputs": [],
   "source": [
    "loglik_all = np.hstack(loglik_all)"
   ]
  },
  {
   "cell_type": "code",
   "execution_count": 36,
   "metadata": {},
   "outputs": [],
   "source": [
    "model = 'final'\n",
    "expt_names = ['hvh','gen','eye','learn1','learn2','learn3','tai1','tai2']"
   ]
  },
  {
   "cell_type": "code",
   "execution_count": 37,
   "metadata": {},
   "outputs": [],
   "source": [
    "param_names = ['pruning threshold','stopping probability','feature drop rate','lapse rate','active scaling constant',\n",
    "               'center weight','connected 2-in-a-row weight','unconnected 2-in-a-row weight','3-in-a-row weight',\n",
    "               '4-in-a-row weight']"
   ]
  },
  {
   "cell_type": "code",
   "execution_count": 38,
   "metadata": {},
   "outputs": [],
   "source": [
    "models=['final','final_nonoise','final_nodelta','final_noprune','final_notree','final_noact','final_no3',\n",
    "        'final_no2conn','final_nocenter','final_no4','final_no2unc',\n",
    "        'final_optweights','final_mcts_myopic','final_drop_tile','final_fixed_iters',\n",
    "        'final_fixed_depth','final_fixed_branch','final_weight_hvd','final_drop_hvd',\n",
    "        'final_triangle','final_drop_type','final_opp']\n",
    "\n",
    "model_names = ['Main model','No value noise','No feature drop','No pruning','No tree','No active scaling',\n",
    "               'No 3-in-a-row','No connected 2-in-a-row','No center','No 4-in-a-row',\n",
    "               'No unconnected 2-in-a-row','Optimal weights','MCTS',\n",
    "               'Tile dropping','Fixed iterations','Fixed depth','Fixed branching',\n",
    "               'Orientation-dependent weights','Orientation-dependent dropping','Triangle',\n",
    "               'Type-dependent dropping','Opponent scaling']\n"
   ]
  },
  {
   "cell_type": "code",
   "execution_count": 39,
   "metadata": {},
   "outputs": [],
   "source": [
    "param_names_models = [param_names,param_names,param_names[:2] + param_names[3:],param_names[1:],\n",
    "                     param_names[2:],param_names[:4] + param_names[5:],param_names[:8] + param_names[9:],\n",
    "                      param_names[:6] + param_names[7:],param_names[:5] + param_names[6:],param_names[:9],\n",
    "                      param_names[:7] + param_names[8:],param_names[:5],\n",
    "                      param_names[1:4] + ['exploration constant'] + param_names[4:],\n",
    "                      param_names[:2] + ['tile drop rate'] + param_names[3:],\n",
    "                      param_names[:1] + ['inverse iteration number'] + param_names[2:],\n",
    "                      param_names[:1] + ['depth'] + param_names[2:],\n",
    "                      ['branching factor'] + param_names[1:],       \n",
    "                      param_names[:4] + ['horizontal-vertical scaling','horizontal-diagonal scaling'] + param_names[4:],\n",
    "                      param_names[:2] + param_names[3:] + ['horizontal feature drop rate','vertical feature drop rate',\n",
    "                                                           'diagonal feature drop rate'],\n",
    "                      param_names + ['triangle weight'],\n",
    "                      param_names[:2] + param_names[3:] + ['connected 2-in-a-row drop rate','unconnected 2-in-a-row drop rate',\n",
    "                                                           '3-in-a-row drop rate','4-in-a-row drop rate'],\n",
    "                      param_names[:4] + ['opponent scaling constant'] + param_names[4:],\n",
    "                     ]"
   ]
  },
  {
   "cell_type": "code",
   "execution_count": 74,
   "metadata": {},
   "outputs": [
    {
     "data": {
      "text/plain": [
       "SpearmanrResult(correlation=-0.8693972047332351, pvalue=1.5520092157724957e-62)"
      ]
     },
     "execution_count": 74,
     "metadata": {},
     "output_type": "execute_result"
    }
   ],
   "source": [
    "sts.spearmanr(np.mean(d,axis=1),df[df['experiment']=='human-vs-human']['stopping probability'].values)"
   ]
  },
  {
   "cell_type": "code",
   "execution_count": 221,
   "metadata": {},
   "outputs": [
    {
     "data": {
      "text/plain": [
       "SpearmanrResult(correlation=-0.21286234972954218, pvalue=3.9243057715479705e-09)"
      ]
     },
     "execution_count": 221,
     "metadata": {},
     "output_type": "execute_result"
    }
   ],
   "source": [
    "sts.spearmanr(np.mean(d,axis=1),np.loadtxt(direc + 'Params/params_learn_final_short.txt')[:,0])"
   ]
  },
  {
   "cell_type": "code",
   "execution_count": 79,
   "metadata": {},
   "outputs": [
    {
     "data": {
      "text/plain": [
       "(200, 10)"
      ]
     },
     "execution_count": 79,
     "metadata": {},
     "output_type": "execute_result"
    }
   ],
   "source": [
    "np.loadtxt(direc + 'Params/params_hvh_final_short.txt').shape"
   ]
  },
  {
   "cell_type": "code",
   "execution_count": 207,
   "metadata": {},
   "outputs": [],
   "source": [
    "params = np.loadtxt(direc + 'Params/params_hvh_final_short.txt')\n",
    "heuristic_quality = np.apply_along_axis(lambda p: get_heuristic_quality(expand_params(p)),1,params)"
   ]
  },
  {
   "cell_type": "code",
   "execution_count": 220,
   "metadata": {},
   "outputs": [
    {
     "data": {
      "text/plain": [
       "SpearmanrResult(correlation=0.27360879689174117, pvalue=8.846488647226968e-05)"
      ]
     },
     "execution_count": 220,
     "metadata": {},
     "output_type": "execute_result"
    }
   ],
   "source": [
    "sts.spearmanr(params[:,7]/params[:,5],heuristic_quality)"
   ]
  },
  {
   "cell_type": "code",
   "execution_count": 213,
   "metadata": {},
   "outputs": [
    {
     "data": {
      "text/plain": [
       "array([-0.0631296 ,  0.        , -0.04629518,  0.        , -0.33270018,\n",
       "       -0.        ,  0.00443478,  0.00055009,  0.3378023 ,  0.        ])"
      ]
     },
     "execution_count": 213,
     "metadata": {},
     "output_type": "execute_result"
    }
   ],
   "source": [
    "from sklearn import linear_model\n",
    "reg = linear_model.Lasso(alpha=0.1)\n",
    "reg.fit((params-np.mean(params,axis=0))/np.std(params,axis=0)[None,:],\n",
    "        (heuristic_quality-np.mean(heuristic_quality))/np.std(heuristic_quality)).coef_"
   ]
  },
  {
   "cell_type": "code",
   "execution_count": 214,
   "metadata": {},
   "outputs": [
    {
     "data": {
      "text/html": [
       "<table class=\"simpletable\">\n",
       "<caption>OLS Regression Results</caption>\n",
       "<tr>\n",
       "  <th>Dep. Variable:</th>            <td>y</td>        <th>  R-squared (uncentered):</th>      <td>   0.521</td>\n",
       "</tr>\n",
       "<tr>\n",
       "  <th>Model:</th>                   <td>OLS</td>       <th>  Adj. R-squared (uncentered):</th> <td>   0.496</td>\n",
       "</tr>\n",
       "<tr>\n",
       "  <th>Method:</th>             <td>Least Squares</td>  <th>  F-statistic:       </th>          <td>   20.68</td>\n",
       "</tr>\n",
       "<tr>\n",
       "  <th>Date:</th>             <td>Tue, 31 Aug 2021</td> <th>  Prob (F-statistic):</th>          <td>1.19e-25</td>\n",
       "</tr>\n",
       "<tr>\n",
       "  <th>Time:</th>                 <td>14:31:11</td>     <th>  Log-Likelihood:    </th>          <td> -210.14</td>\n",
       "</tr>\n",
       "<tr>\n",
       "  <th>No. Observations:</th>      <td>   200</td>      <th>  AIC:               </th>          <td>   440.3</td>\n",
       "</tr>\n",
       "<tr>\n",
       "  <th>Df Residuals:</th>          <td>   190</td>      <th>  BIC:               </th>          <td>   473.3</td>\n",
       "</tr>\n",
       "<tr>\n",
       "  <th>Df Model:</th>              <td>    10</td>      <th>                     </th>              <td> </td>   \n",
       "</tr>\n",
       "<tr>\n",
       "  <th>Covariance Type:</th>      <td>nonrobust</td>    <th>                     </th>              <td> </td>   \n",
       "</tr>\n",
       "</table>\n",
       "<table class=\"simpletable\">\n",
       "<tr>\n",
       "   <td></td>      <th>coef</th>     <th>std err</th>      <th>t</th>      <th>P>|t|</th>  <th>[0.025</th>    <th>0.975]</th>  \n",
       "</tr>\n",
       "<tr>\n",
       "  <th>x1</th>  <td>   -0.1414</td> <td>    0.053</td> <td>   -2.682</td> <td> 0.008</td> <td>   -0.245</td> <td>   -0.037</td>\n",
       "</tr>\n",
       "<tr>\n",
       "  <th>x2</th>  <td>    0.0232</td> <td>    0.051</td> <td>    0.453</td> <td> 0.651</td> <td>   -0.078</td> <td>    0.124</td>\n",
       "</tr>\n",
       "<tr>\n",
       "  <th>x3</th>  <td>   -0.1483</td> <td>    0.056</td> <td>   -2.626</td> <td> 0.009</td> <td>   -0.260</td> <td>   -0.037</td>\n",
       "</tr>\n",
       "<tr>\n",
       "  <th>x4</th>  <td>    0.0957</td> <td>    0.051</td> <td>    1.883</td> <td> 0.061</td> <td>   -0.005</td> <td>    0.196</td>\n",
       "</tr>\n",
       "<tr>\n",
       "  <th>x5</th>  <td>   -0.3515</td> <td>    0.061</td> <td>   -5.770</td> <td> 0.000</td> <td>   -0.472</td> <td>   -0.231</td>\n",
       "</tr>\n",
       "<tr>\n",
       "  <th>x6</th>  <td>   -0.0370</td> <td>    0.059</td> <td>   -0.626</td> <td> 0.532</td> <td>   -0.153</td> <td>    0.079</td>\n",
       "</tr>\n",
       "<tr>\n",
       "  <th>x7</th>  <td>    0.1237</td> <td>    0.053</td> <td>    2.330</td> <td> 0.021</td> <td>    0.019</td> <td>    0.228</td>\n",
       "</tr>\n",
       "<tr>\n",
       "  <th>x8</th>  <td>    0.1059</td> <td>    0.056</td> <td>    1.895</td> <td> 0.060</td> <td>   -0.004</td> <td>    0.216</td>\n",
       "</tr>\n",
       "<tr>\n",
       "  <th>x9</th>  <td>    0.4211</td> <td>    0.054</td> <td>    7.763</td> <td> 0.000</td> <td>    0.314</td> <td>    0.528</td>\n",
       "</tr>\n",
       "<tr>\n",
       "  <th>x10</th> <td>   -0.0083</td> <td>    0.051</td> <td>   -0.160</td> <td> 0.873</td> <td>   -0.110</td> <td>    0.093</td>\n",
       "</tr>\n",
       "</table>\n",
       "<table class=\"simpletable\">\n",
       "<tr>\n",
       "  <th>Omnibus:</th>       <td>36.406</td> <th>  Durbin-Watson:     </th> <td>   1.420</td>\n",
       "</tr>\n",
       "<tr>\n",
       "  <th>Prob(Omnibus):</th> <td> 0.000</td> <th>  Jarque-Bera (JB):  </th> <td>  61.702</td>\n",
       "</tr>\n",
       "<tr>\n",
       "  <th>Skew:</th>          <td>-0.951</td> <th>  Prob(JB):          </th> <td>4.00e-14</td>\n",
       "</tr>\n",
       "<tr>\n",
       "  <th>Kurtosis:</th>      <td> 4.945</td> <th>  Cond. No.          </th> <td>    2.05</td>\n",
       "</tr>\n",
       "</table><br/><br/>Warnings:<br/>[1] Standard Errors assume that the covariance matrix of the errors is correctly specified."
      ],
      "text/plain": [
       "<class 'statsmodels.iolib.summary.Summary'>\n",
       "\"\"\"\n",
       "                                 OLS Regression Results                                \n",
       "=======================================================================================\n",
       "Dep. Variable:                      y   R-squared (uncentered):                   0.521\n",
       "Model:                            OLS   Adj. R-squared (uncentered):              0.496\n",
       "Method:                 Least Squares   F-statistic:                              20.68\n",
       "Date:                Tue, 31 Aug 2021   Prob (F-statistic):                    1.19e-25\n",
       "Time:                        14:31:11   Log-Likelihood:                         -210.14\n",
       "No. Observations:                 200   AIC:                                      440.3\n",
       "Df Residuals:                     190   BIC:                                      473.3\n",
       "Df Model:                          10                                                  \n",
       "Covariance Type:            nonrobust                                                  \n",
       "==============================================================================\n",
       "                 coef    std err          t      P>|t|      [0.025      0.975]\n",
       "------------------------------------------------------------------------------\n",
       "x1            -0.1414      0.053     -2.682      0.008      -0.245      -0.037\n",
       "x2             0.0232      0.051      0.453      0.651      -0.078       0.124\n",
       "x3            -0.1483      0.056     -2.626      0.009      -0.260      -0.037\n",
       "x4             0.0957      0.051      1.883      0.061      -0.005       0.196\n",
       "x5            -0.3515      0.061     -5.770      0.000      -0.472      -0.231\n",
       "x6            -0.0370      0.059     -0.626      0.532      -0.153       0.079\n",
       "x7             0.1237      0.053      2.330      0.021       0.019       0.228\n",
       "x8             0.1059      0.056      1.895      0.060      -0.004       0.216\n",
       "x9             0.4211      0.054      7.763      0.000       0.314       0.528\n",
       "x10           -0.0083      0.051     -0.160      0.873      -0.110       0.093\n",
       "==============================================================================\n",
       "Omnibus:                       36.406   Durbin-Watson:                   1.420\n",
       "Prob(Omnibus):                  0.000   Jarque-Bera (JB):               61.702\n",
       "Skew:                          -0.951   Prob(JB):                     4.00e-14\n",
       "Kurtosis:                       4.945   Cond. No.                         2.05\n",
       "==============================================================================\n",
       "\n",
       "Warnings:\n",
       "[1] Standard Errors assume that the covariance matrix of the errors is correctly specified.\n",
       "\"\"\""
      ]
     },
     "execution_count": 214,
     "metadata": {},
     "output_type": "execute_result"
    }
   ],
   "source": [
    "from statsmodels.api import OLS\n",
    "OLS((heuristic_quality-np.mean(heuristic_quality))/np.std(heuristic_quality),\n",
    "    (params-np.mean(params,axis=0))/np.std(params,axis=0)[None,:],).fit().summary()"
   ]
  },
  {
   "cell_type": "code",
   "execution_count": 124,
   "metadata": {},
   "outputs": [
    {
     "data": {
      "text/plain": [
       "'center weight'"
      ]
     },
     "execution_count": 124,
     "metadata": {},
     "output_type": "execute_result"
    }
   ],
   "source": [
    "param_names[5]"
   ]
  },
  {
   "cell_type": "code",
   "execution_count": 40,
   "metadata": {},
   "outputs": [],
   "source": [
    "def create_df(i):\n",
    "    model = models[i]\n",
    "    model_name = model_names[i]\n",
    "    param_names_model = param_names_models[i]\n",
    "    loglik = loglik_all[i,:]\n",
    "    params = np.vstack([np.loadtxt(direc + 'Params/params_' + name + '_' + model + '_short.txt') for name in expt_names])\n",
    "    df = pd.DataFrame(params,columns=param_names_model)\n",
    "    df['log-likelihood'] = loglik\n",
    "    print(model,model_name)\n",
    "    print(param_names_model)\n",
    "    df['model'] = model_name\n",
    "    df['experiment'] = ['human-vs-human']*200 + ['generalization']*200 + ['eye tracking']*50 + ['learning']*750 + ['time pressure']*450\n",
    "    df['participant'] = np.hstack([np.repeat(range(n),5) for n in [40,40,10]] + [np.repeat(range(30),25)] + [np.repeat(range(30),15)])+1\n",
    "    df['cross-validation group']=np.tile(range(1,6),330)\n",
    "    df['session number'] = np.nan\n",
    "    df['time limit'] = np.nan\n",
    "    df.loc[df['experiment']=='learning','session number'] = np.tile(np.repeat(range(1,6),5),30).astype(int)\n",
    "    df.loc[df['experiment']=='time pressure','time limit'] = np.tile(np.repeat([5,10,20],5),30).astype(int)\n",
    "    return df\n"
   ]
  },
  {
   "cell_type": "code",
   "execution_count": 47,
   "metadata": {
    "scrolled": false
   },
   "outputs": [
    {
     "name": "stdout",
     "output_type": "stream",
     "text": [
      "final Main model\n",
      "['pruning threshold', 'stopping probability', 'feature drop rate', 'lapse rate', 'active scaling constant', 'center weight', 'connected 2-in-a-row weight', 'unconnected 2-in-a-row weight', '3-in-a-row weight', '4-in-a-row weight']\n",
      "final_nonoise No value noise\n",
      "['pruning threshold', 'stopping probability', 'feature drop rate', 'lapse rate', 'active scaling constant', 'center weight', 'connected 2-in-a-row weight', 'unconnected 2-in-a-row weight', '3-in-a-row weight', '4-in-a-row weight']\n",
      "final_nodelta No feature drop\n",
      "['pruning threshold', 'stopping probability', 'lapse rate', 'active scaling constant', 'center weight', 'connected 2-in-a-row weight', 'unconnected 2-in-a-row weight', '3-in-a-row weight', '4-in-a-row weight']\n",
      "final_noprune No pruning\n",
      "['stopping probability', 'feature drop rate', 'lapse rate', 'active scaling constant', 'center weight', 'connected 2-in-a-row weight', 'unconnected 2-in-a-row weight', '3-in-a-row weight', '4-in-a-row weight']\n",
      "final_notree No tree\n",
      "['feature drop rate', 'lapse rate', 'active scaling constant', 'center weight', 'connected 2-in-a-row weight', 'unconnected 2-in-a-row weight', '3-in-a-row weight', '4-in-a-row weight']\n",
      "final_noact No active scaling\n",
      "['pruning threshold', 'stopping probability', 'feature drop rate', 'lapse rate', 'center weight', 'connected 2-in-a-row weight', 'unconnected 2-in-a-row weight', '3-in-a-row weight', '4-in-a-row weight']\n",
      "final_no3 No 3-in-a-row\n",
      "['pruning threshold', 'stopping probability', 'feature drop rate', 'lapse rate', 'active scaling constant', 'center weight', 'connected 2-in-a-row weight', 'unconnected 2-in-a-row weight', '4-in-a-row weight']\n",
      "final_no2conn No connected 2-in-a-row\n",
      "['pruning threshold', 'stopping probability', 'feature drop rate', 'lapse rate', 'active scaling constant', 'center weight', 'unconnected 2-in-a-row weight', '3-in-a-row weight', '4-in-a-row weight']\n",
      "final_nocenter No center\n",
      "['pruning threshold', 'stopping probability', 'feature drop rate', 'lapse rate', 'active scaling constant', 'connected 2-in-a-row weight', 'unconnected 2-in-a-row weight', '3-in-a-row weight', '4-in-a-row weight']\n",
      "final_no4 No 4-in-a-row\n",
      "['pruning threshold', 'stopping probability', 'feature drop rate', 'lapse rate', 'active scaling constant', 'center weight', 'connected 2-in-a-row weight', 'unconnected 2-in-a-row weight', '3-in-a-row weight']\n",
      "final_no2unc No unconnected 2-in-a-row\n",
      "['pruning threshold', 'stopping probability', 'feature drop rate', 'lapse rate', 'active scaling constant', 'center weight', 'connected 2-in-a-row weight', '3-in-a-row weight', '4-in-a-row weight']\n",
      "final_optweights Optimal weights\n",
      "['pruning threshold', 'stopping probability', 'feature drop rate', 'lapse rate', 'active scaling constant']\n",
      "final_mcts_myopic MCTS\n",
      "['stopping probability', 'feature drop rate', 'lapse rate', 'exploration constant', 'active scaling constant', 'center weight', 'connected 2-in-a-row weight', 'unconnected 2-in-a-row weight', '3-in-a-row weight', '4-in-a-row weight']\n",
      "final_drop_tile Tile dropping\n",
      "['pruning threshold', 'stopping probability', 'tile drop rate', 'lapse rate', 'active scaling constant', 'center weight', 'connected 2-in-a-row weight', 'unconnected 2-in-a-row weight', '3-in-a-row weight', '4-in-a-row weight']\n",
      "final_fixed_iters Fixed iterations\n",
      "['pruning threshold', 'inverse iteration number', 'feature drop rate', 'lapse rate', 'active scaling constant', 'center weight', 'connected 2-in-a-row weight', 'unconnected 2-in-a-row weight', '3-in-a-row weight', '4-in-a-row weight']\n",
      "final_fixed_depth Fixed depth\n",
      "['pruning threshold', 'depth', 'feature drop rate', 'lapse rate', 'active scaling constant', 'center weight', 'connected 2-in-a-row weight', 'unconnected 2-in-a-row weight', '3-in-a-row weight', '4-in-a-row weight']\n",
      "final_fixed_branch Fixed branching\n",
      "['branching factor', 'stopping probability', 'feature drop rate', 'lapse rate', 'active scaling constant', 'center weight', 'connected 2-in-a-row weight', 'unconnected 2-in-a-row weight', '3-in-a-row weight', '4-in-a-row weight']\n",
      "final_weight_hvd Orientation-dependent weights\n",
      "['pruning threshold', 'stopping probability', 'feature drop rate', 'lapse rate', 'horizontal-vertical scaling', 'horizontal-diagonal scaling', 'active scaling constant', 'center weight', 'connected 2-in-a-row weight', 'unconnected 2-in-a-row weight', '3-in-a-row weight', '4-in-a-row weight']\n",
      "final_drop_hvd Orientation-dependent dropping\n",
      "['pruning threshold', 'stopping probability', 'lapse rate', 'active scaling constant', 'center weight', 'connected 2-in-a-row weight', 'unconnected 2-in-a-row weight', '3-in-a-row weight', '4-in-a-row weight', 'horizontal feature drop rate', 'vertical feature drop rate', 'diagonal feature drop rate']\n",
      "final_triangle Triangle\n",
      "['pruning threshold', 'stopping probability', 'feature drop rate', 'lapse rate', 'active scaling constant', 'center weight', 'connected 2-in-a-row weight', 'unconnected 2-in-a-row weight', '3-in-a-row weight', '4-in-a-row weight', 'triangle weight']\n",
      "final_drop_type Type-dependent dropping\n",
      "['pruning threshold', 'stopping probability', 'lapse rate', 'active scaling constant', 'center weight', 'connected 2-in-a-row weight', 'unconnected 2-in-a-row weight', '3-in-a-row weight', '4-in-a-row weight', 'connected 2-in-a-row drop rate', 'unconnected 2-in-a-row drop rate', '3-in-a-row drop rate', '4-in-a-row drop rate']\n",
      "final_opp Opponent scaling\n",
      "['pruning threshold', 'stopping probability', 'feature drop rate', 'lapse rate', 'opponent scaling constant', 'active scaling constant', 'center weight', 'connected 2-in-a-row weight', 'unconnected 2-in-a-row weight', '3-in-a-row weight', '4-in-a-row weight']\n"
     ]
    }
   ],
   "source": [
    "for i,name in enumerate(model_names):\n",
    "    df = create_df(i)\n",
    "    df.to_csv(osf_direc + 'model_fits_' + name.lower().replace(' ','_') + '.csv')"
   ]
  },
  {
   "cell_type": "code",
   "execution_count": 49,
   "metadata": {},
   "outputs": [
    {
     "name": "stdout",
     "output_type": "stream",
     "text": [
      "final Main model\n",
      "['pruning threshold', 'stopping probability', 'feature drop rate', 'lapse rate', 'active scaling constant', 'center weight', 'connected 2-in-a-row weight', 'unconnected 2-in-a-row weight', '3-in-a-row weight', '4-in-a-row weight']\n"
     ]
    }
   ],
   "source": [
    "df = create_df(0)"
   ]
  },
  {
   "cell_type": "code",
   "execution_count": 51,
   "metadata": {},
   "outputs": [
    {
     "data": {
      "text/plain": [
       "0       0.010000\n",
       "1       0.014489\n",
       "2       0.010000\n",
       "3       0.020000\n",
       "4       0.003085\n",
       "          ...   \n",
       "1645    0.002989\n",
       "1646    0.007000\n",
       "1647    0.001000\n",
       "1648    0.003672\n",
       "1649    0.001000\n",
       "Name: stopping probability, Length: 1650, dtype: float64"
      ]
     },
     "execution_count": 51,
     "metadata": {},
     "output_type": "execute_result"
    }
   ],
   "source": [
    "df['stopping probability']"
   ]
  },
  {
   "cell_type": "code",
   "execution_count": 44,
   "metadata": {},
   "outputs": [],
   "source": [
    "def parse_binstring(x):\n",
    "    return \"{0:036b}\".format(x)\n",
    "\n",
    "def parse_line(line):\n",
    "    line = line.replace('alltrials','').replace('{','').replace('}','').replace(',',' ').replace('ULL','').strip().split()\n",
    "    line[0] = parse_binstring(int(line[0],0))\n",
    "    line[1] = parse_binstring(int(line[1],0))\n",
    "    line[2] = np.log2(int(line[2],0)).astype(int)\n",
    "    line[3] = line[3].capitalize()\n",
    "    line[4] = float(line[4])/1000\n",
    "    line[5] = int(line[5])+1\n",
    "    line[6] = int(line[6])\n",
    "    return line\n",
    "\n",
    "def load_data(expt_name,name):\n",
    "    with open(direc + '../Data/data_' + expt_name + '.cpp') as f:\n",
    "        lines = f.read().splitlines() \n",
    "        for i,line in enumerate(lines):\n",
    "            if 'alltrials{{{' in line:\n",
    "                start_line = i\n",
    "                break\n",
    "        for i,line in enumerate(lines):\n",
    "            if '}}' in line:\n",
    "                end_line = i\n",
    "                break\n",
    "        lines = [parse_line(line) for line in lines[start_line:end_line+1]]\n",
    "        df = pd.DataFrame(lines,columns=['black_pieces','white_pieces','move','color','response_time','participant','cross-validation group'])\n",
    "        if expt_name.endswith('2'):\n",
    "            df['participant']+=50\n",
    "        if expt_name.endswith('3'):\n",
    "            df['participant']+=100\n",
    "        df['experiment'] = name\n",
    "    return df\n"
   ]
  },
  {
   "cell_type": "code",
   "execution_count": 45,
   "metadata": {},
   "outputs": [],
   "source": [
    "df = pd.concat([load_data(expt_name,name) for expt_name,name in \n",
    "           zip(['hvh','gen','eye','learn1','learn2','learn3','tai1','tai2'],\n",
    "               ['human-vs-human','generalization','eye tracking'] + ['learning'] *3 + ['time pressure']*2)],\n",
    "               ignore_index=True)\n",
    "df.loc[df['experiment']=='time pressure','time limit'] = df[df['experiment']=='time pressure']['participant'].map(\n",
    "    lambda p: {0:5,1:10,2:20}[(p-1)%3])\n",
    "df.loc[df['experiment']=='learning','session number'] = df[df['experiment']=='learning']['participant'].map(\n",
    "    lambda p: (p-1)%5+1)\n",
    "df.loc[df['experiment']=='time pressure','participant'] = (df.loc[df['experiment']=='time pressure','participant']-1)//3+1\n",
    "df.loc[df['experiment']=='learning','participant'] = (df.loc[df['experiment']=='learning','participant']-1)//5+1\n"
   ]
  },
  {
   "cell_type": "code",
   "execution_count": 53,
   "metadata": {},
   "outputs": [],
   "source": [
    "df.to_csv(osf_direc + 'raw_data.csv')"
   ]
  },
  {
   "cell_type": "code",
   "execution_count": 46,
   "metadata": {},
   "outputs": [
    {
     "data": {
      "text/html": [
       "<div>\n",
       "<style scoped>\n",
       "    .dataframe tbody tr th:only-of-type {\n",
       "        vertical-align: middle;\n",
       "    }\n",
       "\n",
       "    .dataframe tbody tr th {\n",
       "        vertical-align: top;\n",
       "    }\n",
       "\n",
       "    .dataframe thead th {\n",
       "        text-align: right;\n",
       "    }\n",
       "</style>\n",
       "<table border=\"1\" class=\"dataframe\">\n",
       "  <thead>\n",
       "    <tr style=\"text-align: right;\">\n",
       "      <th></th>\n",
       "      <th>black_pieces</th>\n",
       "      <th>white_pieces</th>\n",
       "      <th>move</th>\n",
       "      <th>color</th>\n",
       "      <th>response_time</th>\n",
       "      <th>participant</th>\n",
       "      <th>cross-validation group</th>\n",
       "      <th>experiment</th>\n",
       "      <th>time limit</th>\n",
       "      <th>session number</th>\n",
       "    </tr>\n",
       "  </thead>\n",
       "  <tbody>\n",
       "    <tr>\n",
       "      <th>0</th>\n",
       "      <td>000000000000000000000000000000000000</td>\n",
       "      <td>000000000000000000000000000000000000</td>\n",
       "      <td>24</td>\n",
       "      <td>Black</td>\n",
       "      <td>7.223</td>\n",
       "      <td>1</td>\n",
       "      <td>5</td>\n",
       "      <td>human-vs-human</td>\n",
       "      <td>NaN</td>\n",
       "      <td>NaN</td>\n",
       "    </tr>\n",
       "    <tr>\n",
       "      <th>1</th>\n",
       "      <td>000000000001000000000000000000000000</td>\n",
       "      <td>000000000000000000000000000000000000</td>\n",
       "      <td>11</td>\n",
       "      <td>White</td>\n",
       "      <td>5.141</td>\n",
       "      <td>2</td>\n",
       "      <td>5</td>\n",
       "      <td>human-vs-human</td>\n",
       "      <td>NaN</td>\n",
       "      <td>NaN</td>\n",
       "    </tr>\n",
       "    <tr>\n",
       "      <th>2</th>\n",
       "      <td>000000000001000000000000000000000000</td>\n",
       "      <td>000000000000000000000000100000000000</td>\n",
       "      <td>14</td>\n",
       "      <td>Black</td>\n",
       "      <td>3.154</td>\n",
       "      <td>1</td>\n",
       "      <td>5</td>\n",
       "      <td>human-vs-human</td>\n",
       "      <td>NaN</td>\n",
       "      <td>NaN</td>\n",
       "    </tr>\n",
       "    <tr>\n",
       "      <th>3</th>\n",
       "      <td>000000000001000000000100000000000000</td>\n",
       "      <td>000000000000000000000000100000000000</td>\n",
       "      <td>4</td>\n",
       "      <td>White</td>\n",
       "      <td>5.715</td>\n",
       "      <td>2</td>\n",
       "      <td>4</td>\n",
       "      <td>human-vs-human</td>\n",
       "      <td>NaN</td>\n",
       "      <td>NaN</td>\n",
       "    </tr>\n",
       "    <tr>\n",
       "      <th>4</th>\n",
       "      <td>000000000001000000000100000000000000</td>\n",
       "      <td>000000000000000000000000100000010000</td>\n",
       "      <td>21</td>\n",
       "      <td>Black</td>\n",
       "      <td>6.837</td>\n",
       "      <td>1</td>\n",
       "      <td>3</td>\n",
       "      <td>human-vs-human</td>\n",
       "      <td>NaN</td>\n",
       "      <td>NaN</td>\n",
       "    </tr>\n",
       "    <tr>\n",
       "      <th>...</th>\n",
       "      <td>...</td>\n",
       "      <td>...</td>\n",
       "      <td>...</td>\n",
       "      <td>...</td>\n",
       "      <td>...</td>\n",
       "      <td>...</td>\n",
       "      <td>...</td>\n",
       "      <td>...</td>\n",
       "      <td>...</td>\n",
       "      <td>...</td>\n",
       "    </tr>\n",
       "    <tr>\n",
       "      <th>67326</th>\n",
       "      <td>000000000000000000000000000000000000</td>\n",
       "      <td>000000000000000000000000000000000000</td>\n",
       "      <td>23</td>\n",
       "      <td>Black</td>\n",
       "      <td>0.835</td>\n",
       "      <td>30</td>\n",
       "      <td>1</td>\n",
       "      <td>time pressure</td>\n",
       "      <td>10.0</td>\n",
       "      <td>NaN</td>\n",
       "    </tr>\n",
       "    <tr>\n",
       "      <th>67327</th>\n",
       "      <td>000000000000100000000000000000000000</td>\n",
       "      <td>000000000000000000000000000001000000</td>\n",
       "      <td>14</td>\n",
       "      <td>Black</td>\n",
       "      <td>0.919</td>\n",
       "      <td>30</td>\n",
       "      <td>1</td>\n",
       "      <td>time pressure</td>\n",
       "      <td>10.0</td>\n",
       "      <td>NaN</td>\n",
       "    </tr>\n",
       "    <tr>\n",
       "      <th>67328</th>\n",
       "      <td>000000000000100000000100000000000000</td>\n",
       "      <td>000000000000000000001000000001000000</td>\n",
       "      <td>24</td>\n",
       "      <td>Black</td>\n",
       "      <td>0.816</td>\n",
       "      <td>30</td>\n",
       "      <td>5</td>\n",
       "      <td>time pressure</td>\n",
       "      <td>10.0</td>\n",
       "      <td>NaN</td>\n",
       "    </tr>\n",
       "    <tr>\n",
       "      <th>67329</th>\n",
       "      <td>000000000001100000000100000000000000</td>\n",
       "      <td>000000000010000000001000000001000000</td>\n",
       "      <td>5</td>\n",
       "      <td>Black</td>\n",
       "      <td>1.465</td>\n",
       "      <td>30</td>\n",
       "      <td>2</td>\n",
       "      <td>time pressure</td>\n",
       "      <td>10.0</td>\n",
       "      <td>NaN</td>\n",
       "    </tr>\n",
       "    <tr>\n",
       "      <th>67330</th>\n",
       "      <td>000000000001100000000100000000100000</td>\n",
       "      <td>000000000010000000001000000001001000</td>\n",
       "      <td>32</td>\n",
       "      <td>Black</td>\n",
       "      <td>1.686</td>\n",
       "      <td>30</td>\n",
       "      <td>4</td>\n",
       "      <td>time pressure</td>\n",
       "      <td>10.0</td>\n",
       "      <td>NaN</td>\n",
       "    </tr>\n",
       "  </tbody>\n",
       "</table>\n",
       "<p>67331 rows × 10 columns</p>\n",
       "</div>"
      ],
      "text/plain": [
       "                               black_pieces  \\\n",
       "0      000000000000000000000000000000000000   \n",
       "1      000000000001000000000000000000000000   \n",
       "2      000000000001000000000000000000000000   \n",
       "3      000000000001000000000100000000000000   \n",
       "4      000000000001000000000100000000000000   \n",
       "...                                     ...   \n",
       "67326  000000000000000000000000000000000000   \n",
       "67327  000000000000100000000000000000000000   \n",
       "67328  000000000000100000000100000000000000   \n",
       "67329  000000000001100000000100000000000000   \n",
       "67330  000000000001100000000100000000100000   \n",
       "\n",
       "                               white_pieces  move  color  response_time  \\\n",
       "0      000000000000000000000000000000000000    24  Black          7.223   \n",
       "1      000000000000000000000000000000000000    11  White          5.141   \n",
       "2      000000000000000000000000100000000000    14  Black          3.154   \n",
       "3      000000000000000000000000100000000000     4  White          5.715   \n",
       "4      000000000000000000000000100000010000    21  Black          6.837   \n",
       "...                                     ...   ...    ...            ...   \n",
       "67326  000000000000000000000000000000000000    23  Black          0.835   \n",
       "67327  000000000000000000000000000001000000    14  Black          0.919   \n",
       "67328  000000000000000000001000000001000000    24  Black          0.816   \n",
       "67329  000000000010000000001000000001000000     5  Black          1.465   \n",
       "67330  000000000010000000001000000001001000    32  Black          1.686   \n",
       "\n",
       "       participant  cross-validation group      experiment  time limit  \\\n",
       "0                1                       5  human-vs-human         NaN   \n",
       "1                2                       5  human-vs-human         NaN   \n",
       "2                1                       5  human-vs-human         NaN   \n",
       "3                2                       4  human-vs-human         NaN   \n",
       "4                1                       3  human-vs-human         NaN   \n",
       "...            ...                     ...             ...         ...   \n",
       "67326           30                       1   time pressure        10.0   \n",
       "67327           30                       1   time pressure        10.0   \n",
       "67328           30                       5   time pressure        10.0   \n",
       "67329           30                       2   time pressure        10.0   \n",
       "67330           30                       4   time pressure        10.0   \n",
       "\n",
       "       session number  \n",
       "0                 NaN  \n",
       "1                 NaN  \n",
       "2                 NaN  \n",
       "3                 NaN  \n",
       "4                 NaN  \n",
       "...               ...  \n",
       "67326             NaN  \n",
       "67327             NaN  \n",
       "67328             NaN  \n",
       "67329             NaN  \n",
       "67330             NaN  \n",
       "\n",
       "[67331 rows x 10 columns]"
      ]
     },
     "execution_count": 46,
     "metadata": {},
     "output_type": "execute_result"
    }
   ],
   "source": [
    "df"
   ]
  },
  {
   "cell_type": "code",
   "execution_count": null,
   "metadata": {},
   "outputs": [],
   "source": []
  }
 ],
 "metadata": {
  "kernelspec": {
   "display_name": "Python 3",
   "language": "python",
   "name": "python3"
  },
  "language_info": {
   "codemirror_mode": {
    "name": "ipython",
    "version": 3
   },
   "file_extension": ".py",
   "mimetype": "text/x-python",
   "name": "python",
   "nbconvert_exporter": "python",
   "pygments_lexer": "ipython3",
   "version": "3.7.4"
  }
 },
 "nbformat": 4,
 "nbformat_minor": 4
}
