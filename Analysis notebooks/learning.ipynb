{
 "cells": [
  {
   "cell_type": "markdown",
   "metadata": {},
   "source": [
    "## Analyses related to learning and experience"
   ]
  },
  {
   "cell_type": "code",
   "execution_count": 1,
   "metadata": {},
   "outputs": [],
   "source": [
    "import json\n",
    "import csv\n",
    "import re\n",
    "import os\n",
    "import pandas as pd\n",
    "import matplotlib.pyplot as plt\n",
    "import numpy as np\n",
    "import random\n",
    "from scipy import stats"
   ]
  },
  {
   "cell_type": "code",
   "execution_count": 3,
   "metadata": {},
   "outputs": [],
   "source": [
    "# Open full filtered dataset\n",
    "with open('../saved_analyses_updated/AI_filter.txt', 'r') as filehandle:  \n",
    "    games_filtered = json.load(filehandle)"
   ]
  },
  {
   "cell_type": "markdown",
   "metadata": {},
   "source": [
    "## Calculate Bayesian Elo Ratings (100+ games)"
   ]
  },
  {
   "cell_type": "code",
   "execution_count": 5,
   "metadata": {},
   "outputs": [],
   "source": [
    "# Open num games per user\n",
    "with open('../saved_analyses_updated/numgames_user.txt', 'r') as filehandle:  \n",
    "    num_games = json.load(filehandle)\n",
    "    \n",
    "# Put all users with at least 100 games in a set\n",
    "over100_users = set()\n",
    "for user in num_games:\n",
    "    if num_games[user] >= 100:\n",
    "        over100_users.add(user)\n",
    "        \n",
    "# Now create a dictionary with user IDs and each game path that corresponds to the user\n",
    "over100_dict = dict((el,[]) for el in over100_users)\n",
    "\n",
    "for game in games_filtered:\n",
    "    ID = game[36:46]\n",
    "    if ID in over100_users:\n",
    "        over100_dict[ID].append(game)"
   ]
  },
  {
   "cell_type": "code",
   "execution_count": 34,
   "metadata": {},
   "outputs": [],
   "source": [
    "# Write each cumulative block as a new user to a different PNG file (0 to 100 in intervals of 20)\n",
    "block_start = 80\n",
    "block_end = 100\n",
    "with open(\"eloinput_block\"+str(block_end)+\".txt\", \"w\") as elo_input:\n",
    "    # Loop through each game, open the data file\n",
    "    for userID, path_list in over100_dict.items():\n",
    "        \n",
    "        for i in range(block_start,block_end):\n",
    "            game = path_list[i]\n",
    "            with(open(game)) as f:\n",
    "                data = json.load(f)\n",
    "\n",
    "                # Set the new name for the user/block combo\n",
    "                human_name = str(data['bbuid'])+\"_block\"+str(block_end)\n",
    "                \n",
    "                # Grab the AI name\n",
    "                comp_name = str(data['data']['rankinit'])\n",
    "\n",
    "                # Get the game outcome\n",
    "                try:\n",
    "                    game_outcome = data['data']['rounds'][-1]['analytic']['events'][-1]['resultString'] \n",
    "                except:\n",
    "                    print(game)\n",
    "\n",
    "                # Given the result set the correct format outcome\n",
    "                if game_outcome == \"Win\":\n",
    "                    result_text = \"1-0\"\n",
    "                elif game_outcome == \"Lose\":\n",
    "                    result_text = \"0-1\"\n",
    "                elif game_outcome == \"Draw\":\n",
    "                    result_text = \"1/2-1/2\"\n",
    "\n",
    "                # Write the results to our output file\n",
    "                elo_input.write('[White \"' + human_name + '\"]\\n[Black \"' + comp_name + '\"]\\n[Result \"' + \n",
    "                                    result_text + '\"]\\n' + result_text + '\\n\\n')"
   ]
  },
  {
   "cell_type": "code",
   "execution_count": 35,
   "metadata": {},
   "outputs": [
    {
     "name": "stdout",
     "output_type": "stream",
     "text": [
      "/Volumes/Samsung_T5/Peak/20190414/G/GtCfrEbctx-1538226896-537\n"
     ]
    }
   ],
   "source": [
    "# Now write out a new file with all games in the data set that ignores the old users\n",
    "\n",
    "with open(\"elo_input.txt\", \"w\") as elo_input:\n",
    "    # Loop through each game, open the data file\n",
    "    for game in games_filtered:\n",
    "        with(open(game)) as f:\n",
    "            data = json.load(f)\n",
    "\n",
    "            # Grab the user and AI names\n",
    "            human_name = str(data['bbuid'])\n",
    "            comp_name = str(data['data']['rankinit'])\n",
    "            \n",
    "            if human_name in over100_dict.keys():\n",
    "                pass\n",
    "            \n",
    "            else:\n",
    "\n",
    "                # Get the game outcome\n",
    "                try:\n",
    "                    game_outcome = data['data']['rounds'][-1]['analytic']['events'][-1]['resultString'] \n",
    "                except:\n",
    "                    print(game)\n",
    "\n",
    "                # Given the result set the correct format outcome\n",
    "                if game_outcome == \"Win\":\n",
    "                    result_text = \"1-0\"\n",
    "                elif game_outcome == \"Lose\":\n",
    "                    result_text = \"0-1\"\n",
    "                elif game_outcome == \"Draw\":\n",
    "                    result_text = \"1/2-1/2\"\n",
    "\n",
    "                # Write the results to our output file\n",
    "                elo_input.write('[White \"' + human_name + '\"]\\n[Black \"' + comp_name + '\"]\\n[Result \"' + \n",
    "                                    result_text + '\"]\\n' + result_text + '\\n\\n')"
   ]
  },
  {
   "cell_type": "code",
   "execution_count": 36,
   "metadata": {},
   "outputs": [],
   "source": [
    "# Now concatenate the text files and calculate elos in terminal\n",
    "path = '/Users/ionatankuperwajs/Desktop/MaLab/Peak/bayeselo/game_outcomes/'\n",
    "filenames = ['elo_input.txt', 'eloinput_block20.txt', 'eloinput_block40.txt', 'eloinput_block60.txt', \n",
    "            'eloinput_block80.txt', 'eloinput_block100.txt']\n",
    "with open(path + 'concatenated', 'w') as outfile:\n",
    "    for fname in filenames:\n",
    "        with open(path + fname) as infile:\n",
    "            for line in infile:\n",
    "                outfile.write(line)"
   ]
  },
  {
   "cell_type": "code",
   "execution_count": 12,
   "metadata": {},
   "outputs": [],
   "source": [
    "# Read in calculated elos\n",
    "data = pd.read_csv('/Users/ionatankuperwajs/Desktop/MaLab/Peak/bayeselo/blocked_ratings.txt', delim_whitespace=True)"
   ]
  },
  {
   "cell_type": "code",
   "execution_count": 22,
   "metadata": {},
   "outputs": [
    {
     "data": {
      "text/html": [
       "<div>\n",
       "<style scoped>\n",
       "    .dataframe tbody tr th:only-of-type {\n",
       "        vertical-align: middle;\n",
       "    }\n",
       "\n",
       "    .dataframe tbody tr th {\n",
       "        vertical-align: top;\n",
       "    }\n",
       "\n",
       "    .dataframe thead th {\n",
       "        text-align: right;\n",
       "    }\n",
       "</style>\n",
       "<table border=\"1\" class=\"dataframe\">\n",
       "  <thead>\n",
       "    <tr style=\"text-align: right;\">\n",
       "      <th></th>\n",
       "      <th>Rank</th>\n",
       "      <th>Name</th>\n",
       "      <th>Rating</th>\n",
       "      <th>Δ</th>\n",
       "      <th>+</th>\n",
       "      <th>-</th>\n",
       "      <th>#</th>\n",
       "      <th>Σ</th>\n",
       "      <th>Σ%</th>\n",
       "      <th>W</th>\n",
       "      <th>L</th>\n",
       "      <th>D</th>\n",
       "      <th>W%</th>\n",
       "      <th>=%</th>\n",
       "      <th>OppR</th>\n",
       "    </tr>\n",
       "  </thead>\n",
       "  <tbody>\n",
       "    <tr>\n",
       "      <th>0</th>\n",
       "      <td>1</td>\n",
       "      <td>OZwNNoTZET</td>\n",
       "      <td>3879</td>\n",
       "      <td>0.0</td>\n",
       "      <td>318</td>\n",
       "      <td>318</td>\n",
       "      <td>53</td>\n",
       "      <td>53.0</td>\n",
       "      <td>100.0</td>\n",
       "      <td>53</td>\n",
       "      <td>0</td>\n",
       "      <td>0</td>\n",
       "      <td>100.0</td>\n",
       "      <td>0.0</td>\n",
       "      <td>3172</td>\n",
       "    </tr>\n",
       "    <tr>\n",
       "      <th>1</th>\n",
       "      <td>2</td>\n",
       "      <td>dvdkSunuuy</td>\n",
       "      <td>3876</td>\n",
       "      <td>2.5</td>\n",
       "      <td>318</td>\n",
       "      <td>318</td>\n",
       "      <td>61</td>\n",
       "      <td>61.0</td>\n",
       "      <td>100.0</td>\n",
       "      <td>61</td>\n",
       "      <td>0</td>\n",
       "      <td>0</td>\n",
       "      <td>100.0</td>\n",
       "      <td>0.0</td>\n",
       "      <td>3147</td>\n",
       "    </tr>\n",
       "    <tr>\n",
       "      <th>2</th>\n",
       "      <td>3</td>\n",
       "      <td>MitWwmkvVC</td>\n",
       "      <td>3869</td>\n",
       "      <td>6.8</td>\n",
       "      <td>318</td>\n",
       "      <td>318</td>\n",
       "      <td>51</td>\n",
       "      <td>51.0</td>\n",
       "      <td>100.0</td>\n",
       "      <td>51</td>\n",
       "      <td>0</td>\n",
       "      <td>0</td>\n",
       "      <td>100.0</td>\n",
       "      <td>0.0</td>\n",
       "      <td>3167</td>\n",
       "    </tr>\n",
       "    <tr>\n",
       "      <th>3</th>\n",
       "      <td>4</td>\n",
       "      <td>XbfNyYiYyK</td>\n",
       "      <td>3861</td>\n",
       "      <td>8.5</td>\n",
       "      <td>318</td>\n",
       "      <td>318</td>\n",
       "      <td>56</td>\n",
       "      <td>56.0</td>\n",
       "      <td>100.0</td>\n",
       "      <td>56</td>\n",
       "      <td>0</td>\n",
       "      <td>0</td>\n",
       "      <td>100.0</td>\n",
       "      <td>0.0</td>\n",
       "      <td>3144</td>\n",
       "    </tr>\n",
       "    <tr>\n",
       "      <th>4</th>\n",
       "      <td>5</td>\n",
       "      <td>msZBbmjBxp</td>\n",
       "      <td>3858</td>\n",
       "      <td>3.0</td>\n",
       "      <td>318</td>\n",
       "      <td>318</td>\n",
       "      <td>50</td>\n",
       "      <td>50.0</td>\n",
       "      <td>100.0</td>\n",
       "      <td>50</td>\n",
       "      <td>0</td>\n",
       "      <td>0</td>\n",
       "      <td>100.0</td>\n",
       "      <td>0.0</td>\n",
       "      <td>3161</td>\n",
       "    </tr>\n",
       "    <tr>\n",
       "      <th>...</th>\n",
       "      <td>...</td>\n",
       "      <td>...</td>\n",
       "      <td>...</td>\n",
       "      <td>...</td>\n",
       "      <td>...</td>\n",
       "      <td>...</td>\n",
       "      <td>...</td>\n",
       "      <td>...</td>\n",
       "      <td>...</td>\n",
       "      <td>...</td>\n",
       "      <td>...</td>\n",
       "      <td>...</td>\n",
       "      <td>...</td>\n",
       "      <td>...</td>\n",
       "      <td>...</td>\n",
       "    </tr>\n",
       "    <tr>\n",
       "      <th>1279994</th>\n",
       "      <td>1279995</td>\n",
       "      <td>tKcBSnIoyY_block60</td>\n",
       "      <td>2447</td>\n",
       "      <td>-0.0</td>\n",
       "      <td>323</td>\n",
       "      <td>323</td>\n",
       "      <td>20</td>\n",
       "      <td>0.0</td>\n",
       "      <td>0.0</td>\n",
       "      <td>0</td>\n",
       "      <td>20</td>\n",
       "      <td>0</td>\n",
       "      <td>0.0</td>\n",
       "      <td>0.0</td>\n",
       "      <td>3050</td>\n",
       "    </tr>\n",
       "    <tr>\n",
       "      <th>1279995</th>\n",
       "      <td>1279996</td>\n",
       "      <td>tKcBSnIoyY_block100</td>\n",
       "      <td>2447</td>\n",
       "      <td>-0.0</td>\n",
       "      <td>323</td>\n",
       "      <td>323</td>\n",
       "      <td>20</td>\n",
       "      <td>0.0</td>\n",
       "      <td>0.0</td>\n",
       "      <td>0</td>\n",
       "      <td>20</td>\n",
       "      <td>0</td>\n",
       "      <td>0.0</td>\n",
       "      <td>0.0</td>\n",
       "      <td>3050</td>\n",
       "    </tr>\n",
       "    <tr>\n",
       "      <th>1279996</th>\n",
       "      <td>1279997</td>\n",
       "      <td>tKcBSnIoyY_block80</td>\n",
       "      <td>2447</td>\n",
       "      <td>-0.0</td>\n",
       "      <td>323</td>\n",
       "      <td>323</td>\n",
       "      <td>20</td>\n",
       "      <td>0.0</td>\n",
       "      <td>0.0</td>\n",
       "      <td>0</td>\n",
       "      <td>20</td>\n",
       "      <td>0</td>\n",
       "      <td>0.0</td>\n",
       "      <td>0.0</td>\n",
       "      <td>3050</td>\n",
       "    </tr>\n",
       "    <tr>\n",
       "      <th>1279997</th>\n",
       "      <td>1279998</td>\n",
       "      <td>LarwNjWBGT</td>\n",
       "      <td>2446</td>\n",
       "      <td>0.3</td>\n",
       "      <td>325</td>\n",
       "      <td>325</td>\n",
       "      <td>15</td>\n",
       "      <td>0.0</td>\n",
       "      <td>0.0</td>\n",
       "      <td>0</td>\n",
       "      <td>15</td>\n",
       "      <td>0</td>\n",
       "      <td>0.0</td>\n",
       "      <td>0.0</td>\n",
       "      <td>3003</td>\n",
       "    </tr>\n",
       "    <tr>\n",
       "      <th>1279998</th>\n",
       "      <td>1279999</td>\n",
       "      <td>YziMQEgIjy_block20</td>\n",
       "      <td>2400</td>\n",
       "      <td>45.8</td>\n",
       "      <td>323</td>\n",
       "      <td>323</td>\n",
       "      <td>20</td>\n",
       "      <td>0.0</td>\n",
       "      <td>0.0</td>\n",
       "      <td>0</td>\n",
       "      <td>20</td>\n",
       "      <td>0</td>\n",
       "      <td>0.0</td>\n",
       "      <td>0.0</td>\n",
       "      <td>3003</td>\n",
       "    </tr>\n",
       "  </tbody>\n",
       "</table>\n",
       "<p>1279999 rows × 15 columns</p>\n",
       "</div>"
      ],
      "text/plain": [
       "            Rank                 Name  Rating     Δ    +    -   #     Σ  \\\n",
       "0              1           OZwNNoTZET    3879   0.0  318  318  53  53.0   \n",
       "1              2           dvdkSunuuy    3876   2.5  318  318  61  61.0   \n",
       "2              3           MitWwmkvVC    3869   6.8  318  318  51  51.0   \n",
       "3              4           XbfNyYiYyK    3861   8.5  318  318  56  56.0   \n",
       "4              5           msZBbmjBxp    3858   3.0  318  318  50  50.0   \n",
       "...          ...                  ...     ...   ...  ...  ...  ..   ...   \n",
       "1279994  1279995   tKcBSnIoyY_block60    2447  -0.0  323  323  20   0.0   \n",
       "1279995  1279996  tKcBSnIoyY_block100    2447  -0.0  323  323  20   0.0   \n",
       "1279996  1279997   tKcBSnIoyY_block80    2447  -0.0  323  323  20   0.0   \n",
       "1279997  1279998           LarwNjWBGT    2446   0.3  325  325  15   0.0   \n",
       "1279998  1279999   YziMQEgIjy_block20    2400  45.8  323  323  20   0.0   \n",
       "\n",
       "            Σ%   W   L  D     W%   =%  OppR  \n",
       "0        100.0  53   0  0  100.0  0.0  3172  \n",
       "1        100.0  61   0  0  100.0  0.0  3147  \n",
       "2        100.0  51   0  0  100.0  0.0  3167  \n",
       "3        100.0  56   0  0  100.0  0.0  3144  \n",
       "4        100.0  50   0  0  100.0  0.0  3161  \n",
       "...        ...  ..  .. ..    ...  ...   ...  \n",
       "1279994    0.0   0  20  0    0.0  0.0  3050  \n",
       "1279995    0.0   0  20  0    0.0  0.0  3050  \n",
       "1279996    0.0   0  20  0    0.0  0.0  3050  \n",
       "1279997    0.0   0  15  0    0.0  0.0  3003  \n",
       "1279998    0.0   0  20  0    0.0  0.0  3003  \n",
       "\n",
       "[1279999 rows x 15 columns]"
      ]
     },
     "execution_count": 22,
     "metadata": {},
     "output_type": "execute_result"
    }
   ],
   "source": [
    "data"
   ]
  },
  {
   "cell_type": "code",
   "execution_count": 41,
   "metadata": {},
   "outputs": [],
   "source": [
    "# Grab the rows that have the blocked users\n",
    "blocked_data_20 = data[data['Name'].str.contains('block20', regex=False, case=False, na=False)]\n",
    "blocked_data_40 = data[data['Name'].str.contains('block40', regex=False, case=False, na=False)]\n",
    "blocked_data_60 = data[data['Name'].str.contains('block60', regex=False, case=False, na=False)]\n",
    "blocked_data_80 = data[data['Name'].str.contains('block80', regex=False, case=False, na=False)]\n",
    "blocked_data_100 = data[data['Name'].str.contains('block100', regex=False, case=False, na=False)]"
   ]
  },
  {
   "cell_type": "code",
   "execution_count": 42,
   "metadata": {},
   "outputs": [],
   "source": [
    "# Calculate the mean and sem of each block\n",
    "mean_20 = blocked_data_20['Rating'].mean()\n",
    "sem_20 = blocked_data_20['Rating'].sem()\n",
    "\n",
    "mean_40 = blocked_data_40['Rating'].mean()\n",
    "sem_40 = blocked_data_40['Rating'].sem()\n",
    "\n",
    "mean_60 = blocked_data_60['Rating'].mean()\n",
    "sem_60 = blocked_data_60['Rating'].sem()\n",
    "\n",
    "mean_80 = blocked_data_80['Rating'].mean()\n",
    "sem_80 = blocked_data_80['Rating'].sem()\n",
    "\n",
    "mean_100 = blocked_data_100['Rating'].mean()\n",
    "sem_100 = blocked_data_100['Rating'].sem()\n",
    "\n",
    "means = [mean_20, mean_40, mean_60, mean_80, mean_100]\n",
    "sems = [sem_20, sem_40, sem_60, sem_80, sem_100]"
   ]
  },
  {
   "cell_type": "code",
   "execution_count": 36,
   "metadata": {},
   "outputs": [],
   "source": [
    "# Increase figure size a bit\n",
    "plt.rcParams[\"figure.figsize\"] = (6,5)\n",
    "plt.rcParams.update({'font.size': 16})"
   ]
  },
  {
   "cell_type": "code",
   "execution_count": 44,
   "metadata": {},
   "outputs": [
    {
     "data": {
      "image/png": "[encoded data removed]",
      "text/plain": [
       "<Figure size 432x360 with 1 Axes>"
      ]
     },
     "metadata": {
      "needs_background": "light"
     },
     "output_type": "display_data"
    }
   ],
   "source": [
    "# Plot average\n",
    "fig, ax = plt.subplots()\n",
    "ax.errorbar(np.arange(20,101,20), means, sems, capsize=5,marker='o', color='black')\n",
    "ax.set_xlabel('Game number')\n",
    "ax.set_ylabel('Average Elo rating')\n",
    "ax.spines['top'].set_visible(False)\n",
    "ax.spines['right'].set_visible(False)\n",
    "plt.show()"
   ]
  },
  {
   "cell_type": "code",
   "execution_count": 45,
   "metadata": {},
   "outputs": [],
   "source": [
    "# Export ratings to num_players by 5 matrix for plotting\n",
    "ratings_matrix = np.column_stack((blocked_data_20['Rating'].to_numpy(),blocked_data_40['Rating'].to_numpy(),\n",
    "                                 blocked_data_60['Rating'].to_numpy(), blocked_data_80['Rating'].to_numpy(),\n",
    "                                 blocked_data_100['Rating'].to_numpy()))"
   ]
  },
  {
   "cell_type": "code",
   "execution_count": 46,
   "metadata": {},
   "outputs": [
    {
     "data": {
      "text/plain": [
       "(11287, 5)"
      ]
     },
     "execution_count": 46,
     "metadata": {},
     "output_type": "execute_result"
    }
   ],
   "source": [
    "ratings_matrix.shape"
   ]
  },
  {
   "cell_type": "code",
   "execution_count": 47,
   "metadata": {},
   "outputs": [
    {
     "data": {
      "text/plain": [
       "array([[3674, 3716, 3776, 3776, 3776],\n",
       "       [3670, 3715, 3776, 3776, 3776],\n",
       "       [3660, 3706, 3776, 3776, 3776],\n",
       "       ...,\n",
       "       [2546, 2572, 2646, 2563, 2627],\n",
       "       [2537, 2558, 2638, 2547, 2547],\n",
       "       [2400, 2447, 2447, 2447, 2447]])"
      ]
     },
     "execution_count": 47,
     "metadata": {},
     "output_type": "execute_result"
    }
   ],
   "source": [
    "ratings_matrix"
   ]
  },
  {
   "cell_type": "code",
   "execution_count": 48,
   "metadata": {},
   "outputs": [],
   "source": [
    "np.savetxt('peak_ratings', ratings_matrix)"
   ]
  },
  {
   "cell_type": "code",
   "execution_count": 29,
   "metadata": {},
   "outputs": [],
   "source": [
    "# Pull out the 30 users for the paper and check their elos over time\n",
    "data_paper = data[data['Name'].str.contains('|'.join(list(over100_sample.keys())))]\n",
    "\n",
    "# Grab the rows that have the blocked users\n",
    "paper_data_20 = data_paper[data_paper['Name'].str.contains('block20', regex=False, case=False, na=False)]\n",
    "paper_data_40 = data_paper[data_paper['Name'].str.contains('block40', regex=False, case=False, na=False)]\n",
    "paper_data_60 = data_paper[data_paper['Name'].str.contains('block60', regex=False, case=False, na=False)]\n",
    "paper_data_80 = data_paper[data_paper['Name'].str.contains('block80', regex=False, case=False, na=False)]\n",
    "paper_data_100 = data_paper[data_paper['Name'].str.contains('block100', regex=False, case=False, na=False)]\n",
    "\n",
    "# Calculate the mean and sem of each block\n",
    "mean_20_paper = paper_data_20['Rating'].mean()\n",
    "sem_20_paper = paper_data_20['Rating'].sem()\n",
    "\n",
    "mean_40_paper = paper_data_40['Rating'].mean()\n",
    "sem_40_paper = paper_data_40['Rating'].sem()\n",
    "\n",
    "mean_60_paper = paper_data_60['Rating'].mean()\n",
    "sem_60_paper = paper_data_60['Rating'].sem()\n",
    "\n",
    "mean_80_paper = paper_data_80['Rating'].mean()\n",
    "sem_80_paper = paper_data_80['Rating'].sem()\n",
    "\n",
    "mean_100_paper = paper_data_100['Rating'].mean()\n",
    "sem_100_paper = paper_data_100['Rating'].sem()\n",
    "\n",
    "means_paper = [mean_20_paper, mean_40_paper, mean_60_paper, mean_80_paper, mean_100_paper]\n",
    "sems_paper = [sem_20_paper, sem_40_paper, sem_60_paper, sem_80_paper, sem_100_paper]"
   ]
  },
  {
   "cell_type": "code",
   "execution_count": 31,
   "metadata": {},
   "outputs": [
    {
     "data": {
      "image/png": "[encoded data removed]",
      "text/plain": [
       "<Figure size 432x360 with 1 Axes>"
      ]
     },
     "metadata": {
      "needs_background": "light"
     },
     "output_type": "display_data"
    }
   ],
   "source": [
    "# Plot average\n",
    "fig, ax = plt.subplots()\n",
    "ax.errorbar(np.arange(20,101,20), means_paper, sems_paper, capsize=5,marker='o', color='black')\n",
    "ax.set_xlabel('Game number')\n",
    "ax.set_ylabel('Average Elo rating')\n",
    "ax.spines['top'].set_visible(False)\n",
    "ax.spines['right'].set_visible(False)\n",
    "plt.show()"
   ]
  },
  {
   "cell_type": "markdown",
   "metadata": {},
   "source": [
    "## Write out games for model-fitting"
   ]
  },
  {
   "cell_type": "code",
   "execution_count": 5,
   "metadata": {},
   "outputs": [],
   "source": [
    "# Pick a small subset of the users that have played 100+ games\n",
    "over100_sample = dict(random.sample(over100_dict.items(), 30))"
   ]
  },
  {
   "cell_type": "code",
   "execution_count": 18,
   "metadata": {},
   "outputs": [
    {
     "data": {
      "text/plain": [
       "['ZAhCMtLOSa',\n",
       " 'kaGdDjZqWg',\n",
       " 'YsUzdeYobm',\n",
       " 'ylDZcLSGzi',\n",
       " 'vxzuIORJKX',\n",
       " 'PnNILDnLdX',\n",
       " 'WASWCjvkSf',\n",
       " 'eOOVawOFxb',\n",
       " 'AREwvNqTxc',\n",
       " 'nyhNeYdVsh',\n",
       " 'tnGMrUGByz',\n",
       " 'lcMQOJykbE',\n",
       " 'PIBgFMOgkZ',\n",
       " 'grSuRIZKsB',\n",
       " 'beGvAksWzP',\n",
       " 'PbAYOdgWyk',\n",
       " 'qFpKOzFdKp',\n",
       " 'SDcMeNjEjm',\n",
       " 'TEjfRKZcni',\n",
       " 'OZvufMjxqA',\n",
       " 'LzYOQEtWyg',\n",
       " 'kalkupPyEF',\n",
       " 'niBZloyGmz',\n",
       " 'ovIeXCoase',\n",
       " 'dseDAhZdPo',\n",
       " 'DsMabUjLzp',\n",
       " 'GVpQmKgSvR',\n",
       " 'DbdTTxgeAE',\n",
       " 'kplBsqsGaT',\n",
       " 'vPktHzWCfa']"
      ]
     },
     "execution_count": 18,
     "metadata": {},
     "output_type": "execute_result"
    }
   ],
   "source": [
    "list(over100_sample.keys())"
   ]
  },
  {
   "cell_type": "code",
   "execution_count": 6,
   "metadata": {},
   "outputs": [],
   "source": [
    "# Function to get all of the moves in a game and return them in a list\n",
    "def get_moves_from_json(data):\n",
    "    return [d['positionValue'] for d in data['data']['rounds'][-1]['analytic']['events'] if d['stateString']=='Turn']"
   ]
  },
  {
   "cell_type": "code",
   "execution_count": 7,
   "metadata": {},
   "outputs": [],
   "source": [
    "# Function to get the total game length (number of moves + timed out moves) for a single game\n",
    "def get_game_length(data):\n",
    "    game_length = 0\n",
    "    for i in data['data']['rounds'][-1]['analytic']['events']:\n",
    "        if i['stateString'] == 'Turn':\n",
    "            game_length +=1\n",
    "    return game_length"
   ]
  },
  {
   "cell_type": "code",
   "execution_count": 8,
   "metadata": {},
   "outputs": [],
   "source": [
    "# Function to return integer code for a list of moves\n",
    "def encode_move_list(moves):\n",
    "    return np.sum([2**m for m in moves])"
   ]
  },
  {
   "cell_type": "code",
   "execution_count": 15,
   "metadata": {},
   "outputs": [
    {
     "name": "stdout",
     "output_type": "stream",
     "text": [
      "YsUzdeYobm100 {'stateString': 'Pause'}\n",
      "grSuRIZKsB100 {'stateString': 'Resume'}\n",
      "qFpKOzFdKp100 {'stateString': 'Pause'}\n",
      "DsMabUjLzp100 {'stateString': 'Resume'}\n",
      "kplBsqsGaT100 {'stateString': 'Pause'}\n"
     ]
    }
   ],
   "source": [
    "# Loop through each game to get the info we need: board state, chosen move, response time, player ID for each move\n",
    "block_start = 80\n",
    "block_end = 100\n",
    "for userID, path_list in over100_sample.items():\n",
    "    player = userID + str(block_end)\n",
    "    with open(player + '.csv','w') as f1:\n",
    "        writer=csv.writer(f1, delimiter='\\t',lineterminator='\\n',)\n",
    "        \n",
    "        for i in range(block_start,block_end):\n",
    "            game = path_list[i]\n",
    "            with(open(game)) as f:\n",
    "                data = json.load(f)\n",
    "\n",
    "                # Get all moves in a list\n",
    "                all_moves = get_moves_from_json(data)\n",
    "\n",
    "                # Get game length\n",
    "                game_length = get_game_length(data)\n",
    "\n",
    "                # Loop through each turn, get info that's left, and write to a new line in the csv\n",
    "                for turn in range(0,game_length,2):\n",
    "                    if data['data']['rounds'][-1]['analytic']['events'][turn]['stateString'] == 'Pause':\n",
    "                        print(player, data['data']['rounds'][turn]['analytic']['events'][turn])\n",
    "                    elif data['data']['rounds'][-1]['analytic']['events'][turn]['stateString'] == 'Resume':\n",
    "                        print(player, data['data']['rounds'][turn]['analytic']['events'][turn])\n",
    "                    elif data['data']['rounds'][-1]['analytic']['events'][turn]['playerString'] == 'player':\n",
    "                        response_time = data['data']['rounds'][turn]['duration']/1000\n",
    "                        move = int(encode_move_list([all_moves[turn]]))\n",
    "                        board_state = all_moves[:turn]\n",
    "                        black_code = int(encode_move_list(board_state[::2]))\n",
    "                        white_code = int(encode_move_list(board_state[1::2]))\n",
    "                        writer.writerow([black_code,white_code,\"Black\",move,response_time,player])"
   ]
  },
  {
   "cell_type": "markdown",
   "metadata": {},
   "source": [
    "## Analyze parameters over time\n",
    "Post model-fitting, read in parameter values for users and see if they improve"
   ]
  },
  {
   "cell_type": "code",
   "execution_count": 116,
   "metadata": {},
   "outputs": [],
   "source": [
    "# Load in the files and save a list of principal variation per user/experience group level (averaged)\n",
    "path = '/Users/ionatankuperwajs/Desktop/4-in-a-row/Data/peak/splits/'\n",
    "\n",
    "params_20 = []\n",
    "params_40 = []\n",
    "params_60 = []\n",
    "params_80 = []\n",
    "params_100 = []\n",
    "\n",
    "for user in range(50):\n",
    "    direc  = path+str(user+1)+'/'\n",
    "    data = pd.read_csv(direc+'1.csv', delim_whitespace=True, header=None)\n",
    "    exp_group = data[6][0][-2]\n",
    "    sum_params = np.zeros((1,10))\n",
    "    for group in range(5):\n",
    "        params_array = pd.read_csv(direc+'params'+str(group+1)+'.csv', header=None)\n",
    "        sum_params += params_array.values[0]\n",
    "    if exp_group == '0':\n",
    "        params_100.append(sum_params/5)\n",
    "    elif exp_group == '2':\n",
    "        params_20.append(sum_params/5)\n",
    "    elif exp_group == '4':\n",
    "        params_40.append(sum_params/5)\n",
    "    elif exp_group == '6':\n",
    "        params_60.append(sum_params/5)\n",
    "    elif exp_group == '8':\n",
    "        params_80.append(sum_params/5)"
   ]
  },
  {
   "cell_type": "code",
   "execution_count": 117,
   "metadata": {},
   "outputs": [],
   "source": [
    "# Initialize a new array for the averages and sem\n",
    "means = np.zeros((5, 10))\n",
    "sem = np.zeros((5, 10))\n",
    "\n",
    "means[0] = np.mean(np.array(params_20), axis=0)\n",
    "sem[0] = stats.sem(np.array(params_20), axis=0)\n",
    "\n",
    "means[1] = np.mean(np.array(params_40), axis=0)\n",
    "sem[1] = stats.sem(np.array(params_40), axis=0)\n",
    "\n",
    "means[2] = np.mean(np.array(params_60), axis=0)\n",
    "sem[2] = stats.sem(np.array(params_60), axis=0)\n",
    "\n",
    "means[3] = np.mean(np.array(params_80), axis=0)\n",
    "sem[3] = stats.sem(np.array(params_80), axis=0)\n",
    "\n",
    "means[4] = np.mean(np.array(params_100), axis=0)\n",
    "sem[4] = stats.sem(np.array(params_100), axis=0)"
   ]
  },
  {
   "cell_type": "code",
   "execution_count": 120,
   "metadata": {},
   "outputs": [],
   "source": [
    "# Grab the feature drop rates\n",
    "fd_means = means[:,2]\n",
    "fd_sem = sem[:,2]"
   ]
  },
  {
   "cell_type": "code",
   "execution_count": 121,
   "metadata": {},
   "outputs": [
    {
     "data": {
      "image/png": "[encoded data removed]",
      "text/plain": [
       "<Figure size 432x360 with 1 Axes>"
      ]
     },
     "metadata": {
      "needs_background": "light"
     },
     "output_type": "display_data"
    }
   ],
   "source": [
    "# Plot average\n",
    "fig, ax = plt.subplots()\n",
    "ax.errorbar(np.arange(20,101,20), fd_means, fd_sem, capsize=5,marker='o', color='black')\n",
    "ax.set_xlabel('Game number')\n",
    "ax.set_ylabel('Feature drop rate')\n",
    "ax.spines['top'].set_visible(False)\n",
    "ax.spines['right'].set_visible(False)\n",
    "plt.show()"
   ]
  },
  {
   "cell_type": "markdown",
   "metadata": {},
   "source": [
    "## Concatenate parameters to calculate depth of principal variation\n",
    "Post-fitting, then compute this on cluster with output file"
   ]
  },
  {
   "cell_type": "code",
   "execution_count": 2,
   "metadata": {},
   "outputs": [],
   "source": [
    "def expand_params(theta):\n",
    "    thresh = theta[0];\n",
    "    delta = theta[2];\n",
    "    w_center = theta[5];\n",
    "    w = theta[6:10]\n",
    "    lapse = theta[3];\n",
    "    c_act = theta[4];\n",
    "    gamma = theta[1];\n",
    "    return np.hstack([[10000,thresh,gamma,lapse,1,1,w_center],\n",
    "                     np.tile(w,4),\n",
    "                     [0],\n",
    "                     c_act*np.tile(w,4),\n",
    "                     [0],\n",
    "                     [delta]*17])"
   ]
  },
  {
   "cell_type": "code",
   "execution_count": 3,
   "metadata": {},
   "outputs": [],
   "source": [
    "direc = '/Users/ionatankuperwajs/Desktop/4-in-a-row/Data/peak_paper/'\n",
    "behavior_names = list(range(150))\n",
    "\n",
    "params_short = np.vstack([np.loadtxt(direc + '/splits/' + str(i+1) + '/params' + str(g) + '.csv',delimiter=',') \n",
    "           for i in range(len(behavior_names)) for g in range(1,6)])\n",
    "params = np.vstack([expand_params(np.loadtxt(direc + '/splits/' + str(i+1) + '/params' + str(g) + '.csv',delimiter=',')) \n",
    "           for i in range(len(behavior_names)) for g in range(1,6)])\n",
    "np.savetxt(direc + 'params_peak_final_long.txt',params,fmt = '%6f')"
   ]
  },
  {
   "cell_type": "markdown",
   "metadata": {},
   "source": [
    "## Analyze depth of principal variation"
   ]
  },
  {
   "cell_type": "code",
   "execution_count": 74,
   "metadata": {},
   "outputs": [],
   "source": [
    "# Load in the files and save a list of principal variation per user/experience group level (averaged)\n",
    "path = '/Users/ionatankuperwajs/Desktop/4-in-a-row/Data/peak/splits/'\n",
    "\n",
    "pv_20 = []\n",
    "pv_40 = []\n",
    "pv_60 = []\n",
    "pv_80 = []\n",
    "pv_100 = []\n",
    "\n",
    "for user in range(150):\n",
    "    direc  = path+str(user+1)+'/'\n",
    "    data = pd.read_csv(direc+'1.csv', delim_whitespace=True, header=None)\n",
    "    exp_group = data[6][0][-2]\n",
    "    for group in range(5):\n",
    "        pv_array = np.maximum(np.loadtxt(direc+'pv_depth_'+str(group+1)+'.txt')-2,0)\n",
    "        pv_per_move = pv_array.mean()\n",
    "        if exp_group == '0':\n",
    "            pv_100.append(pv_per_move)\n",
    "        elif exp_group == '2':\n",
    "            pv_20.append(pv_per_move)\n",
    "        elif exp_group == '4':\n",
    "            pv_40.append(pv_per_move)\n",
    "        elif exp_group == '6':\n",
    "            pv_60.append(pv_per_move)\n",
    "        elif exp_group == '8':\n",
    "            pv_80.append(pv_per_move)"
   ]
  },
  {
   "cell_type": "code",
   "execution_count": 75,
   "metadata": {},
   "outputs": [],
   "source": [
    "# Take the mean and sem of the principal variations\n",
    "pv_means = [np.mean(pv_20), np.mean(pv_40), np.mean(pv_60), np.mean(pv_80), np.mean(pv_100)]\n",
    "pv_sem = [stats.sem(pv_20), stats.sem(pv_40), stats.sem(pv_60), stats.sem(pv_80), stats.sem(pv_100)]"
   ]
  },
  {
   "cell_type": "code",
   "execution_count": 76,
   "metadata": {},
   "outputs": [
    {
     "data": {
      "image/png": "[encoded data removed]",
      "text/plain": [
       "<Figure size 432x360 with 1 Axes>"
      ]
     },
     "metadata": {
      "needs_background": "light"
     },
     "output_type": "display_data"
    }
   ],
   "source": [
    "# Plot\n",
    "fig, ax = plt.subplots()\n",
    "ax.errorbar(np.arange(20,101,20), pv_means, pv_sem, capsize=5,marker='o', color='black')\n",
    "ax.set_xlabel('Game number')\n",
    "ax.set_ylabel('Depth of principal variation')\n",
    "ax.spines['top'].set_visible(False)\n",
    "ax.spines['right'].set_visible(False)\n",
    "plt.show()"
   ]
  },
  {
   "cell_type": "markdown",
   "metadata": {},
   "source": [
    "## Calculate Bayesian Elo Ratings for users in paper"
   ]
  },
  {
   "cell_type": "code",
   "execution_count": 4,
   "metadata": {},
   "outputs": [],
   "source": [
    "paper_users = {'ZAhCMtLOSa','kaGdDjZqWg','YsUzdeYobm','ylDZcLSGzi','vxzuIORJKX','PnNILDnLdX','WASWCjvkSf','eOOVawOFxb',\n",
    "               'AREwvNqTxc','nyhNeYdVsh','tnGMrUGByz','lcMQOJykbE','PIBgFMOgkZ','grSuRIZKsB','beGvAksWzP','PbAYOdgWyk',\n",
    "               'qFpKOzFdKp','SDcMeNjEjm','TEjfRKZcni','OZvufMjxqA','LzYOQEtWyg','kalkupPyEF','niBZloyGmz','ovIeXCoase',\n",
    "               'dseDAhZdPo','DsMabUjLzp','GVpQmKgSvR','DbdTTxgeAE','kplBsqsGaT','vPktHzWCfa'}\n",
    "        \n",
    "# Now create a dictionary with user IDs and each game path that corresponds to the user\n",
    "paper_dict = dict((el,[]) for el in paper_users)\n",
    "\n",
    "for game in games_filtered:\n",
    "    ID = game[36:46]\n",
    "    if ID in paper_users:\n",
    "        paper_dict[ID].append(game)"
   ]
  },
  {
   "cell_type": "code",
   "execution_count": 101,
   "metadata": {},
   "outputs": [],
   "source": [
    "# Write each cumulative block as a new user to a different PNG file (0 to 100 in intervals of 20)\n",
    "block_start = 80\n",
    "block_end = 100\n",
    "with open(\"eloinput_paper_block\"+str(block_end)+\".txt\", \"w\") as elo_input:\n",
    "    # Loop through each game, open the data file\n",
    "    for userID, path_list in paper_dict.items():\n",
    "        \n",
    "        for i in range(block_start,block_end):\n",
    "            game = path_list[i]\n",
    "            with(open(game)) as f:\n",
    "                data = json.load(f)\n",
    "\n",
    "                # Set the new name for the user/block combo\n",
    "                human_name = str(data['bbuid'])+\"_block\"+str(block_end)\n",
    "                \n",
    "                # Define the AI name\n",
    "                min_range = data['data']['rounds'][-1]['problem']['ai_difficulty_min']\n",
    "                max_range = data['data']['rounds'][-1]['problem']['ai_difficulty_max']\n",
    "                comp_name = 'peak_opp_'+str(min_range)+'_'+str(max_range)\n",
    "\n",
    "                # Get the game outcome\n",
    "                try:\n",
    "                    game_outcome = data['data']['rounds'][-1]['analytic']['events'][-1]['resultString'] \n",
    "                except:\n",
    "                    print(game)\n",
    "\n",
    "                # Given the result set the correct format outcome\n",
    "                if game_outcome == \"Win\":\n",
    "                    result_text = \"1-0\"\n",
    "                elif game_outcome == \"Lose\":\n",
    "                    result_text = \"0-1\"\n",
    "                elif game_outcome == \"Draw\":\n",
    "                    result_text = \"1/2-1/2\"\n",
    "\n",
    "                # Write the results to our output file\n",
    "                elo_input.write('[White \"' + human_name + '\"]\\n[Black \"' + comp_name + '\"]\\n[Result \"' + \n",
    "                                    result_text + '\"]\\n' + result_text + '\\n\\n')"
   ]
  },
  {
   "cell_type": "code",
   "execution_count": 12,
   "metadata": {},
   "outputs": [
    {
     "name": "stdout",
     "output_type": "stream",
     "text": [
      "/Volumes/Samsung_T5/Peak/20190414/G/GtCfrEbctx-1538226896-537\n"
     ]
    }
   ],
   "source": [
    "# Now write out a new file with all games in the data set that ignores the old users\n",
    "\n",
    "with open(\"elo_input_paper.txt\", \"w\") as elo_input:\n",
    "    # Loop through each game, open the data file\n",
    "    for game in games_filtered:\n",
    "        with(open(game)) as f:\n",
    "            data = json.load(f)\n",
    "\n",
    "            # Grab the user and AI names\n",
    "            human_name = str(data['bbuid'])\n",
    "            comp_name = str(data['data']['rankinit'])\n",
    "            \n",
    "            if human_name in paper_dict.keys():\n",
    "                pass\n",
    "            \n",
    "            else:\n",
    "\n",
    "                # Get the game outcome\n",
    "                try:\n",
    "                    game_outcome = data['data']['rounds'][-1]['analytic']['events'][-1]['resultString'] \n",
    "                except:\n",
    "                    print(game)\n",
    "\n",
    "                # Given the result set the correct format outcome\n",
    "                if game_outcome == \"Win\":\n",
    "                    result_text = \"1-0\"\n",
    "                elif game_outcome == \"Lose\":\n",
    "                    result_text = \"0-1\"\n",
    "                elif game_outcome == \"Draw\":\n",
    "                    result_text = \"1/2-1/2\"\n",
    "\n",
    "                # Write the results to our output file\n",
    "                elo_input.write('[White \"' + human_name + '\"]\\n[Black \"' + comp_name + '\"]\\n[Result \"' + \n",
    "                                    result_text + '\"]\\n' + result_text + '\\n\\n')"
   ]
  },
  {
   "cell_type": "code",
   "execution_count": 102,
   "metadata": {},
   "outputs": [],
   "source": [
    "# Now concatenate the text files and calculate elos in terminal\n",
    "path = '/Users/ionatankuperwajs/Desktop/MaLab/Peak/bayeselo/game_outcomes_paper/'\n",
    "filenames = ['eloinput_paper_block20.txt', 'eloinput_paper_block40.txt',\n",
    "            'eloinput_paper_block60.txt', 'eloinput_paper_block80.txt', 'eloinput_paper_block100.txt']\n",
    "with open(path + 'concatenated', 'w') as outfile:\n",
    "    for fname in filenames:\n",
    "        with open(path + fname) as infile:\n",
    "            for line in infile:\n",
    "                outfile.write(line)"
   ]
  },
  {
   "cell_type": "markdown",
   "metadata": {},
   "source": [
    "## Compute RT over experience for users in paper"
   ]
  },
  {
   "cell_type": "code",
   "execution_count": 24,
   "metadata": {},
   "outputs": [],
   "source": [
    "keys = [20,40,60,80,100]\n",
    "dur_dict = {key: [] for key in keys}"
   ]
  },
  {
   "cell_type": "code",
   "execution_count": 32,
   "metadata": {},
   "outputs": [],
   "source": [
    "block_start = 80\n",
    "block_end = 100\n",
    "for userID, path_list in paper_dict.items():\n",
    "    for i in range(block_start,block_end):\n",
    "        game = path_list[i]\n",
    "        with(open(game)) as f:\n",
    "            data = json.load(f)\n",
    "            for turn in range(len(data['data']['rounds'])):\n",
    "                if turn % 2 == 0:\n",
    "                    # Grab the turn duration and position played\n",
    "                    duration = data['data']['rounds'][turn]['duration']\n",
    "                    dur_dict[block_end].append(duration/1000)\n",
    "            \n",
    "        "
   ]
  },
  {
   "cell_type": "code",
   "execution_count": 34,
   "metadata": {},
   "outputs": [],
   "source": [
    "# Take the mean and sem of the turn durations\n",
    "dur_means = [np.mean(dur_dict[20]), np.mean(dur_dict[40]), np.mean(dur_dict[60]), np.mean(dur_dict[80]), np.mean(dur_dict[100])]\n",
    "dur_sem = [stats.sem(dur_dict[20]), stats.sem(dur_dict[40]), stats.sem(dur_dict[60]), stats.sem(dur_dict[80]), stats.sem(dur_dict[100])]"
   ]
  },
  {
   "cell_type": "code",
   "execution_count": 37,
   "metadata": {},
   "outputs": [
    {
     "data": {
      "image/png": "[encoded data removed]",
      "text/plain": [
       "<Figure size 432x360 with 1 Axes>"
      ]
     },
     "metadata": {
      "needs_background": "light"
     },
     "output_type": "display_data"
    }
   ],
   "source": [
    "# Plot\n",
    "fig, ax = plt.subplots()\n",
    "ax.errorbar(np.arange(20,101,20), dur_means, dur_sem, capsize=5,marker='o', color='black')\n",
    "ax.set_xlabel('Game number')\n",
    "ax.set_ylabel('Average response time')\n",
    "ax.spines['top'].set_visible(False)\n",
    "ax.spines['right'].set_visible(False)\n",
    "plt.show()"
   ]
  },
  {
   "cell_type": "code",
   "execution_count": null,
   "metadata": {},
   "outputs": [],
   "source": []
  }
 ],
 "metadata": {
  "kernelspec": {
   "display_name": "Python 3",
   "language": "python",
   "name": "python3"
  },
  "language_info": {
   "codemirror_mode": {
    "name": "ipython",
    "version": 3
   },
   "file_extension": ".py",
   "mimetype": "text/x-python",
   "name": "python",
   "nbconvert_exporter": "python",
   "pygments_lexer": "ipython3",
   "version": "3.7.4"
  }
 },
 "nbformat": 4,
 "nbformat_minor": 4
}
