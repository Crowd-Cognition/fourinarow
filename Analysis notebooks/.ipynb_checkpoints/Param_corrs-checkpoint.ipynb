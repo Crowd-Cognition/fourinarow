{
 "cells": [
  {
   "cell_type": "code",
   "execution_count": 1,
   "metadata": {},
   "outputs": [],
   "source": [
    "import numpy as np\n",
    "import matplotlib.pyplot as plt\n",
    "from scipy import stats\n",
    "import math\n",
    "import matplotlib as mpl\n",
    "from matplotlib.ticker import FormatStrFormatter\n",
    "from matplotlib import rc,rcParams\n",
    "\n",
    "fig_direc = 'C:/Users/Bas/Google Drive/Bas Zahy Gianni - Games/Manuscripts/Paper/Figures/'\n",
    "mpl.rcParams['text.usetex'] = True\n",
    "mpl.rcParams['text.latex.preamble'] = [r'\\usepackage{amsmath}'] #for \\text command\n",
    "rcParams['font.sans-serif'] = \"Helvetica Neue LT Std\"\n",
    "rcParams['font.family'] = \"sans-serif\"\n",
    "\n",
    "direc = 'C:/Users/Bas/Google Drive/Bas Games/'\n",
    "\n",
    "param_names = [r'$\\theta$',r'$\\gamma$',r'$\\delta$',r'$\\lambda$',r'$C$',r'$w_{\\text{center}$',\n",
    "               r'$w_{\\text{connected 2-in-a-row}}$',r'$w_{\\text{unconnected 2-in-a-row}}$',\n",
    "              r'$w_{\\text{3-in-a-row}}$',r'$w_{\\text{4-in-a-row}}$']\n",
    "\n",
    "Nparams = len(param_names)"
   ]
  },
  {
   "cell_type": "code",
   "execution_count": 2,
   "metadata": {},
   "outputs": [],
   "source": [
    "def plot_param_bars(rho,sem,xlabel,c,filename,letter):\n",
    "    fig,ax = plt.subplots()\n",
    "    ax.set_xlim([0,1])\n",
    "    ax.set_xlabel(xlabel,usetex=False)\n",
    "    ax.barh(range(Nparams,0,-1), rho, xerr=sem, align='center',\n",
    "        color=c, ecolor='black')\n",
    "    plt.xticks(usetex=False)\n",
    "    plt.yticks(range(Nparams,0,-1),param_names,usetex=True, fontsize =14)\n",
    "    ax.spines['top'].set_visible(False)\n",
    "    ax.spines['right'].set_visible(False)\n",
    "    ax.text(0.02, 0.9, letter, horizontalalignment='left',\n",
    "            verticalalignment='center', transform=fig.transFigure, fontsize = 20)\n",
    "    fig.tight_layout()\n",
    "    fig.savefig(fig_direc + filename)\n",
    "    plt.show()"
   ]
  },
  {
   "cell_type": "code",
   "execution_count": 3,
   "metadata": {},
   "outputs": [
    {
     "ename": "OSError",
     "evalue": "C:/Users/Bas/Google Drive/Bas Games/Analysis/Params/params_hvh_final_short.txt not found.",
     "output_type": "error",
     "traceback": [
      "\u001b[1;31m---------------------------------------------------------------------------\u001b[0m",
      "\u001b[1;31mOSError\u001b[0m                                   Traceback (most recent call last)",
      "\u001b[1;32m<ipython-input-3-e9c6c4743668>\u001b[0m in \u001b[0;36m<module>\u001b[1;34m\u001b[0m\n\u001b[0;32m      1\u001b[0m P=np.vstack([np.loadtxt(direc + 'Analysis/Params/params_hvh_' + m + '_short.txt') \n\u001b[1;32m----> 2\u001b[1;33m              for m in ['final','final2']])\n\u001b[0m\u001b[0;32m      3\u001b[0m \u001b[0mP\u001b[0m\u001b[1;33m=\u001b[0m\u001b[0mnp\u001b[0m\u001b[1;33m.\u001b[0m\u001b[0mmean\u001b[0m\u001b[1;33m(\u001b[0m\u001b[0mnp\u001b[0m\u001b[1;33m.\u001b[0m\u001b[0mreshape\u001b[0m\u001b[1;33m(\u001b[0m\u001b[0mP\u001b[0m\u001b[1;33m,\u001b[0m\u001b[1;33m[\u001b[0m\u001b[0mint\u001b[0m\u001b[1;33m(\u001b[0m\u001b[0mP\u001b[0m\u001b[1;33m.\u001b[0m\u001b[0mshape\u001b[0m\u001b[1;33m[\u001b[0m\u001b[1;36m0\u001b[0m\u001b[1;33m]\u001b[0m\u001b[1;33m/\u001b[0m\u001b[1;36m5\u001b[0m\u001b[1;33m)\u001b[0m\u001b[1;33m,\u001b[0m\u001b[1;36m5\u001b[0m\u001b[1;33m,\u001b[0m\u001b[1;36m10\u001b[0m\u001b[1;33m]\u001b[0m\u001b[1;33m)\u001b[0m\u001b[1;33m,\u001b[0m\u001b[0maxis\u001b[0m\u001b[1;33m=\u001b[0m\u001b[1;36m1\u001b[0m\u001b[1;33m)\u001b[0m\u001b[1;33m\u001b[0m\u001b[1;33m\u001b[0m\u001b[0m\n\u001b[0;32m      4\u001b[0m \u001b[0mrho4\u001b[0m\u001b[1;33m=\u001b[0m\u001b[1;33m[\u001b[0m\u001b[0mstats\u001b[0m\u001b[1;33m.\u001b[0m\u001b[0mspearmanr\u001b[0m\u001b[1;33m(\u001b[0m\u001b[0mP\u001b[0m\u001b[1;33m[\u001b[0m\u001b[1;33m:\u001b[0m\u001b[1;36m40\u001b[0m\u001b[1;33m,\u001b[0m\u001b[0mi\u001b[0m\u001b[1;33m]\u001b[0m\u001b[1;33m,\u001b[0m\u001b[0mP\u001b[0m\u001b[1;33m[\u001b[0m\u001b[1;36m40\u001b[0m\u001b[1;33m:\u001b[0m\u001b[1;33m,\u001b[0m\u001b[0mi\u001b[0m\u001b[1;33m]\u001b[0m\u001b[1;33m)\u001b[0m\u001b[1;33m.\u001b[0m\u001b[0mcorrelation\u001b[0m \u001b[1;32mfor\u001b[0m \u001b[0mi\u001b[0m \u001b[1;32min\u001b[0m \u001b[0mrange\u001b[0m\u001b[1;33m(\u001b[0m\u001b[1;36m10\u001b[0m\u001b[1;33m)\u001b[0m\u001b[1;33m]\u001b[0m\u001b[1;33m\u001b[0m\u001b[1;33m\u001b[0m\u001b[0m\n\u001b[0;32m      5\u001b[0m \u001b[0mplot_param_bars\u001b[0m\u001b[1;33m(\u001b[0m\u001b[0mrho4\u001b[0m\u001b[1;33m,\u001b[0m\u001b[1;33m[\u001b[0m\u001b[1;36m0\u001b[0m \u001b[1;32mfor\u001b[0m \u001b[0mr\u001b[0m \u001b[1;32min\u001b[0m \u001b[0mrho4\u001b[0m\u001b[1;33m]\u001b[0m\u001b[1;33m,\u001b[0m\u001b[1;34m'Correlation between repeated fits'\u001b[0m\u001b[1;33m,\u001b[0m\u001b[1;34m'Red'\u001b[0m\u001b[1;33m,\u001b[0m\u001b[1;34m'param_corrs_A.pdf'\u001b[0m\u001b[1;33m,\u001b[0m\u001b[1;34m'A'\u001b[0m\u001b[1;33m)\u001b[0m\u001b[1;33m\u001b[0m\u001b[1;33m\u001b[0m\u001b[0m\n",
      "\u001b[1;32m<ipython-input-3-e9c6c4743668>\u001b[0m in \u001b[0;36m<listcomp>\u001b[1;34m(.0)\u001b[0m\n\u001b[0;32m      1\u001b[0m P=np.vstack([np.loadtxt(direc + 'Analysis/Params/params_hvh_' + m + '_short.txt') \n\u001b[1;32m----> 2\u001b[1;33m              for m in ['final','final2']])\n\u001b[0m\u001b[0;32m      3\u001b[0m \u001b[0mP\u001b[0m\u001b[1;33m=\u001b[0m\u001b[0mnp\u001b[0m\u001b[1;33m.\u001b[0m\u001b[0mmean\u001b[0m\u001b[1;33m(\u001b[0m\u001b[0mnp\u001b[0m\u001b[1;33m.\u001b[0m\u001b[0mreshape\u001b[0m\u001b[1;33m(\u001b[0m\u001b[0mP\u001b[0m\u001b[1;33m,\u001b[0m\u001b[1;33m[\u001b[0m\u001b[0mint\u001b[0m\u001b[1;33m(\u001b[0m\u001b[0mP\u001b[0m\u001b[1;33m.\u001b[0m\u001b[0mshape\u001b[0m\u001b[1;33m[\u001b[0m\u001b[1;36m0\u001b[0m\u001b[1;33m]\u001b[0m\u001b[1;33m/\u001b[0m\u001b[1;36m5\u001b[0m\u001b[1;33m)\u001b[0m\u001b[1;33m,\u001b[0m\u001b[1;36m5\u001b[0m\u001b[1;33m,\u001b[0m\u001b[1;36m10\u001b[0m\u001b[1;33m]\u001b[0m\u001b[1;33m)\u001b[0m\u001b[1;33m,\u001b[0m\u001b[0maxis\u001b[0m\u001b[1;33m=\u001b[0m\u001b[1;36m1\u001b[0m\u001b[1;33m)\u001b[0m\u001b[1;33m\u001b[0m\u001b[1;33m\u001b[0m\u001b[0m\n\u001b[0;32m      4\u001b[0m \u001b[0mrho4\u001b[0m\u001b[1;33m=\u001b[0m\u001b[1;33m[\u001b[0m\u001b[0mstats\u001b[0m\u001b[1;33m.\u001b[0m\u001b[0mspearmanr\u001b[0m\u001b[1;33m(\u001b[0m\u001b[0mP\u001b[0m\u001b[1;33m[\u001b[0m\u001b[1;33m:\u001b[0m\u001b[1;36m40\u001b[0m\u001b[1;33m,\u001b[0m\u001b[0mi\u001b[0m\u001b[1;33m]\u001b[0m\u001b[1;33m,\u001b[0m\u001b[0mP\u001b[0m\u001b[1;33m[\u001b[0m\u001b[1;36m40\u001b[0m\u001b[1;33m:\u001b[0m\u001b[1;33m,\u001b[0m\u001b[0mi\u001b[0m\u001b[1;33m]\u001b[0m\u001b[1;33m)\u001b[0m\u001b[1;33m.\u001b[0m\u001b[0mcorrelation\u001b[0m \u001b[1;32mfor\u001b[0m \u001b[0mi\u001b[0m \u001b[1;32min\u001b[0m \u001b[0mrange\u001b[0m\u001b[1;33m(\u001b[0m\u001b[1;36m10\u001b[0m\u001b[1;33m)\u001b[0m\u001b[1;33m]\u001b[0m\u001b[1;33m\u001b[0m\u001b[1;33m\u001b[0m\u001b[0m\n\u001b[0;32m      5\u001b[0m \u001b[0mplot_param_bars\u001b[0m\u001b[1;33m(\u001b[0m\u001b[0mrho4\u001b[0m\u001b[1;33m,\u001b[0m\u001b[1;33m[\u001b[0m\u001b[1;36m0\u001b[0m \u001b[1;32mfor\u001b[0m \u001b[0mr\u001b[0m \u001b[1;32min\u001b[0m \u001b[0mrho4\u001b[0m\u001b[1;33m]\u001b[0m\u001b[1;33m,\u001b[0m\u001b[1;34m'Correlation between repeated fits'\u001b[0m\u001b[1;33m,\u001b[0m\u001b[1;34m'Red'\u001b[0m\u001b[1;33m,\u001b[0m\u001b[1;34m'param_corrs_A.pdf'\u001b[0m\u001b[1;33m,\u001b[0m\u001b[1;34m'A'\u001b[0m\u001b[1;33m)\u001b[0m\u001b[1;33m\u001b[0m\u001b[1;33m\u001b[0m\u001b[0m\n",
      "\u001b[1;32m~\\AppData\\Local\\Continuum\\anaconda3\\lib\\site-packages\\numpy\\lib\\npyio.py\u001b[0m in \u001b[0;36mloadtxt\u001b[1;34m(fname, dtype, comments, delimiter, converters, skiprows, usecols, unpack, ndmin, encoding, max_rows)\u001b[0m\n\u001b[0;32m    960\u001b[0m             \u001b[0mfname\u001b[0m \u001b[1;33m=\u001b[0m \u001b[0mos_fspath\u001b[0m\u001b[1;33m(\u001b[0m\u001b[0mfname\u001b[0m\u001b[1;33m)\u001b[0m\u001b[1;33m\u001b[0m\u001b[1;33m\u001b[0m\u001b[0m\n\u001b[0;32m    961\u001b[0m         \u001b[1;32mif\u001b[0m \u001b[0m_is_string_like\u001b[0m\u001b[1;33m(\u001b[0m\u001b[0mfname\u001b[0m\u001b[1;33m)\u001b[0m\u001b[1;33m:\u001b[0m\u001b[1;33m\u001b[0m\u001b[1;33m\u001b[0m\u001b[0m\n\u001b[1;32m--> 962\u001b[1;33m             \u001b[0mfh\u001b[0m \u001b[1;33m=\u001b[0m \u001b[0mnp\u001b[0m\u001b[1;33m.\u001b[0m\u001b[0mlib\u001b[0m\u001b[1;33m.\u001b[0m\u001b[0m_datasource\u001b[0m\u001b[1;33m.\u001b[0m\u001b[0mopen\u001b[0m\u001b[1;33m(\u001b[0m\u001b[0mfname\u001b[0m\u001b[1;33m,\u001b[0m \u001b[1;34m'rt'\u001b[0m\u001b[1;33m,\u001b[0m \u001b[0mencoding\u001b[0m\u001b[1;33m=\u001b[0m\u001b[0mencoding\u001b[0m\u001b[1;33m)\u001b[0m\u001b[1;33m\u001b[0m\u001b[1;33m\u001b[0m\u001b[0m\n\u001b[0m\u001b[0;32m    963\u001b[0m             \u001b[0mfencoding\u001b[0m \u001b[1;33m=\u001b[0m \u001b[0mgetattr\u001b[0m\u001b[1;33m(\u001b[0m\u001b[0mfh\u001b[0m\u001b[1;33m,\u001b[0m \u001b[1;34m'encoding'\u001b[0m\u001b[1;33m,\u001b[0m \u001b[1;34m'latin1'\u001b[0m\u001b[1;33m)\u001b[0m\u001b[1;33m\u001b[0m\u001b[1;33m\u001b[0m\u001b[0m\n\u001b[0;32m    964\u001b[0m             \u001b[0mfh\u001b[0m \u001b[1;33m=\u001b[0m \u001b[0miter\u001b[0m\u001b[1;33m(\u001b[0m\u001b[0mfh\u001b[0m\u001b[1;33m)\u001b[0m\u001b[1;33m\u001b[0m\u001b[1;33m\u001b[0m\u001b[0m\n",
      "\u001b[1;32m~\\AppData\\Local\\Continuum\\anaconda3\\lib\\site-packages\\numpy\\lib\\_datasource.py\u001b[0m in \u001b[0;36mopen\u001b[1;34m(path, mode, destpath, encoding, newline)\u001b[0m\n\u001b[0;32m    264\u001b[0m \u001b[1;33m\u001b[0m\u001b[0m\n\u001b[0;32m    265\u001b[0m     \u001b[0mds\u001b[0m \u001b[1;33m=\u001b[0m \u001b[0mDataSource\u001b[0m\u001b[1;33m(\u001b[0m\u001b[0mdestpath\u001b[0m\u001b[1;33m)\u001b[0m\u001b[1;33m\u001b[0m\u001b[1;33m\u001b[0m\u001b[0m\n\u001b[1;32m--> 266\u001b[1;33m     \u001b[1;32mreturn\u001b[0m \u001b[0mds\u001b[0m\u001b[1;33m.\u001b[0m\u001b[0mopen\u001b[0m\u001b[1;33m(\u001b[0m\u001b[0mpath\u001b[0m\u001b[1;33m,\u001b[0m \u001b[0mmode\u001b[0m\u001b[1;33m,\u001b[0m \u001b[0mencoding\u001b[0m\u001b[1;33m=\u001b[0m\u001b[0mencoding\u001b[0m\u001b[1;33m,\u001b[0m \u001b[0mnewline\u001b[0m\u001b[1;33m=\u001b[0m\u001b[0mnewline\u001b[0m\u001b[1;33m)\u001b[0m\u001b[1;33m\u001b[0m\u001b[1;33m\u001b[0m\u001b[0m\n\u001b[0m\u001b[0;32m    267\u001b[0m \u001b[1;33m\u001b[0m\u001b[0m\n\u001b[0;32m    268\u001b[0m \u001b[1;33m\u001b[0m\u001b[0m\n",
      "\u001b[1;32m~\\AppData\\Local\\Continuum\\anaconda3\\lib\\site-packages\\numpy\\lib\\_datasource.py\u001b[0m in \u001b[0;36mopen\u001b[1;34m(self, path, mode, encoding, newline)\u001b[0m\n\u001b[0;32m    622\u001b[0m                                       encoding=encoding, newline=newline)\n\u001b[0;32m    623\u001b[0m         \u001b[1;32melse\u001b[0m\u001b[1;33m:\u001b[0m\u001b[1;33m\u001b[0m\u001b[1;33m\u001b[0m\u001b[0m\n\u001b[1;32m--> 624\u001b[1;33m             \u001b[1;32mraise\u001b[0m \u001b[0mIOError\u001b[0m\u001b[1;33m(\u001b[0m\u001b[1;34m\"%s not found.\"\u001b[0m \u001b[1;33m%\u001b[0m \u001b[0mpath\u001b[0m\u001b[1;33m)\u001b[0m\u001b[1;33m\u001b[0m\u001b[1;33m\u001b[0m\u001b[0m\n\u001b[0m\u001b[0;32m    625\u001b[0m \u001b[1;33m\u001b[0m\u001b[0m\n\u001b[0;32m    626\u001b[0m \u001b[1;33m\u001b[0m\u001b[0m\n",
      "\u001b[1;31mOSError\u001b[0m: C:/Users/Bas/Google Drive/Bas Games/Analysis/Params/params_hvh_final_short.txt not found."
     ]
    }
   ],
   "source": [
    "P=np.vstack([np.loadtxt(direc + 'Analysis/Params/params_hvh_' + m + '_short.txt') \n",
    "             for m in ['final','final2']])\n",
    "P=np.mean(np.reshape(P,[int(P.shape[0]/5),5,10]),axis=1)\n",
    "rho4=[stats.spearmanr(P[:40,i],P[40:,i]).correlation for i in range(10)]\n",
    "plot_param_bars(rho4,[0 for r in rho4],'Correlation between repeated fits','Red','param_corrs_A.pdf','A')"
   ]
  },
  {
   "cell_type": "code",
   "execution_count": null,
   "metadata": {},
   "outputs": [],
   "source": [
    "P=np.vstack([np.loadtxt(direc + 'Analysis/Params/params_' + e + '_final_short.txt') \n",
    "             for e in ['hvh','learn','tai','tur','gen','eye']])\n",
    "P=np.reshape(P,[int(P.shape[0]/5),5,10])\n",
    "p1=[stats.ttest_1samp(stats.spearmanr(P[:,:,i])[0][np.triu_indices(5,1)],popmean=0).pvalue \n",
    "    for i in range(10)]\n",
    "rho1=[np.mean(stats.spearmanr(P[:,:,i])[0][np.triu_indices(5,1)]) for i in range(10)]\n",
    "sem1=[np.std(stats.spearmanr(P[:,:,i])[0][np.triu_indices(5,1)])/np.sqrt(10) for i in range(10)]\n",
    "plot_param_bars(rho1,sem1,'Correlation between cross-validation splits','green','param_corrs_B.pdf','B')"
   ]
  },
  {
   "cell_type": "code",
   "execution_count": null,
   "metadata": {},
   "outputs": [],
   "source": [
    "P=np.vstack([np.loadtxt(direc + 'Analysis/Params/params_' + e + '_final_short.txt') \n",
    "             for e in ['hvh','learn','tai','tur','gen','eye']])\n",
    "P=np.reshape(P,[int(P.shape[0]/5),5,10])\n",
    "#p1=[stats.ttest_1samp(stats.spearmanr(P[:,:,i])[0][np.triu_indices(5,1)],popmean=0).pvalue \n",
    "#    for i in range(10)]\n",
    "#rho1=[np.mean(stats.spearmanr(P[:,:,i])[0][np.triu_indices(5,1)]) for i in range(10)]\n",
    "#sem1=[np.std(stats.spearmanr(P[:,:,i])[0][np.triu_indices(5,1)])/np.sqrt(10) for i in range(10)]\n",
    "#plot_param_bars(rho1,sem1,'Correlation between cross-validation splits','green','param_corrs_B.pdf','B')"
   ]
  },
  {
   "cell_type": "code",
   "execution_count": null,
   "metadata": {},
   "outputs": [],
   "source": [
    "print(np.nanmean(np.std(P,axis=1)/np.sqrt(5),axis=0)[2],np.nanstd(np.std(P,axis=1)/np.sqrt(5),axis=0)[2]/np.sqrt(P.shape[0]))\n",
    "p1=[stats.ttest_1samp(stats.spearmanr(P[:,:,i])[0][np.triu_indices(5,1)],popmean=0).pvalue \n",
    "    for i in range(10)]\n",
    "rho1=[np.mean(stats.spearmanr(P[:,:,i])[0][np.triu_indices(5,1)]) for i in range(10)]\n",
    "sem1=[np.std(stats.spearmanr(P[:,:,i])[0][np.triu_indices(5,1)])/np.sqrt(10) for i in range(10)]\n",
    "print(rho1[2],sem1[2])"
   ]
  },
  {
   "cell_type": "code",
   "execution_count": null,
   "metadata": {},
   "outputs": [],
   "source": [
    "#correlations across learning sessions \n",
    "P=np.loadtxt(direc + 'Analysis/Params/params_learn_final_short.txt')\n",
    "P=np.mean(np.reshape(P,[int(P.shape[0]/5),5,10]),axis=1)\n",
    "rho2 = [np.mean(np.hstack([[stats.spearmanr(P[n::5,i],P[m::5,i])[0] for m in range(n)] for n in range(5)])) for i in range(10)]\n",
    "sem2 = [np.std(np.hstack([[stats.spearmanr(P[n::5,i],P[m::5,i])[0]/np.sqrt(10) for m in range(n)] for n in range(5)])) for i in range(10)]\n",
    "p2 = [stats.ttest_1samp(np.hstack([[stats.spearmanr(P[n::5,i],P[m::5,i])[0] for m in range(n)] for n in range(5)]),popmean=0).pvalue for i in range(10)]\n",
    "plot_param_bars(rho2,sem2,'Correlation between learning sessions','Orange','param_corrs_C.pdf','C')"
   ]
  },
  {
   "cell_type": "code",
   "execution_count": null,
   "metadata": {},
   "outputs": [],
   "source": [
    "P=np.loadtxt(direc + 'Analysis/Params/params_tai_final_short.txt')\n",
    "P=np.mean(np.reshape(P,[int(P.shape[0]/5),5,10]),axis=1)\n",
    "rho3 = [np.mean(np.hstack([[stats.spearmanr(P[n::3,i],P[m::3,i])[0] for m in range(n)] for n in range(3)])) for i in range(10)]\n",
    "sem3 = [np.std(np.hstack([[stats.spearmanr(P[n::3,i],P[m::3,i])[0]/np.sqrt(3) for m in range(n)] for n in range(3)])) for i in range(10)]\n",
    "p3 = [stats.ttest_1samp(np.hstack([[stats.spearmanr(P[n::3,i],P[m::3,i])[0] for m in range(n)] for n in range(3)]),popmean=0).pvalue for i in range(10)]\n",
    "plot_param_bars(rho3,sem3,'Correlation between time constraint conditions','Purple','param_corrs_D.pdf','D')"
   ]
  },
  {
   "cell_type": "code",
   "execution_count": null,
   "metadata": {
    "scrolled": true
   },
   "outputs": [],
   "source": [
    "direc = 'C:/Users/Bas/Google Drive/Bas Games/Analysis/loglik/'\n",
    "\n",
    "def get_mean(fname):\n",
    "    try:\n",
    "        x = np.loadtxt(fname)\n",
    "        if len(x.shape)>1:\n",
    "            return np.mean(x[:,np.nonzero(np.prod(x>0,axis=0))[0]])\n",
    "        else:\n",
    "            return np.mean(x)\n",
    "    except OSError:\n",
    "        print('File not found: ' + fname)\n",
    "        return np.nan\n",
    "    \n",
    "def get_data(fname):\n",
    "    try:\n",
    "        x = np.loadtxt(fname)\n",
    "        if len(x.shape)>1:\n",
    "            return np.mean(x[:,np.nonzero(np.prod(x>0,axis=0))[0]],axis=1)\n",
    "        else:\n",
    "            print(fname)\n",
    "            return np.mean(x)\n",
    "    except OSError:\n",
    "        print('File not found: ' + fname)\n",
    "        return np.nan\n",
    "\n",
    "\n"
   ]
  },
  {
   "cell_type": "code",
   "execution_count": null,
   "metadata": {},
   "outputs": [],
   "source": [
    "direc = 'C:/Users/Bas/Google Drive/Bas Games/Analysis/loglik/'\n",
    "\n",
    "models=['final','final_nonoise','final_nodelta','final_noprune','final_notree','final_noact','final_no3',\n",
    "        'final_no2conn','final_nocenter','final_no4','final_no2unc',\n",
    "        'final_optweights','final_mcts_myopic','final_drop_tile','final_fixed_iters',\n",
    "        'final_fixed_depth','final_fixed_branch','final_weight_hvd','final_drop_hvd',\n",
    "        'final_triangle','final_drop_type','final_opp','final_mcts_rand']\n",
    "\n",
    "model_names = ['Main','No noise','No feature drop','No pruning','No tree','No active scaling',\n",
    "               'No 3-in-a-row','No connected 2-in-a-row','No center','No 4-in-a-row',\n",
    "               'No unconnected 2-in-a-row','Optimal weights','Monte Carlo Tree Search',\n",
    "               'Tile dropping','Fixed iterations','Fixed depth','Fixed branching',\n",
    "               'Orientation-dependent weights','Orientation-dependent dropping','Triangle',\n",
    "               'Type-dependent dropping','Opponent scaling','Random-playout MCTS']\n",
    "\n",
    "model_colors = ['black'] + ['#A30006']*10 + ['#025D8C']*6 + ['#519548']*5 + ['gray']              \n",
    "\n",
    "mpl.rcParams['text.usetex'] = False\n",
    "\n",
    "L = [np.hstack([get_data(direc + 'loglik_' + d + '_' + m + '.txt') for d in ['learn1','learn2','learn3']]) for m in models]\n",
    "loglik_learn = np.array([np.mean(np.mean(np.reshape(L[i],[30,5,5]),axis=2),axis=0) for i,m in enumerate(models)])\n",
    "\n",
    "L = [np.hstack([get_data(direc + 'loglik_' + d + '_' + m + '.txt') for d in ['tai1','tai2']]) for m in models]\n",
    "loglik_tai = np.array([np.mean(np.mean(np.reshape(L[i],[30,3,5]),axis=2),axis=0) for i,m in enumerate(models)])\n",
    "\n",
    "loglik = np.hstack([np.array([[get_mean(direc + 'loglik_' + d + '_' + m + '.txt') \n",
    "                               for d in ['hvh','gen','eye']] \n",
    "                              for m in models]),\n",
    "                    loglik_learn,loglik_tai])\n"
   ]
  },
  {
   "cell_type": "code",
   "execution_count": null,
   "metadata": {},
   "outputs": [],
   "source": [
    "def ave_across_splits(p):\n",
    "    if len(p.shape)==2:\n",
    "        return np.nanmean(np.reshape(p,[int(p.shape[0]/5),5,int(p.shape[1])]),axis=1)\n",
    "    elif len(p.shape)==1:\n",
    "        return np.nanmean(np.reshape(p,[int(p.shape[0]/5),5]),axis=1)\n",
    "    else:\n",
    "        return np.nan\n",
    "\n",
    "data_sets = ['hvh','gen','eye','learn1','learn2','learn3','tai1','tai2']\n",
    "loglik_all = [[ave_across_splits(get_data(direc + 'loglik_' + d + '_' + m + '.txt')) \n",
    "                      for m in models] for d in data_sets]"
   ]
  },
  {
   "cell_type": "code",
   "execution_count": null,
   "metadata": {},
   "outputs": [],
   "source": [
    "L_treeminusnotree = 160*ave_across_splits(np.hstack([get_data(direc + 'loglik_' + d + '_final_notree.txt') - \n",
    "                                                 get_data(direc + 'loglik_' + d + '_final.txt')                               \n",
    "                                                 for d in data_sets])[:,None])\n",
    "plt.hist(L_treeminusnotree,50)\n",
    "plt.axvline(x=0,linestyle='dashed',color='black')\n",
    "plt.savefig('Tree-minus-notree.pdf')\n",
    "plt.show()\n",
    "print(L_treeminusnotree.shape)\n",
    "import scipy.stats as sts\n",
    "print(sts.ttest_1samp(L_treeminusnotree,popmean=0))"
   ]
  },
  {
   "cell_type": "code",
   "execution_count": null,
   "metadata": {},
   "outputs": [],
   "source": [
    "L_mainminusno2conn = ave_across_splits(np.hstack([get_data(direc + 'loglik_' + d + '_final_no2conn.txt') - \n",
    "                                                 get_data(direc + 'loglik_' + d + '_final.txt')                               \n",
    "                                                 for d in data_sets])[:,None])\n",
    "print(np.mean(L_mainminusno2conn),np.std(L_mainminusno2conn)/np.sqrt(L_mainminusno2conn.shape[0]))"
   ]
  },
  {
   "cell_type": "code",
   "execution_count": null,
   "metadata": {},
   "outputs": [],
   "source": [
    "x=np.reshape(L_treeminusnotree[90:-90]/160,[30,5])\n",
    "plt.plot(x.T,'.-',color='gray')\n",
    "plt.errorbar(range(5),np.mean(x,axis=0),np.std(x,axis=0)/np.sqrt(30),color='black')\n",
    "plt.show()"
   ]
  },
  {
   "cell_type": "code",
   "execution_count": null,
   "metadata": {},
   "outputs": [],
   "source": [
    "np.array(loglik_all).shape"
   ]
  },
  {
   "cell_type": "code",
   "execution_count": null,
   "metadata": {},
   "outputs": [],
   "source": [
    "loglik_big = [np.hstack([ave_across_splits(get_data(direc + 'loglik_' + d + '_'+ m +'.txt')) \n",
    "                                      for d in data_sets]) for m in models]\n",
    "loglik_sem = [np.nanstd(l)/np.sqrt(330) for l in loglik_big]"
   ]
  },
  {
   "cell_type": "code",
   "execution_count": null,
   "metadata": {},
   "outputs": [],
   "source": [
    "fig, ax = plt.subplots()\n",
    "\n",
    "loglik_main = -np.mean(loglik[0,:])\n",
    "loglik_diff = -np.mean(loglik,axis=1) - loglik_main\n",
    "\n",
    "ax.set_ylim([0.5,len(model_names)+0.5])\n",
    "ax.set_xlim([-2.3,-1.9])\n",
    "ax.set_yticks(range(len(model_names),0,-1))\n",
    "ax.set_yticklabels(model_names)\n",
    "ax.barh(range(len(model_names),0,-1), loglik_diff, xerr = loglik_sem, height = 0.7, align='center',\n",
    "     color=model_colors, ecolor='black', left=loglik_main)\n",
    "ax.plot(loglik_main,len(model_names),'.k')\n",
    "ax.axvline(x=loglik_main, color='black')\n",
    "ax.axhline(y=22.5, color='black', linestyle = 'dashed')\n",
    "ax.axhline(y=17.5, color='black', linestyle = 'dashed')\n",
    "ax.axhline(y=12.5, color='black', linestyle = 'dashed')\n",
    "ax.axhline(y=6.5, color='black', linestyle = 'dashed')\n",
    "ax.axhline(y=1.5, color='black', linestyle = 'dashed')\n",
    "ax.yaxis.tick_right()\n",
    "ax.spines['left'].set_visible(False)\n",
    "ax.spines['top'].set_visible(False)\n",
    "ax.set_xlim([-2.8,-1.7])\n",
    "ax.text(-2.8,23, 'Lesions: features', ha ='left', va='bottom')\n",
    "ax.text(-2.8,18, 'Lesions: components', ha ='left', va='bottom')\n",
    "ax.text(-2.8,13, 'Modifications', ha ='left', va='bottom')\n",
    "ax.text(-2.8,7, 'Extensions', ha ='left', va='bottom')\n",
    "ax.text(-2.8,2, 'Controls', ha ='left', va='bottom')\n",
    "ax.text(0, 0.95, 'A', horizontalalignment='left',\n",
    "        verticalalignment='center', transform=fig.transFigure, fontsize = 20)\n",
    "\n",
    "fig.tight_layout()\n",
    "fig.savefig(fig_direc + 'loglik_rep_A.png')\n",
    "plt.show()\n"
   ]
  },
  {
   "cell_type": "code",
   "execution_count": null,
   "metadata": {},
   "outputs": [],
   "source": [
    "letters = ['B','C','D','E','F','G','H','I','J','K','L']\n",
    "\n",
    "for i,letter in enumerate(letters):\n",
    "    fig, ax = plt.subplots()\n",
    "    \n",
    "    loglik_main = -loglik[0,i]\n",
    "    loglik_diff = -loglik[:,i] - loglik_main\n",
    "\n",
    "    ax.set_ylim([0.5,len(model_names)+0.5])\n",
    "    ax.set_yticks(range(len(model_names),0,-1))\n",
    "    ax.set_yticklabels(model_names)\n",
    "    ax.barh(range(len(model_names),0,-1), loglik_diff, height = 0.7, align='center',\n",
    "         color=model_colors, ecolor='black', left=loglik_main)\n",
    "    ax.plot(loglik_main,len(model_names),'.k')\n",
    "    ax.axvline(x=loglik_main, color='black')\n",
    "    ax.axhline(y=22.5, color='black', linestyle = 'dashed')\n",
    "    ax.axhline(y=17.5, color='black', linestyle = 'dashed')\n",
    "    ax.axhline(y=12.5, color='black', linestyle = 'dashed')\n",
    "    ax.axhline(y=6.5, color='black', linestyle = 'dashed')\n",
    "    ax.axhline(y=1.5, color='black', linestyle = 'dashed')\n",
    "    ax.yaxis.tick_right()\n",
    "    ax.spines['left'].set_visible(False)\n",
    "    ax.spines['top'].set_visible(False)\n",
    "    ax.set_xlim([-2.8,-1.7])\n",
    "    ax.text(-2.8,23, 'Lesions: features', ha ='left', va='bottom')\n",
    "    ax.text(-2.8,18, 'Lesions: components', ha ='left', va='bottom')\n",
    "    ax.text(-2.8,13, 'Modifications', ha ='left', va='bottom')\n",
    "    ax.text(-2.8,7, 'Extensions', ha ='left', va='bottom')\n",
    "    ax.text(-2.8,2, 'Controls', ha ='left', va='bottom')\n",
    "    ax.text(0, 0.95, letter, horizontalalignment='left',\n",
    "            verticalalignment='center', transform=fig.transFigure, fontsize = 20)\n",
    "    fig.tight_layout()\n",
    "    fig.savefig(fig_direc + 'loglik_rep_' + letter + '.png')\n",
    "    plt.show()\n"
   ]
  },
  {
   "cell_type": "code",
   "execution_count": null,
   "metadata": {},
   "outputs": [],
   "source": [
    "c = np.array([[stats.spearmanr(loglik[:,i],loglik[:,j],nan_policy='omit').correlation \n",
    "               for i in range(loglik.shape[1])] for j in range(loglik.shape[1])])\n",
    "\n",
    "data_names= ['Human-vs-human','Generalization','Eye tracking','Learning session 1',\n",
    "             'Learning session 2','Learning session 3','Learning session 4','Learning session 5',\n",
    "             'Time pressure 5-second','Time pressure 10-second','Time pressure 20-second']\n",
    "\n"
   ]
  },
  {
   "cell_type": "code",
   "execution_count": null,
   "metadata": {},
   "outputs": [],
   "source": [
    "fig, ax = plt.subplots()\n",
    "\n",
    "cax = ax.imshow(c,interpolation='nearest',cmap='Reds',vmin=0,vmax=1)\n",
    "\n",
    "ax.set_xticks(range(len(data_names)))\n",
    "ax.set_yticks(range(len(data_names)))\n",
    "ax.set_yticklabels(data_names)\n",
    "ax.set_xticklabels(data_names,rotation=60,ha='right')\n",
    "cbar = fig.colorbar(cax, ticks=[0, 0.5, 1])\n",
    "fig.tight_layout()\n",
    "ax.text(0.2, 0.9, 'A', horizontalalignment='left',\n",
    "        verticalalignment='center', transform=fig.transFigure, fontsize = 20)\n",
    "fig.savefig(fig_direc + 'loglik_corr_A.pdf')\n",
    "plt.show()\n",
    "\n",
    "print(np.mean(c[np.triu_indices(11,1)]),np.std(c[np.triu_indices(11,1)])/np.sqrt(10*11/2))"
   ]
  },
  {
   "cell_type": "code",
   "execution_count": null,
   "metadata": {},
   "outputs": [],
   "source": [
    "color_names = ['','#E5711E','#E6AC27','#B1D7DB','#7AB6B0','#4C8F7D','#2A654A',\n",
    "               '#11321E','#FFAC9A','#F85D5F','#9B1A30']    \n",
    "    \n",
    "fig, ax = plt.subplots(figsize=(8,6))\n",
    "for i in range(1,len(data_names)):\n",
    "    ax.plot(-loglik[:,0],-loglik[:,i],'.',label=data_names[i],color = color_names[i],markersize =8)\n",
    "    \n",
    "ax.set_xlim([-2.8,-1.9])\n",
    "ax.set_ylim([-3,-1.6])\n",
    "ax.set_xlabel('Log-likelihood on \\nhuman-vs-human data',fontsize = 20)\n",
    "ax.set_ylabel('Log-likelihood on \\nhuman-vs-computer data',fontsize = 20)\n",
    "#ax.text(0.02, 0.9, 'B', horizontalalignment='left',\n",
    "#        verticalalignment='center', transform=fig.transFigure, fontsize = 20)\n",
    "ax.spines['top'].set_visible(False)\n",
    "ax.spines['right'].set_visible(False)\n",
    "\n",
    "plt.legend(frameon=False,fontsize = 14)\n",
    "\n",
    "fig.tight_layout()\n",
    "fig.savefig(fig_direc + 'loglik_corr_B.png')\n",
    "plt.show()\n"
   ]
  },
  {
   "cell_type": "code",
   "execution_count": null,
   "metadata": {},
   "outputs": [],
   "source": [
    "color_names = ['','#E5711E','#E6AC27','#B1D7DB','#7AB6B0','#4C8F7D','#2A654A',\n",
    "               '#11321E','#FFAC9A','#F85D5F','#9B1A30']    \n",
    "    \n",
    "fig, ax = plt.subplots(figsize=(8,6))\n",
    "for i in range(1,2):#len(data_names)):\n",
    "    ax.plot(-loglik[:,0],-loglik[:,i],'.',label=data_names[i],color = color_names[i],markersize =8)\n",
    "    \n",
    "ax.set_xlim([-2.8,-1.9])\n",
    "ax.set_ylim([-3,-1.6])\n",
    "ax.set_xlabel('Log-likelihood on \\nhuman-vs-human data',fontsize = 20)\n",
    "ax.set_ylabel('Log-likelihood on \\nhuman-vs-computer data',fontsize = 20)\n",
    "#ax.text(0.02, 0.9, 'B', horizontalalignment='left',\n",
    "#        verticalalignment='center', transform=fig.transFigure, fontsize = 20)\n",
    "ax.spines['top'].set_visible(False)\n",
    "ax.spines['right'].set_visible(False)\n",
    "\n",
    "#plt.legend(frameon=False)\n",
    "\n",
    "fig.tight_layout()\n",
    "fig.savefig(fig_direc + 'loglik_corr_generalization.png')\n",
    "plt.show()"
   ]
  },
  {
   "cell_type": "code",
   "execution_count": null,
   "metadata": {},
   "outputs": [],
   "source": [
    "fig, ax = plt.subplots()\n",
    "for i,col in enumerate(model_colors):\n",
    "    ax.plot(range(1,6),(loglik_learn[0,:]-loglik_learn[i,:]).T,'.-',color=col)\n",
    "ax.set_xlabel('Learning session')\n",
    "ax.set_ylabel('Log-likelihood difference with\\nmain model')\n",
    "ax.set_xticks(range(1,6))\n",
    "ax.text(0.02, 0.9, 'A', horizontalalignment='left',\n",
    "        verticalalignment='center', transform=fig.transFigure, fontsize = 20)\n",
    "ax.spines['top'].set_visible(False)\n",
    "ax.spines['right'].set_visible(False)\n",
    "fig.tight_layout()\n",
    "fig.savefig(fig_direc + 'loglik_learn_A.pdf')\n",
    "plt.show()"
   ]
  },
  {
   "cell_type": "code",
   "execution_count": null,
   "metadata": {},
   "outputs": [],
   "source": [
    "loglik_learn.shape"
   ]
  },
  {
   "cell_type": "code",
   "execution_count": null,
   "metadata": {},
   "outputs": [],
   "source": [
    "fig, ax = plt.subplots()\n",
    "for i,col in enumerate(model_colors):\n",
    "    ax.plot(range(1,6),(loglik_learn[i,0]-loglik_learn[i,:]).T,'.-',color=col)\n",
    "ax.set_xlabel('Learning session')\n",
    "ax.set_ylabel('Log-likelihood difference with\\nfirst session')\n",
    "ax.set_xticks(range(1,6))\n",
    "ax.text(0.02, 0.9, 'B', horizontalalignment='left',\n",
    "        verticalalignment='center', transform=fig.transFigure, fontsize = 20)\n",
    "ax.spines['top'].set_visible(False)\n",
    "ax.spines['right'].set_visible(False)\n",
    "\n",
    "fig.tight_layout()\n",
    "fig.savefig(fig_direc + 'loglik_learn_B.pdf')\n",
    "plt.show()"
   ]
  },
  {
   "cell_type": "code",
   "execution_count": null,
   "metadata": {},
   "outputs": [],
   "source": [
    "fig, ax = plt.subplots()\n",
    "for i,col in enumerate(model_colors):\n",
    "    ax.plot([5,10,20],(loglik_tai[0,:]-loglik_tai[i,:]).T,'.-',color=col)\n",
    "ax.set_xlabel('Time constraint (s)')\n",
    "ax.set_ylabel('Log-likelihood difference with\\nmain model')\n",
    "ax.set_xticks([5,10,20])\n",
    "ax.text(0.02, 0.9, 'C', horizontalalignment='left',\n",
    "        verticalalignment='center', transform=fig.transFigure, fontsize = 20)\n",
    "ax.spines['top'].set_visible(False)\n",
    "ax.spines['right'].set_visible(False)\n",
    "\n",
    "fig.tight_layout()\n",
    "fig.savefig(fig_direc + 'loglik_tai_A.pdf')\n",
    "plt.show()"
   ]
  },
  {
   "cell_type": "code",
   "execution_count": null,
   "metadata": {},
   "outputs": [],
   "source": [
    "fig, ax = plt.subplots()\n",
    "for i,col in enumerate(model_colors):\n",
    "    ax.plot([5,10,20],(loglik_tai[i,0]-loglik_tai[i,:]).T,'.-',color=col)\n",
    "ax.set_xlabel('Time constraint (s)')\n",
    "ax.set_ylabel('Log-likelihood difference with\\n5-second condition')\n",
    "ax.set_xticks([5,10,20])\n",
    "ax.text(0.02, 0.9, 'D', horizontalalignment='left',\n",
    "        verticalalignment='center', transform=fig.transFigure, fontsize = 20)\n",
    "ax.spines['top'].set_visible(False)\n",
    "ax.spines['right'].set_visible(False)\n",
    "\n",
    "fig.tight_layout()\n",
    "fig.savefig(fig_direc + 'loglik_tai_B.pdf')\n",
    "plt.show()"
   ]
  },
  {
   "cell_type": "code",
   "execution_count": null,
   "metadata": {},
   "outputs": [],
   "source": [
    "fig, ax = plt.subplots()\n",
    "ax.plot(range(1,6),(loglik_learn[0,:]-loglik_learn[4,:]),'.-')\n",
    "ax.set_xlabel('Learning session')\n",
    "ax.set_ylabel('Log-likelihood difference with main model')\n",
    "\n",
    "ax.set_xticks(range(1,6))\n",
    "fig.tight_layout()\n",
    "plt.show()"
   ]
  },
  {
   "cell_type": "code",
   "execution_count": null,
   "metadata": {},
   "outputs": [],
   "source": []
  },
  {
   "cell_type": "code",
   "execution_count": null,
   "metadata": {},
   "outputs": [],
   "source": []
  }
 ],
 "metadata": {
  "anaconda-cloud": {},
  "kernelspec": {
   "display_name": "Python 3",
   "language": "python",
   "name": "python3"
  },
  "language_info": {
   "codemirror_mode": {
    "name": "ipython",
    "version": 3
   },
   "file_extension": ".py",
   "mimetype": "text/x-python",
   "name": "python",
   "nbconvert_exporter": "python",
   "pygments_lexer": "ipython3",
   "version": "3.7.4"
  }
 },
 "nbformat": 4,
 "nbformat_minor": 1
}
