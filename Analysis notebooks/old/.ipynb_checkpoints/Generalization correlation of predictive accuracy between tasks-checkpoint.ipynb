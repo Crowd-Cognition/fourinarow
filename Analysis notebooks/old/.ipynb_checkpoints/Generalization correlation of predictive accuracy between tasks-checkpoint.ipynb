{
 "cells": [
  {
   "cell_type": "code",
   "execution_count": 17,
   "metadata": {
    "collapsed": true
   },
   "outputs": [],
   "source": [
    "import numpy as np\n",
    "import matplotlib.pyplot as plt\n",
    "\n",
    "direc = 'C:/Users/Bas/Google Drive/Bas Games/Analysis/Loglik/'\n",
    "models= ['final','final_noprune','final_nodelta','final_notree','final_noact','final_nocenter','final_no2conn','final_no2unc',\n",
    "         'final_no3','final_no4','final_nonoise','final_triangle','final_drop_hvd','final_drop_type','final_weight_hvd',\n",
    "         'final_drop_tile','final_fixed_depth','final_fixed_iters','final_fixed_branch','final_mcts_myopic','final_mcts_rand',\n",
    "         'final_optweights','convnet','optrand']\n",
    "n=np.bincount(np.loadtxt('C:/Users/Bas/Google Drive/Bas Games/Analysis/Human vs human/subject_group_hvh.txt')[:,0].astype(int))"
   ]
  },
  {
   "cell_type": "code",
   "execution_count": 7,
   "metadata": {},
   "outputs": [],
   "source": [
    "L=np.empty([200,24])\n",
    "for i in range(0,24):\n",
    "    filename = direc + 'loglik_hvh_' + models[i] + '.txt'\n",
    "    L[:,i]=np.loadtxt(filename)\n",
    "L=np.mean(np.reshape(L,[5,40,24]),axis=0)"
   ]
  },
  {
   "cell_type": "code",
   "execution_count": 114,
   "metadata": {
    "scrolled": false
   },
   "outputs": [],
   "source": [
    "np.savetxt('loglik_bas_models.txt',n.reshape(40,1)*L)"
   ]
  },
  {
   "cell_type": "code",
   "execution_count": 21,
   "metadata": {},
   "outputs": [
    {
     "data": {
      "text/plain": [
       "'optrand'"
      ]
     },
     "execution_count": 21,
     "metadata": {},
     "output_type": "execute_result"
    }
   ],
   "source": [
    "models[np.argmax(np.mean(n.reshape(40,1)*L,axis=0))]"
   ]
  },
  {
   "cell_type": "code",
   "execution_count": 58,
   "metadata": {},
   "outputs": [],
   "source": [
    "import numpy as np\n",
    "import matplotlib.pyplot as plt\n",
    "import scipy.stats as sp\n",
    "\n",
    "L=np.loadtxt('C:/Users/Bas/Google Drive/Bas Games/Analysis/Loglik/loglik_gen_final.txt')\n",
    "loglik=np.mean(np.reshape(np.mean(-L,axis=1),[5,40]),axis=0)\n",
    "A=np.loadtxt('C:/Users/Bas/Google Drive/Bas Games/Analysis/Generalization/accuracy_2afc_final.txt')\n",
    "C=np.loadtxt('C:/Users/Bas/Google Drive/Bas Games/Analysis/Generalization/correlation_eval_final.txt')\n",
    "np.savetxt('C:/Users/Bas/Google Drive/Bas Games/Analysis/Generalization/prediction_AI_2afc_eval.txt',np.column_stack([loglik,A,C]))"
   ]
  },
  {
   "cell_type": "code",
   "execution_count": 91,
   "metadata": {
    "scrolled": true
   },
   "outputs": [
    {
     "data": {
      "image/png": "[encoded data removed]",
      "text/plain": [
       "<matplotlib.figure.Figure at 0x15b7a9ae160>"
      ]
     },
     "metadata": {},
     "output_type": "display_data"
    }
   ],
   "source": [
    "plt.plot([sp.pearsonr(C,(1-i)*A+loglik*i)[0] for i in np.arange(0,1,0.01)])\n",
    "plt.show()"
   ]
  },
  {
   "cell_type": "code",
   "execution_count": 77,
   "metadata": {},
   "outputs": [
    {
     "data": {
      "text/plain": [
       "0.29045574072021973"
      ]
     },
     "execution_count": 77,
     "metadata": {},
     "output_type": "execute_result"
    }
   ],
   "source": [
    "sp.pearsonr(loglik,A+C)[0]"
   ]
  },
  {
   "cell_type": "code",
   "execution_count": 26,
   "metadata": {},
   "outputs": [],
   "source": [
    "import numpy as np\n",
    "import matplotlib.pyplot as plt\n",
    "import scipy.stats as sp\n",
    "\n",
    "T=np.loadtxt('C:/Users/Bas/Google Drive/Bas Games/Analysis/Learning/time_learn.txt')[:,[0,3]]\n"
   ]
  },
  {
   "cell_type": "code",
   "execution_count": 57,
   "metadata": {},
   "outputs": [],
   "source": [
    "np.savetxt('C:/Users/Bas/Google Drive/Bas Games/Analysis/Timed AI/time_hist_learn.txt',T[T[:,0]%5==1,1])"
   ]
  },
  {
   "cell_type": "code",
   "execution_count": 17,
   "metadata": {},
   "outputs": [
    {
     "data": {
      "text/plain": [
       "-13.033333333333335"
      ]
     },
     "execution_count": 17,
     "metadata": {},
     "output_type": "execute_result"
    }
   ],
   "source": [
    "-1.303333333333333499e+01"
   ]
  },
  {
   "cell_type": "code",
   "execution_count": 19,
   "metadata": {},
   "outputs": [
    {
     "data": {
      "text/plain": [
       "102.66666666666666"
      ]
     },
     "execution_count": 19,
     "metadata": {},
     "output_type": "execute_result"
    }
   ],
   "source": [
    "81.43333333--34.26666667+-13.033333333333335"
   ]
  },
  {
   "cell_type": "code",
   "execution_count": 52,
   "metadata": {},
   "outputs": [
    {
     "data": {
      "text/plain": [
       "(1333,)"
      ]
     },
     "execution_count": 52,
     "metadata": {},
     "output_type": "execute_result"
    }
   ],
   "source": [
    "np.histogram(T[T[:,0]%5==1,1],bins=np.arange(0,20000,15))[0].shape"
   ]
  },
  {
   "cell_type": "code",
   "execution_count": null,
   "metadata": {
    "collapsed": true
   },
   "outputs": [],
   "source": []
  }
 ],
 "metadata": {
  "anaconda-cloud": {},
  "kernelspec": {
   "display_name": "Python 3",
   "language": "python",
   "name": "python3"
  },
  "language_info": {
   "codemirror_mode": {
    "name": "ipython",
    "version": 3
   },
   "file_extension": ".py",
   "mimetype": "text/x-python",
   "name": "python",
   "nbconvert_exporter": "python",
   "pygments_lexer": "ipython3",
   "version": "3.7.4"
  }
 },
 "nbformat": 4,
 "nbformat_minor": 1
}
