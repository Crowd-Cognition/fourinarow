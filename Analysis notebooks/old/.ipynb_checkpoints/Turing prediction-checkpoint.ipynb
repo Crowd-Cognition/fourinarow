{
 "cells": [
  {
   "cell_type": "code",
   "execution_count": 1,
   "metadata": {
    "collapsed": true
   },
   "outputs": [],
   "source": [
    "import pandas as pd\n",
    "import matplotlib\n",
    "import matplotlib.pyplot as plt\n",
    "import numpy as np\n",
    "import scipy.stats as sts\n",
    "import os\n",
    "import scipy.optimize as opt\n",
    "import statsmodels.formula.api as sm\n",
    "from statsmodels.formula.api import ols\n",
    "from sklearn.metrics import confusion_matrix, classification_report \n",
    "import sklearn.linear_model as lin\n",
    "from statsmodels.tools import add_constant\n",
    "from matplotlib import rc,rcParams\n",
    "rcParams['font.sans-serif'] = \"Helvetica Neue LT Std\"\n",
    "rcParams['font.family'] = \"sans-serif\""
   ]
  },
  {
   "cell_type": "code",
   "execution_count": 2,
   "metadata": {
    "collapsed": true
   },
   "outputs": [],
   "source": [
    "# styling for figures\n",
    "#sns.set_style('white')\n",
    "#sns.set_context('paper')\n",
    "#sns.set_palette(sns.dark_palette('grey'))\n",
    "#matplotlib.rcParams['xtick.labelsize'] = 14\n",
    "#matplotlib.rcParams['ytick.labelsize'] = 14\n",
    "#matplotlib.rcParams['axes.labelsize'] = 16\n",
    "#matplotlib.rcParams['legend.fontsize'] = 14\n",
    "#matplotlib.rcParams['mathtext.fontset'] = 'custom'\n",
    "#matplotlib.rcParams['mathtext.rm'] = 'Bitstream Vera Sans'\n",
    "#matplotlib.rcParams['mathtext.default'] = 'rm'\n",
    "#matplotlib.rcParams['mathtext.it'] = 'Bitstream Vera Sans:italic'\n",
    "#matplotlib.rcParams['mathtext.bf'] = 'Bitstream Vera Sans:bold'\n",
    "#matplotlib.rcParams['xtick.direction'] = 'in'\n",
    "#matplotlib.rcParams['ytick.direction'] = 'in'\n",
    "#matplotlib.rcParams['xtick.major.size'] = 0\n",
    "#matplotlib.rcParams['ytick.major.size'] = 0\n",
    "\n",
    "bayes_ci = .95\n",
    "bmvs = lambda x: sts.bayes_mvs(x, alpha=bayes_ci)\n",
    "#%matplotlib inline\n",
    "direc = 'C:/Users/Bas/Google Drive/Bas Zahy Gianni - Games/Analysis/6_tur/Tur_yunqi (1)/'\n",
    "direc2 = 'C:/Users/Bas/Google Drive/Bas Games/Analysis/Turing/'\n",
    "fig_direc = 'C:/Users/Bas/Google Drive/Bas Zahy Gianni - Games/Manuscripts/Paper/Figures/'"
   ]
  },
  {
   "cell_type": "code",
   "execution_count": 3,
   "metadata": {
    "collapsed": true
   },
   "outputs": [],
   "source": [
    "movie_stats = pd.read_csv(direc + 'turing_movie_stats.csv')\n",
    "videoinfo = pd.read_csv(direc + 'videoInfo.csv')\n",
    "videoinfo = videoinfo[['id_data','length','length_b','length_w']]\n",
    "vidLength = videoinfo.length.tolist()\n",
    "# get average of Euclidean distances between points to measure scatteredness of the board\n",
    "bps = movie_stats.bp.tolist()\n",
    "wps = movie_stats.wp.tolist()"
   ]
  },
  {
   "cell_type": "code",
   "execution_count": 4,
   "metadata": {
    "collapsed": true
   },
   "outputs": [],
   "source": [
    "# not differentiating between players\n",
    "pos = dict()\n",
    "for i in range(len(movie_stats)):\n",
    "    pos[i] = []\n",
    "    for j in range(36):\n",
    "        if (bps[i][j]=='1') or (wps[i][j]=='1'):\n",
    "            pos[i].append(j)            "
   ]
  },
  {
   "cell_type": "code",
   "execution_count": 5,
   "metadata": {
    "collapsed": true
   },
   "outputs": [],
   "source": [
    "# differentiating between players\n",
    "pos_bp = dict()\n",
    "for i in range(len(movie_stats)):\n",
    "    pos_bp[i] = []\n",
    "    for j in range(36):\n",
    "        if (bps[i][j]=='1'):\n",
    "            pos_bp[i].append(j)            "
   ]
  },
  {
   "cell_type": "code",
   "execution_count": 6,
   "metadata": {
    "collapsed": true
   },
   "outputs": [],
   "source": [
    "pos_wp = dict()\n",
    "for i in range(len(movie_stats)):\n",
    "    pos_wp[i] = []\n",
    "    for j in range(36):\n",
    "        if (wps[i][j]=='1'):\n",
    "            pos_wp[i].append(j)            "
   ]
  },
  {
   "cell_type": "code",
   "execution_count": 7,
   "metadata": {
    "collapsed": true
   },
   "outputs": [],
   "source": [
    "pos_bygame = dict()\n",
    "c = 0\n",
    "for i in range(180):\n",
    "    pos_bygame[i]=[]\n",
    "    for j in range(1,vidLength[i]+1,1):\n",
    "        pos_bygame[i].append(list(set(pos[j])-set(pos[j-1]))[0])"
   ]
  },
  {
   "cell_type": "code",
   "execution_count": 8,
   "metadata": {
    "collapsed": true
   },
   "outputs": [],
   "source": [
    "pos_bygame_wp = dict()\n",
    "c = 0\n",
    "for i in range(180):\n",
    "    pos_bygame_wp[i]=[]\n",
    "    for j in range(1,vidLength[i]+1,1):\n",
    "        if (list(set(pos_wp[j])-set(pos_wp[j-1]))!=[]):\n",
    "            pos_bygame_wp[i].append(list(set(pos_wp[j])-set(pos_wp[j-1]))[0])"
   ]
  },
  {
   "cell_type": "code",
   "execution_count": 9,
   "metadata": {
    "collapsed": true
   },
   "outputs": [],
   "source": [
    "pos_bygame_bp = dict()\n",
    "c = 0\n",
    "for i in range(180):\n",
    "    pos_bygame_bp[i]=[]\n",
    "    for j in range(1,vidLength[i]+1,1):\n",
    "        if (list(set(pos_bp[j])-set(pos_bp[j-1]))!=[]):\n",
    "            pos_bygame_bp[i].append(list(set(pos_bp[j])-set(pos_bp[j-1]))[0])"
   ]
  },
  {
   "cell_type": "code",
   "execution_count": 10,
   "metadata": {
    "collapsed": true
   },
   "outputs": [],
   "source": [
    "# calculate pairwise Euclidean distances\n",
    "loc_dict = dict()\n",
    "loc_dict= {0:np.array((1,4)),1:np.array((2,4)),2:np.array((3,4)),3:np.array((4,4)),4:np.array((5,4)),\n",
    "          5:np.array((6,4)),6:np.array((7,4)),7:np.array((8,4)),8:np.array((9,4)),\n",
    "          9:np.array((9,3)),10:np.array((8,3)),11:np.array((7,3)),12:np.array((6,3)),13:np.array((5,3)),\n",
    "          14:np.array((4,3)),15:np.array((3,3)),16:np.array((2,3)),17:np.array((1,3)),18:np.array((1,2)),\n",
    "          19:np.array((2,2)),20:np.array((3,2)),21:np.array((4,2)),22:np.array((5,2)),23:np.array((6,2)),\n",
    "           24:np.array((7,2)),25:np.array((8,2)),26:np.array((9,2)),27:np.array((9,1)),28:np.array((8,1)),\n",
    "          29:np.array((7,1)),30:np.array((6,1)),31:np.array((5,1)),32:np.array((4,1)),33:np.array((3,1)),\n",
    "           34:np.array((2,1)),35:np.array((1,1))}"
   ]
  },
  {
   "cell_type": "code",
   "execution_count": 11,
   "metadata": {
    "collapsed": true
   },
   "outputs": [],
   "source": [
    "dist = dict()\n",
    "for i in range(180):\n",
    "    dist[i] = 0\n",
    "    n = len(pos_bygame[i])-1\n",
    "    for j in range(n):\n",
    "        dist[i] += np.linalg.norm(loc_dict[pos_bygame[i][j]] - loc_dict[pos_bygame[i][j+1]])"
   ]
  },
  {
   "cell_type": "code",
   "execution_count": 12,
   "metadata": {
    "collapsed": true
   },
   "outputs": [],
   "source": [
    "# get average Euclidean distance\n",
    "dist_ave = dict()\n",
    "for i in range(180):\n",
    "    n = len(pos_bygame[i])-1\n",
    "    dist_ave[i] = dist[i]/n if n>0 else 0"
   ]
  },
  {
   "cell_type": "code",
   "execution_count": 13,
   "metadata": {
    "collapsed": true
   },
   "outputs": [],
   "source": [
    "eucl_ave = pd.Series(dist_ave, name='ave_eucl')\n",
    "eucl_ave.index.name = 'id_data'\n",
    "eucl_ave.reset_index()\n",
    "eucl_ave= pd.DataFrame(eucl_ave)"
   ]
  },
  {
   "cell_type": "code",
   "execution_count": 14,
   "metadata": {
    "collapsed": true
   },
   "outputs": [],
   "source": [
    "# load all data"
   ]
  },
  {
   "cell_type": "code",
   "execution_count": 15,
   "metadata": {
    "collapsed": true
   },
   "outputs": [],
   "source": [
    "vid_stats = pd.ExcelFile(direc + 'turingQ_qn.xlsx').parse('stats')\n",
    "vid_stats['ave_eucl'] = eucl_ave\n",
    "board_err_log = pd.read_csv(direc + 'turing_boards_error_loglik.csv')\n",
    "board_err_log = board_err_log.groupby('game').mean().reset_index()\n",
    "vid_stats['loglik'] = -board_err_log['loglik']\n",
    "vid_stats['error_rate'] = board_err_log['is_error']\n",
    "tur = pd.read_csv(direc + 'turing_output.csv')\n",
    "for i,name in enumerate(tur.user_name.unique()):\n",
    "    vid_stats['choice_' + str(i)] = (tur.loc[tur['user_name']==name].sort_values('clip_id').reset_index()['choice']>50)\n",
    "vid_stats['win_length'] = vid_stats['win']*vid_stats['length']\n",
    "vid_stats = vid_stats.drop(['win info','total_pieces'], axis=1)\n",
    "vid_stats_norm = (vid_stats - vid_stats.mean()) / (vid_stats.std())\n",
    "vid_stats['correct'] = (vid_stats.category_reported==vid_stats.clip_type)\n"
   ]
  },
  {
   "cell_type": "code",
   "execution_count": 16,
   "metadata": {},
   "outputs": [
    {
     "data": {
      "image/png": "[encoded data removed]",
      "text/plain": [
       "<matplotlib.figure.Figure at 0x1471474b748>"
      ]
     },
     "metadata": {},
     "output_type": "display_data"
    },
    {
     "name": "stdout",
     "output_type": "stream",
     "text": [
      "0.1516300227445034 0.10678056593699946\n"
     ]
    }
   ],
   "source": [
    "movie_stats = pd.read_csv('C:/Users/Bas/Google Drive/Bas Games/Analysis/Turing/turing_movie_stats.txt',\n",
    "                          header=None,names=['id','n','bp','wp'],delimiter='\\t')\n",
    "x=[sum(movie_stats.groupby('id').n.transform(lambda x: x-min(x))==k) for k in range(1,36)]\n",
    "plt.plot(x,'.')\n",
    "plt.show()\n",
    "\n",
    "print(1/movie_stats.groupby('id').n.min().mean(),\n",
    "      1/(movie_stats.groupby('id').n.max()-movie_stats.groupby('id').n.min()).mean())\n",
    "\n"
   ]
  },
  {
   "cell_type": "code",
   "execution_count": 17,
   "metadata": {},
   "outputs": [
    {
     "data": {
      "image/png": "[encoded data removed]",
      "text/plain": [
       "<matplotlib.figure.Figure at 0x1471474bb00>"
      ]
     },
     "metadata": {},
     "output_type": "display_data"
    }
   ],
   "source": [
    "plt.plot([1-x/y for x,y in zip(x[1:],x[:-1])],'.')\n",
    "\n",
    "plt.show()"
   ]
  },
  {
   "cell_type": "code",
   "execution_count": 18,
   "metadata": {
    "collapsed": true
   },
   "outputs": [],
   "source": [
    "data=pd.read_csv(direc2 + 'turing_responses.txt', sep=',',header=0)\n",
    "data_resp=data.values[:,1:].astype(float)\n",
    "mean_percent_correct = np.mean(data_resp[:,3])"
   ]
  },
  {
   "cell_type": "code",
   "execution_count": 19,
   "metadata": {},
   "outputs": [
    {
     "data": {
      "text/html": [
       "<div>\n",
       "<style>\n",
       "    .dataframe thead tr:only-child th {\n",
       "        text-align: right;\n",
       "    }\n",
       "\n",
       "    .dataframe thead th {\n",
       "        text-align: left;\n",
       "    }\n",
       "\n",
       "    .dataframe tbody tr th {\n",
       "        vertical-align: top;\n",
       "    }\n",
       "</style>\n",
       "<table border=\"1\" class=\"dataframe\">\n",
       "  <thead>\n",
       "    <tr style=\"text-align: right;\">\n",
       "      <th></th>\n",
       "      <th>clip_type</th>\n",
       "      <th>clip_id</th>\n",
       "      <th>ave_eucl</th>\n",
       "      <th>length</th>\n",
       "      <th>block missed</th>\n",
       "      <th>win missed</th>\n",
       "      <th>error_rate</th>\n",
       "      <th>loglik</th>\n",
       "    </tr>\n",
       "  </thead>\n",
       "  <tbody>\n",
       "    <tr>\n",
       "      <th>0</th>\n",
       "      <td>-0.997218</td>\n",
       "      <td>-0.010236</td>\n",
       "      <td>0.031214</td>\n",
       "      <td>-0.174497</td>\n",
       "      <td>0.179468</td>\n",
       "      <td>0.076259</td>\n",
       "      <td>-0.015007</td>\n",
       "      <td>0.07301</td>\n",
       "    </tr>\n",
       "    <tr>\n",
       "      <th>1</th>\n",
       "      <td>0.997218</td>\n",
       "      <td>0.010236</td>\n",
       "      <td>-0.031214</td>\n",
       "      <td>0.174497</td>\n",
       "      <td>-0.179468</td>\n",
       "      <td>-0.076259</td>\n",
       "      <td>0.015007</td>\n",
       "      <td>-0.07301</td>\n",
       "    </tr>\n",
       "  </tbody>\n",
       "</table>\n",
       "</div>"
      ],
      "text/plain": [
       "   clip_type   clip_id  ave_eucl    length  block missed  win missed  \\\n",
       "0  -0.997218 -0.010236  0.031214 -0.174497      0.179468    0.076259   \n",
       "1   0.997218  0.010236 -0.031214  0.174497     -0.179468   -0.076259   \n",
       "\n",
       "   error_rate   loglik  \n",
       "0   -0.015007  0.07301  \n",
       "1    0.015007 -0.07301  "
      ]
     },
     "execution_count": 19,
     "metadata": {},
     "output_type": "execute_result"
    }
   ],
   "source": [
    "vid_stats_norm[['clip_id','ave_eucl','clip_type','length','block missed','win missed','error_rate','loglik']].groupby('clip_type').mean().reset_index()"
   ]
  },
  {
   "cell_type": "code",
   "execution_count": 20,
   "metadata": {},
   "outputs": [
    {
     "data": {
      "text/html": [
       "<div>\n",
       "<style>\n",
       "    .dataframe thead tr:only-child th {\n",
       "        text-align: right;\n",
       "    }\n",
       "\n",
       "    .dataframe thead th {\n",
       "        text-align: left;\n",
       "    }\n",
       "\n",
       "    .dataframe tbody tr th {\n",
       "        vertical-align: top;\n",
       "    }\n",
       "</style>\n",
       "<table border=\"1\" class=\"dataframe\">\n",
       "  <thead>\n",
       "    <tr style=\"text-align: right;\">\n",
       "      <th></th>\n",
       "      <th>category_reported</th>\n",
       "      <th>clip_id</th>\n",
       "      <th>ave_eucl</th>\n",
       "      <th>length</th>\n",
       "      <th>block missed</th>\n",
       "      <th>win missed</th>\n",
       "      <th>error_rate</th>\n",
       "      <th>loglik</th>\n",
       "    </tr>\n",
       "  </thead>\n",
       "  <tbody>\n",
       "    <tr>\n",
       "      <th>0</th>\n",
       "      <td>0</td>\n",
       "      <td>78.857143</td>\n",
       "      <td>2.329691</td>\n",
       "      <td>8.042857</td>\n",
       "      <td>0.514286</td>\n",
       "      <td>0.042857</td>\n",
       "      <td>0.174530</td>\n",
       "      <td>1.822527</td>\n",
       "    </tr>\n",
       "    <tr>\n",
       "      <th>1</th>\n",
       "      <td>1</td>\n",
       "      <td>96.272727</td>\n",
       "      <td>2.488960</td>\n",
       "      <td>10.572727</td>\n",
       "      <td>0.618182</td>\n",
       "      <td>0.054545</td>\n",
       "      <td>0.208353</td>\n",
       "      <td>1.797182</td>\n",
       "    </tr>\n",
       "  </tbody>\n",
       "</table>\n",
       "</div>"
      ],
      "text/plain": [
       "   category_reported    clip_id  ave_eucl     length  block missed  \\\n",
       "0                  0  78.857143  2.329691   8.042857      0.514286   \n",
       "1                  1  96.272727  2.488960  10.572727      0.618182   \n",
       "\n",
       "   win missed  error_rate    loglik  \n",
       "0    0.042857    0.174530  1.822527  \n",
       "1    0.054545    0.208353  1.797182  "
      ]
     },
     "execution_count": 20,
     "metadata": {},
     "output_type": "execute_result"
    }
   ],
   "source": [
    "vid_stats[['clip_id','ave_eucl','category_reported','length','block missed','win missed','error_rate','loglik']].groupby('category_reported').mean().reset_index()"
   ]
  },
  {
   "cell_type": "code",
   "execution_count": 21,
   "metadata": {
    "collapsed": true
   },
   "outputs": [],
   "source": [
    "def train_logistic(target,regressors,pred_name):\n",
    "    logit = sm.Logit(vid_stats[target], vid_stats_norm[regressors])\n",
    "    result=logit.fit(disp=0)\n",
    "    predictions = result.predict()\n",
    "    predictions_nominal = [ 0 if x < 0.5 else 1 for x in predictions]\n",
    "    vid_stats[pred_name] = predictions_nominal\n",
    "    #conf = result.conf_int()\n",
    "    #conf['OR'] = params\n",
    "    #conf.columns = ['2.5%', '97.5%', 'OR']\n",
    "    return result"
   ]
  },
  {
   "cell_type": "code",
   "execution_count": 22,
   "metadata": {
    "collapsed": true
   },
   "outputs": [],
   "source": [
    "train_cols = ['loglik','block missed','start_pieces','ave_eucl','win missed','error_rate','length']\n",
    "questions = [0,1,4,6,7,8]\n",
    "\n",
    "result = train_logistic('clip_type',train_cols,'true_pred')\n",
    "beta_correct = np.array(result.params)\n",
    "conf_correct = np.array(result.conf_int())\n",
    "\n",
    "results = [train_logistic('choice_' + str(i),train_cols,'report_pred_' + str(i)) for i in range(30)]\n",
    "beta_choice = np.array([r.params for r in results])\n",
    "\n",
    "#print(result.summary())\n",
    "#print np.exp(result.params)\n",
    "#print np.exp(conf)\n",
    "#print(predictions_nominal)\n",
    "#print(confusion_matrix(vid_stats['clip_type'], predictions_nominal))\n",
    "#print(classification_report(vid_stats['clip_type'], predictions_nominal, digits=3))\n"
   ]
  },
  {
   "cell_type": "code",
   "execution_count": 23,
   "metadata": {},
   "outputs": [
    {
     "name": "stdout",
     "output_type": "stream",
     "text": [
      "loglik -0.0890939272463 ± 0.0627001523835\n",
      "block missed -0.262906818185 ± 0.0456680967194\n",
      "start_pieces 0.0993175214623 ± 0.0291864884467\n",
      "ave_eucl -0.0466352424706 ± 0.0329909881369\n",
      "win missed -0.114240183673 ± 0.0274443384949\n",
      "error_rate 0.0499871886597 ± 0.0250944559375\n",
      "length 0.326740113175 ± 0.0652274995461\n"
     ]
    },
    {
     "name": "stderr",
     "output_type": "stream",
     "text": [
      "C:\\Users\\Bas\\Anaconda3\\lib\\site-packages\\matplotlib\\backends\\backend_pdf.py:1121: UserWarning: 'HelveticaNeueLTStd-Ex_0.otf' can not be subsetted into a Type 3 font. The entire font will be embedded in the output.\n",
      "  warnings.warn(msg % os.path.basename(filename))\n"
     ]
    },
    {
     "data": {
      "image/png": "[encoded data removed]",
      "text/plain": [
       "<matplotlib.figure.Figure at 0x14714a2f518>"
      ]
     },
     "metadata": {},
     "output_type": "display_data"
    },
    {
     "name": "stdout",
     "output_type": "stream",
     "text": [
      "SpearmanrResult(correlation=0.85714285714285732, pvalue=0.01369732661532562)\n"
     ]
    }
   ],
   "source": [
    "for i,col in enumerate(train_cols):\n",
    "    #print(col,np.mean(beta_choice[:,i]),np.std(beta_choice[:,i])/np.sqrt(30),\n",
    "    #      'p:',sts.ttest_1samp(beta_choice[:,i],popmean=0).pvalue,\n",
    "    #      beta_correct[i],conf_correct[i])\n",
    "    print(col,np.mean(beta_choice[:,i]),\"±\",np.std(beta_choice[:,i])/np.sqrt(30))\n",
    "    \n",
    "fig,ax=plt.subplots()\n",
    "ax.set_xlabel('Regression coefficients predicting\\noberver judgments')\n",
    "ax.set_ylabel('Regression coefficients predicting\\ntrue type')\n",
    "ax.errorbar(x=np.mean(beta_choice,axis=0),y=beta_correct,\n",
    "             xerr=np.std(beta_choice,axis=0)/np.sqrt(30),\n",
    "             yerr=[conf_correct[:,0]-beta_correct,beta_correct-conf_correct[:,1]],fmt='o')\n",
    "ax.spines['top'].set_visible(False)\n",
    "ax.spines['right'].set_visible(False)\n",
    "ax.text(0.02, 0.95, 'A', horizontalalignment='left',\n",
    "    verticalalignment='center', transform=fig.transFigure, fontsize = 20)\n",
    "ax.plot([-0.5,0.5],[-0.5,0.5],'k',linestyle='dashed')\n",
    "ax.set_xlim([-0.5,0.5])\n",
    "ax.set_ylim([-1,1])\n",
    "fig.tight_layout()\n",
    "plt.savefig(fig_direc + 'turing_regress_betas_A.pdf')\n",
    "plt.show()\n",
    "\n",
    "print(sts.spearmanr(np.mean(beta_choice,axis=0),beta_correct))"
   ]
  },
  {
   "cell_type": "code",
   "execution_count": 24,
   "metadata": {},
   "outputs": [
    {
     "name": "stderr",
     "output_type": "stream",
     "text": [
      "C:\\Users\\Bas\\Anaconda3\\lib\\site-packages\\matplotlib\\backends\\backend_pdf.py:1121: UserWarning: 'HelveticaNeueLTStd-Ex_0.otf' can not be subsetted into a Type 3 font. The entire font will be embedded in the output.\n",
      "  warnings.warn(msg % os.path.basename(filename))\n"
     ]
    },
    {
     "data": {
      "image/png": "[encoded data removed]",
      "text/plain": [
       "<matplotlib.figure.Figure at 0x14711700c18>"
      ]
     },
     "metadata": {},
     "output_type": "display_data"
    },
    {
     "name": "stdout",
     "output_type": "stream",
     "text": [
      "SpearmanrResult(correlation=0.82857142857142874, pvalue=0.041562682215743343)\n"
     ]
    }
   ],
   "source": [
    "turingQ = pd.read_csv(direc+'turingQ.csv')\n",
    "self_report = [turingQ['q'+str(i)]/50-1 for i in questions]\n",
    "self_report_mean = [s.mean() for s in self_report]\n",
    "self_report_sem = [s.std()/np.sqrt(29) for s in self_report]\n",
    "\n",
    "fig,ax=plt.subplots()\n",
    "ax.set_xlabel('Regression coefficients predicting\\noberver judgments')\n",
    "ax.set_ylabel('Self-reported feature use')\n",
    "ax.errorbar(x=np.mean(beta_choice,axis=0)[:-1],y=self_report_mean,\n",
    "             xerr=np.std(beta_choice,axis=0)[:-1]/np.sqrt(30),\n",
    "             yerr=self_report_sem,fmt='o')\n",
    "ax.text(0.02, 0.95, 'B', horizontalalignment='left',\n",
    "    verticalalignment='center', transform=fig.transFigure, fontsize = 20)\n",
    "ax.spines['top'].set_visible(False)\n",
    "ax.spines['right'].set_visible(False)\n",
    "#ax.plot([-0.5,0.5],[-0.5,0.5],linestyle='dashed')\n",
    "ax.set_xlim([-0.4,0.3])\n",
    "ax.set_ylim([-0.6,0.1])\n",
    "fig.tight_layout()\n",
    "plt.savefig(fig_direc + 'turing_regress_betas_B.pdf')\n",
    "plt.show()\n",
    "\n",
    "print(sts.spearmanr(np.mean(beta_choice,axis=0)[:-1],self_report_mean))"
   ]
  },
  {
   "cell_type": "code",
   "execution_count": 25,
   "metadata": {},
   "outputs": [
    {
     "name": "stdout",
     "output_type": "stream",
     "text": [
      "0.619074074074 0.00955341396233\n"
     ]
    }
   ],
   "source": [
    "percent_correct = [(vid_stats['report_pred_' + str(i)]==vid_stats['choice_' + str(i)]).mean() for i in range(30)]\n",
    "print(np.mean(percent_correct),np.std(percent_correct)/np.sqrt(30))"
   ]
  },
  {
   "cell_type": "code",
   "execution_count": 26,
   "metadata": {},
   "outputs": [
    {
     "data": {
      "text/plain": [
       "[-0.2275862068933333,\n",
       " -0.3827586206866667,\n",
       " -0.12413793103333334,\n",
       " -0.2310344827600001,\n",
       " -0.4103448275866667,\n",
       " -0.11724137931333335]"
      ]
     },
     "execution_count": 26,
     "metadata": {},
     "output_type": "execute_result"
    }
   ],
   "source": [
    "self_report_mean"
   ]
  },
  {
   "cell_type": "code",
   "execution_count": 27,
   "metadata": {
    "collapsed": true
   },
   "outputs": [],
   "source": [
    "conf=np.abs(data_resp[:,2]-50)\n",
    "clip=data_resp[:,0].astype(int)\n",
    "l=(np.bincount(clip,weights=data_resp[:,1])/30).astype(int)\n",
    "player = data.values[:,0]\n",
    "\n",
    "c=data_resp[:,3]\n",
    "c_ave=np.bincount(clip,weights=c)/np.bincount(clip)\n",
    "c_ave2=np.bincount(clip,weights=conf*c)/np.bincount(clip,weights=conf)\n",
    "A=np.vstack([c[clip==i][np.argsort(conf[clip==i])] for i in range(0,180)])\n",
    "c_ave3=np.mean(A[:,-5:],axis=1)\n",
    "c_class = np.array(vid_stats['true_pred']==vid_stats['clip_type'])"
   ]
  },
  {
   "cell_type": "code",
   "execution_count": 28,
   "metadata": {},
   "outputs": [
    {
     "name": "stdout",
     "output_type": "stream",
     "text": [
      "Optimization terminated successfully.\n",
      "         Current function value: 0.684525\n",
      "         Iterations 4\n",
      "[-0.03474381  1.10833864]\n",
      "[  5.07511978e-01   2.77711769e-08]\n"
     ]
    },
    {
     "name": "stderr",
     "output_type": "stream",
     "text": [
      "C:\\Users\\Bas\\Anaconda3\\lib\\site-packages\\matplotlib\\backends\\backend_pdf.py:1121: UserWarning: 'HelveticaNeueLTStd-Ex_0.otf' can not be subsetted into a Type 3 font. The entire font will be embedded in the output.\n",
      "  warnings.warn(msg % os.path.basename(filename))\n"
     ]
    },
    {
     "data": {
      "image/png": "[encoded data removed]",
      "text/plain": [
       "<matplotlib.figure.Figure at 0x14715c6bcf8>"
      ]
     },
     "metadata": {},
     "output_type": "display_data"
    }
   ],
   "source": [
    "n = np.bincount(conf.astype(int))\n",
    "m = 100*np.bincount(conf.astype(int),weights=c)/n\n",
    "e = np.sqrt(np.bincount(conf.astype(int),weights=(100*c)**2)/n-m**2)/np.sqrt(n)\n",
    "\n",
    "model = sm.Logit(c,add_constant(conf/100)).fit()\n",
    "print(model.params)\n",
    "print(model.pvalues)\n",
    "x = np.arange(0,50,0.1)\n",
    "y = 100*model.predict(exog=add_constant(x/100))\n",
    "\n",
    "beta1,beta2 = model.params\n",
    "\n",
    "fig,ax=plt.subplots()\n",
    "ax.set_xlabel('Confidence')\n",
    "ax.set_ylabel('Percent correctly classified')\n",
    "ax.set_ylim([30,80])\n",
    "ax.set_xlim([-1,51])\n",
    "ax.errorbar(range(51),m,yerr=e)\n",
    "ax.plot(x,y,'k--')\n",
    "ax.spines['top'].set_visible(False)\n",
    "ax.spines['right'].set_visible(False)\n",
    "\n",
    "fig.tight_layout()\n",
    "fig.savefig(fig_direc + 'turing_A.pdf')\n",
    "plt.show()"
   ]
  },
  {
   "cell_type": "code",
   "execution_count": null,
   "metadata": {
    "collapsed": true
   },
   "outputs": [],
   "source": []
  },
  {
   "cell_type": "code",
   "execution_count": 29,
   "metadata": {},
   "outputs": [
    {
     "name": "stdout",
     "output_type": "stream",
     "text": [
      "Intercept    0.491985\n",
      "conf         0.002717\n",
      "dtype: float64\n",
      "Intercept    4.571448e-281\n",
      "conf          2.497202e-08\n",
      "dtype: float64\n"
     ]
    }
   ],
   "source": [
    "model = ols(\"y ~ conf\", pd.DataFrame({'conf':conf,'y':c})).fit()\n",
    "print(model.params)\n",
    "print(model.pvalues)"
   ]
  },
  {
   "cell_type": "code",
   "execution_count": null,
   "metadata": {
    "collapsed": true
   },
   "outputs": [],
   "source": []
  },
  {
   "cell_type": "code",
   "execution_count": 30,
   "metadata": {},
   "outputs": [
    {
     "name": "stderr",
     "output_type": "stream",
     "text": [
      "C:\\Users\\Bas\\Anaconda3\\lib\\site-packages\\matplotlib\\backends\\backend_pdf.py:1121: UserWarning: 'HelveticaNeueLTStd-Ex_0.otf' can not be subsetted into a Type 3 font. The entire font will be embedded in the output.\n",
      "  warnings.warn(msg % os.path.basename(filename))\n"
     ]
    },
    {
     "data": {
      "image/png": "[encoded data removed]",
      "text/plain": [
       "<matplotlib.figure.Figure at 0x14715c61860>"
      ]
     },
     "metadata": {},
     "output_type": "display_data"
    },
    {
     "data": {
      "image/png": "[encoded data removed]",
      "text/plain": [
       "<matplotlib.figure.Figure at 0x147149312e8>"
      ]
     },
     "metadata": {},
     "output_type": "display_data"
    }
   ],
   "source": [
    "observer_accuracy = data.groupby('user_name').mean()['feedback'].values\n",
    "clip_ncorrect = data.groupby('clip_id').sum()['feedback'].values\n",
    "\n",
    "fig,ax=plt.subplots()\n",
    "ax.set_xlabel('Percentage of videos correctly classified by observer')\n",
    "ax.set_ylabel('Number of observers')\n",
    "binsize=0.025\n",
    "ax.bar(left=100*np.arange(0,1,binsize),height=np.histogram(observer_accuracy,\n",
    "         bins=np.arange(0,1+binsize,binsize),normed=False)[0],width=100*binsize)\n",
    "ax.spines['top'].set_visible(False)\n",
    "ax.spines['right'].set_visible(False)\n",
    "ax.text(0.02, 0.9, 'A', horizontalalignment='left',\n",
    "    verticalalignment='center', transform=fig.transFigure, fontsize = 20)\n",
    "\n",
    "bins=np.arange(0,181,1)\n",
    "ax.plot(100*bins/180,binsize*180*30*sts.binom.pmf(bins,180,mean_percent_correct),color='black')\n",
    "fig.tight_layout()\n",
    "fig.savefig(fig_direc + 'histo_turing_A.pdf')\n",
    "plt.show()\n",
    "\n",
    "fig,ax=plt.subplots()\n",
    "ax.set_xlabel('Percentage of observers correctly classifying video')\n",
    "ax.set_ylabel('Number of videos')\n",
    "ax.bar(left=100*np.arange(0,30,1)/30,height=np.histogram(clip_ncorrect,\n",
    "         bins=np.arange(0,31,1),normed=False)[0],width=100/30)\n",
    "ax.spines['top'].set_visible(False)\n",
    "ax.spines['right'].set_visible(False)\n",
    "ax.text(0.02, 0.9, 'B', horizontalalignment='left',\n",
    "    verticalalignment='center', transform=fig.transFigure, fontsize = 20)\n",
    "ax.set_ylim([0,30])\n",
    "ax.set_yticks(np.arange(0,30,5))\n",
    "bins=np.arange(0,31,1)\n",
    "ax.plot(100*bins/30,180*sts.binom.pmf(bins,30,mean_percent_correct),color='black')\n",
    "fig.tight_layout()\n",
    "fig.savefig(fig_direc + 'histo_turing_B.pdf')\n",
    "plt.show()\n",
    "\n",
    "\n"
   ]
  },
  {
   "cell_type": "code",
   "execution_count": 31,
   "metadata": {},
   "outputs": [
    {
     "name": "stdout",
     "output_type": "stream",
     "text": [
      "55.3518518519 0.89061689034 52.9166666667 59.3055555556\n"
     ]
    }
   ],
   "source": [
    "print(100*np.mean(observer_accuracy),100*np.std(observer_accuracy)/np.sqrt(np.prod(observer_accuracy.shape)),\n",
    "     100*np.percentile(observer_accuracy,25),100*np.percentile(observer_accuracy,75))"
   ]
  },
  {
   "cell_type": "code",
   "execution_count": 32,
   "metadata": {},
   "outputs": [
    {
     "data": {
      "image/png": "[encoded data removed]",
      "text/plain": [
       "<matplotlib.figure.Figure at 0x14715d12470>"
      ]
     },
     "metadata": {},
     "output_type": "display_data"
    },
    {
     "name": "stdout",
     "output_type": "stream",
     "text": [
      "0.148326652034 0.0116609935523\n"
     ]
    }
   ],
   "source": [
    "from sklearn.cluster import dbscan\n",
    "response_clip_observer = np.reshape(data.sort_values(['user_name','clip_id'])\n",
    "                                    .values[:,3].astype('float'),[30,180])\n",
    "M = np.corrcoef(response_clip_observer)\n",
    "\n",
    "fig,ax=plt.subplots()\n",
    "ax.imshow(M,vmin=-1,vmax=1,cmap='bwr',interpolation='nearest')\n",
    "\n",
    "plt.show()\n",
    "rho = np.corrcoef(response_clip_observer)[np.triu_indices(30)]\n",
    "\n",
    "print(np.mean(rho),np.std(rho)/np.sqrt(np.prod(rho.shape)))"
   ]
  },
  {
   "cell_type": "code",
   "execution_count": 36,
   "metadata": {},
   "outputs": [],
   "source": [
    "#def f(n):\n",
    "#    return (n*(n-1) + (30-n)*(29-n))/30/29\n",
    "#np.mean([f(n) for n in np.sum(feedback_clip_observer,axis=0)])"
   ]
  },
  {
   "cell_type": "code",
   "execution_count": 34,
   "metadata": {
    "collapsed": true
   },
   "outputs": [],
   "source": [
    "def f(info,c):\n",
    "    return np.sum([np.log(1+np.exp(-ll*info)) if cc==1 else np.log(1+np.exp(ll*info)) \n",
    "               for ll,cc in zip(l,c>0.5)])\n",
    "\n",
    "def get_ihat(c):\n",
    "    i=np.arange(-0.1,0.1,0.0001)\n",
    "    return i[np.argmin([f(x,c) for x in i])]\n",
    "    \n",
    "lsort=np.sort(l)\n",
    "ihat = [get_ihat(cc) for cc in [c_ave,c_ave2,c_ave3,c_class]]"
   ]
  },
  {
   "cell_type": "code",
   "execution_count": 61,
   "metadata": {},
   "outputs": [
    {
     "name": "stderr",
     "output_type": "stream",
     "text": [
      "C:\\Users\\Bas\\Anaconda3\\lib\\site-packages\\matplotlib\\backends\\backend_pdf.py:1121: UserWarning: 'HelveticaNeueLTStd-Ex_0.otf' can not be subsetted into a Type 3 font. The entire font will be embedded in the output.\n",
      "  warnings.warn(msg % os.path.basename(filename))\n"
     ]
    },
    {
     "data": {
      "image/png": "[encoded data removed]",
      "text/plain": [
       "<matplotlib.figure.Figure at 0x147160207f0>"
      ]
     },
     "metadata": {},
     "output_type": "display_data"
    },
    {
     "name": "stdout",
     "output_type": "stream",
     "text": [
      "[0.040100000000003994, 0.045800000000004171, 0.048900000000004246, 0.055400000000004446]\n"
     ]
    }
   ],
   "source": [
    "fig,ax=plt.subplots()\n",
    "ax.set_xlabel('Video length')\n",
    "ax.set_ylabel('Percent correctly classified')\n",
    "for i,cc,color,label in zip(ihat,[c_ave,c_ave2,c_ave3,c_class],['lightcoral','red','maroon','gray'],\n",
    "                      ['Majority rule','Confidence-weighted majority','Top-5 most-confident','Classifier']):\n",
    "    csort=cc[np.argsort(l)]>0.5\n",
    "    ax.plot(range(1,36),[100*np.mean(csort[lsort<=n][-15:]) for n in range(1,36)],'.-',linewidth=1,color=color)\n",
    "    ax.plot([100/(1+np.exp(-n*i)) for n in range(0,36)],color = color,label = label)    \n",
    "ax.spines['top'].set_visible(False)\n",
    "ax.spines['right'].set_visible(False)\n",
    "ax.axhline(50,linestyle='dashed',color='black')\n",
    "ax.legend(frameon=False)\n",
    "fig.tight_layout()\n",
    "fig.savefig(fig_direc + 'turing_psycho.pdf')\n",
    "plt.show()\n",
    "    \n",
    "print(ihat)"
   ]
  },
  {
   "cell_type": "code",
   "execution_count": null,
   "metadata": {
    "collapsed": true
   },
   "outputs": [],
   "source": [
    "list(zip(np.mean(beta_choice,axis=1),beta_correct,self_report_mean))"
   ]
  },
  {
   "cell_type": "code",
   "execution_count": null,
   "metadata": {
    "collapsed": true
   },
   "outputs": [],
   "source": [
    "tur['reported_weighted'] = 2*(tur.human-0.5) * tur.delta_c / 100\n",
    "tur_vid = tur.groupby('clip_id').mean().reset_index()\n",
    "vid_stats['reported_weighted'] = tur_vid['reported_weighted']\n",
    "vid_stats['correct_weighted'] = (((vid_stats.reported_weighted<0) & (vid_stats.clip_type==0)) | ((vid_stats.reported_weighted>=0) & (vid_stats.clip_type==1)))\n",
    "vid_stats_len = vid_stats.groupby('length').mean().reset_index()\n",
    "tur_l = tur.groupby('length').mean().reset_index()"
   ]
  },
  {
   "cell_type": "code",
   "execution_count": null,
   "metadata": {
    "collapsed": true
   },
   "outputs": [],
   "source": []
  },
  {
   "cell_type": "code",
   "execution_count": null,
   "metadata": {
    "collapsed": true
   },
   "outputs": [],
   "source": [
    "vid_stats.correct_weighted.mean()"
   ]
  },
  {
   "cell_type": "code",
   "execution_count": null,
   "metadata": {
    "collapsed": true
   },
   "outputs": [],
   "source": [
    "print((vid_stats['category_reported']==vid_stats['clip_type']).mean())"
   ]
  },
  {
   "cell_type": "code",
   "execution_count": null,
   "metadata": {
    "collapsed": true
   },
   "outputs": [],
   "source": [
    "# figure of true type predicted vs length, and reported type vs length\n",
    "\n",
    "fig, axes = plt.subplots(1, 1, figsize=(15,8))\n",
    "\n",
    "plt.plot(tur_l['length'], tur_l['feedback'], color='red',label='Average')\n",
    "plt.plot(vid_stats_len['length'],vid_stats_len['correct_weighted'],color='g',label='Weighted Average by Confidence')\n",
    "plt.plot(vid_stats_len['length'],vid_stats_len['true_pred'],color='b',label='Optimal')\n",
    "\n",
    "plt.setp(\n",
    "    axes, \n",
    "    xlabel='Video Length', ylabel='Percentage correct'\n",
    ")\n",
    "\n",
    "plt.legend()\n",
    "\n",
    "sns.despine()"
   ]
  },
  {
   "cell_type": "code",
   "execution_count": null,
   "metadata": {
    "collapsed": true
   },
   "outputs": [],
   "source": [
    "# figure of true type predicted vs length, and reported type vs length\n",
    "fig, axes = plt.subplots(1, 1, figsize=(10,6))\n",
    "\n",
    "plt.plot(vid_stats_len['length'],vid_stats_len['reported_pred'],color='r')\n",
    "\n",
    "plt.setp(\n",
    "    axes, \n",
    "    xlabel='Video Length', ylabel='Percentage correct'\n",
    ")\n",
    "\n",
    "sns.despine()"
   ]
  },
  {
   "cell_type": "code",
   "execution_count": null,
   "metadata": {
    "collapsed": true
   },
   "outputs": [],
   "source": [
    "# sig correaltion between reporting human and whether there is a block missed\n",
    "# not for percentage correct\n",
    "# less sig for \n",
    "\n",
    "\n",
    "vidstat_type = dict()\n",
    "for i in range(0,2,1):\n",
    "    vidstat_type[i] = vid_stats.loc[vid_stats['block missed']==i]\n",
    "y = [np.mean(vidstat_type[i]['human']) for i in range(0,2,1)]\n",
    "yerr = [np.std(vidstat_type[i]['human'])/np.sqrt(30) for i in range(0,2,1)]\n",
    "types=[0,1]\n",
    "axes.errorbar(types, y, yerr,alpha=0.6)\n",
    "\n",
    "slope, intercept, r_value, p_value, std_err = sts.linregress(vid_stats['block missed'], vid_stats['human'])\n",
    "print(slope,r_value,p_value)\n",
    "\n",
    "\n",
    "fig, axes = plt.subplots(1, 1, figsize=(8,6))\n",
    "\n",
    "plt.scatter(vid_stats['block missed'], vid_stats['human'],color='steelblue')\n",
    "vid_stats_a = vid_stats.groupby('block missed').mean().reset_index()\n",
    "plt.scatter(vid_stats_a['block missed'], vid_stats_a['human'],s=80,color='salmon')\n",
    "\n",
    "#axes.set_xlim([-0.5,1.5])\n",
    "\n",
    "plt.setp(\n",
    "    axes, \n",
    "    ylabel='Reporting human', xlabel='block missed'\n",
    ")\n",
    "\n",
    "sns.despine()"
   ]
  },
  {
   "cell_type": "code",
   "execution_count": null,
   "metadata": {
    "collapsed": true
   },
   "outputs": [],
   "source": [
    "fig, axes = plt.subplots(1, 1, figsize=(8,6))\n",
    "\n",
    "vidstat_type = dict()\n",
    "for i in range(0,2,1):\n",
    "    vidstat_type[i] = vid_stats.loc[vid_stats['block missed']==i]\n",
    "y = [np.mean(vidstat_type[i]['delta_c']) for i in range(0,2,1)]\n",
    "yerr = [np.std(vidstat_type[i]['delta_c'])/np.sqrt(30) for i in range(0,2,1)]\n",
    "types=[0,1]\n",
    "axes.errorbar(types, y, yerr,alpha=0.6)\n",
    "\n",
    "slope, intercept, r_value, p_value, std_err = sts.linregress(vid_stats['block missed'], vid_stats['delta_c'])\n",
    "print(slope,r_value,p_value)\n",
    "\n",
    "plt.scatter(vid_stats['block missed'], vid_stats['delta_c'],color='steelblue')\n",
    "#plt.scatter(tur_t.clip_type, tur_t.feedback,s=80,color='salmon')\n",
    "\n",
    "#axes.set_xlim([-0.5,1.5])\n",
    "\n",
    "plt.setp(\n",
    "    axes, \n",
    "    ylabel='delta c', xlabel='block missed'\n",
    ")\n",
    "\n",
    "sns.despine()"
   ]
  },
  {
   "cell_type": "code",
   "execution_count": null,
   "metadata": {
    "collapsed": true
   },
   "outputs": [],
   "source": [
    "# sig correaltion between reporting human and whether a win is seen\n",
    "# not for percentage correct\n",
    "# less sig for confidence and whether there is a block missed\n",
    "\n",
    "fig, axes = plt.subplots(1, 1, figsize=(8,6))\n",
    "\n",
    "vidstat_type = dict()\n",
    "for i in range(0,2,1):\n",
    "    vidstat_type[i] = vid_stats.loc[vid_stats['win']==i]\n",
    "y = [np.mean(vidstat_type[i]['human']) for i in range(0,2,1)]\n",
    "yerr = [np.std(vidstat_type[i]['human'])/np.sqrt(30) for i in range(0,2,1)]\n",
    "types=[0,1]\n",
    "axes.errorbar(types, y, yerr,alpha=0.6)\n",
    "\n",
    "slope, intercept, r_value, p_value, std_err = sts.linregress(vid_stats['win'], vid_stats['human'])\n",
    "print(slope,r_value,p_value)\n",
    "\n",
    "plt.scatter(vid_stats['win'], vid_stats['human'],color='steelblue')\n",
    "vid_stats_a = vid_stats.groupby('win').mean().reset_index()\n",
    "plt.scatter(vid_stats_a['win'], vid_stats_a['human'],s=80,color='salmon')\n",
    "\n",
    "#axes.set_xlim([-0.5,1.5])\n",
    "\n",
    "plt.setp(\n",
    "    axes, \n",
    "    ylabel='Reporting human', xlabel='win'\n",
    ")\n",
    "\n",
    "sns.despine()"
   ]
  },
  {
   "cell_type": "code",
   "execution_count": null,
   "metadata": {
    "collapsed": true
   },
   "outputs": [],
   "source": [
    "fig, axes = plt.subplots(1, 1, figsize=(8,6))\n",
    "\n",
    "vidstat_type = dict()\n",
    "for i in range(0,2,1):\n",
    "    vidstat_type[i] = vid_stats.loc[vid_stats['win']==i]\n",
    "y = [np.mean(vidstat_type[i]['delta_c']) for i in range(0,2,1)]\n",
    "yerr = [np.std(vidstat_type[i]['delta_c'])/np.sqrt(30) for i in range(0,2,1)]\n",
    "types=[0,1]\n",
    "axes.errorbar(types, y, yerr,alpha=0.6)\n",
    "\n",
    "slope, intercept, r_value, p_value, std_err = sts.linregress(vid_stats['win'], vid_stats['delta_c'])\n",
    "print(slope,r_value,p_value)\n",
    "\n",
    "plt.scatter(vid_stats['win'], vid_stats['delta_c'],color='steelblue')\n",
    "#plt.scatter(tur_t.clip_type, tur_t.feedback,s=80,color='salmon')\n",
    "\n",
    "#axes.set_xlim([-0.5,1.5])\n",
    "\n",
    "plt.setp(\n",
    "    axes, \n",
    "    ylabel='delta c', xlabel='win'\n",
    ")\n",
    "\n",
    "sns.despine()"
   ]
  },
  {
   "cell_type": "code",
   "execution_count": null,
   "metadata": {
    "collapsed": true
   },
   "outputs": [],
   "source": [
    "# check ave Euclidean distance: now it is not colinear with length of video\n",
    "fig, axes = plt.subplots(1, 1, figsize=(8,6))\n",
    "\n",
    "slope, intercept, r_value, p_value, std_err = sts.linregress(vid_stats['length'], vid_stats['ave_eucl'])\n",
    "print(slope,r_value,p_value)\n",
    "\n",
    "plt.scatter(vid_stats['length'], vid_stats['ave_eucl'],color='steelblue')\n",
    "#plt.scatter(tur_t.clip_type, tur_t.feedback,s=80,color='salmon')\n",
    "\n",
    "#axes.set_xlim([-0.5,1.5])\n",
    "\n",
    "plt.setp(\n",
    "    axes, \n",
    "    ylabel='Average Euclidean distance',xlabel='length'\n",
    ")\n",
    "\n",
    "sns.despine()"
   ]
  },
  {
   "cell_type": "code",
   "execution_count": null,
   "metadata": {
    "collapsed": true
   },
   "outputs": [],
   "source": []
  }
 ],
 "metadata": {
  "anaconda-cloud": {},
  "kernelspec": {
   "display_name": "Python 3",
   "language": "python",
   "name": "python3"
  },
  "language_info": {
   "codemirror_mode": {
    "name": "ipython",
    "version": 3
   },
   "file_extension": ".py",
   "mimetype": "text/x-python",
   "name": "python",
   "nbconvert_exporter": "python",
   "pygments_lexer": "ipython3",
   "version": "3.7.4"
  }
 },
 "nbformat": 4,
 "nbformat_minor": 2
}
