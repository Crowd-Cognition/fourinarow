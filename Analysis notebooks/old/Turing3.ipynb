{
 "cells": [
  {
   "cell_type": "code",
   "execution_count": 7,
   "metadata": {
    "collapsed": true
   },
   "outputs": [],
   "source": [
    "import csv\n",
    "import numpy as np\n",
    "import scipy.stats as sp\n",
    "import matplotlib.pyplot as plt\n",
    "import pandas as pd\n",
    "from statsmodels.formula.api import ols\n",
    "import statsmodels.stats.weightstats\n",
    "\n",
    "filename='C:/Users/Bas/Google Drive/Bas Games/Analysis/Turing/turing_output.csv'\n",
    "T = np.array(list(csv.reader(open(filename, \"r\"), delimiter=\",\")))[1:,:]\n"
   ]
  },
  {
   "cell_type": "code",
   "execution_count": 8,
   "metadata": {},
   "outputs": [
    {
     "name": "stderr",
     "output_type": "stream",
     "text": [
      "C:\\Users\\Bas\\Anaconda3\\lib\\site-packages\\ipykernel\\__main__.py:5: RuntimeWarning: invalid value encountered in true_divide\n"
     ]
    },
    {
     "data": {
      "image/png": "[encoded data removed]",
      "text/plain": [
       "<matplotlib.figure.Figure at 0x1ea0a61eb38>"
      ]
     },
     "metadata": {},
     "output_type": "display_data"
    },
    {
     "name": "stderr",
     "output_type": "stream",
     "text": [
      "C:\\Users\\Bas\\Anaconda3\\lib\\site-packages\\ipykernel\\__main__.py:8: RuntimeWarning: invalid value encountered in true_divide\n"
     ]
    },
    {
     "data": {
      "image/png": "[encoded data removed]",
      "text/plain": [
       "<matplotlib.figure.Figure at 0x1ea0a656390>"
      ]
     },
     "metadata": {},
     "output_type": "display_data"
    }
   ],
   "source": [
    "l=T[:,2].astype('int')\n",
    "c=T[:,5].astype('float')\n",
    "conf=np.abs(50-T[:,3].astype('float'))\n",
    "\n",
    "plt.plot(np.bincount(l,weights=conf)/np.bincount(l),'o')\n",
    "plt.show()\n",
    "\n",
    "plt.plot(np.bincount(l,weights=T[:,3].astype('int')>50)/np.bincount(l))\n",
    "plt.show()\n"
   ]
  },
  {
   "cell_type": "code",
   "execution_count": 9,
   "metadata": {},
   "outputs": [
    {
     "name": "stdout",
     "output_type": "stream",
     "text": [
      "0.0343046847517 0.0459248368024\n"
     ]
    },
    {
     "data": {
      "text/plain": [
       "0.54891405234824575"
      ]
     },
     "execution_count": 9,
     "metadata": {},
     "output_type": "execute_result"
    }
   ],
   "source": [
    "data = pd.DataFrame({'x': l, 'y': c})\n",
    "r1=sp.pearsonr(l,c)[0]\n",
    "s=statsmodels.stats.weightstats.DescrStatsW(data, weights=50-conf, ddof=0)\n",
    "r2=s.cov[0,1]/(s.std[0]*s.std[1])\n",
    "print(r1,r2)\n",
    "np.mean(c)"
   ]
  },
  {
   "cell_type": "code",
   "execution_count": 10,
   "metadata": {
    "scrolled": false
   },
   "outputs": [
    {
     "name": "stdout",
     "output_type": "stream",
     "text": [
      "                            OLS Regression Results                            \n",
      "==============================================================================\n",
      "Dep. Variable:                      y   R-squared:                       0.001\n",
      "Model:                            OLS   Adj. R-squared:                  0.001\n",
      "Method:                 Least Squares   F-statistic:                     6.345\n",
      "Date:                Wed, 31 Jan 2018   Prob (F-statistic):             0.0118\n",
      "Time:                        22:16:54   Log-Likelihood:                -3880.8\n",
      "No. Observations:                5387   AIC:                             7766.\n",
      "Df Residuals:                    5385   BIC:                             7779.\n",
      "Df Model:                           1                                         \n",
      "Covariance Type:            nonrobust                                         \n",
      "==============================================================================\n",
      "                 coef    std err          t      P>|t|      [0.025      0.975]\n",
      "------------------------------------------------------------------------------\n",
      "Intercept      0.5239      0.012     43.562      0.000       0.500       0.547\n",
      "x              0.0026      0.001      2.519      0.012       0.001       0.005\n",
      "==============================================================================\n",
      "Omnibus:                       34.105   Durbin-Watson:                   1.859\n",
      "Prob(Omnibus):                  0.000   Jarque-Bera (JB):              893.967\n",
      "Skew:                          -0.196   Prob(JB):                    7.54e-195\n",
      "Kurtosis:                       1.043   Cond. No.                         20.7\n",
      "==============================================================================\n",
      "\n",
      "Warnings:\n",
      "[1] Standard Errors assume that the covariance matrix of the errors is correctly specified.\n"
     ]
    }
   ],
   "source": [
    "model = ols(\"y ~ x\", data).fit()\n",
    "print(model.summary()) "
   ]
  },
  {
   "cell_type": "code",
   "execution_count": 11,
   "metadata": {
    "collapsed": true
   },
   "outputs": [],
   "source": [
    "def f(p): return p*np.log(p)+(1-p)*np.log(1-p)"
   ]
  },
  {
   "cell_type": "code",
   "execution_count": 6,
   "metadata": {},
   "outputs": [
    {
     "data": {
      "text/plain": [
       "0.0013526099613098141"
      ]
     },
     "execution_count": 6,
     "metadata": {},
     "output_type": "execute_result"
    }
   ],
   "source": [
    "f(0.526)-f(0.5)"
   ]
  },
  {
   "cell_type": "code",
   "execution_count": null,
   "metadata": {
    "collapsed": true
   },
   "outputs": [],
   "source": []
  }
 ],
 "metadata": {
  "anaconda-cloud": {},
  "kernelspec": {
   "display_name": "Python [conda root]",
   "language": "python",
   "name": "conda-root-py"
  },
  "language_info": {
   "codemirror_mode": {
    "name": "ipython",
    "version": 3
   },
   "file_extension": ".py",
   "mimetype": "text/x-python",
   "name": "python",
   "nbconvert_exporter": "python",
   "pygments_lexer": "ipython3",
   "version": "3.5.3"
  }
 },
 "nbformat": 4,
 "nbformat_minor": 1
}
