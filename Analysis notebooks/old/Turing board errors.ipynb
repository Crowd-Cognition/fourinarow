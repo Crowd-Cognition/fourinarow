{
 "cells": [
  {
   "cell_type": "code",
   "execution_count": 1,
   "metadata": {
    "collapsed": true
   },
   "outputs": [],
   "source": [
    "import numpy as np\n",
    "import matplotlib.pyplot as plt\n",
    "import scipy.stats as sts\n",
    "import pandas as pd\n",
    "direc='C:/Users/Bas/Google Drive/Bas Games/'"
   ]
  },
  {
   "cell_type": "code",
   "execution_count": 81,
   "metadata": {},
   "outputs": [],
   "source": [
    "O=pd.read_csv(direc + 'opt_val_turing_boards.txt', delimiter='\\t', header=None).values[:,-36:].astype(float)\n",
    "O[np.logical_and(O<500,O>-500)]=0\n",
    "B=pd.read_csv(direc + 'turing_boards.txt', delimiter='\\t', header=None).values\n",
    "m=B[:,3].astype(int)\n",
    "c=B[:,0]\n"
   ]
  },
  {
   "cell_type": "code",
   "execution_count": 93,
   "metadata": {},
   "outputs": [
    {
     "data": {
      "text/plain": [
       "0.19220501868659903"
      ]
     },
     "execution_count": 93,
     "metadata": {},
     "output_type": "execute_result"
    }
   ],
   "source": [
    "vchosen = O[range(len(O)),36-m-1]\n",
    "vbest = c*np.nanmin(O,axis=1) + (1-c)*np.nanmax(O,axis=1)\n",
    "is_error=(vbest!=vchosen)\n",
    "np.mean(is_error)"
   ]
  },
  {
   "cell_type": "code",
   "execution_count": null,
   "metadata": {
    "collapsed": true
   },
   "outputs": [],
   "source": []
  },
  {
   "cell_type": "code",
   "execution_count": 94,
   "metadata": {},
   "outputs": [],
   "source": [
    "np.savetxt(direc + 'turing_boards_errors.txt',is_error, fmt=\"%i\")"
   ]
  },
  {
   "cell_type": "code",
   "execution_count": null,
   "metadata": {
    "collapsed": true
   },
   "outputs": [],
   "source": []
  }
 ],
 "metadata": {
  "anaconda-cloud": {},
  "kernelspec": {
   "display_name": "Python [default]",
   "language": "python",
   "name": "python3"
  },
  "language_info": {
   "codemirror_mode": {
    "name": "ipython",
    "version": 3
   },
   "file_extension": ".py",
   "mimetype": "text/x-python",
   "name": "python",
   "nbconvert_exporter": "python",
   "pygments_lexer": "ipython3",
   "version": "3.5.3"
  }
 },
 "nbformat": 4,
 "nbformat_minor": 1
}
