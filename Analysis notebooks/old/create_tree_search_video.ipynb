{
 "cells": [
  {
   "cell_type": "code",
   "execution_count": 6,
   "metadata": {},
   "outputs": [],
   "source": [
    "import matplotlib.pyplot as plt\n",
    "import numpy as np\n",
    "from matplotlib import patches,colors\n",
    "import matplotlib.animation as animation\n",
    "model_direc = 'C:/Users/Bas/Google Drive/Bas Games/'\n",
    "from matplotlib import rc,rcParams\n",
    "from IPython.display import HTML\n",
    "rcParams['font.sans-serif'] = \"Helvetica Neue LT Std\"\n",
    "rcParams['font.family'] = \"sans-serif\"\n"
   ]
  },
  {
   "cell_type": "code",
   "execution_count": 7,
   "metadata": {},
   "outputs": [],
   "source": [
    "def show_board(fig,ax,black_pieces,white_pieces):\n",
    "    patch_list=[ax.add_patch(patches.Rectangle((-0.5,-0.5),9,4,color=\"darkgray\",fill=True,zorder=0))]\n",
    "    ax.vlines(np.arange(-0.5,9.5,1),-0.5,3.5)\n",
    "    ax.hlines(np.arange(-0.5,4.5,1),-0.5,8.5)\n",
    "    for k in range(36):\n",
    "        if(black_pieces[k]=='1'):\n",
    "            circ = patches.Circle((k%9,k//9),0.33,color=\"black\",fill=True)\n",
    "            patch_list.append(ax.add_patch(circ))\n",
    "        if(white_pieces[k]=='1'):\n",
    "            circ = patches.Circle((k%9,k//9),0.33,color=\"white\",fill=True)\n",
    "            patch_list.append(ax.add_patch(circ))\n",
    "    ax.axis('off')\n",
    "    return patch_list\n",
    "        \n"
   ]
  },
  {
   "cell_type": "code",
   "execution_count": 11,
   "metadata": {
    "scrolled": true
   },
   "outputs": [
    {
     "data": {
      "text/html": [
       "<video width=\"648\" height=\"288\" controls autoplay>\n",
       "  <source type=\"video/mp4\" src=\"data:video/mp4;base64,AAAAHGZ0eXBNNFYgAAACAGlzb21pc28yYXZjMQAAAAhmcmVlAAAOzW1kYXQAAAKtBgX//6ncRem9\n",
       "5tlIt5Ys2CDZI+7veDI2NCAtIGNvcmUgMTU4IHIyOTg0IDM3NTlmY2IgLSBILjI2NC9NUEVHLTQg\n",
       "QVZDIGNvZGVjIC0gQ29weWxlZnQgMjAwMy0yMDE5IC0gaHR0cDovL3d3dy52aWRlb2xhbi5vcmcv\n",
       "eDI2NC5odG1sIC0gb3B0aW9uczogY2FiYWM9MSByZWY9MyBkZWJsb2NrPTE6MDowIGFuYWx5c2U9\n",
       "MHgzOjB4MTEzIG1lPWhleCBzdWJtZT03IHBzeT0xIHBzeV9yZD0xLjAwOjAuMDAgbWl4ZWRfcmVm\n",
       "PTEgbWVfcmFuZ2U9MTYgY2hyb21hX21lPTEgdHJlbGxpcz0xIDh4OGRjdD0xIGNxbT0wIGRlYWR6\n",
       "b25lPTIxLDExIGZhc3RfcHNraXA9MSBjaHJvbWFfcXBfb2Zmc2V0PS0yIHRocmVhZHM9OSBsb29r\n",
       "YWhlYWRfdGhyZWFkcz0xIHNsaWNlZF90aHJlYWRzPTAgbnI9MCBkZWNpbWF0ZT0xIGludGVybGFj\n",
       "ZWQ9MCBibHVyYXlfY29tcGF0PTAgY29uc3RyYWluZWRfaW50cmE9MCBiZnJhbWVzPTMgYl9weXJh\n",
       "bWlkPTIgYl9hZGFwdD0xIGJfYmlhcz0wIGRpcmVjdD0xIHdlaWdodGI9MSBvcGVuX2dvcD0wIHdl\n",
       "aWdodHA9MiBrZXlpbnQ9MjUwIGtleWludF9taW49NiBzY2VuZWN1dD00MCBpbnRyYV9yZWZyZXNo\n",
       "PTAgcmNfbG9va2FoZWFkPTQwIHJjPWNyZiBtYnRyZWU9MSBjcmY9MjMuMCBxY29tcD0wLjYwIHFw\n",
       "bWluPTAgcXBtYXg9NjkgcXBzdGVwPTQgaXBfcmF0aW89MS40MCBhcT0xOjEuMDAAgAAADBBliIQA\n",
       "O//+906/AptFl2oDklcK9sqkJlm5UmsB8qYAAAMAAAMAAAMARKWPlh8N1ya4ABLcAXtDkgYdh3Fk\n",
       "gQO67vZiZKSXObuEhUr8sR36wLkd8owUIdAFE8V8rrj2BSKbiucpkkfdGng3xRH7cncfGvuQ3Bq8\n",
       "2WDtx0C+o6dDqVhGRu0PzNCHzwdIL5lhVQhyKt7prPPyoHnqi3QKOu7qPurAcY60PqK9fKIGjwvJ\n",
       "oBFh2JTRbqKtRAjlT6AeCZSOdHz+BvfeyHcyKU2GQfJArBegGiyLW+aZJ4pl8vjmI7w8c4lJPdd7\n",
       "rZVpw1IaS5JNijn0p/CkXQ+TOTigBd8gAgqjdnTaRtx/8nWzmOB9LaoEARESHTOLCfrKLyIsVj9e\n",
       "ms2e/LK/ZK4VazVXFh59M9hjrwRjQ2He5+jyvZ0vOXADf+as46MwSl3LbQC0xRnYOid9Dfypp8wB\n",
       "iElzowNFs3bwgFxzE/91sZTGEJMnALywt1HRNL+xnvR4Vuznv8jRE5ZL+hagqzM2sE/q0xkO194T\n",
       "mF8rTRrK8AsY4vmu2lgJnAbsnUcu2Haekn7BOYT4yi1DoFiUu24FOeuIU8dViTCS7sN9XQOGnM1S\n",
       "QQExSOrsZCdjkej018GxHj+Bhyc1h/430Lp7dLNzQyLN/2/ZoC3aLXE0OD7V/l2yYr/4ib/pckqv\n",
       "uJM54AFDgcp0MVT48VQDu0T6h8g4uslei/kCCMDZ57K1DhtByOQcShf627Q+w9eqg2x/oWdEhsnI\n",
       "vJRt3BDEeqmQNr7YAHFLTUnRaRjQyXvdqWJLVxUGzmV/FEFNqZIrA6P6b3O5bzg7utLtK7muxnuF\n",
       "xuV3d6CoT4OZ41yCeNoB9iPO6TohAefsiQ0iVS1Xd/scURctqvOvHJhPKgkEktmW126/gAWO/WKN\n",
       "6RIhYlGhVKM4j13LRP4qlYVhEhdCDrkFEiQ5eTvZfSbd6MZYOh4asd3lC3e81l+M1/cQQV/bQloM\n",
       "/qz2Ypbq2E+SBNRaI/wxfnc36lQCUmNF1FAOUYTvWfN0/gT6EHXwHS74/17cL7mYdWVpetb/Omwq\n",
       "TF/Htzld21Ng/m2EoZJNgAN50mm/E3Su0EJ71Dz+GQn0OIuMc77ZXoxy/wrL1aI3AX1WXnwD1ghv\n",
       "BU6wk46lmSBV+cPJvrr50EFpfSEuRdqTizUULlyps1gOX+9Rx5Z0oqE4q0qN4AezuW977CZfj3nt\n",
       "L7eYvzUPLi6aeLNFeqcnBWOJu/o9aOajlOnZTLJ/Bh4G4j8CXwfWdyo8H6w4HU6NI+/Mtw1yFepd\n",
       "1XkNo9inywFAvVoYDbyi/D97d2OmJe0l6//yZBq/X//i/MLimxYTRJOzawL3Untk0rQqFv7+H5ft\n",
       "fnl3w2ujFyIO5B3IX5QVwFHLc7ExkPOakObS115xvxaTkVwCze3z8zGMJr2WI7EIaiAcx+FjgcjQ\n",
       "BI3Y2FIAAAdBfAy1jIrL9NVlGG0P8oulkF/0Iz/O0YOb8TW4eqpVMfHBY5ZGv7DvKWow7Wa8bOV8\n",
       "ygZZC9Gygz52aHwpoGbJKplYKHXkTJERIOHQLNRzcQk9Ah2/qE7zQg62WVnI6eMQ/BWVU5jU5zZD\n",
       "fkSlSVA7X9TTJz5OSR9WC5yf72OUw+lt2NWTJXjuIsEv9jLJdg/HdAmxMBUXGAN+If3bFDSqNVHX\n",
       "NTejAGDoGRVvh/DtGlR6dfWOKl6DWCsMNWGFTi6WNq0j6Z8hE1Llz0wEmTBusSHVs7tiRCrpjHUT\n",
       "SU7C5HFz2KFMS+3VpPp7cDgnPZwm/MygCYMn1nj40ki8WYLeDCp0e5/cz/eSk+hgtGHdrHYy+Vpj\n",
       "YwPxRFcIKyC+7gXCF5+0DFuIDBqlT8b447fdUVHRBL2fp/v0lh0DJImxOofXY/5r9kNGhvMyE9jI\n",
       "eT802rhbEZaR3SKiqVbTVTFWuUNlzHkppCJnUlqfingIoGq+qUhE7ftnTqSPhenViQ6KNvIyS5s6\n",
       "LzaepDAZ+TvmJp+kT76XiExm+2A/nV/ZKzZTfYnei7p0D8DMnxNhiksoe2mIT38eDx+xEfW2o9gt\n",
       "C3lq1n/hoIZpzgkXZpSRt0CloQcv7t+9r0pLTcsXT8UCYlpBTMjxlAObFQYQj+y4CYCE9YDVcHwT\n",
       "axk3rf9TwR4InnIiPjFM0CIlUSF3Mf7MnRpBKZcrZB340OD1Who3rtdPmq489Lc/CXFOi4xO3UgL\n",
       "RUNU1dg6Qe57WQcFaduLGfP+oHJYh/iWfSaXUe5SFKCzrjyMwAE4Vo8WAHAnDA90eHSCt6LEqntR\n",
       "vegC6b9emxFOK98l030y4TohcF2Is0TqnmXudePkrPoL1/jdwH4SVu3pOHz9DXmyz3dUMzu9nDDD\n",
       "sfI97QJXn157eftGmgO4skLyOQpLrm15QyRjsB/dj8U2rr2rcu09auLInu4Es/WmzP+3ok0NQjDU\n",
       "qqLupNlfbc42iZ1UpQrJjOIJtpd617lXTfCdpZYIveNqCythbJdEk5LoFmWSIkfNYQQCU2TCSmYy\n",
       "Luk5xx+7LuAaIefeEPwEwl0BEAnPUbgrnCuLevQTs+hHyjlayzlqc97E+sfFdmMANuA5a35ecutS\n",
       "WViuhPXrBEaTg0BF99lb4MMQkJ+24LhWJcdKLRjE6TyyTIxagJw6jvKxXx8j8UZMcc4GSGXVSNkx\n",
       "q5a1Duxh+0ndEzG6D1mXq1wADQk8kAvWpHSxekkyq1M4a7NAu1e1QZH1VxjJL9R6L41gOfkFbCBb\n",
       "UHYswedGJnMOQ0iuHUjkiChSKFq6BkQbvS17Hl1459YS09ClOpHkheeC0f3OD1y01ecaS9o9mQ+w\n",
       "43P3cYnzqXYtLyPg5LsNPLckRMbv0iL22TABGIpEu+hbjCyLx7WERH1GZIRarDbQfBiV+v+VwH5z\n",
       "VmpvNjqcnV+YF7cYYeO8X7JnH70TOQcHo2rSWeb5xg/i1OurRyc0zh9A5DNmWenzmHCVJIjA8Fzv\n",
       "g37rjr9HoEEMqXkYum7TkdwObXmV3e3ZCzXtout0j3DM01msu4qHyriuSS2DyVKG7ECsSrBMAlMt\n",
       "hT/aFvpEqpj2hmmFEjFK5DYD7hES/JHPUjScKfU2949knzaPZ4Z6IoquGgd9Ek+dP+pWc1lYkSE9\n",
       "tqKjxE/CYfVXx12wGr4WUxsAuiNVU3gA7hI54bdc50Q5UQT1uoGs+FP0My4Yyl4HIP6z5klOmUG0\n",
       "1X8m8PdHUxLPWof5JG5ynadCLlZHxbuWNM+RrsY3EOA6xrbjUGM4uAL8KLyuBu2hy4dklZ5Dpo+E\n",
       "5tiemY8GT+xQEi4CpkQTbS+gubV9YfmtNURlfE4yrd8YfO0lRAr0a9Ojew9WTA1jzT6aH/aP8MzT\n",
       "SRaDx9XvwY+PpJq2UoJIqcSVsVR2LpJJYDsFleeZl795wxNgLwMVCOFItag+ZpurTF+0fdRg98IW\n",
       "F/B5f5L58z4TBIlttgajZp+bSK5MNx/zx0afMGmpkuSBzXAW7jumPgcv8OFmgFkbU3colimLqzJs\n",
       "yzvKf8a5CHOmnYr32ceH7HGQe6tKP573SATlscYABQB822SSOpfSYjngDHz7I+/G8cfaKc3GO3Nb\n",
       "jMJqUOTdDttRluXsCvdZ0tCrXkDldKsePv/I8npAwx2Lo8G/H/9ax4+stO9rPIrwnhwlb/AoLkzB\n",
       "5933C48p0AB9aFpSi7yaN3fAH0aWNGfH8zkWCw440scXlbNIVaSoAoqZyEavv4rNsgCNAsiyDmO3\n",
       "Sl7+wjdKXQ7lpXfgz0/UP+MgoE61Kj1sF5CCxQPaVXq4fgdVzqeSkacKgCuQzJHzRPelOqsDEN35\n",
       "60DsTUPCl4DK652KUFJWrbtC4Ez9GBi2dlTpON5oYfmwpg+FdLwXiBq1OU50QqLlFcxNepPbKq87\n",
       "7NvOmLPiGwHAjGSj1wHiLscDvYlWIDe11sWJenkFmD+vE5cD820LAy4B9Ns3RoB+S6PlDUkaqjfA\n",
       "8oouBuwwDjQUm7fnOxGRdtx4I6JGJypZ09o2S/heu4zLYqITi7j2LG+DSLIXwUQ25TluWennzlO2\n",
       "rP/eloHPn04puToa4aHFQM89QH9EQY7xIz23k1QVr5iwFNyGVRF8F3MDAp9jIuGStCEc1EHkAAGA\n",
       "tWWwAEnBAAADC21vb3YAAABsbXZoZAAAAAAAAAAAAAAAAAAAA+gAAACWAAEAAAEAAAAAAAAAAAAA\n",
       "AAABAAAAAAAAAAAAAAAAAAAAAQAAAAAAAAAAAAAAAAAAQAAAAAAAAAAAAAAAAAAAAAAAAAAAAAAA\n",
       "AAAAAAAAAAIAAAI1dHJhawAAAFx0a2hkAAAAAwAAAAAAAAAAAAAAAQAAAAAAAACWAAAAAAAAAAAA\n",
       "AAAAAAAAAAABAAAAAAAAAAAAAAAAAAAAAQAAAAAAAAAAAAAAAAAAQAAAAAKIAAABIAAAAAAAJGVk\n",
       "dHMAAAAcZWxzdAAAAAAAAAABAAAAlgAAAAAAAQAAAAABrW1kaWEAAAAgbWRoZAAAAAAAAAAAAAAA\n",
       "AAAAKAAAAAYAVcQAAAAAAC1oZGxyAAAAAAAAAAB2aWRlAAAAAAAAAAAAAAAAVmlkZW9IYW5kbGVy\n",
       "AAAAAVhtaW5mAAAAFHZtaGQAAAABAAAAAAAAAAAAAAAkZGluZgAAABxkcmVmAAAAAAAAAAEAAAAM\n",
       "dXJsIAAAAAEAAAEYc3RibAAAALRzdHNkAAAAAAAAAAEAAACkYXZjMQAAAAAAAAABAAAAAAAAAAAA\n",
       "AAAAAAAAAAKIASAASAAAAEgAAAAAAAAAAQAAAAAAAAAAAAAAAAAAAAAAAAAAAAAAAAAAAAAAAAAA\n",
       "ABj//wAAADJhdmNDAWQAFf/hABlnZAAVrNlApCXl4QAAAwADAAADACgPFi2WAQAGaOvjyyLAAAAA\n",
       "HHV1aWRraEDyXyRPxbo5pRvPAyPzAAAAAAAAABhzdHRzAAAAAAAAAAEAAAABAAAGAAAAABxzdHNj\n",
       "AAAAAAAAAAEAAAABAAAAAQAAAAEAAAAUc3RzegAAAAAAAA7FAAAAAQAAABRzdGNvAAAAAAAAAAEA\n",
       "AAAsAAAAYnVkdGEAAABabWV0YQAAAAAAAAAhaGRscgAAAAAAAAAAbWRpcmFwcGwAAAAAAAAAAAAA\n",
       "AAAtaWxzdAAAACWpdG9vAAAAHWRhdGEAAAABAAAAAExhdmY1OC4yOS4xMDA=\n",
       "\">\n",
       "  Your browser does not support the video tag.\n",
       "</video>"
      ],
      "text/plain": [
       "<IPython.core.display.HTML object>"
      ]
     },
     "execution_count": 11,
     "metadata": {},
     "output_type": "execute_result"
    },
    {
     "data": {
      "image/png": "[encoded data removed]",
      "text/plain": [
       "<Figure size 648x288 with 1 Axes>"
      ]
     },
     "metadata": {
      "needs_background": "light"
     },
     "output_type": "display_data"
    }
   ],
   "source": [
    "with open(model_direc + 'eye_trace_model.txt') as f:\n",
    "    lines = f.read().splitlines()\n",
    "    bp,wp = lines[0].split('\\t')\n",
    "    color=len(bp.split('1'))==len(wp.split('1'))\n",
    "\n",
    "fig,ax = plt.subplots(figsize=(9,4))\n",
    "fig.tight_layout()\n",
    "\n",
    "patch_list_to_keep = show_board(fig,ax,bp,wp)\n",
    "    \n",
    "def animate(i):\n",
    "    patches_to_remove = [patch for patch in ax.patches if patch not in patch_list_to_keep]\n",
    "    text_to_remove = ax.texts\n",
    "    for t in text_to_remove[::-1]:\n",
    "        t.remove()\n",
    "    for patch in patches_to_remove:\n",
    "        patch.remove()\n",
    "    patch_list=[]\n",
    "    for i,m in enumerate([int(m) for m in lines[i].split(' ') if m!='']):\n",
    "        circ = patches.Circle((m%9,m//9),0.33,color=\"white\" if color^(i%2==0) else \"black\",fill=True)\n",
    "        patch_list.append(ax.add_patch(circ))\n",
    "        ax.text(x=m%9,y=m//9,s=i+1,color=\"black\" if color^(i%2==0) else \"white\",\n",
    "                 ha=\"center\", va=\"center\",size=24)\n",
    "    return patch_list\n",
    "                \n",
    "anim = animation.FuncAnimation(fig, animate, frames=range(1,len(lines)), \n",
    "                               interval=150, blit=True, repeat=False)\n",
    "\n",
    "HTML(anim.to_html5_video())"
   ]
  },
  {
   "cell_type": "code",
   "execution_count": 4,
   "metadata": {},
   "outputs": [],
   "source": [
    "#import matplotlib.font_manager\n",
    "#[f.name for f in matplotlib.font_manager.fontManager.ttflist]"
   ]
  },
  {
   "cell_type": "code",
   "execution_count": null,
   "metadata": {},
   "outputs": [],
   "source": []
  }
 ],
 "metadata": {
  "kernelspec": {
   "display_name": "Python [conda env:root] *",
   "language": "python",
   "name": "conda-root-py"
  },
  "language_info": {
   "codemirror_mode": {
    "name": "ipython",
    "version": 3
   },
   "file_extension": ".py",
   "mimetype": "text/x-python",
   "name": "python",
   "nbconvert_exporter": "python",
   "pygments_lexer": "ipython3",
   "version": "3.7.3"
  }
 },
 "nbformat": 4,
 "nbformat_minor": 2
}
