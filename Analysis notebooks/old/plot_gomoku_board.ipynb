{
 "cells": [
  {
   "cell_type": "code",
   "execution_count": 29,
   "metadata": {
    "collapsed": true
   },
   "outputs": [],
   "source": [
    "import matplotlib.pyplot as plt\n",
    "import numpy as np\n",
    "from matplotlib import patches"
   ]
  },
  {
   "cell_type": "code",
   "execution_count": 39,
   "metadata": {},
   "outputs": [],
   "source": [
    "cm = colors.LinearSegmentedColormap.from_list('gray_gold_map', [colors.to_rgb('darkgray'), \n",
    "                                                                colors.to_rgb('gold')], N=100)\n",
    "\n",
    "def show_board(black_pieces,white_pieces):    \n",
    "    fig = plt.figure()\n",
    "    ax = fig.add_subplot(111,aspect='equal')\n",
    "    ax.vlines(np.arange(-0.5,9.5,1),-0.5,3.5)\n",
    "    ax.hlines(np.arange(-0.5,4.5,1),-0.5,8.5)\n",
    "    for p in black_pieces:\n",
    "        circ = patches.Circle((p%9,p//9),0.33,color=\"black\",fill=True)\n",
    "        circ = ax.add_patch(circ)\n",
    "    for p in white_pieces:\n",
    "        circ = patches.Circle((p%9,p//9),0.33,color=\"white\",fill=True)\n",
    "        circ = ax.add_patch(circ)\n",
    "    plt.imshow(np.zeros(shape=[4,9]), cmap=cm, \n",
    "               interpolation='nearest',origin='bottom',vmin=0,vmax=0.2)\n",
    "    ax.axis('off')\n",
    "    fig.tight_layout()\n",
    "    plt.show()"
   ]
  },
  {
   "cell_type": "code",
   "execution_count": 40,
   "metadata": {},
   "outputs": [
    {
     "data": {
      "image/png": "[encoded data removed]",
      "text/plain": [
       "<matplotlib.figure.Figure at 0x20fe32bd668>"
      ]
     },
     "metadata": {
      "needs_background": "light"
     },
     "output_type": "display_data"
    }
   ],
   "source": [
    "show_board([3,4,14,24],[5,13,25,34])"
   ]
  },
  {
   "cell_type": "code",
   "execution_count": null,
   "metadata": {
    "collapsed": true
   },
   "outputs": [],
   "source": []
  }
 ],
 "metadata": {
  "kernelspec": {
   "display_name": "Python 3",
   "language": "python",
   "name": "python3"
  },
  "language_info": {
   "codemirror_mode": {
    "name": "ipython",
    "version": 3
   },
   "file_extension": ".py",
   "mimetype": "text/x-python",
   "name": "python",
   "nbconvert_exporter": "python",
   "pygments_lexer": "ipython3",
   "version": "3.7.4"
  }
 },
 "nbformat": 4,
 "nbformat_minor": 2
}
