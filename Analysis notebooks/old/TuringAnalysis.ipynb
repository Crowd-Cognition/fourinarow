{
 "cells": [
  {
   "cell_type": "code",
   "execution_count": 10,
   "metadata": {
    "collapsed": true
   },
   "outputs": [],
   "source": [
    "import pandas as pd\n",
    "import matplotlib\n",
    "import matplotlib.pyplot as plt\n",
    "import numpy as np\n",
    "import scipy.stats as sts\n",
    "import seaborn as sns\n",
    "import os\n",
    "import pandas as pd\n",
    "import scipy.optimize as opt\n",
    "import statsmodels.formula.api as sm\n",
    "from statsmodels.formula.api import ols\n",
    "from statsmodels.stats.api import anova_lm\n",
    "import matplotlib.cm as cm\n",
    "# classification results\n",
    "from sklearn.metrics import confusion_matrix, classification_report \n",
    "\n",
    "dump_dir = 'C:/Users/Bas/Google Drive/Bas Zahy Gianni - Games/Analysis/6_tur/Tur_yunqi (1)/'\n",
    "fig_direc = 'C:/Users/Bas/Google Drive/Bas Zahy Gianni - Games/Manuscripts/Paper/Figures/'"
   ]
  },
  {
   "cell_type": "code",
   "execution_count": 11,
   "metadata": {
    "collapsed": true
   },
   "outputs": [],
   "source": [
    "# styling for figures\n",
    "sns.set_style('white')\n",
    "sns.set_context('paper')\n",
    "sns.set_palette(sns.dark_palette('grey'))\n",
    "\n",
    "matplotlib.rcParams['xtick.labelsize'] = 14\n",
    "matplotlib.rcParams['ytick.labelsize'] = 14\n",
    "matplotlib.rcParams['axes.labelsize'] = 16\n",
    "matplotlib.rcParams['legend.fontsize'] = 14\n",
    "matplotlib.rcParams['mathtext.fontset'] = 'custom'\n",
    "matplotlib.rcParams['mathtext.rm'] = 'Bitstream Vera Sans'\n",
    "matplotlib.rcParams['mathtext.default'] = 'rm'\n",
    "matplotlib.rcParams['mathtext.it'] = 'Bitstream Vera Sans:italic'\n",
    "matplotlib.rcParams['mathtext.bf'] = 'Bitstream Vera Sans:bold'\n",
    "matplotlib.rcParams['xtick.direction'] = 'in'\n",
    "matplotlib.rcParams['ytick.direction'] = 'in'\n",
    "matplotlib.rcParams['xtick.major.size'] = 0\n",
    "matplotlib.rcParams['ytick.major.size'] = 0\n",
    "\n",
    "greens = sns.cubehelix_palette(n_colors=30, start=2.0, rot=.2, gamma=1, hue=.8, light=.8, dark=.15)\n",
    "bayes_ci = .95\n",
    "bmvs = lambda x: sts.bayes_mvs(x, alpha=bayes_ci)\n",
    "%matplotlib inline"
   ]
  },
  {
   "cell_type": "code",
   "execution_count": 23,
   "metadata": {
    "collapsed": true
   },
   "outputs": [],
   "source": [
    "tur = pd.read_csv(dump_dir + 'turing_output.csv')\n",
    "elo = pd.read_csv(dump_dir+'ratings_tur.csv')\n",
    "vid = pd.read_csv(dump_dir + 'videoInfo.csv')\n",
    "\n",
    "names = tur.user_name.unique()\n",
    "tur['delta_c']=abs(tur['choice']-50)\n",
    "tur = pd.merge(tur,pd.DataFrame(vid[['clip_id','start_pieces']]),on='clip_id')\n",
    "tur = pd.merge(tur,pd.DataFrame(vid[['clip_id','wp_center']]),on='clip_id')\n",
    "tur = pd.merge(tur,pd.DataFrame(vid[['clip_id','bp_center']]),on='clip_id')\n",
    "tur = tur.sort_values(by='timestamp')\n",
    "tur['human'] = (tur['choice']>=50).astype(int)\n",
    "tur = pd.merge(tur,elo,on='user_name')"
   ]
  },
  {
   "cell_type": "code",
   "execution_count": 24,
   "metadata": {},
   "outputs": [
    {
     "name": "stdout",
     "output_type": "stream",
     "text": [
      "90\n",
      "90\n"
     ]
    }
   ],
   "source": [
    "# understand the video statistics\n",
    "vid_0 = vid.loc[vid['clip_type']==0]\n",
    "vid_1 = vid.loc[vid['clip_type']==1]\n",
    "print(len(vid_0))\n",
    "print(len(vid_1))"
   ]
  },
  {
   "cell_type": "markdown",
   "metadata": {},
   "source": [
    "### About videos\n",
    "#### 1. Generally we see that computer videos actually start at the center a little more often... contrary to what we might expect\n",
    "#### 2. start pieces are equal across computer or humans videos\n",
    "#### 3. human videos are on average longer than computer videos"
   ]
  },
  {
   "cell_type": "code",
   "execution_count": 177,
   "metadata": {},
   "outputs": [
    {
     "name": "stdout",
     "output_type": "stream",
     "text": [
      "6.8\n",
      "6.3\n",
      "8.022222222222222 0.607154418859\n",
      "10.733333333333333 0.687776880272\n",
      "Ttest_indResult(statistic=-2.9386592595518439, pvalue=0.0037332413302826012)\n"
     ]
    }
   ],
   "source": [
    "print(vid_0.start_pieces.mean())\n",
    "print(vid_1.start_pieces.mean())\n",
    "print(np.mean(vid_0.length),np.std(vid_0.length)/np.sqrt(np.prod(vid_0.length.shape)))\n",
    "print(np.mean(vid_1.length),np.std(vid_1.length)/np.sqrt(np.prod(vid_1.length.shape)))\n",
    "print(sts.ttest_ind(vid_0.length,vid_1.length))"
   ]
  },
  {
   "cell_type": "code",
   "execution_count": 172,
   "metadata": {},
   "outputs": [
    {
     "data": {
      "image/png": "[encoded data removed]",
      "text/plain": [
       "<matplotlib.figure.Figure at 0x19246f1ea90>"
      ]
     },
     "metadata": {},
     "output_type": "display_data"
    }
   ],
   "source": [
    "# Histogram of number of each length video\n",
    "f, ax = plt.subplots(1, 1, figsize=(10,6))\n",
    "\n",
    "ax.hist(vid_1.length, bins=np.arange(0, 36, 1), alpha=.7, normed=True, color='salmon', label='Humans')\n",
    "ax.hist(vid_0.length, bins=np.arange(0, 36, 1), alpha=.7, normed=True, color='steelblue', label='Computers')\n",
    "ax.legend(loc='upper right')\n",
    "\n",
    "plt.xlabel(\"Length of Video\")\n",
    "\n",
    "sns.despine()\n",
    "f.savefig(fig_direc + 'turing_video_length.pdf')"
   ]
  },
  {
   "cell_type": "code",
   "execution_count": 86,
   "metadata": {},
   "outputs": [
    {
     "name": "stdout",
     "output_type": "stream",
     "text": [
      "(Mean(statistic=0.55351851851851852, minmax=(0.54025926684582459, 0.56677777019121245)), Variance(statistic=0.24713576817558297, minmax=(0.23781392452066813, 0.25645761183049781)), Std_dev(statistic=0.4971275170170959, minmax=(0.48775181024587499, 0.5065032237883168)))\n"
     ]
    }
   ],
   "source": [
    "# average percent correct: 55.35%\n",
    "print(sts.bayes_mvs(tur.feedback, alpha=.95))\n",
    "\n",
    "#for i in range(0,30):\n",
    "#    print sts.bayes_mvs(tur.loc[tur.user_name==names[i], 'feedback'].values.astype(int))\n",
    "#    print('\\n')\n"
   ]
  },
  {
   "cell_type": "markdown",
   "metadata": {},
   "source": [
    "### 1. Does people’s confidence reflect their accuracy in distinguishing the video types? \n",
    "#### need: average by subject for cross subject analysis\n",
    "#### average by subject and length for within subject\n",
    "#### average by subject and type for within subject\n",
    "### 2. Is there anything that makes some puzzles easier to identify? or more confident in identifying??\n",
    "#### (elo)\n",
    "#### average by video ID\n",
    "#### average by length (need to address AGGREGATION issues)\n",
    "#### average by type\n",
    "### 3. What affects report as human (binary, logistic)\n",
    "### 4. What affects confidence (logistic, ANOVA)\n",
    "#### use all data in tur"
   ]
  },
  {
   "cell_type": "code",
   "execution_count": 35,
   "metadata": {
    "collapsed": true
   },
   "outputs": [],
   "source": [
    "## 1. Does people’s confidence reflect their accuracy in distinguishing the video types? \n",
    "### need: average by subject for cross subject analysis\n",
    "tur_sub = tur.groupby([tur.user_name]).mean().reset_index()\n",
    "tur_l = tur.groupby([tur.length]).mean().reset_index()\n",
    "tur_t = tur.groupby([tur.clip_type]).mean().reset_index()\n",
    "\n",
    "tur_sl = tur.groupby([tur.user_name,tur.length]).mean().reset_index()\n",
    "tur_st = tur.groupby([tur.user_name,tur.clip_type]).mean().reset_index()\n",
    "tur_vid = tur.groupby([tur.clip_id]).mean().reset_index()\n",
    "tur_vid2 = tur.groupby([tur.clip_id]).max().reset_index()\n",
    "tur_vid['pred_weighted'] = tur_vid.human * (tur_vid.delta_c/max(tur_vid2.delta_c))\n"
   ]
  },
  {
   "cell_type": "code",
   "execution_count": 38,
   "metadata": {},
   "outputs": [
    {
     "data": {
      "text/plain": [
       "array([ 1,  2,  3,  4,  5,  6,  7,  8,  9, 10, 11, 12, 13, 14, 15, 16, 17,\n",
       "       18, 19, 20, 21, 23, 24, 25, 27, 28, 34, 35])"
      ]
     },
     "execution_count": 38,
     "metadata": {},
     "output_type": "execute_result"
    }
   ],
   "source": [
    "# the unique values of video length: 1 - 35\n",
    "length = tur_sl.loc[tur_sl.user_name==names[28], 'length'].values.astype(int) \n",
    "length"
   ]
  },
  {
   "cell_type": "code",
   "execution_count": 39,
   "metadata": {
    "collapsed": true
   },
   "outputs": [],
   "source": [
    "start_pieces = tur_sl.loc[tur_sl.user_name==names[28], 'length'].values.astype(int) "
   ]
  },
  {
   "cell_type": "code",
   "execution_count": 40,
   "metadata": {},
   "outputs": [
    {
     "data": {
      "text/html": [
       "<div>\n",
       "<style>\n",
       "    .dataframe thead tr:only-child th {\n",
       "        text-align: right;\n",
       "    }\n",
       "\n",
       "    .dataframe thead th {\n",
       "        text-align: left;\n",
       "    }\n",
       "\n",
       "    .dataframe tbody tr th {\n",
       "        vertical-align: top;\n",
       "    }\n",
       "</style>\n",
       "<table border=\"1\" class=\"dataframe\">\n",
       "  <thead>\n",
       "    <tr style=\"text-align: right;\">\n",
       "      <th></th>\n",
       "      <th>clip_id</th>\n",
       "      <th>length</th>\n",
       "      <th>choice</th>\n",
       "      <th>feedback</th>\n",
       "      <th>timestamp</th>\n",
       "      <th>clip_type</th>\n",
       "      <th>delta_c</th>\n",
       "      <th>start_pieces</th>\n",
       "      <th>wp_center</th>\n",
       "      <th>bp_center</th>\n",
       "      <th>human</th>\n",
       "      <th>elo</th>\n",
       "    </tr>\n",
       "  </thead>\n",
       "  <tbody>\n",
       "    <tr>\n",
       "      <th>clip_id</th>\n",
       "      <td>NaN</td>\n",
       "      <td>NaN</td>\n",
       "      <td>NaN</td>\n",
       "      <td>NaN</td>\n",
       "      <td>NaN</td>\n",
       "      <td>NaN</td>\n",
       "      <td>NaN</td>\n",
       "      <td>NaN</td>\n",
       "      <td>NaN</td>\n",
       "      <td>NaN</td>\n",
       "      <td>NaN</td>\n",
       "      <td>NaN</td>\n",
       "    </tr>\n",
       "    <tr>\n",
       "      <th>length</th>\n",
       "      <td>NaN</td>\n",
       "      <td>1.000000e+00</td>\n",
       "      <td>-1.160768e-15</td>\n",
       "      <td>3.793215e-17</td>\n",
       "      <td>6.835615e-14</td>\n",
       "      <td>NaN</td>\n",
       "      <td>9.607094e-17</td>\n",
       "      <td>1.000000e+00</td>\n",
       "      <td>-1.000000e+00</td>\n",
       "      <td>NaN</td>\n",
       "      <td>-1.515076e-15</td>\n",
       "      <td>2.820312e-17</td>\n",
       "    </tr>\n",
       "    <tr>\n",
       "      <th>choice</th>\n",
       "      <td>NaN</td>\n",
       "      <td>-1.160768e-15</td>\n",
       "      <td>1.000000e+00</td>\n",
       "      <td>-2.880405e-01</td>\n",
       "      <td>-1.751378e-02</td>\n",
       "      <td>NaN</td>\n",
       "      <td>2.965840e-01</td>\n",
       "      <td>-1.160768e-15</td>\n",
       "      <td>1.160768e-15</td>\n",
       "      <td>NaN</td>\n",
       "      <td>8.214062e-01</td>\n",
       "      <td>1.473996e-01</td>\n",
       "    </tr>\n",
       "    <tr>\n",
       "      <th>feedback</th>\n",
       "      <td>NaN</td>\n",
       "      <td>3.793215e-17</td>\n",
       "      <td>-2.880405e-01</td>\n",
       "      <td>1.000000e+00</td>\n",
       "      <td>-1.698506e-01</td>\n",
       "      <td>NaN</td>\n",
       "      <td>1.506209e-01</td>\n",
       "      <td>3.793215e-17</td>\n",
       "      <td>-3.793215e-17</td>\n",
       "      <td>NaN</td>\n",
       "      <td>-2.223527e-01</td>\n",
       "      <td>1.876086e-01</td>\n",
       "    </tr>\n",
       "    <tr>\n",
       "      <th>timestamp</th>\n",
       "      <td>NaN</td>\n",
       "      <td>6.835615e-14</td>\n",
       "      <td>-1.751378e-02</td>\n",
       "      <td>-1.698506e-01</td>\n",
       "      <td>1.000000e+00</td>\n",
       "      <td>NaN</td>\n",
       "      <td>-2.028293e-02</td>\n",
       "      <td>6.835615e-14</td>\n",
       "      <td>-6.835615e-14</td>\n",
       "      <td>NaN</td>\n",
       "      <td>-1.260674e-01</td>\n",
       "      <td>5.540154e-02</td>\n",
       "    </tr>\n",
       "    <tr>\n",
       "      <th>clip_type</th>\n",
       "      <td>NaN</td>\n",
       "      <td>NaN</td>\n",
       "      <td>NaN</td>\n",
       "      <td>NaN</td>\n",
       "      <td>NaN</td>\n",
       "      <td>NaN</td>\n",
       "      <td>NaN</td>\n",
       "      <td>NaN</td>\n",
       "      <td>NaN</td>\n",
       "      <td>NaN</td>\n",
       "      <td>NaN</td>\n",
       "      <td>NaN</td>\n",
       "    </tr>\n",
       "    <tr>\n",
       "      <th>delta_c</th>\n",
       "      <td>NaN</td>\n",
       "      <td>9.607094e-17</td>\n",
       "      <td>2.965840e-01</td>\n",
       "      <td>1.506209e-01</td>\n",
       "      <td>-2.028293e-02</td>\n",
       "      <td>NaN</td>\n",
       "      <td>1.000000e+00</td>\n",
       "      <td>1.143702e-16</td>\n",
       "      <td>-1.143702e-16</td>\n",
       "      <td>NaN</td>\n",
       "      <td>2.407311e-01</td>\n",
       "      <td>1.780882e-01</td>\n",
       "    </tr>\n",
       "    <tr>\n",
       "      <th>start_pieces</th>\n",
       "      <td>NaN</td>\n",
       "      <td>1.000000e+00</td>\n",
       "      <td>-1.160768e-15</td>\n",
       "      <td>3.793215e-17</td>\n",
       "      <td>6.835615e-14</td>\n",
       "      <td>NaN</td>\n",
       "      <td>1.143702e-16</td>\n",
       "      <td>1.000000e+00</td>\n",
       "      <td>-1.000000e+00</td>\n",
       "      <td>NaN</td>\n",
       "      <td>-1.481408e-15</td>\n",
       "      <td>0.000000e+00</td>\n",
       "    </tr>\n",
       "    <tr>\n",
       "      <th>wp_center</th>\n",
       "      <td>NaN</td>\n",
       "      <td>-1.000000e+00</td>\n",
       "      <td>1.160768e-15</td>\n",
       "      <td>-3.793215e-17</td>\n",
       "      <td>-6.835615e-14</td>\n",
       "      <td>NaN</td>\n",
       "      <td>-1.143702e-16</td>\n",
       "      <td>-1.000000e+00</td>\n",
       "      <td>1.000000e+00</td>\n",
       "      <td>NaN</td>\n",
       "      <td>1.481408e-15</td>\n",
       "      <td>0.000000e+00</td>\n",
       "    </tr>\n",
       "    <tr>\n",
       "      <th>bp_center</th>\n",
       "      <td>NaN</td>\n",
       "      <td>NaN</td>\n",
       "      <td>NaN</td>\n",
       "      <td>NaN</td>\n",
       "      <td>NaN</td>\n",
       "      <td>NaN</td>\n",
       "      <td>NaN</td>\n",
       "      <td>NaN</td>\n",
       "      <td>NaN</td>\n",
       "      <td>NaN</td>\n",
       "      <td>NaN</td>\n",
       "      <td>NaN</td>\n",
       "    </tr>\n",
       "    <tr>\n",
       "      <th>human</th>\n",
       "      <td>NaN</td>\n",
       "      <td>-1.515076e-15</td>\n",
       "      <td>8.214062e-01</td>\n",
       "      <td>-2.223527e-01</td>\n",
       "      <td>-1.260674e-01</td>\n",
       "      <td>NaN</td>\n",
       "      <td>2.407311e-01</td>\n",
       "      <td>-1.481408e-15</td>\n",
       "      <td>1.481408e-15</td>\n",
       "      <td>NaN</td>\n",
       "      <td>1.000000e+00</td>\n",
       "      <td>1.758469e-01</td>\n",
       "    </tr>\n",
       "    <tr>\n",
       "      <th>elo</th>\n",
       "      <td>NaN</td>\n",
       "      <td>2.820312e-17</td>\n",
       "      <td>1.473996e-01</td>\n",
       "      <td>1.876086e-01</td>\n",
       "      <td>5.540154e-02</td>\n",
       "      <td>NaN</td>\n",
       "      <td>1.780882e-01</td>\n",
       "      <td>0.000000e+00</td>\n",
       "      <td>0.000000e+00</td>\n",
       "      <td>NaN</td>\n",
       "      <td>1.758469e-01</td>\n",
       "      <td>1.000000e+00</td>\n",
       "    </tr>\n",
       "  </tbody>\n",
       "</table>\n",
       "</div>"
      ],
      "text/plain": [
       "              clip_id        length        choice      feedback     timestamp  \\\n",
       "clip_id           NaN           NaN           NaN           NaN           NaN   \n",
       "length            NaN  1.000000e+00 -1.160768e-15  3.793215e-17  6.835615e-14   \n",
       "choice            NaN -1.160768e-15  1.000000e+00 -2.880405e-01 -1.751378e-02   \n",
       "feedback          NaN  3.793215e-17 -2.880405e-01  1.000000e+00 -1.698506e-01   \n",
       "timestamp         NaN  6.835615e-14 -1.751378e-02 -1.698506e-01  1.000000e+00   \n",
       "clip_type         NaN           NaN           NaN           NaN           NaN   \n",
       "delta_c           NaN  9.607094e-17  2.965840e-01  1.506209e-01 -2.028293e-02   \n",
       "start_pieces      NaN  1.000000e+00 -1.160768e-15  3.793215e-17  6.835615e-14   \n",
       "wp_center         NaN -1.000000e+00  1.160768e-15 -3.793215e-17 -6.835615e-14   \n",
       "bp_center         NaN           NaN           NaN           NaN           NaN   \n",
       "human             NaN -1.515076e-15  8.214062e-01 -2.223527e-01 -1.260674e-01   \n",
       "elo               NaN  2.820312e-17  1.473996e-01  1.876086e-01  5.540154e-02   \n",
       "\n",
       "              clip_type       delta_c  start_pieces     wp_center  bp_center  \\\n",
       "clip_id             NaN           NaN           NaN           NaN        NaN   \n",
       "length              NaN  9.607094e-17  1.000000e+00 -1.000000e+00        NaN   \n",
       "choice              NaN  2.965840e-01 -1.160768e-15  1.160768e-15        NaN   \n",
       "feedback            NaN  1.506209e-01  3.793215e-17 -3.793215e-17        NaN   \n",
       "timestamp           NaN -2.028293e-02  6.835615e-14 -6.835615e-14        NaN   \n",
       "clip_type           NaN           NaN           NaN           NaN        NaN   \n",
       "delta_c             NaN  1.000000e+00  1.143702e-16 -1.143702e-16        NaN   \n",
       "start_pieces        NaN  1.143702e-16  1.000000e+00 -1.000000e+00        NaN   \n",
       "wp_center           NaN -1.143702e-16 -1.000000e+00  1.000000e+00        NaN   \n",
       "bp_center           NaN           NaN           NaN           NaN        NaN   \n",
       "human               NaN  2.407311e-01 -1.481408e-15  1.481408e-15        NaN   \n",
       "elo                 NaN  1.780882e-01  0.000000e+00  0.000000e+00        NaN   \n",
       "\n",
       "                     human           elo  \n",
       "clip_id                NaN           NaN  \n",
       "length       -1.515076e-15  2.820312e-17  \n",
       "choice        8.214062e-01  1.473996e-01  \n",
       "feedback     -2.223527e-01  1.876086e-01  \n",
       "timestamp    -1.260674e-01  5.540154e-02  \n",
       "clip_type              NaN           NaN  \n",
       "delta_c       2.407311e-01  1.780882e-01  \n",
       "start_pieces -1.481408e-15  0.000000e+00  \n",
       "wp_center     1.481408e-15  0.000000e+00  \n",
       "bp_center              NaN           NaN  \n",
       "human         1.000000e+00  1.758469e-01  \n",
       "elo           1.758469e-01  1.000000e+00  "
      ]
     },
     "execution_count": 40,
     "metadata": {},
     "output_type": "execute_result"
    }
   ],
   "source": [
    "tur_sub.corr(method='pearson', min_periods=1)                        # check names order\n",
    "#tur_l.corr(method='spearman', min_periods=1)"
   ]
  },
  {
   "cell_type": "code",
   "execution_count": 41,
   "metadata": {},
   "outputs": [
    {
     "data": {
      "text/html": [
       "<div>\n",
       "<style>\n",
       "    .dataframe thead tr:only-child th {\n",
       "        text-align: right;\n",
       "    }\n",
       "\n",
       "    .dataframe thead th {\n",
       "        text-align: left;\n",
       "    }\n",
       "\n",
       "    .dataframe tbody tr th {\n",
       "        vertical-align: top;\n",
       "    }\n",
       "</style>\n",
       "<table border=\"1\" class=\"dataframe\">\n",
       "  <thead>\n",
       "    <tr style=\"text-align: right;\">\n",
       "      <th></th>\n",
       "      <th>length</th>\n",
       "      <th>clip_id</th>\n",
       "      <th>choice</th>\n",
       "      <th>feedback</th>\n",
       "      <th>timestamp</th>\n",
       "      <th>clip_type</th>\n",
       "      <th>delta_c</th>\n",
       "      <th>start_pieces</th>\n",
       "      <th>wp_center</th>\n",
       "      <th>bp_center</th>\n",
       "      <th>human</th>\n",
       "      <th>elo</th>\n",
       "    </tr>\n",
       "  </thead>\n",
       "  <tbody>\n",
       "    <tr>\n",
       "      <th>length</th>\n",
       "      <td>1.000000</td>\n",
       "      <td>0.127182</td>\n",
       "      <td>0.788214</td>\n",
       "      <td>0.168791</td>\n",
       "      <td>0.569871</td>\n",
       "      <td>0.310249</td>\n",
       "      <td>0.788671</td>\n",
       "      <td>-0.245630</td>\n",
       "      <td>-0.195426</td>\n",
       "      <td>-0.196692</td>\n",
       "      <td>0.679927</td>\n",
       "      <td>NaN</td>\n",
       "    </tr>\n",
       "    <tr>\n",
       "      <th>clip_id</th>\n",
       "      <td>0.127182</td>\n",
       "      <td>1.000000</td>\n",
       "      <td>0.190127</td>\n",
       "      <td>0.156572</td>\n",
       "      <td>0.254539</td>\n",
       "      <td>0.240077</td>\n",
       "      <td>0.185072</td>\n",
       "      <td>-0.150029</td>\n",
       "      <td>-0.409775</td>\n",
       "      <td>-0.328251</td>\n",
       "      <td>0.163959</td>\n",
       "      <td>NaN</td>\n",
       "    </tr>\n",
       "    <tr>\n",
       "      <th>choice</th>\n",
       "      <td>0.788214</td>\n",
       "      <td>0.190127</td>\n",
       "      <td>1.000000</td>\n",
       "      <td>0.446055</td>\n",
       "      <td>0.572017</td>\n",
       "      <td>0.521044</td>\n",
       "      <td>0.535816</td>\n",
       "      <td>-0.069813</td>\n",
       "      <td>-0.131214</td>\n",
       "      <td>-0.110222</td>\n",
       "      <td>0.948677</td>\n",
       "      <td>NaN</td>\n",
       "    </tr>\n",
       "    <tr>\n",
       "      <th>feedback</th>\n",
       "      <td>0.168791</td>\n",
       "      <td>0.156572</td>\n",
       "      <td>0.446055</td>\n",
       "      <td>1.000000</td>\n",
       "      <td>0.075977</td>\n",
       "      <td>0.705066</td>\n",
       "      <td>0.258888</td>\n",
       "      <td>-0.396543</td>\n",
       "      <td>-0.369252</td>\n",
       "      <td>-0.402610</td>\n",
       "      <td>0.515501</td>\n",
       "      <td>NaN</td>\n",
       "    </tr>\n",
       "    <tr>\n",
       "      <th>timestamp</th>\n",
       "      <td>0.569871</td>\n",
       "      <td>0.254539</td>\n",
       "      <td>0.572017</td>\n",
       "      <td>0.075977</td>\n",
       "      <td>1.000000</td>\n",
       "      <td>0.053353</td>\n",
       "      <td>0.400921</td>\n",
       "      <td>-0.035209</td>\n",
       "      <td>-0.219701</td>\n",
       "      <td>-0.270854</td>\n",
       "      <td>0.492685</td>\n",
       "      <td>NaN</td>\n",
       "    </tr>\n",
       "    <tr>\n",
       "      <th>clip_type</th>\n",
       "      <td>0.310249</td>\n",
       "      <td>0.240077</td>\n",
       "      <td>0.521044</td>\n",
       "      <td>0.705066</td>\n",
       "      <td>0.053353</td>\n",
       "      <td>1.000000</td>\n",
       "      <td>0.364630</td>\n",
       "      <td>-0.460728</td>\n",
       "      <td>-0.433554</td>\n",
       "      <td>-0.223815</td>\n",
       "      <td>0.494794</td>\n",
       "      <td>NaN</td>\n",
       "    </tr>\n",
       "    <tr>\n",
       "      <th>delta_c</th>\n",
       "      <td>0.788671</td>\n",
       "      <td>0.185072</td>\n",
       "      <td>0.535816</td>\n",
       "      <td>0.258888</td>\n",
       "      <td>0.400921</td>\n",
       "      <td>0.364630</td>\n",
       "      <td>1.000000</td>\n",
       "      <td>-0.256756</td>\n",
       "      <td>-0.270075</td>\n",
       "      <td>-0.258978</td>\n",
       "      <td>0.356740</td>\n",
       "      <td>NaN</td>\n",
       "    </tr>\n",
       "    <tr>\n",
       "      <th>start_pieces</th>\n",
       "      <td>-0.245630</td>\n",
       "      <td>-0.150029</td>\n",
       "      <td>-0.069813</td>\n",
       "      <td>-0.396543</td>\n",
       "      <td>-0.035209</td>\n",
       "      <td>-0.460728</td>\n",
       "      <td>-0.256756</td>\n",
       "      <td>1.000000</td>\n",
       "      <td>0.783954</td>\n",
       "      <td>0.544243</td>\n",
       "      <td>-0.086668</td>\n",
       "      <td>NaN</td>\n",
       "    </tr>\n",
       "    <tr>\n",
       "      <th>wp_center</th>\n",
       "      <td>-0.195426</td>\n",
       "      <td>-0.409775</td>\n",
       "      <td>-0.131214</td>\n",
       "      <td>-0.369252</td>\n",
       "      <td>-0.219701</td>\n",
       "      <td>-0.433554</td>\n",
       "      <td>-0.270075</td>\n",
       "      <td>0.783954</td>\n",
       "      <td>1.000000</td>\n",
       "      <td>0.657519</td>\n",
       "      <td>-0.135774</td>\n",
       "      <td>NaN</td>\n",
       "    </tr>\n",
       "    <tr>\n",
       "      <th>bp_center</th>\n",
       "      <td>-0.196692</td>\n",
       "      <td>-0.328251</td>\n",
       "      <td>-0.110222</td>\n",
       "      <td>-0.402610</td>\n",
       "      <td>-0.270854</td>\n",
       "      <td>-0.223815</td>\n",
       "      <td>-0.258978</td>\n",
       "      <td>0.544243</td>\n",
       "      <td>0.657519</td>\n",
       "      <td>1.000000</td>\n",
       "      <td>-0.125783</td>\n",
       "      <td>NaN</td>\n",
       "    </tr>\n",
       "    <tr>\n",
       "      <th>human</th>\n",
       "      <td>0.679927</td>\n",
       "      <td>0.163959</td>\n",
       "      <td>0.948677</td>\n",
       "      <td>0.515501</td>\n",
       "      <td>0.492685</td>\n",
       "      <td>0.494794</td>\n",
       "      <td>0.356740</td>\n",
       "      <td>-0.086668</td>\n",
       "      <td>-0.135774</td>\n",
       "      <td>-0.125783</td>\n",
       "      <td>1.000000</td>\n",
       "      <td>NaN</td>\n",
       "    </tr>\n",
       "    <tr>\n",
       "      <th>elo</th>\n",
       "      <td>NaN</td>\n",
       "      <td>NaN</td>\n",
       "      <td>NaN</td>\n",
       "      <td>NaN</td>\n",
       "      <td>NaN</td>\n",
       "      <td>NaN</td>\n",
       "      <td>NaN</td>\n",
       "      <td>NaN</td>\n",
       "      <td>NaN</td>\n",
       "      <td>NaN</td>\n",
       "      <td>NaN</td>\n",
       "      <td>NaN</td>\n",
       "    </tr>\n",
       "  </tbody>\n",
       "</table>\n",
       "</div>"
      ],
      "text/plain": [
       "                length   clip_id    choice  feedback  timestamp  clip_type  \\\n",
       "length        1.000000  0.127182  0.788214  0.168791   0.569871   0.310249   \n",
       "clip_id       0.127182  1.000000  0.190127  0.156572   0.254539   0.240077   \n",
       "choice        0.788214  0.190127  1.000000  0.446055   0.572017   0.521044   \n",
       "feedback      0.168791  0.156572  0.446055  1.000000   0.075977   0.705066   \n",
       "timestamp     0.569871  0.254539  0.572017  0.075977   1.000000   0.053353   \n",
       "clip_type     0.310249  0.240077  0.521044  0.705066   0.053353   1.000000   \n",
       "delta_c       0.788671  0.185072  0.535816  0.258888   0.400921   0.364630   \n",
       "start_pieces -0.245630 -0.150029 -0.069813 -0.396543  -0.035209  -0.460728   \n",
       "wp_center    -0.195426 -0.409775 -0.131214 -0.369252  -0.219701  -0.433554   \n",
       "bp_center    -0.196692 -0.328251 -0.110222 -0.402610  -0.270854  -0.223815   \n",
       "human         0.679927  0.163959  0.948677  0.515501   0.492685   0.494794   \n",
       "elo                NaN       NaN       NaN       NaN        NaN        NaN   \n",
       "\n",
       "               delta_c  start_pieces  wp_center  bp_center     human  elo  \n",
       "length        0.788671     -0.245630  -0.195426  -0.196692  0.679927  NaN  \n",
       "clip_id       0.185072     -0.150029  -0.409775  -0.328251  0.163959  NaN  \n",
       "choice        0.535816     -0.069813  -0.131214  -0.110222  0.948677  NaN  \n",
       "feedback      0.258888     -0.396543  -0.369252  -0.402610  0.515501  NaN  \n",
       "timestamp     0.400921     -0.035209  -0.219701  -0.270854  0.492685  NaN  \n",
       "clip_type     0.364630     -0.460728  -0.433554  -0.223815  0.494794  NaN  \n",
       "delta_c       1.000000     -0.256756  -0.270075  -0.258978  0.356740  NaN  \n",
       "start_pieces -0.256756      1.000000   0.783954   0.544243 -0.086668  NaN  \n",
       "wp_center    -0.270075      0.783954   1.000000   0.657519 -0.135774  NaN  \n",
       "bp_center    -0.258978      0.544243   0.657519   1.000000 -0.125783  NaN  \n",
       "human         0.356740     -0.086668  -0.135774  -0.125783  1.000000  NaN  \n",
       "elo                NaN           NaN        NaN        NaN       NaN  NaN  "
      ]
     },
     "execution_count": 41,
     "metadata": {},
     "output_type": "execute_result"
    }
   ],
   "source": [
    "tur_l.corr(method='pearson', min_periods=1)\n",
    "#tur_l.corr(method='spearman', min_periods=1)"
   ]
  },
  {
   "cell_type": "code",
   "execution_count": 42,
   "metadata": {},
   "outputs": [
    {
     "data": {
      "text/html": [
       "<div>\n",
       "<style>\n",
       "    .dataframe thead tr:only-child th {\n",
       "        text-align: right;\n",
       "    }\n",
       "\n",
       "    .dataframe thead th {\n",
       "        text-align: left;\n",
       "    }\n",
       "\n",
       "    .dataframe tbody tr th {\n",
       "        vertical-align: top;\n",
       "    }\n",
       "</style>\n",
       "<table border=\"1\" class=\"dataframe\">\n",
       "  <thead>\n",
       "    <tr style=\"text-align: right;\">\n",
       "      <th></th>\n",
       "      <th>length</th>\n",
       "      <th>clip_id</th>\n",
       "      <th>choice</th>\n",
       "      <th>feedback</th>\n",
       "      <th>timestamp</th>\n",
       "      <th>clip_type</th>\n",
       "      <th>delta_c</th>\n",
       "      <th>start_pieces</th>\n",
       "      <th>wp_center</th>\n",
       "      <th>bp_center</th>\n",
       "      <th>human</th>\n",
       "      <th>elo</th>\n",
       "    </tr>\n",
       "  </thead>\n",
       "  <tbody>\n",
       "    <tr>\n",
       "      <th>length</th>\n",
       "      <td>1.000000e+00</td>\n",
       "      <td>1.271820e-01</td>\n",
       "      <td>0.334066</td>\n",
       "      <td>0.077358</td>\n",
       "      <td>0.000028</td>\n",
       "      <td>3.102495e-01</td>\n",
       "      <td>0.182543</td>\n",
       "      <td>-2.456301e-01</td>\n",
       "      <td>-1.954256e-01</td>\n",
       "      <td>-1.966921e-01</td>\n",
       "      <td>0.281369</td>\n",
       "      <td>-9.527999e-18</td>\n",
       "    </tr>\n",
       "    <tr>\n",
       "      <th>clip_id</th>\n",
       "      <td>1.271820e-01</td>\n",
       "      <td>1.000000e+00</td>\n",
       "      <td>0.080581</td>\n",
       "      <td>0.071758</td>\n",
       "      <td>0.000012</td>\n",
       "      <td>2.400774e-01</td>\n",
       "      <td>0.042836</td>\n",
       "      <td>-1.500288e-01</td>\n",
       "      <td>-4.097752e-01</td>\n",
       "      <td>-3.282512e-01</td>\n",
       "      <td>0.067850</td>\n",
       "      <td>-1.969890e-18</td>\n",
       "    </tr>\n",
       "    <tr>\n",
       "      <th>choice</th>\n",
       "      <td>3.340659e-01</td>\n",
       "      <td>8.058108e-02</td>\n",
       "      <td>1.000000</td>\n",
       "      <td>0.301726</td>\n",
       "      <td>-0.028862</td>\n",
       "      <td>2.208322e-01</td>\n",
       "      <td>0.237341</td>\n",
       "      <td>-2.958845e-02</td>\n",
       "      <td>-5.561208e-02</td>\n",
       "      <td>-4.671503e-02</td>\n",
       "      <td>0.867498</td>\n",
       "      <td>2.834541e-02</td>\n",
       "    </tr>\n",
       "    <tr>\n",
       "      <th>feedback</th>\n",
       "      <td>7.735755e-02</td>\n",
       "      <td>7.175752e-02</td>\n",
       "      <td>0.301726</td>\n",
       "      <td>1.000000</td>\n",
       "      <td>-0.057518</td>\n",
       "      <td>3.231351e-01</td>\n",
       "      <td>0.074638</td>\n",
       "      <td>-1.817375e-01</td>\n",
       "      <td>-1.692300e-01</td>\n",
       "      <td>-1.845179e-01</td>\n",
       "      <td>0.334802</td>\n",
       "      <td>1.465374e-02</td>\n",
       "    </tr>\n",
       "    <tr>\n",
       "      <th>timestamp</th>\n",
       "      <td>2.777852e-05</td>\n",
       "      <td>1.240756e-05</td>\n",
       "      <td>-0.028862</td>\n",
       "      <td>-0.057518</td>\n",
       "      <td>1.000000</td>\n",
       "      <td>2.600717e-06</td>\n",
       "      <td>0.023832</td>\n",
       "      <td>-1.716265e-06</td>\n",
       "      <td>-1.070938e-05</td>\n",
       "      <td>-1.320285e-05</td>\n",
       "      <td>-0.048462</td>\n",
       "      <td>5.540563e-02</td>\n",
       "    </tr>\n",
       "    <tr>\n",
       "      <th>clip_type</th>\n",
       "      <td>3.102495e-01</td>\n",
       "      <td>2.400774e-01</td>\n",
       "      <td>0.220832</td>\n",
       "      <td>0.323135</td>\n",
       "      <td>0.000003</td>\n",
       "      <td>1.000000e+00</td>\n",
       "      <td>0.084396</td>\n",
       "      <td>-4.607285e-01</td>\n",
       "      <td>-4.335537e-01</td>\n",
       "      <td>-2.238152e-01</td>\n",
       "      <td>0.204757</td>\n",
       "      <td>-2.539675e-18</td>\n",
       "    </tr>\n",
       "    <tr>\n",
       "      <th>delta_c</th>\n",
       "      <td>1.825429e-01</td>\n",
       "      <td>4.283601e-02</td>\n",
       "      <td>0.237341</td>\n",
       "      <td>0.074638</td>\n",
       "      <td>0.023832</td>\n",
       "      <td>8.439599e-02</td>\n",
       "      <td>1.000000</td>\n",
       "      <td>-5.942782e-02</td>\n",
       "      <td>-6.251052e-02</td>\n",
       "      <td>-5.994223e-02</td>\n",
       "      <td>0.114900</td>\n",
       "      <td>1.581893e-01</td>\n",
       "    </tr>\n",
       "    <tr>\n",
       "      <th>start_pieces</th>\n",
       "      <td>-2.456301e-01</td>\n",
       "      <td>-1.500288e-01</td>\n",
       "      <td>-0.029588</td>\n",
       "      <td>-0.181737</td>\n",
       "      <td>-0.000002</td>\n",
       "      <td>-4.607285e-01</td>\n",
       "      <td>-0.059428</td>\n",
       "      <td>1.000000e+00</td>\n",
       "      <td>7.839543e-01</td>\n",
       "      <td>5.442431e-01</td>\n",
       "      <td>-0.035865</td>\n",
       "      <td>-7.356371e-18</td>\n",
       "    </tr>\n",
       "    <tr>\n",
       "      <th>wp_center</th>\n",
       "      <td>-1.954256e-01</td>\n",
       "      <td>-4.097752e-01</td>\n",
       "      <td>-0.055612</td>\n",
       "      <td>-0.169230</td>\n",
       "      <td>-0.000011</td>\n",
       "      <td>-4.335537e-01</td>\n",
       "      <td>-0.062511</td>\n",
       "      <td>7.839543e-01</td>\n",
       "      <td>1.000000e+00</td>\n",
       "      <td>6.575186e-01</td>\n",
       "      <td>-0.056186</td>\n",
       "      <td>-6.970382e-18</td>\n",
       "    </tr>\n",
       "    <tr>\n",
       "      <th>bp_center</th>\n",
       "      <td>-1.966921e-01</td>\n",
       "      <td>-3.282512e-01</td>\n",
       "      <td>-0.046715</td>\n",
       "      <td>-0.184518</td>\n",
       "      <td>-0.000013</td>\n",
       "      <td>-2.238152e-01</td>\n",
       "      <td>-0.059942</td>\n",
       "      <td>5.442431e-01</td>\n",
       "      <td>6.575186e-01</td>\n",
       "      <td>1.000000e+00</td>\n",
       "      <td>-0.052052</td>\n",
       "      <td>-1.656583e-18</td>\n",
       "    </tr>\n",
       "    <tr>\n",
       "      <th>human</th>\n",
       "      <td>2.813692e-01</td>\n",
       "      <td>6.784972e-02</td>\n",
       "      <td>0.867498</td>\n",
       "      <td>0.334802</td>\n",
       "      <td>-0.048462</td>\n",
       "      <td>2.047567e-01</td>\n",
       "      <td>0.114900</td>\n",
       "      <td>-3.586534e-02</td>\n",
       "      <td>-5.618617e-02</td>\n",
       "      <td>-5.205193e-02</td>\n",
       "      <td>1.000000</td>\n",
       "      <td>2.821330e-02</td>\n",
       "    </tr>\n",
       "    <tr>\n",
       "      <th>elo</th>\n",
       "      <td>-9.527999e-18</td>\n",
       "      <td>-1.969890e-18</td>\n",
       "      <td>0.028345</td>\n",
       "      <td>0.014654</td>\n",
       "      <td>0.055406</td>\n",
       "      <td>-2.539675e-18</td>\n",
       "      <td>0.158189</td>\n",
       "      <td>-7.356371e-18</td>\n",
       "      <td>-6.970382e-18</td>\n",
       "      <td>-1.656583e-18</td>\n",
       "      <td>0.028213</td>\n",
       "      <td>1.000000e+00</td>\n",
       "    </tr>\n",
       "  </tbody>\n",
       "</table>\n",
       "</div>"
      ],
      "text/plain": [
       "                    length       clip_id    choice  feedback  timestamp  \\\n",
       "length        1.000000e+00  1.271820e-01  0.334066  0.077358   0.000028   \n",
       "clip_id       1.271820e-01  1.000000e+00  0.080581  0.071758   0.000012   \n",
       "choice        3.340659e-01  8.058108e-02  1.000000  0.301726  -0.028862   \n",
       "feedback      7.735755e-02  7.175752e-02  0.301726  1.000000  -0.057518   \n",
       "timestamp     2.777852e-05  1.240756e-05 -0.028862 -0.057518   1.000000   \n",
       "clip_type     3.102495e-01  2.400774e-01  0.220832  0.323135   0.000003   \n",
       "delta_c       1.825429e-01  4.283601e-02  0.237341  0.074638   0.023832   \n",
       "start_pieces -2.456301e-01 -1.500288e-01 -0.029588 -0.181737  -0.000002   \n",
       "wp_center    -1.954256e-01 -4.097752e-01 -0.055612 -0.169230  -0.000011   \n",
       "bp_center    -1.966921e-01 -3.282512e-01 -0.046715 -0.184518  -0.000013   \n",
       "human         2.813692e-01  6.784972e-02  0.867498  0.334802  -0.048462   \n",
       "elo          -9.527999e-18 -1.969890e-18  0.028345  0.014654   0.055406   \n",
       "\n",
       "                 clip_type   delta_c  start_pieces     wp_center  \\\n",
       "length        3.102495e-01  0.182543 -2.456301e-01 -1.954256e-01   \n",
       "clip_id       2.400774e-01  0.042836 -1.500288e-01 -4.097752e-01   \n",
       "choice        2.208322e-01  0.237341 -2.958845e-02 -5.561208e-02   \n",
       "feedback      3.231351e-01  0.074638 -1.817375e-01 -1.692300e-01   \n",
       "timestamp     2.600717e-06  0.023832 -1.716265e-06 -1.070938e-05   \n",
       "clip_type     1.000000e+00  0.084396 -4.607285e-01 -4.335537e-01   \n",
       "delta_c       8.439599e-02  1.000000 -5.942782e-02 -6.251052e-02   \n",
       "start_pieces -4.607285e-01 -0.059428  1.000000e+00  7.839543e-01   \n",
       "wp_center    -4.335537e-01 -0.062511  7.839543e-01  1.000000e+00   \n",
       "bp_center    -2.238152e-01 -0.059942  5.442431e-01  6.575186e-01   \n",
       "human         2.047567e-01  0.114900 -3.586534e-02 -5.618617e-02   \n",
       "elo          -2.539675e-18  0.158189 -7.356371e-18 -6.970382e-18   \n",
       "\n",
       "                 bp_center     human           elo  \n",
       "length       -1.966921e-01  0.281369 -9.527999e-18  \n",
       "clip_id      -3.282512e-01  0.067850 -1.969890e-18  \n",
       "choice       -4.671503e-02  0.867498  2.834541e-02  \n",
       "feedback     -1.845179e-01  0.334802  1.465374e-02  \n",
       "timestamp    -1.320285e-05 -0.048462  5.540563e-02  \n",
       "clip_type    -2.238152e-01  0.204757 -2.539675e-18  \n",
       "delta_c      -5.994223e-02  0.114900  1.581893e-01  \n",
       "start_pieces  5.442431e-01 -0.035865 -7.356371e-18  \n",
       "wp_center     6.575186e-01 -0.056186 -6.970382e-18  \n",
       "bp_center     1.000000e+00 -0.052052 -1.656583e-18  \n",
       "human        -5.205193e-02  1.000000  2.821330e-02  \n",
       "elo          -1.656583e-18  0.028213  1.000000e+00  "
      ]
     },
     "execution_count": 42,
     "metadata": {},
     "output_type": "execute_result"
    }
   ],
   "source": [
    "tur_sl.corr(method='pearson', min_periods=1)\n",
    "#tur_st.corr(method='spearman', min_periods=1)"
   ]
  },
  {
   "cell_type": "code",
   "execution_count": 43,
   "metadata": {},
   "outputs": [
    {
     "data": {
      "text/html": [
       "<div>\n",
       "<style>\n",
       "    .dataframe thead tr:only-child th {\n",
       "        text-align: right;\n",
       "    }\n",
       "\n",
       "    .dataframe thead th {\n",
       "        text-align: left;\n",
       "    }\n",
       "\n",
       "    .dataframe tbody tr th {\n",
       "        vertical-align: top;\n",
       "    }\n",
       "</style>\n",
       "<table border=\"1\" class=\"dataframe\">\n",
       "  <thead>\n",
       "    <tr style=\"text-align: right;\">\n",
       "      <th></th>\n",
       "      <th>clip_type</th>\n",
       "      <th>clip_id</th>\n",
       "      <th>length</th>\n",
       "      <th>choice</th>\n",
       "      <th>feedback</th>\n",
       "      <th>timestamp</th>\n",
       "      <th>delta_c</th>\n",
       "      <th>start_pieces</th>\n",
       "      <th>wp_center</th>\n",
       "      <th>bp_center</th>\n",
       "      <th>human</th>\n",
       "      <th>elo</th>\n",
       "    </tr>\n",
       "  </thead>\n",
       "  <tbody>\n",
       "    <tr>\n",
       "      <th>clip_type</th>\n",
       "      <td>1.000000</td>\n",
       "      <td>1.000000</td>\n",
       "      <td>1.000000</td>\n",
       "      <td>0.550361</td>\n",
       "      <td>0.172001</td>\n",
       "      <td>-0.000008</td>\n",
       "      <td>-0.021564</td>\n",
       "      <td>-1.000000e+00</td>\n",
       "      <td>-1.000000e+00</td>\n",
       "      <td>-1.000000e+00</td>\n",
       "      <td>0.519486</td>\n",
       "      <td>0.000000e+00</td>\n",
       "    </tr>\n",
       "    <tr>\n",
       "      <th>clip_id</th>\n",
       "      <td>1.000000</td>\n",
       "      <td>1.000000</td>\n",
       "      <td>1.000000</td>\n",
       "      <td>0.550361</td>\n",
       "      <td>0.172001</td>\n",
       "      <td>-0.000008</td>\n",
       "      <td>-0.021564</td>\n",
       "      <td>-1.000000e+00</td>\n",
       "      <td>-1.000000e+00</td>\n",
       "      <td>-1.000000e+00</td>\n",
       "      <td>0.519486</td>\n",
       "      <td>0.000000e+00</td>\n",
       "    </tr>\n",
       "    <tr>\n",
       "      <th>length</th>\n",
       "      <td>1.000000</td>\n",
       "      <td>1.000000</td>\n",
       "      <td>1.000000</td>\n",
       "      <td>0.550361</td>\n",
       "      <td>0.172001</td>\n",
       "      <td>-0.000008</td>\n",
       "      <td>-0.021564</td>\n",
       "      <td>-1.000000e+00</td>\n",
       "      <td>-1.000000e+00</td>\n",
       "      <td>-1.000000e+00</td>\n",
       "      <td>0.519486</td>\n",
       "      <td>0.000000e+00</td>\n",
       "    </tr>\n",
       "    <tr>\n",
       "      <th>choice</th>\n",
       "      <td>0.550361</td>\n",
       "      <td>0.550361</td>\n",
       "      <td>0.550361</td>\n",
       "      <td>1.000000</td>\n",
       "      <td>-0.025471</td>\n",
       "      <td>-0.011912</td>\n",
       "      <td>0.158203</td>\n",
       "      <td>-5.503613e-01</td>\n",
       "      <td>-5.503613e-01</td>\n",
       "      <td>-5.503613e-01</td>\n",
       "      <td>0.879009</td>\n",
       "      <td>1.002174e-01</td>\n",
       "    </tr>\n",
       "    <tr>\n",
       "      <th>feedback</th>\n",
       "      <td>0.172001</td>\n",
       "      <td>0.172001</td>\n",
       "      <td>0.172001</td>\n",
       "      <td>-0.025471</td>\n",
       "      <td>1.000000</td>\n",
       "      <td>-0.092719</td>\n",
       "      <td>0.114751</td>\n",
       "      <td>-1.720012e-01</td>\n",
       "      <td>-1.720012e-01</td>\n",
       "      <td>-1.720012e-01</td>\n",
       "      <td>-0.083318</td>\n",
       "      <td>1.024122e-01</td>\n",
       "    </tr>\n",
       "    <tr>\n",
       "      <th>timestamp</th>\n",
       "      <td>-0.000008</td>\n",
       "      <td>-0.000008</td>\n",
       "      <td>-0.000008</td>\n",
       "      <td>-0.011912</td>\n",
       "      <td>-0.092719</td>\n",
       "      <td>1.000000</td>\n",
       "      <td>-0.020099</td>\n",
       "      <td>8.062151e-06</td>\n",
       "      <td>8.062151e-06</td>\n",
       "      <td>8.062151e-06</td>\n",
       "      <td>-0.089674</td>\n",
       "      <td>5.540154e-02</td>\n",
       "    </tr>\n",
       "    <tr>\n",
       "      <th>delta_c</th>\n",
       "      <td>-0.021564</td>\n",
       "      <td>-0.021564</td>\n",
       "      <td>-0.021564</td>\n",
       "      <td>0.158203</td>\n",
       "      <td>0.114751</td>\n",
       "      <td>-0.020099</td>\n",
       "      <td>1.000000</td>\n",
       "      <td>2.156361e-02</td>\n",
       "      <td>2.156361e-02</td>\n",
       "      <td>2.156361e-02</td>\n",
       "      <td>0.128632</td>\n",
       "      <td>1.764645e-01</td>\n",
       "    </tr>\n",
       "    <tr>\n",
       "      <th>start_pieces</th>\n",
       "      <td>-1.000000</td>\n",
       "      <td>-1.000000</td>\n",
       "      <td>-1.000000</td>\n",
       "      <td>-0.550361</td>\n",
       "      <td>-0.172001</td>\n",
       "      <td>0.000008</td>\n",
       "      <td>0.021564</td>\n",
       "      <td>1.000000e+00</td>\n",
       "      <td>1.000000e+00</td>\n",
       "      <td>1.000000e+00</td>\n",
       "      <td>-0.519486</td>\n",
       "      <td>7.050780e-18</td>\n",
       "    </tr>\n",
       "    <tr>\n",
       "      <th>wp_center</th>\n",
       "      <td>-1.000000</td>\n",
       "      <td>-1.000000</td>\n",
       "      <td>-1.000000</td>\n",
       "      <td>-0.550361</td>\n",
       "      <td>-0.172001</td>\n",
       "      <td>0.000008</td>\n",
       "      <td>0.021564</td>\n",
       "      <td>1.000000e+00</td>\n",
       "      <td>1.000000e+00</td>\n",
       "      <td>1.000000e+00</td>\n",
       "      <td>-0.519486</td>\n",
       "      <td>-6.610106e-18</td>\n",
       "    </tr>\n",
       "    <tr>\n",
       "      <th>bp_center</th>\n",
       "      <td>-1.000000</td>\n",
       "      <td>-1.000000</td>\n",
       "      <td>-1.000000</td>\n",
       "      <td>-0.550361</td>\n",
       "      <td>-0.172001</td>\n",
       "      <td>0.000008</td>\n",
       "      <td>0.021564</td>\n",
       "      <td>1.000000e+00</td>\n",
       "      <td>1.000000e+00</td>\n",
       "      <td>1.000000e+00</td>\n",
       "      <td>-0.519486</td>\n",
       "      <td>-9.915159e-18</td>\n",
       "    </tr>\n",
       "    <tr>\n",
       "      <th>human</th>\n",
       "      <td>0.519486</td>\n",
       "      <td>0.519486</td>\n",
       "      <td>0.519486</td>\n",
       "      <td>0.879009</td>\n",
       "      <td>-0.083318</td>\n",
       "      <td>-0.089674</td>\n",
       "      <td>0.128632</td>\n",
       "      <td>-5.194860e-01</td>\n",
       "      <td>-5.194860e-01</td>\n",
       "      <td>-5.194860e-01</td>\n",
       "      <td>1.000000</td>\n",
       "      <td>1.250778e-01</td>\n",
       "    </tr>\n",
       "    <tr>\n",
       "      <th>elo</th>\n",
       "      <td>0.000000</td>\n",
       "      <td>0.000000</td>\n",
       "      <td>0.000000</td>\n",
       "      <td>0.100217</td>\n",
       "      <td>0.102412</td>\n",
       "      <td>0.055402</td>\n",
       "      <td>0.176465</td>\n",
       "      <td>7.050780e-18</td>\n",
       "      <td>-6.610106e-18</td>\n",
       "      <td>-9.915159e-18</td>\n",
       "      <td>0.125078</td>\n",
       "      <td>1.000000e+00</td>\n",
       "    </tr>\n",
       "  </tbody>\n",
       "</table>\n",
       "</div>"
      ],
      "text/plain": [
       "              clip_type   clip_id    length    choice  feedback  timestamp  \\\n",
       "clip_type      1.000000  1.000000  1.000000  0.550361  0.172001  -0.000008   \n",
       "clip_id        1.000000  1.000000  1.000000  0.550361  0.172001  -0.000008   \n",
       "length         1.000000  1.000000  1.000000  0.550361  0.172001  -0.000008   \n",
       "choice         0.550361  0.550361  0.550361  1.000000 -0.025471  -0.011912   \n",
       "feedback       0.172001  0.172001  0.172001 -0.025471  1.000000  -0.092719   \n",
       "timestamp     -0.000008 -0.000008 -0.000008 -0.011912 -0.092719   1.000000   \n",
       "delta_c       -0.021564 -0.021564 -0.021564  0.158203  0.114751  -0.020099   \n",
       "start_pieces  -1.000000 -1.000000 -1.000000 -0.550361 -0.172001   0.000008   \n",
       "wp_center     -1.000000 -1.000000 -1.000000 -0.550361 -0.172001   0.000008   \n",
       "bp_center     -1.000000 -1.000000 -1.000000 -0.550361 -0.172001   0.000008   \n",
       "human          0.519486  0.519486  0.519486  0.879009 -0.083318  -0.089674   \n",
       "elo            0.000000  0.000000  0.000000  0.100217  0.102412   0.055402   \n",
       "\n",
       "               delta_c  start_pieces     wp_center     bp_center     human  \\\n",
       "clip_type    -0.021564 -1.000000e+00 -1.000000e+00 -1.000000e+00  0.519486   \n",
       "clip_id      -0.021564 -1.000000e+00 -1.000000e+00 -1.000000e+00  0.519486   \n",
       "length       -0.021564 -1.000000e+00 -1.000000e+00 -1.000000e+00  0.519486   \n",
       "choice        0.158203 -5.503613e-01 -5.503613e-01 -5.503613e-01  0.879009   \n",
       "feedback      0.114751 -1.720012e-01 -1.720012e-01 -1.720012e-01 -0.083318   \n",
       "timestamp    -0.020099  8.062151e-06  8.062151e-06  8.062151e-06 -0.089674   \n",
       "delta_c       1.000000  2.156361e-02  2.156361e-02  2.156361e-02  0.128632   \n",
       "start_pieces  0.021564  1.000000e+00  1.000000e+00  1.000000e+00 -0.519486   \n",
       "wp_center     0.021564  1.000000e+00  1.000000e+00  1.000000e+00 -0.519486   \n",
       "bp_center     0.021564  1.000000e+00  1.000000e+00  1.000000e+00 -0.519486   \n",
       "human         0.128632 -5.194860e-01 -5.194860e-01 -5.194860e-01  1.000000   \n",
       "elo           0.176465  7.050780e-18 -6.610106e-18 -9.915159e-18  0.125078   \n",
       "\n",
       "                       elo  \n",
       "clip_type     0.000000e+00  \n",
       "clip_id       0.000000e+00  \n",
       "length        0.000000e+00  \n",
       "choice        1.002174e-01  \n",
       "feedback      1.024122e-01  \n",
       "timestamp     5.540154e-02  \n",
       "delta_c       1.764645e-01  \n",
       "start_pieces  7.050780e-18  \n",
       "wp_center    -6.610106e-18  \n",
       "bp_center    -9.915159e-18  \n",
       "human         1.250778e-01  \n",
       "elo           1.000000e+00  "
      ]
     },
     "execution_count": 43,
     "metadata": {},
     "output_type": "execute_result"
    }
   ],
   "source": [
    "tur_st.corr(method='pearson', min_periods=1)\n",
    "#tur_st.corr(method='spearman', min_periods=1)"
   ]
  },
  {
   "cell_type": "code",
   "execution_count": 44,
   "metadata": {},
   "outputs": [
    {
     "data": {
      "text/html": [
       "<div>\n",
       "<style>\n",
       "    .dataframe thead tr:only-child th {\n",
       "        text-align: right;\n",
       "    }\n",
       "\n",
       "    .dataframe thead th {\n",
       "        text-align: left;\n",
       "    }\n",
       "\n",
       "    .dataframe tbody tr th {\n",
       "        vertical-align: top;\n",
       "    }\n",
       "</style>\n",
       "<table border=\"1\" class=\"dataframe\">\n",
       "  <thead>\n",
       "    <tr style=\"text-align: right;\">\n",
       "      <th></th>\n",
       "      <th>clip_id</th>\n",
       "      <th>length</th>\n",
       "      <th>choice</th>\n",
       "      <th>feedback</th>\n",
       "      <th>timestamp</th>\n",
       "      <th>clip_type</th>\n",
       "      <th>delta_c</th>\n",
       "      <th>start_pieces</th>\n",
       "      <th>wp_center</th>\n",
       "      <th>bp_center</th>\n",
       "      <th>human</th>\n",
       "      <th>elo</th>\n",
       "      <th>pred_weighted</th>\n",
       "    </tr>\n",
       "  </thead>\n",
       "  <tbody>\n",
       "    <tr>\n",
       "      <th>clip_id</th>\n",
       "      <td>1.000000</td>\n",
       "      <td>7.145554e-02</td>\n",
       "      <td>4.676275e-02</td>\n",
       "      <td>1.463297e-01</td>\n",
       "      <td>1.034733e-01</td>\n",
       "      <td>0.010264</td>\n",
       "      <td>-6.057029e-02</td>\n",
       "      <td>-0.094811</td>\n",
       "      <td>-4.004202e-02</td>\n",
       "      <td>-7.571583e-02</td>\n",
       "      <td>7.660273e-02</td>\n",
       "      <td>0.000000e+00</td>\n",
       "      <td>3.969242e-02</td>\n",
       "    </tr>\n",
       "    <tr>\n",
       "      <th>length</th>\n",
       "      <td>0.071456</td>\n",
       "      <td>1.000000e+00</td>\n",
       "      <td>4.490696e-01</td>\n",
       "      <td>1.442103e-01</td>\n",
       "      <td>1.337819e-01</td>\n",
       "      <td>0.174984</td>\n",
       "      <td>4.546217e-01</td>\n",
       "      <td>-0.133350</td>\n",
       "      <td>-5.090385e-02</td>\n",
       "      <td>-8.871620e-02</td>\n",
       "      <td>3.719010e-01</td>\n",
       "      <td>4.345632e-17</td>\n",
       "      <td>5.951754e-01</td>\n",
       "    </tr>\n",
       "    <tr>\n",
       "      <th>choice</th>\n",
       "      <td>0.046763</td>\n",
       "      <td>4.490696e-01</td>\n",
       "      <td>1.000000e+00</td>\n",
       "      <td>-5.126447e-02</td>\n",
       "      <td>2.280077e-02</td>\n",
       "      <td>0.388970</td>\n",
       "      <td>-1.572505e-01</td>\n",
       "      <td>0.112464</td>\n",
       "      <td>8.988423e-03</td>\n",
       "      <td>5.409952e-02</td>\n",
       "      <td>9.464802e-01</td>\n",
       "      <td>-2.597055e-16</td>\n",
       "      <td>8.793192e-01</td>\n",
       "    </tr>\n",
       "    <tr>\n",
       "      <th>feedback</th>\n",
       "      <td>0.146330</td>\n",
       "      <td>1.442103e-01</td>\n",
       "      <td>-5.126447e-02</td>\n",
       "      <td>1.000000e+00</td>\n",
       "      <td>1.374647e-02</td>\n",
       "      <td>0.102357</td>\n",
       "      <td>2.593970e-01</td>\n",
       "      <td>-0.164066</td>\n",
       "      <td>-1.840077e-01</td>\n",
       "      <td>-1.752349e-01</td>\n",
       "      <td>-2.960135e-02</td>\n",
       "      <td>8.762529e-17</td>\n",
       "      <td>8.042156e-02</td>\n",
       "    </tr>\n",
       "    <tr>\n",
       "      <th>timestamp</th>\n",
       "      <td>0.103473</td>\n",
       "      <td>1.337819e-01</td>\n",
       "      <td>2.280077e-02</td>\n",
       "      <td>1.374647e-02</td>\n",
       "      <td>1.000000e+00</td>\n",
       "      <td>-0.137613</td>\n",
       "      <td>7.800652e-02</td>\n",
       "      <td>-0.020145</td>\n",
       "      <td>2.214657e-03</td>\n",
       "      <td>6.293352e-02</td>\n",
       "      <td>-2.436885e-02</td>\n",
       "      <td>9.387836e-11</td>\n",
       "      <td>1.875437e-02</td>\n",
       "    </tr>\n",
       "    <tr>\n",
       "      <th>clip_type</th>\n",
       "      <td>0.010264</td>\n",
       "      <td>1.749837e-01</td>\n",
       "      <td>3.889699e-01</td>\n",
       "      <td>1.023569e-01</td>\n",
       "      <td>-1.376132e-01</td>\n",
       "      <td>1.000000</td>\n",
       "      <td>-5.635718e-02</td>\n",
       "      <td>-0.051016</td>\n",
       "      <td>-3.794430e-02</td>\n",
       "      <td>-5.445328e-02</td>\n",
       "      <td>3.372867e-01</td>\n",
       "      <td>0.000000e+00</td>\n",
       "      <td>3.290448e-01</td>\n",
       "    </tr>\n",
       "    <tr>\n",
       "      <th>delta_c</th>\n",
       "      <td>-0.060570</td>\n",
       "      <td>4.546217e-01</td>\n",
       "      <td>-1.572505e-01</td>\n",
       "      <td>2.593970e-01</td>\n",
       "      <td>7.800652e-02</td>\n",
       "      <td>-0.056357</td>\n",
       "      <td>1.000000e+00</td>\n",
       "      <td>-0.126172</td>\n",
       "      <td>-5.185104e-03</td>\n",
       "      <td>-9.840846e-02</td>\n",
       "      <td>-2.290717e-01</td>\n",
       "      <td>-3.017136e-16</td>\n",
       "      <td>2.546028e-01</td>\n",
       "    </tr>\n",
       "    <tr>\n",
       "      <th>start_pieces</th>\n",
       "      <td>-0.094811</td>\n",
       "      <td>-1.333498e-01</td>\n",
       "      <td>1.124638e-01</td>\n",
       "      <td>-1.640664e-01</td>\n",
       "      <td>-2.014466e-02</td>\n",
       "      <td>-0.051016</td>\n",
       "      <td>-1.261717e-01</td>\n",
       "      <td>1.000000</td>\n",
       "      <td>5.261411e-01</td>\n",
       "      <td>4.330882e-01</td>\n",
       "      <td>1.332144e-01</td>\n",
       "      <td>0.000000e+00</td>\n",
       "      <td>9.275415e-02</td>\n",
       "    </tr>\n",
       "    <tr>\n",
       "      <th>wp_center</th>\n",
       "      <td>-0.040042</td>\n",
       "      <td>-5.090385e-02</td>\n",
       "      <td>8.988423e-03</td>\n",
       "      <td>-1.840077e-01</td>\n",
       "      <td>2.214657e-03</td>\n",
       "      <td>-0.037944</td>\n",
       "      <td>-5.185104e-03</td>\n",
       "      <td>0.526141</td>\n",
       "      <td>1.000000e+00</td>\n",
       "      <td>4.673036e-01</td>\n",
       "      <td>-1.415615e-02</td>\n",
       "      <td>-2.606234e-16</td>\n",
       "      <td>9.566230e-03</td>\n",
       "    </tr>\n",
       "    <tr>\n",
       "      <th>bp_center</th>\n",
       "      <td>-0.075716</td>\n",
       "      <td>-8.871620e-02</td>\n",
       "      <td>5.409952e-02</td>\n",
       "      <td>-1.752349e-01</td>\n",
       "      <td>6.293352e-02</td>\n",
       "      <td>-0.054453</td>\n",
       "      <td>-9.840846e-02</td>\n",
       "      <td>0.433088</td>\n",
       "      <td>4.673036e-01</td>\n",
       "      <td>1.000000e+00</td>\n",
       "      <td>3.581124e-02</td>\n",
       "      <td>9.834059e-17</td>\n",
       "      <td>9.586450e-03</td>\n",
       "    </tr>\n",
       "    <tr>\n",
       "      <th>human</th>\n",
       "      <td>0.076603</td>\n",
       "      <td>3.719010e-01</td>\n",
       "      <td>9.464802e-01</td>\n",
       "      <td>-2.960135e-02</td>\n",
       "      <td>-2.436885e-02</td>\n",
       "      <td>0.337287</td>\n",
       "      <td>-2.290717e-01</td>\n",
       "      <td>0.133214</td>\n",
       "      <td>-1.415615e-02</td>\n",
       "      <td>3.581124e-02</td>\n",
       "      <td>1.000000e+00</td>\n",
       "      <td>1.803644e-16</td>\n",
       "      <td>8.735631e-01</td>\n",
       "    </tr>\n",
       "    <tr>\n",
       "      <th>elo</th>\n",
       "      <td>0.000000</td>\n",
       "      <td>4.345632e-17</td>\n",
       "      <td>-2.597055e-16</td>\n",
       "      <td>8.762529e-17</td>\n",
       "      <td>9.387836e-11</td>\n",
       "      <td>0.000000</td>\n",
       "      <td>-3.017136e-16</td>\n",
       "      <td>0.000000</td>\n",
       "      <td>-2.606234e-16</td>\n",
       "      <td>9.834059e-17</td>\n",
       "      <td>1.803644e-16</td>\n",
       "      <td>1.000000e+00</td>\n",
       "      <td>-1.809275e-15</td>\n",
       "    </tr>\n",
       "    <tr>\n",
       "      <th>pred_weighted</th>\n",
       "      <td>0.039692</td>\n",
       "      <td>5.951754e-01</td>\n",
       "      <td>8.793192e-01</td>\n",
       "      <td>8.042156e-02</td>\n",
       "      <td>1.875437e-02</td>\n",
       "      <td>0.329045</td>\n",
       "      <td>2.546028e-01</td>\n",
       "      <td>0.092754</td>\n",
       "      <td>9.566230e-03</td>\n",
       "      <td>9.586450e-03</td>\n",
       "      <td>8.735631e-01</td>\n",
       "      <td>-1.809275e-15</td>\n",
       "      <td>1.000000e+00</td>\n",
       "    </tr>\n",
       "  </tbody>\n",
       "</table>\n",
       "</div>"
      ],
      "text/plain": [
       "                clip_id        length        choice      feedback  \\\n",
       "clip_id        1.000000  7.145554e-02  4.676275e-02  1.463297e-01   \n",
       "length         0.071456  1.000000e+00  4.490696e-01  1.442103e-01   \n",
       "choice         0.046763  4.490696e-01  1.000000e+00 -5.126447e-02   \n",
       "feedback       0.146330  1.442103e-01 -5.126447e-02  1.000000e+00   \n",
       "timestamp      0.103473  1.337819e-01  2.280077e-02  1.374647e-02   \n",
       "clip_type      0.010264  1.749837e-01  3.889699e-01  1.023569e-01   \n",
       "delta_c       -0.060570  4.546217e-01 -1.572505e-01  2.593970e-01   \n",
       "start_pieces  -0.094811 -1.333498e-01  1.124638e-01 -1.640664e-01   \n",
       "wp_center     -0.040042 -5.090385e-02  8.988423e-03 -1.840077e-01   \n",
       "bp_center     -0.075716 -8.871620e-02  5.409952e-02 -1.752349e-01   \n",
       "human          0.076603  3.719010e-01  9.464802e-01 -2.960135e-02   \n",
       "elo            0.000000  4.345632e-17 -2.597055e-16  8.762529e-17   \n",
       "pred_weighted  0.039692  5.951754e-01  8.793192e-01  8.042156e-02   \n",
       "\n",
       "                  timestamp  clip_type       delta_c  start_pieces  \\\n",
       "clip_id        1.034733e-01   0.010264 -6.057029e-02     -0.094811   \n",
       "length         1.337819e-01   0.174984  4.546217e-01     -0.133350   \n",
       "choice         2.280077e-02   0.388970 -1.572505e-01      0.112464   \n",
       "feedback       1.374647e-02   0.102357  2.593970e-01     -0.164066   \n",
       "timestamp      1.000000e+00  -0.137613  7.800652e-02     -0.020145   \n",
       "clip_type     -1.376132e-01   1.000000 -5.635718e-02     -0.051016   \n",
       "delta_c        7.800652e-02  -0.056357  1.000000e+00     -0.126172   \n",
       "start_pieces  -2.014466e-02  -0.051016 -1.261717e-01      1.000000   \n",
       "wp_center      2.214657e-03  -0.037944 -5.185104e-03      0.526141   \n",
       "bp_center      6.293352e-02  -0.054453 -9.840846e-02      0.433088   \n",
       "human         -2.436885e-02   0.337287 -2.290717e-01      0.133214   \n",
       "elo            9.387836e-11   0.000000 -3.017136e-16      0.000000   \n",
       "pred_weighted  1.875437e-02   0.329045  2.546028e-01      0.092754   \n",
       "\n",
       "                  wp_center     bp_center         human           elo  \\\n",
       "clip_id       -4.004202e-02 -7.571583e-02  7.660273e-02  0.000000e+00   \n",
       "length        -5.090385e-02 -8.871620e-02  3.719010e-01  4.345632e-17   \n",
       "choice         8.988423e-03  5.409952e-02  9.464802e-01 -2.597055e-16   \n",
       "feedback      -1.840077e-01 -1.752349e-01 -2.960135e-02  8.762529e-17   \n",
       "timestamp      2.214657e-03  6.293352e-02 -2.436885e-02  9.387836e-11   \n",
       "clip_type     -3.794430e-02 -5.445328e-02  3.372867e-01  0.000000e+00   \n",
       "delta_c       -5.185104e-03 -9.840846e-02 -2.290717e-01 -3.017136e-16   \n",
       "start_pieces   5.261411e-01  4.330882e-01  1.332144e-01  0.000000e+00   \n",
       "wp_center      1.000000e+00  4.673036e-01 -1.415615e-02 -2.606234e-16   \n",
       "bp_center      4.673036e-01  1.000000e+00  3.581124e-02  9.834059e-17   \n",
       "human         -1.415615e-02  3.581124e-02  1.000000e+00  1.803644e-16   \n",
       "elo           -2.606234e-16  9.834059e-17  1.803644e-16  1.000000e+00   \n",
       "pred_weighted  9.566230e-03  9.586450e-03  8.735631e-01 -1.809275e-15   \n",
       "\n",
       "               pred_weighted  \n",
       "clip_id         3.969242e-02  \n",
       "length          5.951754e-01  \n",
       "choice          8.793192e-01  \n",
       "feedback        8.042156e-02  \n",
       "timestamp       1.875437e-02  \n",
       "clip_type       3.290448e-01  \n",
       "delta_c         2.546028e-01  \n",
       "start_pieces    9.275415e-02  \n",
       "wp_center       9.566230e-03  \n",
       "bp_center       9.586450e-03  \n",
       "human           8.735631e-01  \n",
       "elo            -1.809275e-15  \n",
       "pred_weighted   1.000000e+00  "
      ]
     },
     "execution_count": 44,
     "metadata": {},
     "output_type": "execute_result"
    }
   ],
   "source": [
    "tur_vid.corr(method='pearson', min_periods=1)\n",
    "#tur_st.corr(method='spearman', min_periods=1)"
   ]
  },
  {
   "cell_type": "code",
   "execution_count": 45,
   "metadata": {},
   "outputs": [
    {
     "data": {
      "text/plain": [
       "22"
      ]
     },
     "execution_count": 45,
     "metadata": {},
     "output_type": "execute_result"
    }
   ],
   "source": [
    "pieces = tur.sort_values(by='start_pieces').start_pieces.unique()\n",
    "len(pieces)"
   ]
  },
  {
   "cell_type": "code",
   "execution_count": 46,
   "metadata": {
    "collapsed": true
   },
   "outputs": [],
   "source": [
    "# added characteristic of starting pieces? do they take into account of that?\n",
    "tur_pieces = tur.groupby(['start_pieces']).mean().reset_index()\n",
    "tur_sp = tur.groupby(['user_name','start_pieces']).mean().reset_index()"
   ]
  },
  {
   "cell_type": "code",
   "execution_count": 47,
   "metadata": {},
   "outputs": [
    {
     "data": {
      "image/png": "[encoded data removed]",
      "text/plain": [
       "<matplotlib.figure.Figure at 0x19246dcb160>"
      ]
     },
     "metadata": {},
     "output_type": "display_data"
    }
   ],
   "source": [
    "# Bias as a function of vid starting pieces?\n",
    "fig, axes = plt.subplots(1, 1, figsize=(10,6))\n",
    "\n",
    "tur_pie = dict()\n",
    "for i in range(0,22,1):\n",
    "    tur_pie[i] = tur.loc[tur.start_pieces==pieces[i]]\n",
    "y = [np.mean(tur_pie[i]['choice']) for i in range(0,22,1)]\n",
    "yerr = [np.std(tur_pie[i]['choice'])/np.sqrt(30) for i in range(0,22,1)]\n",
    "axes.errorbar(pieces, y, yerr,alpha=0.6)\n",
    "\n",
    "# averaging correlations for each subject\n",
    "tur_subject = dict()\n",
    "r_values=[]\n",
    "p_values=[]\n",
    "r_pearson = []\n",
    "for i in range(0,30,1):\n",
    "    tur_subject[i] = tur.loc[tur.user_name == names[i]]\n",
    "    slope, intercept, r_val, p_val, std_err = sts.linregress(tur_subject[i].choice, tur_subject[i].start_pieces)\n",
    "    r_values.append(r_val)\n",
    "    p_values.append(p_val)\n",
    "    r_pearson.append(np.corrcoef(tur_subject[i].start_pieces, tur_subject[i].choice)[0, 1])\n",
    "# average over within subject correlations\n",
    "r_mean = np.average(r_values)\n",
    "p_mean = np.average(p_values)\n",
    "r_pmean = np.average(r_pearson)\n",
    "\n",
    "# huge correlation using all trials\n",
    "slope, intercept, r_value, p_value, std_err = sts.linregress(tur.start_pieces, tur.choice)\n",
    "\n",
    "if (p_value<0.001):\n",
    "    text_1 = 'Overall: p<0.001, '+'r='+str(round(r_value,3))\n",
    "else:\n",
    "    text_1 = 'Overall: p='+str(round(p_value,3))+', '+'r='+str(round(r_value,3))\n",
    "if (p_mean<0.001):\n",
    "    text_2 = 'Ave_subject: p<0.001, '+'r='+str(round(r_mean,3))\n",
    "else:\n",
    "    text_2 = 'Ave_subject: p='+str(round(p_mean,3))+', '+'r='+str(round(r_mean,3))\n",
    "plt.figtext(0.785,0.20,text_1, fontsize=14, ha='center', va='center', transform=axes.transAxes)\n",
    "plt.figtext(0.765,0.15,text_2, fontsize=14, ha='center', va='center', transform=axes.transAxes)\n",
    "if (round(r_pmean,2)!=round(r_mean,2)):\n",
    "    plt.figtext(0.75,0.25,'Pearson: r='+str(round(r_mean,3)), fontsize=14, ha='center', va='center', transform=axes.transAxes)\n",
    "\n",
    "plt.setp(\n",
    "    axes, \n",
    "    xlim=[-1, 30], xticks=np.arange(-1, 31, 5), xlabel='Video Starting Pieces',\n",
    "    ylim=[30,80], yticks=np.arange(30, 81, 5), ylabel='Choice (Computer to Human)'\n",
    ")\n",
    "\n",
    "plt.scatter(tur_pieces.start_pieces, tur_pieces.choice,s=80,color=greens)\n",
    "\n",
    "sns.despine()"
   ]
  },
  {
   "cell_type": "markdown",
   "metadata": {},
   "source": [
    "### Qn 0: Is there bias towards an answer?\n",
    "#### 16 subjects' mean choice is towards \"people play\", 14 towards \"computer\", no systematic bias"
   ]
  },
  {
   "cell_type": "code",
   "execution_count": 48,
   "metadata": {},
   "outputs": [
    {
     "name": "stdout",
     "output_type": "stream",
     "text": [
      "82\n"
     ]
    }
   ],
   "source": [
    "print(len(tur_vid.loc[tur_vid['choice']>=50]))"
   ]
  },
  {
   "cell_type": "code",
   "execution_count": 60,
   "metadata": {},
   "outputs": [
    {
     "name": "stdout",
     "output_type": "stream",
     "text": [
      "0.0371462018086 0.150809763712 7.70915925328e-29\n"
     ]
    },
    {
     "data": {
      "image/png": "[encoded data removed]",
      "text/plain": [
       "<matplotlib.figure.Figure at 0x1924552b080>"
      ]
     },
     "metadata": {},
     "output_type": "display_data"
    }
   ],
   "source": [
    "# Bias as a function of vid length??\n",
    "fig, axes = plt.subplots(1, 1, figsize=(10,6))\n",
    "\n",
    "tur_len = dict()\n",
    "for i,l in enumerate(length):\n",
    "    tur_len[i] = tur.loc[tur.length==l]\n",
    "y = [np.mean(tur_len[i]['choice']) for i in range(0,28,1)]\n",
    "yerr = [np.std(tur_len[i]['choice'])/np.sqrt(30) for i in range(0,28,1)]\n",
    "axes.errorbar(length, y, yerr,alpha=0.6)\n",
    "\n",
    "# averaging correlations for each subject\n",
    "tur_subject = dict()\n",
    "r_values=[]\n",
    "p_values=[]\n",
    "r_pearson = []\n",
    "for i in range(0,30,1):\n",
    "    tur_subject[i] = tur.loc[tur.user_name == names[i]]\n",
    "    slope, intercept, r_val, p_val, std_err = sts.linregress(tur_subject[i].choice, tur_subject[i].length)\n",
    "    r_values.append(r_val)\n",
    "    p_values.append(p_val)\n",
    "    r_pearson.append(np.corrcoef(tur_subject[i].length, tur_subject[i].choice)[0, 1])\n",
    "# average over within subject correlations\n",
    "r_mean = np.average(r_values)\n",
    "p_mean = np.average(p_values)\n",
    "r_pmean = np.average(r_pearson)\n",
    "\n",
    "slope, intercept, r_value, p_value, std_err = sts.linregress(tur.choice, tur.length)\n",
    "print(slope,r_value,p_value)\n",
    "\n",
    "plt.scatter(tur_l.length, tur_l.choice,s=80,color=greens)\n",
    "\n",
    "if (p_value<0.001):\n",
    "    text_1 = 'Overall: p<0.001, '+'r='+str(round(r_value,3))\n",
    "else:\n",
    "    text_1 = 'Overall: p='+str(round(p_value,3))+', '+'r='+str(round(r_value,3))\n",
    "if (p_mean<0.001):\n",
    "    text_2 = 'Ave_subject: p<0.001, '+'r='+str(round(r_mean,3))\n",
    "else:\n",
    "    text_2 = 'Ave_subject: p='+str(round(p_mean,3))+', '+'r='+str(round(r_mean,3))\n",
    "plt.figtext(0.785,0.20,text_1, fontsize=14, ha='center', va='center', transform=axes.transAxes)\n",
    "plt.figtext(0.765,0.15,text_2, fontsize=14, ha='center', va='center', transform=axes.transAxes)\n",
    "if (round(r_pmean,2)!=round(r_mean,2)):\n",
    "    plt.figtext(0.75,0.25,'Pearson: r='+str(round(r_mean,3)), fontsize=14, ha='center', va='center', transform=axes.transAxes)\n",
    "\n",
    "plt.setp(\n",
    "    axes, \n",
    "    xlim=[0, 36], xticks=np.arange(0, 36, 5), xlabel='Video Length',\n",
    "    ylim=[30,80], yticks=np.arange(30, 81, 5), ylabel='Choice (Computer to Human)'\n",
    ")\n",
    "sns.despine()\n",
    "fig.savefig(fig_direc + 'bias_length.pdf')"
   ]
  },
  {
   "cell_type": "markdown",
   "metadata": {},
   "source": [
    "### no discrimination as a function of initial board number of pieces"
   ]
  },
  {
   "cell_type": "code",
   "execution_count": null,
   "metadata": {
    "collapsed": true,
    "scrolled": true
   },
   "outputs": [],
   "source": [
    "# there are actually 7 human videos and only 4 computer videos when the video has length over 20\n",
    "# tur_subject[0].loc[tur_subject[0].length>20].sort_values(by='length')"
   ]
  },
  {
   "cell_type": "code",
   "execution_count": 61,
   "metadata": {
    "collapsed": true
   },
   "outputs": [],
   "source": [
    "tur_st = tur_st.sort_values(by=['user_name','clip_type'])"
   ]
  },
  {
   "cell_type": "code",
   "execution_count": 62,
   "metadata": {
    "scrolled": false
   },
   "outputs": [
    {
     "name": "stdout",
     "output_type": "stream",
     "text": [
      "0.00245974182181 0.130626643988 5.51688016626e-22\n"
     ]
    },
    {
     "data": {
      "image/png": "[encoded data removed]",
      "text/plain": [
       "<matplotlib.figure.Figure at 0x19245531eb8>"
      ]
     },
     "metadata": {},
     "output_type": "display_data"
    }
   ],
   "source": [
    "# Bias as a function of vid type?\n",
    "fig, axes = plt.subplots(1, 1, figsize=(10,6))\n",
    "\n",
    "plt.scatter(tur_st.clip_type, tur_st.choice,s=80,color=greens)\n",
    "\n",
    "slope, intercept, r_value, p_value, std_err = sts.linregress(tur.choice, tur.clip_type)\n",
    "print(slope,r_value,p_value)\n",
    "\n",
    "\n",
    "#axes.set_ylim([30,80])\n",
    "axes.set_xlim([-0.5,1.5])\n",
    "\n",
    "plt.setp(\n",
    "    axes, \n",
    "    ylabel='Choice (Computer to Human)', xlabel='Video Type'\n",
    ")\n",
    "\n",
    "text = 'Computer                                                            Human'\n",
    "plt.figtext(0.5,0.86,text, fontsize=14, ha='center', va='center', transform=axes.transAxes)\n",
    "\n",
    "sns.despine()"
   ]
  },
  {
   "cell_type": "code",
   "execution_count": null,
   "metadata": {
    "collapsed": true
   },
   "outputs": [],
   "source": []
  },
  {
   "cell_type": "markdown",
   "metadata": {},
   "source": [
    "### Question 2. Is there anything that makes some puzzles easier to identify? or more confident in identifying??\n",
    "#### average by video ID"
   ]
  },
  {
   "cell_type": "code",
   "execution_count": 88,
   "metadata": {},
   "outputs": [
    {
     "data": {
      "image/png": "[encoded data removed]",
      "text/plain": [
       "<matplotlib.figure.Figure at 0x19247016748>"
      ]
     },
     "metadata": {},
     "output_type": "display_data"
    }
   ],
   "source": [
    "# Histogram of number of correct response                                                     # check why failed\n",
    "# 30 subjects, p=0.55\n",
    "# test for number of successes, if independently drawn, follows the binomial distribution\n",
    "fig, axes = plt.subplots(1, 1, figsize=(10,6))\n",
    "\n",
    "# binomial\n",
    "x = np.arange(0,30,1)\n",
    "y =  sts.binom.pmf(x,30,0.55351851851851852)\n",
    "plt.plot(x+0.5,y)\n",
    "\n",
    "# histogram of percentage correct\n",
    "n = plt.hist(tur_vid.feedback*30, bins=x, alpha=.7, normed=True, color='steelblue')\n",
    "\n",
    "plt.setp(\n",
    "    axes, \n",
    "    ylabel='Frequency', xlabel='Number of correct responses'\n",
    ")\n",
    "\n",
    "sns.despine()\n",
    "fig.savefig(fig_direc + '')"
   ]
  },
  {
   "cell_type": "code",
   "execution_count": 89,
   "metadata": {},
   "outputs": [
    {
     "data": {
      "image/png": "[encoded data removed]",
      "text/plain": [
       "<matplotlib.figure.Figure at 0x192483b9240>"
      ]
     },
     "metadata": {},
     "output_type": "display_data"
    }
   ],
   "source": [
    "fig, axes = plt.subplots(1, 1, figsize=(15,6))\n",
    "colors = iter(cm.rainbow(np.linspace(0, 1, 12)))\n",
    "\n",
    "#plt.scatter(tur_vid.clip_id, tur_vid.feedback*30,alpha=1,marker='s',s=20,color=\"steelblue\")\n",
    "tur_vid_low = tur_vid.loc[tur_vid.feedback*30<=10]\n",
    "tur_vid_mid = tur_vid.loc[tur_vid.feedback*30<=25]\n",
    "tur_vid_mid = tur_vid_mid.loc[tur_vid_mid.feedback*30>=11]\n",
    "tur_vid_high = tur_vid.loc[tur_vid.feedback*30>=26]\n",
    "plt.scatter(tur_vid_low.clip_id, tur_vid_low.feedback*30,alpha=1,marker='s',s=25,color=next(colors))\n",
    "plt.scatter(tur_vid_mid.clip_id, tur_vid_mid.feedback*30,alpha=1,marker='s',s=25,color=next(colors))\n",
    "plt.scatter(tur_vid_high.clip_id, tur_vid_high.feedback*30,alpha=1,marker='s',s=25,color=next(colors))\n",
    "\n",
    "for xy in zip(tur_vid_high.clip_id, tur_vid_high.feedback*30):                                       # <--\n",
    "    axes.annotate('(%s, %s)' % xy, xy=xy, size=13.8, textcoords='data')\n",
    "\n",
    "plt.setp(\n",
    "    axes, \n",
    "    ylabel='Total Correct Responses', xlabel='Video ID'\n",
    ")\n",
    "\n",
    "axes.set_xlim([0,180])\n",
    "axes.set_ylim([0,30])\n",
    "\n",
    "sns.despine()"
   ]
  },
  {
   "cell_type": "code",
   "execution_count": 67,
   "metadata": {},
   "outputs": [
    {
     "data": {
      "text/html": [
       "<div>\n",
       "<style>\n",
       "    .dataframe thead tr:only-child th {\n",
       "        text-align: right;\n",
       "    }\n",
       "\n",
       "    .dataframe thead th {\n",
       "        text-align: left;\n",
       "    }\n",
       "\n",
       "    .dataframe tbody tr th {\n",
       "        vertical-align: top;\n",
       "    }\n",
       "</style>\n",
       "<table border=\"1\" class=\"dataframe\">\n",
       "  <thead>\n",
       "    <tr style=\"text-align: right;\">\n",
       "      <th></th>\n",
       "      <th>clip_id</th>\n",
       "      <th>user_name</th>\n",
       "      <th>length</th>\n",
       "      <th>choice</th>\n",
       "      <th>feedback</th>\n",
       "      <th>timestamp</th>\n",
       "      <th>clip_type</th>\n",
       "      <th>delta_c</th>\n",
       "      <th>start_pieces</th>\n",
       "      <th>wp_center</th>\n",
       "      <th>bp_center</th>\n",
       "      <th>human</th>\n",
       "      <th>elo</th>\n",
       "    </tr>\n",
       "  </thead>\n",
       "  <tbody>\n",
       "    <tr>\n",
       "      <th>179</th>\n",
       "      <td>179</td>\n",
       "      <td>TW</td>\n",
       "      <td>4</td>\n",
       "      <td>100</td>\n",
       "      <td>1</td>\n",
       "      <td>1487288593864</td>\n",
       "      <td>0</td>\n",
       "      <td>50</td>\n",
       "      <td>1</td>\n",
       "      <td>0</td>\n",
       "      <td>1</td>\n",
       "      <td>1</td>\n",
       "      <td>250</td>\n",
       "    </tr>\n",
       "    <tr>\n",
       "      <th>178</th>\n",
       "      <td>178</td>\n",
       "      <td>TW</td>\n",
       "      <td>3</td>\n",
       "      <td>98</td>\n",
       "      <td>1</td>\n",
       "      <td>1487286045990</td>\n",
       "      <td>0</td>\n",
       "      <td>48</td>\n",
       "      <td>3</td>\n",
       "      <td>0</td>\n",
       "      <td>1</td>\n",
       "      <td>1</td>\n",
       "      <td>250</td>\n",
       "    </tr>\n",
       "    <tr>\n",
       "      <th>177</th>\n",
       "      <td>177</td>\n",
       "      <td>TW</td>\n",
       "      <td>10</td>\n",
       "      <td>96</td>\n",
       "      <td>1</td>\n",
       "      <td>1487288498136</td>\n",
       "      <td>0</td>\n",
       "      <td>50</td>\n",
       "      <td>0</td>\n",
       "      <td>0</td>\n",
       "      <td>0</td>\n",
       "      <td>1</td>\n",
       "      <td>250</td>\n",
       "    </tr>\n",
       "    <tr>\n",
       "      <th>176</th>\n",
       "      <td>176</td>\n",
       "      <td>TW</td>\n",
       "      <td>8</td>\n",
       "      <td>100</td>\n",
       "      <td>1</td>\n",
       "      <td>1487286451375</td>\n",
       "      <td>0</td>\n",
       "      <td>50</td>\n",
       "      <td>1</td>\n",
       "      <td>0</td>\n",
       "      <td>0</td>\n",
       "      <td>1</td>\n",
       "      <td>250</td>\n",
       "    </tr>\n",
       "    <tr>\n",
       "      <th>175</th>\n",
       "      <td>175</td>\n",
       "      <td>TW</td>\n",
       "      <td>13</td>\n",
       "      <td>96</td>\n",
       "      <td>1</td>\n",
       "      <td>1487287492384</td>\n",
       "      <td>0</td>\n",
       "      <td>50</td>\n",
       "      <td>9</td>\n",
       "      <td>1</td>\n",
       "      <td>1</td>\n",
       "      <td>1</td>\n",
       "      <td>250</td>\n",
       "    </tr>\n",
       "    <tr>\n",
       "      <th>174</th>\n",
       "      <td>174</td>\n",
       "      <td>TW</td>\n",
       "      <td>34</td>\n",
       "      <td>92</td>\n",
       "      <td>1</td>\n",
       "      <td>1487287420655</td>\n",
       "      <td>0</td>\n",
       "      <td>42</td>\n",
       "      <td>15</td>\n",
       "      <td>1</td>\n",
       "      <td>1</td>\n",
       "      <td>1</td>\n",
       "      <td>250</td>\n",
       "    </tr>\n",
       "  </tbody>\n",
       "</table>\n",
       "</div>"
      ],
      "text/plain": [
       "     clip_id user_name  length  choice  feedback      timestamp  clip_type  \\\n",
       "179      179        TW       4     100         1  1487288593864          0   \n",
       "178      178        TW       3      98         1  1487286045990          0   \n",
       "177      177        TW      10      96         1  1487288498136          0   \n",
       "176      176        TW       8     100         1  1487286451375          0   \n",
       "175      175        TW      13      96         1  1487287492384          0   \n",
       "174      174        TW      34      92         1  1487287420655          0   \n",
       "\n",
       "     delta_c  start_pieces  wp_center  bp_center  human  elo  \n",
       "179       50             1          0          1      1  250  \n",
       "178       48             3          0          1      1  250  \n",
       "177       50             0          0          0      1  250  \n",
       "176       50             1          0          0      1  250  \n",
       "175       50             9          1          1      1  250  \n",
       "174       42            15          1          1      1  250  "
      ]
     },
     "execution_count": 67,
     "metadata": {},
     "output_type": "execute_result"
    }
   ],
   "source": [
    "tur_vid2 = tur_vid2.sort_values(by=['feedback','clip_id'],ascending=False)\n",
    "high = tur_vid2.loc[tur_vid2.feedback>=25]\n",
    "tur_vid2.head(6) #5 out of 180 videos are correctly identified more than 24 times out of 30s (80%)"
   ]
  },
  {
   "cell_type": "code",
   "execution_count": 68,
   "metadata": {},
   "outputs": [
    {
     "name": "stdout",
     "output_type": "stream",
     "text": [
      "22.650370370370375\n",
      "32.0333333333\n",
      "50\n",
      "12.8\n",
      "0\n",
      "3.3412169136663286\n"
     ]
    }
   ],
   "source": [
    "# higher confidence rating?\n",
    "tur_vid = tur_vid.sort_values(by=['delta_c','clip_id'],ascending=False)\n",
    "#high = tur_vid2.loc[tur_vid2.feedback>=23]\n",
    "print(tur_vid.delta_c.mean())\n",
    "print(tur_vid.delta_c.max())\n",
    "print(tur.delta_c.max())\n",
    "print(tur_vid.delta_c.min())\n",
    "print(tur.delta_c.min())\n",
    "print(tur_vid.delta_c.std())"
   ]
  },
  {
   "cell_type": "code",
   "execution_count": null,
   "metadata": {
    "collapsed": true
   },
   "outputs": [],
   "source": []
  },
  {
   "cell_type": "code",
   "execution_count": 73,
   "metadata": {},
   "outputs": [
    {
     "data": {
      "image/png": "[encoded data removed]",
      "text/plain": [
       "<matplotlib.figure.Figure at 0x19245540fd0>"
      ]
     },
     "metadata": {},
     "output_type": "display_data"
    }
   ],
   "source": [
    "# Histogram of number of confidence rating - like a normal distribution\n",
    "# 30 subjects, p=0.55\n",
    "fig, axes = plt.subplots(1, 1, figsize=(10,6))\n",
    "\n",
    "# normal\n",
    "mu, sigma = 22.25, 3.21\n",
    "s = np.random.normal(mu, sigma, 1000)\n",
    "count, bins, ignored = plt.hist(s, 30, alpha=0,normed=True)\n",
    "plt.plot(bins, 1/(sigma * np.sqrt(2 * np.pi))*np.exp( - (bins - mu)**2 / (2 * sigma**2) ),linewidth=2, color='r')\n",
    "\n",
    "# histogram of confidence rating\n",
    "n2 = plt.hist(tur_vid.delta_c, bins=np.arange(0, 35, 1), alpha=.7, normed=True, color='steelblue')\n",
    "\n",
    "plt.setp(\n",
    "    axes, \n",
    "    ylabel='Frequency', xlabel='Number of Confidence Rating'\n",
    ")\n",
    "\n",
    "sns.despine()"
   ]
  },
  {
   "cell_type": "code",
   "execution_count": 74,
   "metadata": {
    "collapsed": true
   },
   "outputs": [],
   "source": [
    "# more likely to be bimodal distribution\n",
    "from sklearn import mixture\n",
    "\n",
    "def fit_samples(samples):\n",
    "    gmix = mixture.GMM(n_components=2, covariance_type='full')\n",
    "    gmix.fit(samples)\n",
    "    print(gmix.means_)\n",
    "    colors = ['r' if i==0 else 'g' for i in gmix.predict(samples)]\n",
    "    ax = plt.gca()\n",
    "    ax.scatter(samples[:,0], samples[:,1], c=colors, alpha=0.8)\n",
    "    plt.show()"
   ]
  },
  {
   "cell_type": "markdown",
   "metadata": {
    "collapsed": true
   },
   "source": [
    "### Question 2. Is there anything that makes some puzzles easier to identify? or more confident in identifying??\n",
    "#### average by length (need to address AGGREGATION issues)"
   ]
  },
  {
   "cell_type": "code",
   "execution_count": 90,
   "metadata": {},
   "outputs": [
    {
     "data": {
      "image/png": "[encoded data removed]",
      "text/plain": [
       "<matplotlib.figure.Figure at 0x192456ee668>"
      ]
     },
     "metadata": {},
     "output_type": "display_data"
    }
   ],
   "source": [
    "# showing the percentage correct for each video length\n",
    "fig, axes = plt.subplots(1, 1, figsize=(10,6))\n",
    "\n",
    "tur_len = dict()\n",
    "for i in range(0,28,1):\n",
    "    tur_len[i] = tur.loc[tur.length==length[i]]\n",
    "y = [np.mean(tur_len[i]['feedback']) for i in range(0,28,1)]\n",
    "yerr = [np.std(tur_len[i]['feedback'])/np.sqrt(30) for i in range(0,28,1)]\n",
    "axes.errorbar(length, y, yerr,alpha=0.6)\n",
    "\n",
    "# averaging correlations for each subject\n",
    "tur_subject = dict()\n",
    "r_values=[]\n",
    "p_values=[]\n",
    "r_pearson = []\n",
    "for i in range(0,30,1):\n",
    "    tur_subject[i] = tur.loc[tur.user_name == names[i]]\n",
    "    slope, intercept, r_val, p_val, std_err = sts.linregress(tur_subject[i].length, tur_subject[i].feedback)\n",
    "    r_values.append(r_val)\n",
    "    p_values.append(p_val)\n",
    "    r_pearson.append(np.corrcoef(tur_subject[i].length, tur_subject[i].feedback)[0, 1])\n",
    "# average over within subject correlations\n",
    "r_mean = np.average(r_values)\n",
    "p_mean = np.average(p_values)\n",
    "r_pmean = np.average(r_pearson)\n",
    "\n",
    "# huge correlation using all trials\n",
    "slope, intercept, r_value, p_value, std_err = sts.linregress(tur.length, tur.feedback)\n",
    "\n",
    "if (p_value<0.001):\n",
    "    text_1 = 'Overall: p<0.001, '+'r='+str(round(r_value,3))\n",
    "else:\n",
    "    text_1 = 'Overall: p='+str(round(p_value,3))+', '+'r='+str(round(r_value,3))\n",
    "if (p_mean<0.001):\n",
    "    text_2 = 'Ave_subject: p<0.001, '+'r='+str(round(r_mean,3))\n",
    "else:\n",
    "    text_2 = 'Ave_subject: p='+str(round(p_mean,3))+', '+'r='+str(round(r_mean,3))\n",
    "plt.figtext(0.79,0.20,text_1, fontsize=14, ha='center', va='center', transform=axes.transAxes)\n",
    "plt.figtext(0.773,0.15,text_2, fontsize=14, ha='center', va='center', transform=axes.transAxes)\n",
    "if (round(r_pmean,2)!=round(r_mean,2)):\n",
    "    plt.figtext(0.77,0.25,'Pearson: r='+str(round(r_mean,3)), fontsize=14, ha='center', va='center', transform=axes.transAxes)\n",
    "\n",
    "plt.setp(\n",
    "    axes, \n",
    "    xlim=[0, 36], xticks=np.arange(0, 36, 5), xlabel='Video Length',\n",
    "    ylim=[0,1], yticks=np.arange(0, 1.1, 0.2), ylabel='Accuracy'\n",
    ")\n",
    "\n",
    "plt.scatter(tur_l.length, tur_l.feedback,s=80,color=greens)\n",
    "\n",
    "sns.despine()\n",
    "fig.savefig(fig_direc + 'accuracy_length.pdf')"
   ]
  },
  {
   "cell_type": "code",
   "execution_count": 91,
   "metadata": {},
   "outputs": [
    {
     "data": {
      "text/plain": [
       "0.043560757503934733"
      ]
     },
     "execution_count": 91,
     "metadata": {},
     "output_type": "execute_result"
    }
   ],
   "source": [
    "np.corrcoef(tur.length,tur.feedback)[0,1]"
   ]
  },
  {
   "cell_type": "code",
   "execution_count": 92,
   "metadata": {
    "scrolled": false
   },
   "outputs": [
    {
     "data": {
      "image/png": "[encoded data removed]",
      "text/plain": [
       "<matplotlib.figure.Figure at 0x192456e2cc0>"
      ]
     },
     "metadata": {},
     "output_type": "display_data"
    }
   ],
   "source": [
    "# showing the  onfidence rating for each video length, very good!\n",
    "fig, axes = plt.subplots(1, 1, figsize=(10,6))\n",
    "\n",
    "tur_len = dict()\n",
    "for i in range(0,28,1):\n",
    "    tur_len[i] = tur.loc[tur.length==length[i]]\n",
    "y = [np.mean(tur_len[i]['delta_c']) for i in range(0,28,1)]\n",
    "yerr = [np.std(tur_len[i]['delta_c'])/np.sqrt(30) for i in range(0,28,1)]\n",
    "axes.errorbar(length, y, yerr,alpha=0.6)\n",
    "\n",
    "# averaging correlations for each subject\n",
    "tur_subject = dict()\n",
    "r_values=[]\n",
    "p_values=[]\n",
    "r_pearson = []\n",
    "for i in range(0,30,1):\n",
    "    tur_subject[i] = tur.loc[tur.user_name == names[i]]\n",
    "    slope, intercept, r_val, p_val, std_err = sts.linregress(tur_subject[i].length, tur_subject[i].delta_c)\n",
    "    r_values.append(r_val)\n",
    "    p_values.append(p_val)\n",
    "    r_pearson.append(np.corrcoef(tur_subject[i].length, tur_subject[i].delta_c)[0, 1])\n",
    "# average over within subject correlations\n",
    "r_mean = np.average(r_values)\n",
    "p_mean = np.average(p_values)\n",
    "r_pmean = np.average(r_pearson)\n",
    "\n",
    "# huge correlation using all trials\n",
    "slope, intercept, r_value, p_value, std_err = sts.linregress(tur.length, tur.delta_c)\n",
    "\n",
    "plt.scatter(tur_l.length, tur_l.delta_c,s=80,color=greens)\n",
    "axes.set_xlim([0,36])\n",
    "\n",
    "if (p_value<0.001):\n",
    "    text_1 = 'Overall: p<0.001, '+'r='+str(round(r_value,3))\n",
    "else:\n",
    "    text_1 = 'Overall: p='+str(round(p_value,3))+', '+'r='+str(round(r_value,3))\n",
    "if (p_mean<0.001):\n",
    "    text_2 = 'Ave_subject: p<0.001, '+'r='+str(round(r_mean,3))\n",
    "else:\n",
    "    text_2 = 'Ave_subject: p='+str(round(p_mean,3))+', '+'r='+str(round(r_mean,3))\n",
    "plt.figtext(0.87,0.20,text_1, fontsize=14, ha='center', va='center', transform=axes.transAxes)\n",
    "plt.figtext(0.85,0.15,text_2, fontsize=14, ha='center', va='center', transform=axes.transAxes)\n",
    "if (round(r_pmean,2)!=round(r_mean,2)):\n",
    "    plt.figtext(0.85,0.25,'Pearson: r='+str(round(r_pmean,3)), fontsize=14, ha='center', va='center', transform=axes.transAxes)\n",
    "\n",
    "plt.setp(\n",
    "    axes, \n",
    "    xlim=[0, 36], xticks=np.arange(0, 36, 5), xlabel='Video Length',\n",
    "    ylim=[15,36], yticks=np.arange(15, 36, 5), ylabel='Confidence'\n",
    ")\n",
    "\n",
    "plt.tight_layout()\n",
    "sns.despine()\n",
    "fig.savefig(fig_direc + 'confidence_length.pdf')"
   ]
  },
  {
   "cell_type": "code",
   "execution_count": 93,
   "metadata": {},
   "outputs": [
    {
     "data": {
      "image/png": "[encoded data removed]",
      "text/plain": [
       "<matplotlib.figure.Figure at 0x19247092860>"
      ]
     },
     "metadata": {},
     "output_type": "display_data"
    }
   ],
   "source": [
    "# showing the confidence rating for each video starting pieces\n",
    "fig, axes = plt.subplots(1, 1, figsize=(10,6))\n",
    "\n",
    "tur_pie = dict()\n",
    "for i in range(0,22,1):\n",
    "    tur_pie[i] = tur.loc[tur.start_pieces==pieces[i]]\n",
    "y = [np.mean(tur_pie[i]['delta_c']) for i in range(0,22,1)]\n",
    "yerr = [np.std(tur_pie[i]['delta_c'])/np.sqrt(30) for i in range(0,22,1)]\n",
    "axes.errorbar(pieces, y, yerr,alpha=0.6)\n",
    "\n",
    "# averaging correlations for each subject\n",
    "tur_subject = dict()\n",
    "r_values=[]\n",
    "p_values=[]\n",
    "r_pearson=[]\n",
    "for i in range(0,30,1):\n",
    "    tur_subject[i] = tur.loc[tur.user_name == names[i]]\n",
    "    slope, intercept, r_val, p_val, std_err = sts.linregress(tur_subject[i].start_pieces, tur_subject[i].delta_c)\n",
    "    r_values.append(r_val)\n",
    "    p_values.append(p_val)\n",
    "    r_pearson.append(np.corrcoef(tur_subject[i].start_pieces, tur_subject[i].delta_c)[0, 1])\n",
    "# average over within subject correlations\n",
    "r_mean = np.average(r_values)\n",
    "p_mean = np.average(p_values)\n",
    "r_pmean = np.average(r_pearson)\n",
    "\n",
    "# huge correlation using all trials\n",
    "slope, intercept, r_value, p_value, std_err = sts.linregress(tur.start_pieces, tur.delta_c)\n",
    "\n",
    "if (p_value<0.001):\n",
    "    text_1 = 'Overall: p<0.001, '+'r='+str(round(r_value,3))\n",
    "else:\n",
    "    text_1 = 'Overall: p='+str(round(p_value,3))+', '+'r='+str(round(r_value,3))\n",
    "if (p_mean<0.001):\n",
    "    text_2 = 'Ave_subject: p<0.001, '+'r='+str(round(r_mean,3))\n",
    "else:\n",
    "    text_2 = 'Ave_subject: p='+str(round(p_mean,3))+', '+'r='+str(round(r_mean,3))\n",
    "plt.figtext(0.765,0.21,text_1, fontsize=14, ha='center', va='center', transform=axes.transAxes)\n",
    "plt.figtext(0.75,0.16,text_2, fontsize=14, ha='center', va='center', transform=axes.transAxes)\n",
    "if (round(r_pmean,2)!=round(r_mean,2)):\n",
    "    plt.figtext(0.8,0.26,'Pearson: r='+str(round(r_pmean,3)), fontsize=14, ha='center', va='center', transform=axes.transAxes)\n",
    "\n",
    "plt.scatter(tur_pieces.start_pieces, tur_pieces.delta_c,s=80,color=greens)\n",
    "axes.set_xlim([0,25])\n",
    "\n",
    "plt.setp(\n",
    "    axes, \n",
    "    ylabel='Confidence', xlabel='Video Starting Pieces'\n",
    ")\n",
    "\n",
    "sns.despine()"
   ]
  },
  {
   "cell_type": "code",
   "execution_count": 94,
   "metadata": {},
   "outputs": [
    {
     "data": {
      "image/png": "[encoded data removed]",
      "text/plain": [
       "<matplotlib.figure.Figure at 0x19247084e10>"
      ]
     },
     "metadata": {},
     "output_type": "display_data"
    }
   ],
   "source": [
    "# showing the confidence rating for each video starting pieces\n",
    "fig, axes = plt.subplots(1, 1, figsize=(10,6))\n",
    "\n",
    "tur_pie = dict()\n",
    "for i in range(0,22,1):\n",
    "    tur_pie[i] = tur.loc[tur.start_pieces==pieces[i]]\n",
    "y = [np.mean(tur_pie[i]['feedback']) for i in range(0,22,1)]\n",
    "yerr = [np.std(tur_pie[i]['feedback'])/np.sqrt(30) for i in range(0,22,1)]\n",
    "axes.errorbar(pieces, y, yerr,alpha=0.6)\n",
    "\n",
    "# averaging correlations for each subject\n",
    "tur_subject = dict()\n",
    "r_values=[]\n",
    "p_values=[]\n",
    "r_pearson=[]\n",
    "for i in range(0,30,1):\n",
    "    tur_subject[i] = tur.loc[tur.user_name == names[i]]\n",
    "    slope, intercept, r_val, p_val, std_err = sts.linregress(tur_subject[i].start_pieces, tur_subject[i].feedback)\n",
    "    r_values.append(r_val)\n",
    "    p_values.append(p_val)\n",
    "    r_pearson.append(np.corrcoef(tur_subject[i].start_pieces, tur_subject[i].feedback)[0, 1])\n",
    "# average over within subject correlations\n",
    "r_mean = np.average(r_values)\n",
    "p_mean = np.average(p_values)\n",
    "r_pmean = np.average(r_pearson)\n",
    "\n",
    "# huge correlation using all trials\n",
    "slope, intercept, r_value, p_value, std_err = sts.linregress(tur.start_pieces, tur.feedback)\n",
    "\n",
    "if (p_value<0.001):\n",
    "    text_1 = 'Overall: p<0.001, '+'r='+str(round(r_value,3))\n",
    "else:\n",
    "    text_1 = 'Overall: p='+str(round(p_value,3))+', '+'r='+str(round(r_value,3))\n",
    "if (p_mean<0.001):\n",
    "    text_2 = 'Ave_subject: p<0.001, '+'r='+str(round(r_mean,3))\n",
    "else:\n",
    "    text_2 = 'Ave_subject: p='+str(round(p_mean,3))+', '+'r='+str(round(r_mean,3))\n",
    "plt.figtext(0.765,0.21,text_1, fontsize=14, ha='center', va='center', transform=axes.transAxes)\n",
    "plt.figtext(0.75,0.16,text_2, fontsize=14, ha='center', va='center', transform=axes.transAxes)\n",
    "if (round(r_pmean,2)!=round(r_mean,2)):\n",
    "    plt.figtext(0.8,0.26,'Pearson: r='+str(round(r_pmean,3)), fontsize=14, ha='center', va='center', transform=axes.transAxes)\n",
    "\n",
    "plt.scatter(tur_pieces.start_pieces, tur_pieces.feedback,s=80,color=greens)\n",
    "axes.set_xlim([-1,25])\n",
    "\n",
    "plt.setp(\n",
    "    axes, \n",
    "    ylabel='Accuracy', xlabel='Video Starting Pieces'\n",
    ")\n",
    "\n",
    "sns.despine()"
   ]
  },
  {
   "cell_type": "code",
   "execution_count": 95,
   "metadata": {},
   "outputs": [
    {
     "name": "stdout",
     "output_type": "stream",
     "text": [
      "0.0388811512325 0.461248183439\n",
      "0.00697027533018 0.0377683855987 0.00550752225206\n"
     ]
    }
   ],
   "source": [
    "# report correlations with video starting pieces\n",
    "tur_subject = dict()\n",
    "r_values=[]\n",
    "p_values=[]\n",
    "r_pearson = []\n",
    "for i in range(0,30,1):\n",
    "    tur_subject[i] = tur.loc[tur.user_name == names[i]]\n",
    "    slope, intercept, r_val, p_val, std_err = sts.linregress(tur_subject[i].choice, tur_subject[i].start_pieces)\n",
    "    r_values.append(r_val)\n",
    "    p_values.append(p_val)\n",
    "    r_pearson.append(np.corrcoef(tur_subject[i].start_pieces, tur_subject[i].choice)[0, 1])\n",
    "# average over within subject correlations\n",
    "r_mean = np.average(r_values)\n",
    "p_mean = np.average(p_values)\n",
    "r_pmean = np.average(r_pearson)\n",
    "print(r_mean, p_mean)\n",
    "\n",
    "slope, intercept, r_value, p_value, std_err = sts.linregress(tur.choice, tur.start_pieces)\n",
    "print(slope,r_value,p_value)"
   ]
  },
  {
   "cell_type": "code",
   "execution_count": 96,
   "metadata": {},
   "outputs": [
    {
     "name": "stdout",
     "output_type": "stream",
     "text": [
      "-0.053342607868 0.415550349936\n",
      "-0.0434525653929 -0.0529321773955 9.96130882165e-05\n"
     ]
    }
   ],
   "source": [
    "# report correlations with video starting pieces\n",
    "tur_subject = dict()\n",
    "r_values=[]\n",
    "p_values=[]\n",
    "r_pearson = []\n",
    "for i in range(0,30,1):\n",
    "    tur_subject[i] = tur.loc[tur.user_name == names[i]]\n",
    "    slope, intercept, r_val, p_val, std_err = sts.linregress(tur_subject[i].feedback, tur_subject[i].bp_center)\n",
    "    r_values.append(r_val)\n",
    "    p_values.append(p_val)\n",
    "    r_pearson.append(np.corrcoef(tur_subject[i].bp_center, tur_subject[i].feedback)[0, 1])\n",
    "# average over within subject correlations\n",
    "r_mean = np.average(r_values)\n",
    "p_mean = np.average(p_values)\n",
    "r_pmean = np.average(r_pearson)\n",
    "print(r_mean, p_mean)\n",
    "\n",
    "slope, intercept, r_value, p_value, std_err = sts.linregress(tur.feedback, tur.bp_center)\n",
    "print(slope,r_value,p_value)"
   ]
  },
  {
   "cell_type": "code",
   "execution_count": 97,
   "metadata": {},
   "outputs": [
    {
     "name": "stdout",
     "output_type": "stream",
     "text": [
      "1.07448585013 0.11085226276 3.10323073734e-16\n"
     ]
    }
   ],
   "source": [
    "# report correlations with video starting pieces\n",
    "slope, intercept, r_value, p_value, std_err = sts.linregress(tur.delta_c, tur.elo)\n",
    "print(slope,r_value,p_value)"
   ]
  },
  {
   "cell_type": "markdown",
   "metadata": {},
   "source": [
    "### Question 2. Is there anything that makes some puzzles easier to identify? or more confident in identifying??\n",
    "#### average by type (Aggregation issues)"
   ]
  },
  {
   "cell_type": "code",
   "execution_count": 98,
   "metadata": {},
   "outputs": [
    {
     "name": "stdout",
     "output_type": "stream",
     "text": [
      "0.0307407407407 0.0309183656994 0.023083868098\n"
     ]
    },
    {
     "data": {
      "image/png": "[encoded data removed]",
      "text/plain": [
       "<matplotlib.figure.Figure at 0x192456ebb38>"
      ]
     },
     "metadata": {},
     "output_type": "display_data"
    }
   ],
   "source": [
    "# showing the percentage correct for each video type\n",
    "fig, axes = plt.subplots(1, 1, figsize=(10,6))\n",
    "\n",
    "tur_type = dict()\n",
    "for i in range(0,2,1):\n",
    "    tur_type[i] = tur.loc[tur.clip_type==i]\n",
    "y = [np.mean(tur_type[i]['feedback']) for i in range(0,2,1)]\n",
    "yerr = [np.std(tur_type[i]['feedback'])/np.sqrt(30) for i in range(0,2,1)]\n",
    "types=[0,1]\n",
    "axes.errorbar(types, y, yerr,alpha=0.6)\n",
    "\n",
    "slope, intercept, r_value, p_value, std_err = sts.linregress(tur.clip_type, tur.feedback)\n",
    "print(slope,r_value,p_value)\n",
    "\n",
    "plt.scatter(tur_st.clip_type, tur_st.feedback,color='steelblue')\n",
    "plt.scatter(tur_t.clip_type, tur_t.feedback,s=80,color='salmon')\n",
    "\n",
    "axes.set_xlim([-0.5,1.5])\n",
    "\n",
    "plt.setp(\n",
    "    axes, \n",
    "    ylabel='Percentage Correct', xlabel='Video Type'\n",
    ")\n",
    "\n",
    "sns.despine()"
   ]
  },
  {
   "cell_type": "code",
   "execution_count": 99,
   "metadata": {},
   "outputs": [
    {
     "name": "stdout",
     "output_type": "stream",
     "text": [
      "-0.375555555556 -0.0135459209217 0.319622934549\n"
     ]
    },
    {
     "data": {
      "image/png": "[encoded data removed]",
      "text/plain": [
       "<matplotlib.figure.Figure at 0x192488c4da0>"
      ]
     },
     "metadata": {},
     "output_type": "display_data"
    }
   ],
   "source": [
    "# showing the percentage correct for each video type\n",
    "fig, axes = plt.subplots(1, 1, figsize=(10,6))\n",
    "\n",
    "tur_type = dict()\n",
    "for i in range(0,2,1):\n",
    "    tur_type[i] = tur.loc[tur.clip_type==i]\n",
    "y = [np.mean(tur_type[i]['delta_c']) for i in range(0,2,1)]\n",
    "yerr = [np.std(tur_type[i]['delta_c'])/np.sqrt(30) for i in range(0,2,1)]\n",
    "types=[0,1]\n",
    "axes.errorbar(types, y, yerr,alpha=0.6)\n",
    "\n",
    "slope, intercept, r_value, p_value, std_err = sts.linregress(tur.clip_type, tur.delta_c)\n",
    "print(slope,r_value,p_value)\n",
    "\n",
    "plt.scatter(tur_st.clip_type, tur_st.delta_c,color='steelblue')\n",
    "plt.scatter(tur_t.clip_type, tur_t.delta_c,s=80,color='salmon')\n",
    "\n",
    "axes.set_xlim([-0.5,1.5])\n",
    "\n",
    "plt.setp(\n",
    "    axes, \n",
    "    ylabel='Confidence', xlabel='Video Type'\n",
    ")\n",
    "\n",
    "sns.despine()"
   ]
  },
  {
   "cell_type": "markdown",
   "metadata": {},
   "source": [
    "#### Elo"
   ]
  },
  {
   "cell_type": "code",
   "execution_count": 100,
   "metadata": {},
   "outputs": [
    {
     "data": {
      "text/html": [
       "<div>\n",
       "<style>\n",
       "    .dataframe thead tr:only-child th {\n",
       "        text-align: right;\n",
       "    }\n",
       "\n",
       "    .dataframe thead th {\n",
       "        text-align: left;\n",
       "    }\n",
       "\n",
       "    .dataframe tbody tr th {\n",
       "        vertical-align: top;\n",
       "    }\n",
       "</style>\n",
       "<table border=\"1\" class=\"dataframe\">\n",
       "  <thead>\n",
       "    <tr style=\"text-align: right;\">\n",
       "      <th></th>\n",
       "      <th>user_name</th>\n",
       "      <th>clip_id</th>\n",
       "      <th>length</th>\n",
       "      <th>choice</th>\n",
       "      <th>feedback</th>\n",
       "      <th>timestamp</th>\n",
       "      <th>clip_type</th>\n",
       "      <th>delta_c</th>\n",
       "      <th>start_pieces</th>\n",
       "      <th>wp_center</th>\n",
       "      <th>bp_center</th>\n",
       "      <th>human</th>\n",
       "      <th>elo</th>\n",
       "    </tr>\n",
       "  </thead>\n",
       "  <tbody>\n",
       "    <tr>\n",
       "      <th>0</th>\n",
       "      <td>AD</td>\n",
       "      <td>89.5</td>\n",
       "      <td>9.588889</td>\n",
       "      <td>60.338889</td>\n",
       "      <td>0.533333</td>\n",
       "      <td>1.485973e+12</td>\n",
       "      <td>0.5</td>\n",
       "      <td>41.683333</td>\n",
       "      <td>6.55</td>\n",
       "      <td>0.738889</td>\n",
       "      <td>0.788889</td>\n",
       "      <td>0.611111</td>\n",
       "      <td>76.0</td>\n",
       "    </tr>\n",
       "    <tr>\n",
       "      <th>1</th>\n",
       "      <td>AF</td>\n",
       "      <td>89.5</td>\n",
       "      <td>9.588889</td>\n",
       "      <td>50.833333</td>\n",
       "      <td>0.511111</td>\n",
       "      <td>1.478103e+12</td>\n",
       "      <td>0.5</td>\n",
       "      <td>10.388889</td>\n",
       "      <td>6.55</td>\n",
       "      <td>0.738889</td>\n",
       "      <td>0.788889</td>\n",
       "      <td>0.533333</td>\n",
       "      <td>76.0</td>\n",
       "    </tr>\n",
       "    <tr>\n",
       "      <th>2</th>\n",
       "      <td>AJ</td>\n",
       "      <td>89.5</td>\n",
       "      <td>9.588889</td>\n",
       "      <td>42.344444</td>\n",
       "      <td>0.622222</td>\n",
       "      <td>1.478733e+12</td>\n",
       "      <td>0.5</td>\n",
       "      <td>33.566667</td>\n",
       "      <td>6.55</td>\n",
       "      <td>0.738889</td>\n",
       "      <td>0.788889</td>\n",
       "      <td>0.411111</td>\n",
       "      <td>-26.0</td>\n",
       "    </tr>\n",
       "    <tr>\n",
       "      <th>3</th>\n",
       "      <td>AP</td>\n",
       "      <td>89.5</td>\n",
       "      <td>9.588889</td>\n",
       "      <td>51.394444</td>\n",
       "      <td>0.594444</td>\n",
       "      <td>1.479484e+12</td>\n",
       "      <td>0.5</td>\n",
       "      <td>20.905556</td>\n",
       "      <td>6.55</td>\n",
       "      <td>0.738889</td>\n",
       "      <td>0.788889</td>\n",
       "      <td>0.483333</td>\n",
       "      <td>61.0</td>\n",
       "    </tr>\n",
       "    <tr>\n",
       "      <th>4</th>\n",
       "      <td>AR</td>\n",
       "      <td>89.5</td>\n",
       "      <td>9.588889</td>\n",
       "      <td>50.100000</td>\n",
       "      <td>0.572222</td>\n",
       "      <td>1.481145e+12</td>\n",
       "      <td>0.5</td>\n",
       "      <td>21.544444</td>\n",
       "      <td>6.55</td>\n",
       "      <td>0.738889</td>\n",
       "      <td>0.788889</td>\n",
       "      <td>0.550000</td>\n",
       "      <td>71.0</td>\n",
       "    </tr>\n",
       "  </tbody>\n",
       "</table>\n",
       "</div>"
      ],
      "text/plain": [
       "  user_name  clip_id    length     choice  feedback     timestamp  clip_type  \\\n",
       "0        AD     89.5  9.588889  60.338889  0.533333  1.485973e+12        0.5   \n",
       "1        AF     89.5  9.588889  50.833333  0.511111  1.478103e+12        0.5   \n",
       "2        AJ     89.5  9.588889  42.344444  0.622222  1.478733e+12        0.5   \n",
       "3        AP     89.5  9.588889  51.394444  0.594444  1.479484e+12        0.5   \n",
       "4        AR     89.5  9.588889  50.100000  0.572222  1.481145e+12        0.5   \n",
       "\n",
       "     delta_c  start_pieces  wp_center  bp_center     human   elo  \n",
       "0  41.683333          6.55   0.738889   0.788889  0.611111  76.0  \n",
       "1  10.388889          6.55   0.738889   0.788889  0.533333  76.0  \n",
       "2  33.566667          6.55   0.738889   0.788889  0.411111 -26.0  \n",
       "3  20.905556          6.55   0.738889   0.788889  0.483333  61.0  \n",
       "4  21.544444          6.55   0.738889   0.788889  0.550000  71.0  "
      ]
     },
     "execution_count": 100,
     "metadata": {},
     "output_type": "execute_result"
    }
   ],
   "source": [
    "tur_sub.head()"
   ]
  },
  {
   "cell_type": "code",
   "execution_count": 183,
   "metadata": {},
   "outputs": [
    {
     "name": "stdout",
     "output_type": "stream",
     "text": [
      "accuracy: 0.187608611426\n",
      "accuracy: SpearmanrResult(correlation=0.086665937471066684, pvalue=0.64883796814050132)\n"
     ]
    },
    {
     "data": {
      "image/png": "[encoded data removed]",
      "text/plain": [
       "<matplotlib.figure.Figure at 0x192484687f0>"
      ]
     },
     "metadata": {},
     "output_type": "display_data"
    },
    {
     "name": "stdout",
     "output_type": "stream",
     "text": [
      "confidence: 0.178088245983\n",
      "confidence: SpearmanrResult(correlation=0.16095280897495445, pvalue=0.39550570730000678)\n"
     ]
    }
   ],
   "source": [
    "print(\"accuracy: \"+ str(np.corrcoef(tur_sub.feedback, tur_sub.elo)[0,1]))\n",
    "print(\"accuracy: \"+ str(sts.spearmanr(tur_sub.feedback, tur_sub.elo)))\n",
    "plt.plot(tur_sub.elo,tur_sub.feedback,'.')\n",
    "plt.show()\n",
    "print(\"confidence: \"+ str(np.corrcoef(tur_sub.delta_c, tur_sub.elo)[0,1]))\n",
    "print(\"confidence: \"+ str(sts.spearmanr(tur_sub.delta_c, tur_sub.elo)))"
   ]
  },
  {
   "cell_type": "code",
   "execution_count": 184,
   "metadata": {},
   "outputs": [
    {
     "name": "stdout",
     "output_type": "stream",
     "text": [
      "slope: 6.81102581344935e-05, r: 0.18760861142608518, p: 0.32082558086846796\n",
      "6.81102581345e-05\n"
     ]
    },
    {
     "data": {
      "image/png": "[encoded data removed]",
      "text/plain": [
       "<matplotlib.figure.Figure at 0x192484b9080>"
      ]
     },
     "metadata": {},
     "output_type": "display_data"
    }
   ],
   "source": [
    "# showing the percentage correct for elo level\n",
    "fig, axes = plt.subplots(1, 1, figsize=(10,6))\n",
    "\n",
    "'''\n",
    "# averaging correlations for each video id\n",
    "tur_vidID= dict()\n",
    "r_values=[]\n",
    "p_values=[]\n",
    "r_pearson=[]\n",
    "for i in range(0,180,1):\n",
    "    tur_vidID[i] = tur.loc[tur.clip_id == i]\n",
    "    slope, intercept, r_val, p_val, std_err = sts.linregress(tur_vidID[i].elo, tur_vidID[i].feedback)\n",
    "    r_values.append(r_val)\n",
    "    p_values.append(p_val)\n",
    "    r_pearson.append(np.corrcoef(tur_vidID[i].elo, tur_vidID[i].feedback)[0, 1])\n",
    "# average over within subject correlations\n",
    "r_mean = np.average(r_values)\n",
    "p_mean = np.average(p_values)\n",
    "r_pmean = np.average(r_pearson)\n",
    "'''\n",
    "\n",
    "slope, intercept, r_val, p_val, std_err = sts.linregress(tur_sub.elo, tur_sub.feedback)\n",
    "print(\"slope: {}, r: {}, p: {}\".format(slope,r_val, p_val))\n",
    "\n",
    "# huge correlation using all trials\n",
    "slope, intercept, r_value, p_value, std_err = sts.linregress(tur.elo, tur.feedback)\n",
    "print(slope)\n",
    "\n",
    "text_1 = 'p='+str(round(p_val,3))+', '+'r='+str(round(r_val,3))\n",
    "plt.figtext(0.82,0.16,text_1, fontsize=14, ha='center', va='center', transform=axes.transAxes)\n",
    "        \n",
    "tur_sub = tur_sub.sort_values(by='timestamp')\n",
    "plt.scatter(tur_sub.elo, tur_sub.feedback,s=50,color=greens)\n",
    "\n",
    "plt.setp(\n",
    "    axes, \n",
    "    xlim=[-500,300], xticks=np.arange(-500, 301, 100), xlabel='Elo',\n",
    "    ylim=[0.40,0.65], yticks=np.arange(0.40, 0.66, 0.05), ylabel='Accuracy'\n",
    ")\n",
    "\n",
    "sns.despine()\n",
    "fig.savefig(fig_direc + \"Accuracy_elo.pdf\")"
   ]
  },
  {
   "cell_type": "code",
   "execution_count": 104,
   "metadata": {},
   "outputs": [
    {
     "name": "stdout",
     "output_type": "stream",
     "text": [
      "slope: 0.011436375972180682, r: 0.1780882459832344, p: 0.34642916252120515\n",
      "0.0114363759722\n"
     ]
    },
    {
     "data": {
      "image/png": "[encoded data removed]",
      "text/plain": [
       "<matplotlib.figure.Figure at 0x192485a9828>"
      ]
     },
     "metadata": {},
     "output_type": "display_data"
    }
   ],
   "source": [
    "# showing the percentage correct for elo level\n",
    "fig, axes = plt.subplots(1, 1, figsize=(10,6))\n",
    "\n",
    "'''\n",
    "# averaging correlations for each video id\n",
    "tur_vidID= dict()\n",
    "r_values=[]\n",
    "p_values=[]\n",
    "for i in range(0,180,1):\n",
    "    tur_vidID[i] = tur.loc[tur.clip_id == i]\n",
    "    slope, intercept, r_val, p_val, std_err = sts.linregress(tur_vidID[i].elo, tur_vidID[i].delta_c)\n",
    "    r_values.append(r_val)\n",
    "    p_values.append(p_val)\n",
    "    r_pearson.append(np.corrcoef(tur_vidID[i].elo, tur_vidID[i].delta_c)[0, 1])\n",
    "# average over within subject correlations\n",
    "r_mean = np.average(r_values)\n",
    "p_mean = np.average(p_values)\n",
    "print(p_mean)\n",
    "r_pmean = np.average(r_pearson)\n",
    "'''\n",
    "\n",
    "slope, intercept, r_val, p_val, std_err = sts.linregress(tur_sub.elo, tur_sub.delta_c)\n",
    "print(\"slope: {}, r: {}, p: {}\".format(slope,r_val, p_val))\n",
    "\n",
    "# huge correlation using all trials\n",
    "slope, intercept, r_value, p_value, std_err = sts.linregress(tur.elo, tur.delta_c)\n",
    "print(slope)\n",
    "\n",
    "text_1 = 'p='+str(round(p_val,3))+', '+'r='+str(round(r_val,3))\n",
    "plt.figtext(0.82,0.16,text_1, fontsize=14, ha='center', va='center', transform=axes.transAxes)\n",
    "\n",
    "tur_sub = tur_sub.sort_values(by='timestamp')\n",
    "plt.scatter(tur_sub.elo, tur_sub.delta_c,s=50,color=greens)\n",
    "\n",
    "\n",
    "plt.setp(\n",
    "    axes, \n",
    "    xlim=[-500,300], xticks=np.arange(-500, 301, 100), xlabel='Elo',\n",
    "    ylim=[0,45], yticks=np.arange(0, 50, 5), ylabel='Confidence'\n",
    ")\n",
    "\n",
    "sns.despine()\n",
    "fig.savefig(fig_direc + 'confidence_elo')"
   ]
  },
  {
   "cell_type": "markdown",
   "metadata": {},
   "source": [
    "#### by clip id"
   ]
  },
  {
   "cell_type": "code",
   "execution_count": 105,
   "metadata": {},
   "outputs": [
    {
     "name": "stdout",
     "output_type": "stream",
     "text": [
      "0.000422886851789 0.0442009455063 0.0011584049665\n"
     ]
    },
    {
     "data": {
      "image/png": "[encoded data removed]",
      "text/plain": [
       "<matplotlib.figure.Figure at 0x1924701b400>"
      ]
     },
     "metadata": {},
     "output_type": "display_data"
    }
   ],
   "source": [
    "# showing the percentage correct for each video id\n",
    "fig, axes = plt.subplots(1, 1, figsize=(10,6))\n",
    "\n",
    "slope, intercept, r_value, p_value, std_err = sts.linregress(tur.clip_id, tur.feedback)\n",
    "print(slope,r_value,p_value)\n",
    "\n",
    "plt.scatter(tur_vid.clip_id, tur_vid.feedback,s=50,color=greens)\n",
    "\n",
    "axes.set_xlim([0,180])\n",
    "\n",
    "plt.setp(\n",
    "    axes, \n",
    "    ylabel='Percentage correct (%)', xlabel='clip_id'\n",
    ")\n",
    "if (p_value<0.001):\n",
    "    text = 'p<0.001, '+'r='+str(round(r_value,3))\n",
    "else:\n",
    "    text = 'p='+str(round(p_value,3))+', '+'r='+str(round(r_value,3))\n",
    "plt.figtext(0.81,0.16,text, fontsize=16, ha='center', va='center', transform=axes.transAxes)\n",
    "\n",
    "sns.despine()"
   ]
  },
  {
   "cell_type": "code",
   "execution_count": 106,
   "metadata": {},
   "outputs": [
    {
     "name": "stdout",
     "output_type": "stream",
     "text": [
      "-0.00388400190678 -0.0145585779169 0.284780649955\n"
     ]
    },
    {
     "data": {
      "image/png": "[encoded data removed]",
      "text/plain": [
       "<matplotlib.figure.Figure at 0x19247011e80>"
      ]
     },
     "metadata": {},
     "output_type": "display_data"
    }
   ],
   "source": [
    "# showing the relative confidence level for each video id\n",
    "fig, axes = plt.subplots(1, 1, figsize=(10,6))\n",
    "\n",
    "slope, intercept, r_value, p_value, std_err = sts.linregress(tur.clip_id, tur.delta_c)\n",
    "print(slope,r_value,p_value)\n",
    "\n",
    "plt.scatter(tur_vid.clip_id, tur_vid.delta_c,s=50,color=greens)\n",
    "\n",
    "axes.set_xlim([0,180])\n",
    "\n",
    "plt.setp(\n",
    "    axes, \n",
    "    ylabel='Confidence', xlabel='clip_id'\n",
    ")\n",
    "if (p_value<0.001):\n",
    "    text = 'p<0.001, '+'r='+str(round(r_value,3))\n",
    "else:\n",
    "    text = 'p='+str(round(p_value,3))+', '+'r='+str(round(r_value,3))\n",
    "plt.figtext(0.81,0.16,text, fontsize=16, ha='center', va='center', transform=axes.transAxes)\n",
    "\n",
    "sns.despine()"
   ]
  },
  {
   "cell_type": "markdown",
   "metadata": {
    "collapsed": true
   },
   "source": [
    "### Question 2. Is there anything that makes some puzzles easier to identify? or more confident in identifying??\n",
    "#### Questionnaire?"
   ]
  },
  {
   "cell_type": "code",
   "execution_count": 107,
   "metadata": {},
   "outputs": [
    {
     "data": {
      "text/plain": [
       "\"\\nclient = pymongo.MongoClient('localhost', 27017)\\ndb = client.gamesdb\\nC = db.turing\\ncursor = C.find({'task':'turingQ'})\\nturingQ = pd.DataFrame(list(cursor))\\n\""
      ]
     },
     "execution_count": 107,
     "metadata": {},
     "output_type": "execute_result"
    }
   ],
   "source": [
    "'''\n",
    "client = pymongo.MongoClient('localhost', 27017)\n",
    "db = client.gamesdb\n",
    "C = db.turing\n",
    "cursor = C.find({'task':'turingQ'})\n",
    "turingQ = pd.DataFrame(list(cursor))\n",
    "'''"
   ]
  },
  {
   "cell_type": "code",
   "execution_count": 108,
   "metadata": {},
   "outputs": [
    {
     "data": {
      "text/plain": [
       "'\\nturingQ = turingQ.loc[turingQ.user_name.isin(names)]\\n'"
      ]
     },
     "execution_count": 108,
     "metadata": {},
     "output_type": "execute_result"
    }
   ],
   "source": [
    "'''\n",
    "turingQ = turingQ.loc[turingQ.user_name.isin(names)]\n",
    "'''"
   ]
  },
  {
   "cell_type": "code",
   "execution_count": 109,
   "metadata": {
    "collapsed": true
   },
   "outputs": [],
   "source": [
    "#turingQ = turingQ[['user_name','free-response','q0','q1','q2','q3','q4','q5','q6','q7','q8','q9']]"
   ]
  },
  {
   "cell_type": "code",
   "execution_count": 110,
   "metadata": {
    "collapsed": true
   },
   "outputs": [],
   "source": [
    "#turingQ.to_csv(dump_dir+'turingQ.csv',index=False)\n"
   ]
  },
  {
   "cell_type": "code",
   "execution_count": 191,
   "metadata": {
    "collapsed": true
   },
   "outputs": [],
   "source": [
    "elo = pd.read_csv(dump_dir+'ratings_tur.csv')\n",
    "turingQ = pd.read_csv(dump_dir+'turingQ.csv')\n",
    "turingQ = pd.merge(turingQ,elo,on='user_name')\n",
    "turingQ = pd.merge(turingQ, pd.DataFrame(tur_sub[['user_name','delta_c']]), on='user_name')\n",
    "turingQ = pd.merge(turingQ, pd.DataFrame(tur_sub[['user_name','feedback']]), on='user_name')\n",
    "turingQ = pd.merge(turingQ, pd.DataFrame(tur_sub[['user_name','human']]), on='user_name')\n",
    "for i in range(0,10,1):\n",
    "    turingQ['q'+str(i)]=turingQ['q'+str(i)]-50"
   ]
  },
  {
   "cell_type": "code",
   "execution_count": 194,
   "metadata": {},
   "outputs": [
    {
     "name": "stdout",
     "output_type": "stream",
     "text": [
      "[-11.379310344827585, -19.137931034482758, -14.137931034482758, 25.17241379310345, -6.206896551724138, 3.2758620689655173, -11.551724137931034, -20.517241379310345, -5.862068965517241, -11.206896551724139]\n"
     ]
    }
   ],
   "source": [
    "print([turingQ['q'+str(i)].mean() for i in range(10)])"
   ]
  },
  {
   "cell_type": "code",
   "execution_count": 197,
   "metadata": {},
   "outputs": [
    {
     "ename": "KeyError",
     "evalue": "'q10'",
     "output_type": "error",
     "traceback": [
      "\u001b[1;31m---------------------------------------------------------------------------\u001b[0m",
      "\u001b[1;31mKeyError\u001b[0m                                  Traceback (most recent call last)",
      "\u001b[1;32mC:\\Users\\Bas\\Anaconda3\\lib\\site-packages\\pandas\\core\\indexes\\base.py\u001b[0m in \u001b[0;36mget_loc\u001b[1;34m(self, key, method, tolerance)\u001b[0m\n\u001b[0;32m   2392\u001b[0m             \u001b[1;32mtry\u001b[0m\u001b[1;33m:\u001b[0m\u001b[1;33m\u001b[0m\u001b[0m\n\u001b[1;32m-> 2393\u001b[1;33m                 \u001b[1;32mreturn\u001b[0m \u001b[0mself\u001b[0m\u001b[1;33m.\u001b[0m\u001b[0m_engine\u001b[0m\u001b[1;33m.\u001b[0m\u001b[0mget_loc\u001b[0m\u001b[1;33m(\u001b[0m\u001b[0mkey\u001b[0m\u001b[1;33m)\u001b[0m\u001b[1;33m\u001b[0m\u001b[0m\n\u001b[0m\u001b[0;32m   2394\u001b[0m             \u001b[1;32mexcept\u001b[0m \u001b[0mKeyError\u001b[0m\u001b[1;33m:\u001b[0m\u001b[1;33m\u001b[0m\u001b[0m\n",
      "\u001b[1;32mpandas\\_libs\\index.pyx\u001b[0m in \u001b[0;36mpandas._libs.index.IndexEngine.get_loc (pandas\\_libs\\index.c:5239)\u001b[1;34m()\u001b[0m\n",
      "\u001b[1;32mpandas\\_libs\\index.pyx\u001b[0m in \u001b[0;36mpandas._libs.index.IndexEngine.get_loc (pandas\\_libs\\index.c:5085)\u001b[1;34m()\u001b[0m\n",
      "\u001b[1;32mpandas\\_libs\\hashtable_class_helper.pxi\u001b[0m in \u001b[0;36mpandas._libs.hashtable.PyObjectHashTable.get_item (pandas\\_libs\\hashtable.c:20405)\u001b[1;34m()\u001b[0m\n",
      "\u001b[1;32mpandas\\_libs\\hashtable_class_helper.pxi\u001b[0m in \u001b[0;36mpandas._libs.hashtable.PyObjectHashTable.get_item (pandas\\_libs\\hashtable.c:20359)\u001b[1;34m()\u001b[0m\n",
      "\u001b[1;31mKeyError\u001b[0m: 'q10'",
      "\nDuring handling of the above exception, another exception occurred:\n",
      "\u001b[1;31mKeyError\u001b[0m                                  Traceback (most recent call last)",
      "\u001b[1;32m<ipython-input-197-0e8ffaf9a735>\u001b[0m in \u001b[0;36m<module>\u001b[1;34m()\u001b[0m\n\u001b[1;32m----> 1\u001b[1;33m \u001b[0mturingQ\u001b[0m\u001b[1;33m[\u001b[0m\u001b[1;34m'q10'\u001b[0m\u001b[1;33m]\u001b[0m\u001b[1;33m\u001b[0m\u001b[0m\n\u001b[0m",
      "\u001b[1;32mC:\\Users\\Bas\\Anaconda3\\lib\\site-packages\\pandas\\core\\frame.py\u001b[0m in \u001b[0;36m__getitem__\u001b[1;34m(self, key)\u001b[0m\n\u001b[0;32m   2060\u001b[0m             \u001b[1;32mreturn\u001b[0m \u001b[0mself\u001b[0m\u001b[1;33m.\u001b[0m\u001b[0m_getitem_multilevel\u001b[0m\u001b[1;33m(\u001b[0m\u001b[0mkey\u001b[0m\u001b[1;33m)\u001b[0m\u001b[1;33m\u001b[0m\u001b[0m\n\u001b[0;32m   2061\u001b[0m         \u001b[1;32melse\u001b[0m\u001b[1;33m:\u001b[0m\u001b[1;33m\u001b[0m\u001b[0m\n\u001b[1;32m-> 2062\u001b[1;33m             \u001b[1;32mreturn\u001b[0m \u001b[0mself\u001b[0m\u001b[1;33m.\u001b[0m\u001b[0m_getitem_column\u001b[0m\u001b[1;33m(\u001b[0m\u001b[0mkey\u001b[0m\u001b[1;33m)\u001b[0m\u001b[1;33m\u001b[0m\u001b[0m\n\u001b[0m\u001b[0;32m   2063\u001b[0m \u001b[1;33m\u001b[0m\u001b[0m\n\u001b[0;32m   2064\u001b[0m     \u001b[1;32mdef\u001b[0m \u001b[0m_getitem_column\u001b[0m\u001b[1;33m(\u001b[0m\u001b[0mself\u001b[0m\u001b[1;33m,\u001b[0m \u001b[0mkey\u001b[0m\u001b[1;33m)\u001b[0m\u001b[1;33m:\u001b[0m\u001b[1;33m\u001b[0m\u001b[0m\n",
      "\u001b[1;32mC:\\Users\\Bas\\Anaconda3\\lib\\site-packages\\pandas\\core\\frame.py\u001b[0m in \u001b[0;36m_getitem_column\u001b[1;34m(self, key)\u001b[0m\n\u001b[0;32m   2067\u001b[0m         \u001b[1;31m# get column\u001b[0m\u001b[1;33m\u001b[0m\u001b[1;33m\u001b[0m\u001b[0m\n\u001b[0;32m   2068\u001b[0m         \u001b[1;32mif\u001b[0m \u001b[0mself\u001b[0m\u001b[1;33m.\u001b[0m\u001b[0mcolumns\u001b[0m\u001b[1;33m.\u001b[0m\u001b[0mis_unique\u001b[0m\u001b[1;33m:\u001b[0m\u001b[1;33m\u001b[0m\u001b[0m\n\u001b[1;32m-> 2069\u001b[1;33m             \u001b[1;32mreturn\u001b[0m \u001b[0mself\u001b[0m\u001b[1;33m.\u001b[0m\u001b[0m_get_item_cache\u001b[0m\u001b[1;33m(\u001b[0m\u001b[0mkey\u001b[0m\u001b[1;33m)\u001b[0m\u001b[1;33m\u001b[0m\u001b[0m\n\u001b[0m\u001b[0;32m   2070\u001b[0m \u001b[1;33m\u001b[0m\u001b[0m\n\u001b[0;32m   2071\u001b[0m         \u001b[1;31m# duplicate columns & possible reduce dimensionality\u001b[0m\u001b[1;33m\u001b[0m\u001b[1;33m\u001b[0m\u001b[0m\n",
      "\u001b[1;32mC:\\Users\\Bas\\Anaconda3\\lib\\site-packages\\pandas\\core\\generic.py\u001b[0m in \u001b[0;36m_get_item_cache\u001b[1;34m(self, item)\u001b[0m\n\u001b[0;32m   1532\u001b[0m         \u001b[0mres\u001b[0m \u001b[1;33m=\u001b[0m \u001b[0mcache\u001b[0m\u001b[1;33m.\u001b[0m\u001b[0mget\u001b[0m\u001b[1;33m(\u001b[0m\u001b[0mitem\u001b[0m\u001b[1;33m)\u001b[0m\u001b[1;33m\u001b[0m\u001b[0m\n\u001b[0;32m   1533\u001b[0m         \u001b[1;32mif\u001b[0m \u001b[0mres\u001b[0m \u001b[1;32mis\u001b[0m \u001b[1;32mNone\u001b[0m\u001b[1;33m:\u001b[0m\u001b[1;33m\u001b[0m\u001b[0m\n\u001b[1;32m-> 1534\u001b[1;33m             \u001b[0mvalues\u001b[0m \u001b[1;33m=\u001b[0m \u001b[0mself\u001b[0m\u001b[1;33m.\u001b[0m\u001b[0m_data\u001b[0m\u001b[1;33m.\u001b[0m\u001b[0mget\u001b[0m\u001b[1;33m(\u001b[0m\u001b[0mitem\u001b[0m\u001b[1;33m)\u001b[0m\u001b[1;33m\u001b[0m\u001b[0m\n\u001b[0m\u001b[0;32m   1535\u001b[0m             \u001b[0mres\u001b[0m \u001b[1;33m=\u001b[0m \u001b[0mself\u001b[0m\u001b[1;33m.\u001b[0m\u001b[0m_box_item_values\u001b[0m\u001b[1;33m(\u001b[0m\u001b[0mitem\u001b[0m\u001b[1;33m,\u001b[0m \u001b[0mvalues\u001b[0m\u001b[1;33m)\u001b[0m\u001b[1;33m\u001b[0m\u001b[0m\n\u001b[0;32m   1536\u001b[0m             \u001b[0mcache\u001b[0m\u001b[1;33m[\u001b[0m\u001b[0mitem\u001b[0m\u001b[1;33m]\u001b[0m \u001b[1;33m=\u001b[0m \u001b[0mres\u001b[0m\u001b[1;33m\u001b[0m\u001b[0m\n",
      "\u001b[1;32mC:\\Users\\Bas\\Anaconda3\\lib\\site-packages\\pandas\\core\\internals.py\u001b[0m in \u001b[0;36mget\u001b[1;34m(self, item, fastpath)\u001b[0m\n\u001b[0;32m   3588\u001b[0m \u001b[1;33m\u001b[0m\u001b[0m\n\u001b[0;32m   3589\u001b[0m             \u001b[1;32mif\u001b[0m \u001b[1;32mnot\u001b[0m \u001b[0misnull\u001b[0m\u001b[1;33m(\u001b[0m\u001b[0mitem\u001b[0m\u001b[1;33m)\u001b[0m\u001b[1;33m:\u001b[0m\u001b[1;33m\u001b[0m\u001b[0m\n\u001b[1;32m-> 3590\u001b[1;33m                 \u001b[0mloc\u001b[0m \u001b[1;33m=\u001b[0m \u001b[0mself\u001b[0m\u001b[1;33m.\u001b[0m\u001b[0mitems\u001b[0m\u001b[1;33m.\u001b[0m\u001b[0mget_loc\u001b[0m\u001b[1;33m(\u001b[0m\u001b[0mitem\u001b[0m\u001b[1;33m)\u001b[0m\u001b[1;33m\u001b[0m\u001b[0m\n\u001b[0m\u001b[0;32m   3591\u001b[0m             \u001b[1;32melse\u001b[0m\u001b[1;33m:\u001b[0m\u001b[1;33m\u001b[0m\u001b[0m\n\u001b[0;32m   3592\u001b[0m                 \u001b[0mindexer\u001b[0m \u001b[1;33m=\u001b[0m \u001b[0mnp\u001b[0m\u001b[1;33m.\u001b[0m\u001b[0marange\u001b[0m\u001b[1;33m(\u001b[0m\u001b[0mlen\u001b[0m\u001b[1;33m(\u001b[0m\u001b[0mself\u001b[0m\u001b[1;33m.\u001b[0m\u001b[0mitems\u001b[0m\u001b[1;33m)\u001b[0m\u001b[1;33m)\u001b[0m\u001b[1;33m[\u001b[0m\u001b[0misnull\u001b[0m\u001b[1;33m(\u001b[0m\u001b[0mself\u001b[0m\u001b[1;33m.\u001b[0m\u001b[0mitems\u001b[0m\u001b[1;33m)\u001b[0m\u001b[1;33m]\u001b[0m\u001b[1;33m\u001b[0m\u001b[0m\n",
      "\u001b[1;32mC:\\Users\\Bas\\Anaconda3\\lib\\site-packages\\pandas\\core\\indexes\\base.py\u001b[0m in \u001b[0;36mget_loc\u001b[1;34m(self, key, method, tolerance)\u001b[0m\n\u001b[0;32m   2393\u001b[0m                 \u001b[1;32mreturn\u001b[0m \u001b[0mself\u001b[0m\u001b[1;33m.\u001b[0m\u001b[0m_engine\u001b[0m\u001b[1;33m.\u001b[0m\u001b[0mget_loc\u001b[0m\u001b[1;33m(\u001b[0m\u001b[0mkey\u001b[0m\u001b[1;33m)\u001b[0m\u001b[1;33m\u001b[0m\u001b[0m\n\u001b[0;32m   2394\u001b[0m             \u001b[1;32mexcept\u001b[0m \u001b[0mKeyError\u001b[0m\u001b[1;33m:\u001b[0m\u001b[1;33m\u001b[0m\u001b[0m\n\u001b[1;32m-> 2395\u001b[1;33m                 \u001b[1;32mreturn\u001b[0m \u001b[0mself\u001b[0m\u001b[1;33m.\u001b[0m\u001b[0m_engine\u001b[0m\u001b[1;33m.\u001b[0m\u001b[0mget_loc\u001b[0m\u001b[1;33m(\u001b[0m\u001b[0mself\u001b[0m\u001b[1;33m.\u001b[0m\u001b[0m_maybe_cast_indexer\u001b[0m\u001b[1;33m(\u001b[0m\u001b[0mkey\u001b[0m\u001b[1;33m)\u001b[0m\u001b[1;33m)\u001b[0m\u001b[1;33m\u001b[0m\u001b[0m\n\u001b[0m\u001b[0;32m   2396\u001b[0m \u001b[1;33m\u001b[0m\u001b[0m\n\u001b[0;32m   2397\u001b[0m         \u001b[0mindexer\u001b[0m \u001b[1;33m=\u001b[0m \u001b[0mself\u001b[0m\u001b[1;33m.\u001b[0m\u001b[0mget_indexer\u001b[0m\u001b[1;33m(\u001b[0m\u001b[1;33m[\u001b[0m\u001b[0mkey\u001b[0m\u001b[1;33m]\u001b[0m\u001b[1;33m,\u001b[0m \u001b[0mmethod\u001b[0m\u001b[1;33m=\u001b[0m\u001b[0mmethod\u001b[0m\u001b[1;33m,\u001b[0m \u001b[0mtolerance\u001b[0m\u001b[1;33m=\u001b[0m\u001b[0mtolerance\u001b[0m\u001b[1;33m)\u001b[0m\u001b[1;33m\u001b[0m\u001b[0m\n",
      "\u001b[1;32mpandas\\_libs\\index.pyx\u001b[0m in \u001b[0;36mpandas._libs.index.IndexEngine.get_loc (pandas\\_libs\\index.c:5239)\u001b[1;34m()\u001b[0m\n",
      "\u001b[1;32mpandas\\_libs\\index.pyx\u001b[0m in \u001b[0;36mpandas._libs.index.IndexEngine.get_loc (pandas\\_libs\\index.c:5085)\u001b[1;34m()\u001b[0m\n",
      "\u001b[1;32mpandas\\_libs\\hashtable_class_helper.pxi\u001b[0m in \u001b[0;36mpandas._libs.hashtable.PyObjectHashTable.get_item (pandas\\_libs\\hashtable.c:20405)\u001b[1;34m()\u001b[0m\n",
      "\u001b[1;32mpandas\\_libs\\hashtable_class_helper.pxi\u001b[0m in \u001b[0;36mpandas._libs.hashtable.PyObjectHashTable.get_item (pandas\\_libs\\hashtable.c:20359)\u001b[1;34m()\u001b[0m\n",
      "\u001b[1;31mKeyError\u001b[0m: 'q10'"
     ]
    }
   ],
   "source": []
  },
  {
   "cell_type": "code",
   "execution_count": null,
   "metadata": {
    "collapsed": true
   },
   "outputs": [],
   "source": []
  },
  {
   "cell_type": "code",
   "execution_count": 115,
   "metadata": {
    "scrolled": true
   },
   "outputs": [
    {
     "name": "stdout",
     "output_type": "stream",
     "text": [
      "                            OLS Regression Results                            \n",
      "==============================================================================\n",
      "Dep. Variable:               feedback   R-squared:                       0.660\n",
      "Model:                            OLS   Adj. R-squared:                  0.439\n",
      "Method:                 Least Squares   F-statistic:                     2.994\n",
      "Date:                Thu, 18 Jan 2018   Prob (F-statistic):             0.0209\n",
      "Time:                        19:09:27   Log-Likelihood:                 59.979\n",
      "No. Observations:                  29   AIC:                            -95.96\n",
      "Df Residuals:                      17   BIC:                            -79.55\n",
      "Df Model:                          11                                         \n",
      "Covariance Type:            nonrobust                                         \n",
      "==============================================================================\n",
      "                 coef    std err          t      P>|t|      [0.025      0.975]\n",
      "------------------------------------------------------------------------------\n",
      "Intercept      0.5303      0.015     36.355      0.000       0.500       0.561\n",
      "q0            -0.0011      0.000     -2.294      0.035      -0.002   -8.67e-05\n",
      "q1            -0.0005      0.001     -0.966      0.348      -0.002       0.001\n",
      "q2            -0.0009      0.000     -2.705      0.015      -0.002      -0.000\n",
      "q3            -0.0002      0.001     -0.461      0.651      -0.001       0.001\n",
      "q4         -5.029e-05      0.000     -0.119      0.907      -0.001       0.001\n",
      "q5          7.236e-05      0.000      0.208      0.837      -0.001       0.001\n",
      "q6             0.0004      0.000      1.045      0.311      -0.000       0.001\n",
      "q7             0.0002      0.000      0.445      0.662      -0.001       0.001\n",
      "q8            -0.0009      0.001     -1.641      0.119      -0.002       0.000\n",
      "q9             0.0004      0.001      0.686      0.502      -0.001       0.002\n",
      "elo        -6.549e-05   7.72e-05     -0.849      0.408      -0.000    9.73e-05\n",
      "==============================================================================\n",
      "Omnibus:                       11.405   Durbin-Watson:                   2.032\n",
      "Prob(Omnibus):                  0.003   Jarque-Bera (JB):               10.977\n",
      "Skew:                          -1.101   Prob(JB):                      0.00413\n",
      "Kurtosis:                       5.057   Cond. No.                         258.\n",
      "==============================================================================\n",
      "\n",
      "Warnings:\n",
      "[1] Standard Errors assume that the covariance matrix of the errors is correctly specified.\n"
     ]
    }
   ],
   "source": [
    "# percentage correct for each subject as a function (linear regression) of their playing strength and claimed strategies\n",
    "formula = 'feedback ~ q0+q1+q2+q3+q4+q5+q6+q7+q8+q9+elo'\n",
    "lm = ols(formula, turingQ).fit()\n",
    "print(lm.summary())"
   ]
  },
  {
   "cell_type": "code",
   "execution_count": 116,
   "metadata": {},
   "outputs": [
    {
     "data": {
      "text/plain": [
       "SpearmanrResult(correlation=-0.22716759566770225, pvalue=0.23597973380661219)"
      ]
     },
     "execution_count": 116,
     "metadata": {},
     "output_type": "execute_result"
    }
   ],
   "source": [
    "sts.spearmanr(turingQ.q7, turingQ.feedback)"
   ]
  },
  {
   "cell_type": "code",
   "execution_count": 117,
   "metadata": {},
   "outputs": [
    {
     "data": {
      "text/plain": [
       "-0.43050367453654997"
      ]
     },
     "execution_count": 117,
     "metadata": {},
     "output_type": "execute_result"
    }
   ],
   "source": [
    "np.corrcoef(turingQ.q9, turingQ.feedback)[0, 1]"
   ]
  },
  {
   "cell_type": "code",
   "execution_count": 118,
   "metadata": {},
   "outputs": [
    {
     "data": {
      "text/plain": [
       "SpearmanrResult(correlation=0.57282834396846272, pvalue=0.0011635585909453307)"
      ]
     },
     "execution_count": 118,
     "metadata": {},
     "output_type": "execute_result"
    }
   ],
   "source": [
    "sts.spearmanr(turingQ.q3, turingQ.delta_c)\n",
    "# q1, 3 (positive), 7"
   ]
  },
  {
   "cell_type": "code",
   "execution_count": 119,
   "metadata": {},
   "outputs": [
    {
     "data": {
      "text/plain": [
       "0.56449228706737453"
      ]
     },
     "execution_count": 119,
     "metadata": {},
     "output_type": "execute_result"
    }
   ],
   "source": [
    "np.corrcoef(turingQ.q3, turingQ.delta_c)[0, 1]"
   ]
  },
  {
   "cell_type": "code",
   "execution_count": 120,
   "metadata": {},
   "outputs": [
    {
     "name": "stdout",
     "output_type": "stream",
     "text": [
      "-0.104966891538 -0.3471892713 0.0649930240893\n"
     ]
    }
   ],
   "source": [
    "slope, intercept, r_value, p_value, std_err = sts.linregress(turingQ.q1, turingQ.delta_c)\n",
    "print(slope,r_value,p_value)"
   ]
  },
  {
   "cell_type": "code",
   "execution_count": 121,
   "metadata": {},
   "outputs": [
    {
     "data": {
      "text/plain": [
       "SpearmanrResult(correlation=0.2632369965601033, pvalue=0.1676805087404904)"
      ]
     },
     "execution_count": 121,
     "metadata": {},
     "output_type": "execute_result"
    }
   ],
   "source": [
    "sts.spearmanr(turingQ.q9, turingQ.human)"
   ]
  },
  {
   "cell_type": "code",
   "execution_count": 122,
   "metadata": {},
   "outputs": [
    {
     "data": {
      "text/plain": [
       "0.31505611062368893"
      ]
     },
     "execution_count": 122,
     "metadata": {},
     "output_type": "execute_result"
    }
   ],
   "source": [
    "np.corrcoef(turingQ.q9, turingQ.human)[0, 1]"
   ]
  },
  {
   "cell_type": "code",
   "execution_count": 123,
   "metadata": {},
   "outputs": [
    {
     "name": "stdout",
     "output_type": "stream",
     "text": [
      "                            OLS Regression Results                            \n",
      "==============================================================================\n",
      "Dep. Variable:                delta_c   R-squared:                       0.550\n",
      "Model:                            OLS   Adj. R-squared:                  0.259\n",
      "Method:                 Least Squares   F-statistic:                     1.892\n",
      "Date:                Thu, 18 Jan 2018   Prob (F-statistic):              0.115\n",
      "Time:                        19:09:33   Log-Likelihood:                -90.727\n",
      "No. Observations:                  29   AIC:                             205.5\n",
      "Df Residuals:                      17   BIC:                             221.9\n",
      "Df Model:                          11                                         \n",
      "Covariance Type:            nonrobust                                         \n",
      "==============================================================================\n",
      "                 coef    std err          t      P>|t|      [0.025      0.975]\n",
      "------------------------------------------------------------------------------\n",
      "Intercept     17.3473      2.636      6.582      0.000      11.787      22.908\n",
      "q0             0.0480      0.085      0.564      0.580      -0.131       0.227\n",
      "q1             0.0542      0.091      0.597      0.558      -0.137       0.246\n",
      "q2             0.0198      0.061      0.326      0.748      -0.109       0.148\n",
      "q3             0.0461      0.095      0.485      0.634      -0.154       0.247\n",
      "q4             0.0166      0.076      0.217      0.830      -0.145       0.178\n",
      "q5            -0.0230      0.063     -0.367      0.718      -0.155       0.109\n",
      "q6            -0.1177      0.075     -1.573      0.134      -0.276       0.040\n",
      "q7            -0.2401      0.090     -2.667      0.016      -0.430      -0.050\n",
      "q8            -0.0543      0.096     -0.568      0.578      -0.256       0.147\n",
      "q9             0.0603      0.098      0.616      0.546      -0.146       0.267\n",
      "elo            0.0026      0.014      0.187      0.854      -0.027       0.032\n",
      "==============================================================================\n",
      "Omnibus:                        0.953   Durbin-Watson:                   2.250\n",
      "Prob(Omnibus):                  0.621   Jarque-Bera (JB):                0.938\n",
      "Skew:                          -0.280   Prob(JB):                        0.626\n",
      "Kurtosis:                       2.320   Cond. No.                         258.\n",
      "==============================================================================\n",
      "\n",
      "Warnings:\n",
      "[1] Standard Errors assume that the covariance matrix of the errors is correctly specified.\n"
     ]
    }
   ],
   "source": [
    "formula = 'delta_c ~ q0+q1+q2+q3+q4+q5+q6+q7+q8+q9+elo'\n",
    "lm = ols(formula, turingQ).fit()\n",
    "print(lm.summary())"
   ]
  },
  {
   "cell_type": "code",
   "execution_count": 124,
   "metadata": {},
   "outputs": [
    {
     "name": "stdout",
     "output_type": "stream",
     "text": [
      "                            OLS Regression Results                            \n",
      "==============================================================================\n",
      "Dep. Variable:                  human   R-squared:                       0.479\n",
      "Model:                            OLS   Adj. R-squared:                  0.141\n",
      "Method:                 Least Squares   F-statistic:                     1.419\n",
      "Date:                Thu, 18 Jan 2018   Prob (F-statistic):              0.250\n",
      "Time:                        19:09:34   Log-Likelihood:                 44.659\n",
      "No. Observations:                  29   AIC:                            -65.32\n",
      "Df Residuals:                      17   BIC:                            -48.91\n",
      "Df Model:                          11                                         \n",
      "Covariance Type:            nonrobust                                         \n",
      "==============================================================================\n",
      "                 coef    std err          t      P>|t|      [0.025      0.975]\n",
      "------------------------------------------------------------------------------\n",
      "Intercept      0.5606      0.025     22.662      0.000       0.508       0.613\n",
      "q0             0.0011      0.001      1.411      0.176      -0.001       0.003\n",
      "q1             0.0013      0.001      1.467      0.161      -0.001       0.003\n",
      "q2             0.0007      0.001      1.298      0.212      -0.000       0.002\n",
      "q3            -0.0010      0.001     -1.105      0.285      -0.003       0.001\n",
      "q4            -0.0003      0.001     -0.452      0.657      -0.002       0.001\n",
      "q5            -0.0005      0.001     -0.873      0.395      -0.002       0.001\n",
      "q6            -0.0002      0.001     -0.289      0.776      -0.002       0.001\n",
      "q7            -0.0009      0.001     -1.124      0.276      -0.003       0.001\n",
      "q8            -0.0004      0.001     -0.405      0.691      -0.002       0.002\n",
      "q9            -0.0005      0.001     -0.533      0.601      -0.002       0.001\n",
      "elo            0.0002      0.000      1.699      0.108   -5.38e-05       0.000\n",
      "==============================================================================\n",
      "Omnibus:                        2.009   Durbin-Watson:                   1.919\n",
      "Prob(Omnibus):                  0.366   Jarque-Bera (JB):                1.129\n",
      "Skew:                           0.023   Prob(JB):                        0.569\n",
      "Kurtosis:                       2.035   Cond. No.                         258.\n",
      "==============================================================================\n",
      "\n",
      "Warnings:\n",
      "[1] Standard Errors assume that the covariance matrix of the errors is correctly specified.\n"
     ]
    }
   ],
   "source": [
    "formula = 'human ~ q0+q1+q2+q3+q4+q5+q6+q7+q8+q9+elo'\n",
    "lm = ols(formula, turingQ).fit()\n",
    "print(lm.summary())"
   ]
  },
  {
   "cell_type": "code",
   "execution_count": 181,
   "metadata": {},
   "outputs": [
    {
     "data": {
      "text/plain": [
       "0     0.25\n",
       "1    -0.35\n",
       "2    -0.20\n",
       "3    -0.50\n",
       "4    -0.40\n",
       "5     0.30\n",
       "6    -0.10\n",
       "7     0.30\n",
       "8    -0.40\n",
       "9    -0.30\n",
       "10   -0.30\n",
       "11    0.35\n",
       "12   -0.30\n",
       "13    0.15\n",
       "14    0.30\n",
       "15   -0.40\n",
       "16   -0.25\n",
       "17   -0.30\n",
       "18   -0.35\n",
       "19   -0.30\n",
       "20    0.15\n",
       "21   -0.45\n",
       "22   -0.10\n",
       "23    0.35\n",
       "24   -0.20\n",
       "25    0.30\n",
       "26   -0.45\n",
       "27   -0.40\n",
       "28    0.30\n",
       "Name: q0_weighted, dtype: float64"
      ]
     },
     "execution_count": 181,
     "metadata": {},
     "output_type": "execute_result"
    }
   ],
   "source": [
    "turingQ['q0_weighted']"
   ]
  },
  {
   "cell_type": "markdown",
   "metadata": {},
   "source": [
    "### Question 1. Does people’s confidence reflect their accuracy in distinguishing the video types? \n",
    "#### average by subject for cross subject analysis"
   ]
  },
  {
   "cell_type": "code",
   "execution_count": 125,
   "metadata": {},
   "outputs": [
    {
     "name": "stdout",
     "output_type": "stream",
     "text": [
      "0.00271666830812\n",
      "0.00414986359828\n"
     ]
    },
    {
     "ename": "FileNotFoundError",
     "evalue": "[Errno 2] No such file or directory: 'Figs/Q1_1.png'",
     "output_type": "error",
     "traceback": [
      "\u001b[1;31m---------------------------------------------------------------------------\u001b[0m",
      "\u001b[1;31mFileNotFoundError\u001b[0m                         Traceback (most recent call last)",
      "\u001b[1;32m<ipython-input-125-4b9538a4bc51>\u001b[0m in \u001b[0;36m<module>\u001b[1;34m()\u001b[0m\n\u001b[0;32m     46\u001b[0m \u001b[1;33m\u001b[0m\u001b[0m\n\u001b[0;32m     47\u001b[0m \u001b[0msns\u001b[0m\u001b[1;33m.\u001b[0m\u001b[0mdespine\u001b[0m\u001b[1;33m(\u001b[0m\u001b[1;33m)\u001b[0m\u001b[1;33m\u001b[0m\u001b[0m\n\u001b[1;32m---> 48\u001b[1;33m \u001b[0mfig\u001b[0m\u001b[1;33m.\u001b[0m\u001b[0msavefig\u001b[0m\u001b[1;33m(\u001b[0m\u001b[1;34m'Figs/Q1_1.png'\u001b[0m\u001b[1;33m,\u001b[0m \u001b[0mbbox_inches\u001b[0m\u001b[1;33m=\u001b[0m\u001b[1;34m'tight'\u001b[0m\u001b[1;33m)\u001b[0m\u001b[1;33m\u001b[0m\u001b[0m\n\u001b[0m",
      "\u001b[1;32mC:\\Users\\Bas\\Anaconda3\\lib\\site-packages\\matplotlib\\figure.py\u001b[0m in \u001b[0;36msavefig\u001b[1;34m(self, *args, **kwargs)\u001b[0m\n\u001b[0;32m   1571\u001b[0m             \u001b[0mself\u001b[0m\u001b[1;33m.\u001b[0m\u001b[0mset_frameon\u001b[0m\u001b[1;33m(\u001b[0m\u001b[0mframeon\u001b[0m\u001b[1;33m)\u001b[0m\u001b[1;33m\u001b[0m\u001b[0m\n\u001b[0;32m   1572\u001b[0m \u001b[1;33m\u001b[0m\u001b[0m\n\u001b[1;32m-> 1573\u001b[1;33m         \u001b[0mself\u001b[0m\u001b[1;33m.\u001b[0m\u001b[0mcanvas\u001b[0m\u001b[1;33m.\u001b[0m\u001b[0mprint_figure\u001b[0m\u001b[1;33m(\u001b[0m\u001b[1;33m*\u001b[0m\u001b[0margs\u001b[0m\u001b[1;33m,\u001b[0m \u001b[1;33m**\u001b[0m\u001b[0mkwargs\u001b[0m\u001b[1;33m)\u001b[0m\u001b[1;33m\u001b[0m\u001b[0m\n\u001b[0m\u001b[0;32m   1574\u001b[0m \u001b[1;33m\u001b[0m\u001b[0m\n\u001b[0;32m   1575\u001b[0m         \u001b[1;32mif\u001b[0m \u001b[0mframeon\u001b[0m\u001b[1;33m:\u001b[0m\u001b[1;33m\u001b[0m\u001b[0m\n",
      "\u001b[1;32mC:\\Users\\Bas\\Anaconda3\\lib\\site-packages\\matplotlib\\backend_bases.py\u001b[0m in \u001b[0;36mprint_figure\u001b[1;34m(self, filename, dpi, facecolor, edgecolor, orientation, format, **kwargs)\u001b[0m\n\u001b[0;32m   2250\u001b[0m                 \u001b[0morientation\u001b[0m\u001b[1;33m=\u001b[0m\u001b[0morientation\u001b[0m\u001b[1;33m,\u001b[0m\u001b[1;33m\u001b[0m\u001b[0m\n\u001b[0;32m   2251\u001b[0m                 \u001b[0mbbox_inches_restore\u001b[0m\u001b[1;33m=\u001b[0m\u001b[0m_bbox_inches_restore\u001b[0m\u001b[1;33m,\u001b[0m\u001b[1;33m\u001b[0m\u001b[0m\n\u001b[1;32m-> 2252\u001b[1;33m                 **kwargs)\n\u001b[0m\u001b[0;32m   2253\u001b[0m         \u001b[1;32mfinally\u001b[0m\u001b[1;33m:\u001b[0m\u001b[1;33m\u001b[0m\u001b[0m\n\u001b[0;32m   2254\u001b[0m             \u001b[1;32mif\u001b[0m \u001b[0mbbox_inches\u001b[0m \u001b[1;32mand\u001b[0m \u001b[0mrestore_bbox\u001b[0m\u001b[1;33m:\u001b[0m\u001b[1;33m\u001b[0m\u001b[0m\n",
      "\u001b[1;32mC:\\Users\\Bas\\Anaconda3\\lib\\site-packages\\matplotlib\\backends\\backend_agg.py\u001b[0m in \u001b[0;36mprint_png\u001b[1;34m(self, filename_or_obj, *args, **kwargs)\u001b[0m\n\u001b[0;32m    548\u001b[0m         \u001b[0mrenderer\u001b[0m\u001b[1;33m.\u001b[0m\u001b[0mdpi\u001b[0m \u001b[1;33m=\u001b[0m \u001b[0mself\u001b[0m\u001b[1;33m.\u001b[0m\u001b[0mfigure\u001b[0m\u001b[1;33m.\u001b[0m\u001b[0mdpi\u001b[0m\u001b[1;33m\u001b[0m\u001b[0m\n\u001b[0;32m    549\u001b[0m         \u001b[1;32mif\u001b[0m \u001b[0mis_string_like\u001b[0m\u001b[1;33m(\u001b[0m\u001b[0mfilename_or_obj\u001b[0m\u001b[1;33m)\u001b[0m\u001b[1;33m:\u001b[0m\u001b[1;33m\u001b[0m\u001b[0m\n\u001b[1;32m--> 550\u001b[1;33m             \u001b[0mfilename_or_obj\u001b[0m \u001b[1;33m=\u001b[0m \u001b[0mopen\u001b[0m\u001b[1;33m(\u001b[0m\u001b[0mfilename_or_obj\u001b[0m\u001b[1;33m,\u001b[0m \u001b[1;34m'wb'\u001b[0m\u001b[1;33m)\u001b[0m\u001b[1;33m\u001b[0m\u001b[0m\n\u001b[0m\u001b[0;32m    551\u001b[0m             \u001b[0mclose\u001b[0m \u001b[1;33m=\u001b[0m \u001b[1;32mTrue\u001b[0m\u001b[1;33m\u001b[0m\u001b[0m\n\u001b[0;32m    552\u001b[0m         \u001b[1;32melse\u001b[0m\u001b[1;33m:\u001b[0m\u001b[1;33m\u001b[0m\u001b[0m\n",
      "\u001b[1;31mFileNotFoundError\u001b[0m: [Errno 2] No such file or directory: 'Figs/Q1_1.png'"
     ]
    },
    {
     "data": {
      "image/png": "[encoded data removed]",
      "text/plain": [
       "<matplotlib.figure.Figure at 0x192470168d0>"
      ]
     },
     "metadata": {},
     "output_type": "display_data"
    }
   ],
   "source": [
    "# showing the percentage correct for each video length\n",
    "fig, axes = plt.subplots(1, 1, figsize=(10,6))\n",
    "\n",
    "# averaging correlations for each subject\n",
    "tur_subject = dict()\n",
    "r_values=[]\n",
    "p_values=[]\n",
    "r_pearson=[]\n",
    "slopes = []\n",
    "for i in range(0,30,1):\n",
    "    tur_subject[i] = tur.loc[tur.user_name == names[i]]\n",
    "    slope, intercept, r_val, p_val, std_err = sts.linregress(tur_subject[i].delta_c, tur_subject[i].feedback)\n",
    "    slopes.append(slope)\n",
    "    r_values.append(r_val)\n",
    "    p_values.append(p_val)\n",
    "    r_pearson.append(np.corrcoef(tur_subject[i].feedback, tur_subject[i].delta_c)[0, 1])\n",
    "# average over within subject correlations\n",
    "r_mean = np.average(r_values)\n",
    "p_mean = np.average(p_values)\n",
    "r_pmean = np.average(r_pearson)\n",
    "\n",
    "# huge correlation using all trials\n",
    "slope, intercept, r_value, p_value, std_err = sts.linregress(tur.delta_c, tur.feedback)\n",
    "print(slope)\n",
    "\n",
    "if (p_value<0.001):\n",
    "    text_1 = 'Overall: p<0.001, '+'r='+str(round(r_value,3))\n",
    "else:\n",
    "    text_1 = 'Overall: p='+str(round(p_value,3))+', '+'r='+str(round(r_value,3))\n",
    "if (p_mean<0.001):\n",
    "    text_2 = 'Ave_subject: p<0.001, '+'r='+str(round(r_mean,3))\n",
    "else:\n",
    "    text_2 = 'Ave_subject: p='+str(round(p_mean,3))+', '+'r='+str(round(r_mean,3))\n",
    "plt.figtext(0.77,0.22,text_1, fontsize=14, ha='center', va='center', transform=axes.transAxes)\n",
    "plt.figtext(0.75,0.16,text_2, fontsize=14, ha='center', va='center', transform=axes.transAxes)\n",
    "print(np.average(slopes))\n",
    "\n",
    "plt.scatter(tur_sub.delta_c, tur_sub.feedback,color=greens,s=45)\n",
    "\n",
    "#axes.set_xlim([0,36])\n",
    "\n",
    "plt.setp(\n",
    "    axes, \n",
    "    ylabel='Accuracy By Subject', xlabel='Confidence By Subject'\n",
    ")\n",
    "\n",
    "sns.despine()\n",
    "fig.savefig('Figs/Q1_1.png', bbox_inches='tight')"
   ]
  },
  {
   "cell_type": "code",
   "execution_count": null,
   "metadata": {
    "collapsed": true
   },
   "outputs": [],
   "source": []
  },
  {
   "cell_type": "markdown",
   "metadata": {},
   "source": [
    "### 1. Does people’s confidence reflect their accuracy in distinguishing the video types? \n",
    "#### average by subject and length for within subject"
   ]
  },
  {
   "cell_type": "code",
   "execution_count": 126,
   "metadata": {},
   "outputs": [
    {
     "name": "stdout",
     "output_type": "stream",
     "text": [
      "0.00271666830812 0.0757538086764 2.49720177356e-08\n"
     ]
    },
    {
     "ename": "FileNotFoundError",
     "evalue": "[Errno 2] No such file or directory: 'Figs/Q1_2.png'",
     "output_type": "error",
     "traceback": [
      "\u001b[1;31m---------------------------------------------------------------------------\u001b[0m",
      "\u001b[1;31mFileNotFoundError\u001b[0m                         Traceback (most recent call last)",
      "\u001b[1;32m<ipython-input-126-d3fab3d8ba26>\u001b[0m in \u001b[0;36m<module>\u001b[1;34m()\u001b[0m\n\u001b[0;32m     20\u001b[0m \u001b[1;33m\u001b[0m\u001b[0m\n\u001b[0;32m     21\u001b[0m \u001b[0msns\u001b[0m\u001b[1;33m.\u001b[0m\u001b[0mdespine\u001b[0m\u001b[1;33m(\u001b[0m\u001b[1;33m)\u001b[0m\u001b[1;33m\u001b[0m\u001b[0m\n\u001b[1;32m---> 22\u001b[1;33m \u001b[0mfig\u001b[0m\u001b[1;33m.\u001b[0m\u001b[0msavefig\u001b[0m\u001b[1;33m(\u001b[0m\u001b[1;34m'Figs/Q1_2.png'\u001b[0m\u001b[1;33m,\u001b[0m \u001b[0mbbox_inches\u001b[0m\u001b[1;33m=\u001b[0m\u001b[1;34m'tight'\u001b[0m\u001b[1;33m)\u001b[0m\u001b[1;33m\u001b[0m\u001b[0m\n\u001b[0m",
      "\u001b[1;32mC:\\Users\\Bas\\Anaconda3\\lib\\site-packages\\matplotlib\\figure.py\u001b[0m in \u001b[0;36msavefig\u001b[1;34m(self, *args, **kwargs)\u001b[0m\n\u001b[0;32m   1571\u001b[0m             \u001b[0mself\u001b[0m\u001b[1;33m.\u001b[0m\u001b[0mset_frameon\u001b[0m\u001b[1;33m(\u001b[0m\u001b[0mframeon\u001b[0m\u001b[1;33m)\u001b[0m\u001b[1;33m\u001b[0m\u001b[0m\n\u001b[0;32m   1572\u001b[0m \u001b[1;33m\u001b[0m\u001b[0m\n\u001b[1;32m-> 1573\u001b[1;33m         \u001b[0mself\u001b[0m\u001b[1;33m.\u001b[0m\u001b[0mcanvas\u001b[0m\u001b[1;33m.\u001b[0m\u001b[0mprint_figure\u001b[0m\u001b[1;33m(\u001b[0m\u001b[1;33m*\u001b[0m\u001b[0margs\u001b[0m\u001b[1;33m,\u001b[0m \u001b[1;33m**\u001b[0m\u001b[0mkwargs\u001b[0m\u001b[1;33m)\u001b[0m\u001b[1;33m\u001b[0m\u001b[0m\n\u001b[0m\u001b[0;32m   1574\u001b[0m \u001b[1;33m\u001b[0m\u001b[0m\n\u001b[0;32m   1575\u001b[0m         \u001b[1;32mif\u001b[0m \u001b[0mframeon\u001b[0m\u001b[1;33m:\u001b[0m\u001b[1;33m\u001b[0m\u001b[0m\n",
      "\u001b[1;32mC:\\Users\\Bas\\Anaconda3\\lib\\site-packages\\matplotlib\\backend_bases.py\u001b[0m in \u001b[0;36mprint_figure\u001b[1;34m(self, filename, dpi, facecolor, edgecolor, orientation, format, **kwargs)\u001b[0m\n\u001b[0;32m   2250\u001b[0m                 \u001b[0morientation\u001b[0m\u001b[1;33m=\u001b[0m\u001b[0morientation\u001b[0m\u001b[1;33m,\u001b[0m\u001b[1;33m\u001b[0m\u001b[0m\n\u001b[0;32m   2251\u001b[0m                 \u001b[0mbbox_inches_restore\u001b[0m\u001b[1;33m=\u001b[0m\u001b[0m_bbox_inches_restore\u001b[0m\u001b[1;33m,\u001b[0m\u001b[1;33m\u001b[0m\u001b[0m\n\u001b[1;32m-> 2252\u001b[1;33m                 **kwargs)\n\u001b[0m\u001b[0;32m   2253\u001b[0m         \u001b[1;32mfinally\u001b[0m\u001b[1;33m:\u001b[0m\u001b[1;33m\u001b[0m\u001b[0m\n\u001b[0;32m   2254\u001b[0m             \u001b[1;32mif\u001b[0m \u001b[0mbbox_inches\u001b[0m \u001b[1;32mand\u001b[0m \u001b[0mrestore_bbox\u001b[0m\u001b[1;33m:\u001b[0m\u001b[1;33m\u001b[0m\u001b[0m\n",
      "\u001b[1;32mC:\\Users\\Bas\\Anaconda3\\lib\\site-packages\\matplotlib\\backends\\backend_agg.py\u001b[0m in \u001b[0;36mprint_png\u001b[1;34m(self, filename_or_obj, *args, **kwargs)\u001b[0m\n\u001b[0;32m    548\u001b[0m         \u001b[0mrenderer\u001b[0m\u001b[1;33m.\u001b[0m\u001b[0mdpi\u001b[0m \u001b[1;33m=\u001b[0m \u001b[0mself\u001b[0m\u001b[1;33m.\u001b[0m\u001b[0mfigure\u001b[0m\u001b[1;33m.\u001b[0m\u001b[0mdpi\u001b[0m\u001b[1;33m\u001b[0m\u001b[0m\n\u001b[0;32m    549\u001b[0m         \u001b[1;32mif\u001b[0m \u001b[0mis_string_like\u001b[0m\u001b[1;33m(\u001b[0m\u001b[0mfilename_or_obj\u001b[0m\u001b[1;33m)\u001b[0m\u001b[1;33m:\u001b[0m\u001b[1;33m\u001b[0m\u001b[0m\n\u001b[1;32m--> 550\u001b[1;33m             \u001b[0mfilename_or_obj\u001b[0m \u001b[1;33m=\u001b[0m \u001b[0mopen\u001b[0m\u001b[1;33m(\u001b[0m\u001b[0mfilename_or_obj\u001b[0m\u001b[1;33m,\u001b[0m \u001b[1;34m'wb'\u001b[0m\u001b[1;33m)\u001b[0m\u001b[1;33m\u001b[0m\u001b[0m\n\u001b[0m\u001b[0;32m    551\u001b[0m             \u001b[0mclose\u001b[0m \u001b[1;33m=\u001b[0m \u001b[1;32mTrue\u001b[0m\u001b[1;33m\u001b[0m\u001b[0m\n\u001b[0;32m    552\u001b[0m         \u001b[1;32melse\u001b[0m\u001b[1;33m:\u001b[0m\u001b[1;33m\u001b[0m\u001b[0m\n",
      "\u001b[1;31mFileNotFoundError\u001b[0m: [Errno 2] No such file or directory: 'Figs/Q1_2.png'"
     ]
    },
    {
     "data": {
      "image/png": "[encoded data removed]",
      "text/plain": [
       "<matplotlib.figure.Figure at 0x192458da438>"
      ]
     },
     "metadata": {},
     "output_type": "display_data"
    }
   ],
   "source": [
    "# showing the percentage correct for each video length\n",
    "fig, axes = plt.subplots(1, 1, figsize=(10,6))\n",
    "\n",
    "tur_sl = tur_sl.sort_values(by='feedback')\n",
    "slope, intercept, r_value, p_value, std_err = sts.linregress(tur.delta_c, tur.feedback)\n",
    "print(slope,r_value,p_value)\n",
    "\n",
    "plt.scatter(tur_sl.delta_c, tur_sl.feedback,color='steelblue')\n",
    "\n",
    "plt.setp(\n",
    "    axes, \n",
    "    ylabel='Percentage Correct By Subject and Length', xlabel='Confidence By Subject and Length'\n",
    ")\n",
    "\n",
    "if (p_value<0.001):\n",
    "    text = 'p<0.001, '+'r='+str(round(r_value,3))\n",
    "else:\n",
    "    text = 'p='+str(round(p_value,3))+', '+'r='+str(round(r_value,3))\n",
    "plt.figtext(0.80,0.16,text, fontsize=16, ha='center', va='center', transform=axes.transAxes)\n",
    "\n",
    "sns.despine()\n",
    "fig.savefig('Figs/Q1_2.png', bbox_inches='tight')"
   ]
  },
  {
   "cell_type": "code",
   "execution_count": 127,
   "metadata": {},
   "outputs": [
    {
     "data": {
      "text/plain": [
       "SpearmanrResult(correlation=0.073463305392031636, pvalue=0.033264568647665485)"
      ]
     },
     "execution_count": 127,
     "metadata": {},
     "output_type": "execute_result"
    }
   ],
   "source": [
    "sts.spearmanr(tur_sl.delta_c, tur_sl.feedback)"
   ]
  },
  {
   "cell_type": "markdown",
   "metadata": {},
   "source": [
    "### 1. Does people’s confidence reflect their accuracy in distinguishing the video types? \n",
    "#### average by subject and type for within subject"
   ]
  },
  {
   "cell_type": "code",
   "execution_count": 131,
   "metadata": {},
   "outputs": [
    {
     "name": "stdout",
     "output_type": "stream",
     "text": [
      "0.00271666830812 0.0757538086764 2.49720177356e-08\n"
     ]
    },
    {
     "data": {
      "image/png": "[encoded data removed]",
      "text/plain": [
       "<matplotlib.figure.Figure at 0x192456b3860>"
      ]
     },
     "metadata": {},
     "output_type": "display_data"
    }
   ],
   "source": [
    "# showing the percentage correct for each video length\n",
    "fig, axes = plt.subplots(1, 1, figsize=(10,6))\n",
    "\n",
    "tur_st = tur_st.sort_values(by='feedback')\n",
    "\n",
    "slope, intercept, r_value, p_value, std_err = sts.linregress(tur.delta_c, tur.feedback)\n",
    "print(slope,r_value,p_value)\n",
    "\n",
    "plt.scatter(tur_st.delta_c, tur_st.feedback,color='steelblue')\n",
    "\n",
    "#axes.set_xlim([0,36])\n",
    "\n",
    "plt.setp(\n",
    "    axes, \n",
    "    ylabel='Percentage Correct By Subject and Type', xlabel='Confidence By Subject and Type'\n",
    ")\n",
    "\n",
    "if (p_value<0.001):\n",
    "    text = 'p<0.001, '+'r='+str(round(r_value,3))\n",
    "else:\n",
    "    text = 'p='+str(round(p_value,3))+', '+'r='+str(round(r_value,3))\n",
    "plt.figtext(0.81,0.16,text, fontsize=16, ha='center', va='center', transform=axes.transAxes)\n",
    "\n",
    "sns.despine()\n",
    "fig.savefig(fig_direc + 'Q1_3.pdf', bbox_inches='tight')"
   ]
  },
  {
   "cell_type": "code",
   "execution_count": 132,
   "metadata": {},
   "outputs": [
    {
     "data": {
      "text/plain": [
       "SpearmanrResult(correlation=0.13453049160226321, pvalue=0.30545020292347103)"
      ]
     },
     "execution_count": 132,
     "metadata": {},
     "output_type": "execute_result"
    }
   ],
   "source": [
    "sts.spearmanr(tur_st.delta_c, tur_st.feedback)"
   ]
  },
  {
   "cell_type": "markdown",
   "metadata": {},
   "source": [
    "### Question 3. What affects report as human (binary, logistic)\n",
    "#### use all data in tur"
   ]
  },
  {
   "cell_type": "code",
   "execution_count": 133,
   "metadata": {
    "collapsed": true,
    "scrolled": true
   },
   "outputs": [],
   "source": [
    "# logistic regression\n",
    "# should try to use formula rather than using package\n",
    "'''\n",
    "dummy_vid = pd.get_dummies(tur['clip_id'],prefix='vid')\n",
    "data = tur.join(dummy_vid)\n",
    "'''\n",
    "data = tur"
   ]
  },
  {
   "cell_type": "code",
   "execution_count": 134,
   "metadata": {},
   "outputs": [
    {
     "data": {
      "text/html": [
       "<div>\n",
       "<style>\n",
       "    .dataframe thead tr:only-child th {\n",
       "        text-align: right;\n",
       "    }\n",
       "\n",
       "    .dataframe thead th {\n",
       "        text-align: left;\n",
       "    }\n",
       "\n",
       "    .dataframe tbody tr th {\n",
       "        vertical-align: top;\n",
       "    }\n",
       "</style>\n",
       "<table border=\"1\" class=\"dataframe\">\n",
       "  <thead>\n",
       "    <tr style=\"text-align: right;\">\n",
       "      <th></th>\n",
       "      <th>user_name</th>\n",
       "      <th>clip_id</th>\n",
       "      <th>length</th>\n",
       "      <th>choice</th>\n",
       "      <th>feedback</th>\n",
       "      <th>timestamp</th>\n",
       "      <th>clip_type</th>\n",
       "      <th>delta_c</th>\n",
       "      <th>start_pieces</th>\n",
       "      <th>wp_center</th>\n",
       "      <th>bp_center</th>\n",
       "      <th>human</th>\n",
       "      <th>elo</th>\n",
       "    </tr>\n",
       "  </thead>\n",
       "  <tbody>\n",
       "    <tr>\n",
       "      <th>0</th>\n",
       "      <td>AF</td>\n",
       "      <td>58</td>\n",
       "      <td>16</td>\n",
       "      <td>24</td>\n",
       "      <td>0</td>\n",
       "      <td>1478100672688</td>\n",
       "      <td>1</td>\n",
       "      <td>26</td>\n",
       "      <td>4</td>\n",
       "      <td>1</td>\n",
       "      <td>1</td>\n",
       "      <td>0</td>\n",
       "      <td>76</td>\n",
       "    </tr>\n",
       "    <tr>\n",
       "      <th>1</th>\n",
       "      <td>AF</td>\n",
       "      <td>146</td>\n",
       "      <td>1</td>\n",
       "      <td>63</td>\n",
       "      <td>0</td>\n",
       "      <td>1478100685909</td>\n",
       "      <td>0</td>\n",
       "      <td>13</td>\n",
       "      <td>9</td>\n",
       "      <td>1</td>\n",
       "      <td>1</td>\n",
       "      <td>1</td>\n",
       "      <td>76</td>\n",
       "    </tr>\n",
       "    <tr>\n",
       "      <th>2</th>\n",
       "      <td>AF</td>\n",
       "      <td>168</td>\n",
       "      <td>14</td>\n",
       "      <td>61</td>\n",
       "      <td>0</td>\n",
       "      <td>1478100707442</td>\n",
       "      <td>0</td>\n",
       "      <td>11</td>\n",
       "      <td>0</td>\n",
       "      <td>0</td>\n",
       "      <td>0</td>\n",
       "      <td>1</td>\n",
       "      <td>76</td>\n",
       "    </tr>\n",
       "    <tr>\n",
       "      <th>3</th>\n",
       "      <td>AF</td>\n",
       "      <td>43</td>\n",
       "      <td>15</td>\n",
       "      <td>42</td>\n",
       "      <td>0</td>\n",
       "      <td>1478100760990</td>\n",
       "      <td>1</td>\n",
       "      <td>8</td>\n",
       "      <td>0</td>\n",
       "      <td>0</td>\n",
       "      <td>0</td>\n",
       "      <td>0</td>\n",
       "      <td>76</td>\n",
       "    </tr>\n",
       "    <tr>\n",
       "      <th>4</th>\n",
       "      <td>AF</td>\n",
       "      <td>72</td>\n",
       "      <td>12</td>\n",
       "      <td>42</td>\n",
       "      <td>0</td>\n",
       "      <td>1478100797038</td>\n",
       "      <td>1</td>\n",
       "      <td>8</td>\n",
       "      <td>4</td>\n",
       "      <td>1</td>\n",
       "      <td>1</td>\n",
       "      <td>0</td>\n",
       "      <td>76</td>\n",
       "    </tr>\n",
       "  </tbody>\n",
       "</table>\n",
       "</div>"
      ],
      "text/plain": [
       "  user_name  clip_id  length  choice  feedback      timestamp  clip_type  \\\n",
       "0        AF       58      16      24         0  1478100672688          1   \n",
       "1        AF      146       1      63         0  1478100685909          0   \n",
       "2        AF      168      14      61         0  1478100707442          0   \n",
       "3        AF       43      15      42         0  1478100760990          1   \n",
       "4        AF       72      12      42         0  1478100797038          1   \n",
       "\n",
       "   delta_c  start_pieces  wp_center  bp_center  human  elo  \n",
       "0       26             4          1          1      0   76  \n",
       "1       13             9          1          1      1   76  \n",
       "2       11             0          0          0      1   76  \n",
       "3        8             0          0          0      0   76  \n",
       "4        8             4          1          1      0   76  "
      ]
     },
     "execution_count": 134,
     "metadata": {},
     "output_type": "execute_result"
    }
   ],
   "source": [
    "data.head()"
   ]
  },
  {
   "cell_type": "code",
   "execution_count": 135,
   "metadata": {
    "collapsed": true
   },
   "outputs": [],
   "source": [
    "data = data.drop('timestamp',axis=1)"
   ]
  },
  {
   "cell_type": "code",
   "execution_count": 136,
   "metadata": {
    "collapsed": true
   },
   "outputs": [],
   "source": [
    "data = data[['user_name','choice','human','feedback','clip_id','clip_type','delta_c','length','elo','start_pieces','wp_center','bp_center']]\n",
    "#data = data[['choice','human','feedback','clip_id','delta_c','clip_type','length','elo','start_pieces']]"
   ]
  },
  {
   "cell_type": "code",
   "execution_count": 137,
   "metadata": {
    "collapsed": true
   },
   "outputs": [],
   "source": [
    "data['center'] = data['wp_center']*data['bp_center']\n",
    "data['intercept'] = 1.0"
   ]
  },
  {
   "cell_type": "code",
   "execution_count": 138,
   "metadata": {
    "scrolled": false
   },
   "outputs": [
    {
     "name": "stdout",
     "output_type": "stream",
     "text": [
      "Optimization terminated successfully.\n",
      "         Current function value: 0.683348\n",
      "         Iterations 4\n",
      "                           Logit Regression Results                           \n",
      "==============================================================================\n",
      "Dep. Variable:                  human   No. Observations:                 5400\n",
      "Model:                          Logit   Df Residuals:                     5395\n",
      "Method:                           MLE   Df Model:                            4\n",
      "Date:                Thu, 18 Jan 2018   Pseudo R-squ.:                 0.01347\n",
      "Time:                        19:10:28   Log-Likelihood:                -3690.1\n",
      "converged:                       True   LL-Null:                       -3740.4\n",
      "                                        LLR p-value:                 6.873e-21\n",
      "================================================================================\n",
      "                   coef    std err          z      P>|z|      [0.025      0.975]\n",
      "--------------------------------------------------------------------------------\n",
      "length           0.0400      0.004      9.044      0.000       0.031       0.049\n",
      "elo              0.0004      0.000      1.911      0.056      -1e-05       0.001\n",
      "start_pieces     0.0296      0.007      4.251      0.000       0.016       0.043\n",
      "center          -0.0843      0.071     -1.185      0.236      -0.224       0.055\n",
      "intercept       -0.4563      0.070     -6.559      0.000      -0.593      -0.320\n",
      "================================================================================\n",
      "             precision    recall  f1-score   support\n",
      "\n",
      "          0      0.545     0.520     0.532      2617\n",
      "          1      0.567     0.593     0.580      2783\n",
      "\n",
      "avg / total      0.557     0.557     0.557      5400\n",
      "\n"
     ]
    }
   ],
   "source": [
    "# log model\n",
    "\n",
    "#train_cols = data.columns[5:13]\n",
    "train_cols = ['length','elo','start_pieces','center','intercept']\n",
    "\n",
    "logit = sm.Logit(data['human'], data[train_cols])\n",
    "\n",
    "# fit the model\n",
    "result = logit.fit()\n",
    "print(result.summary())\n",
    "#print result.conf_int()\n",
    "#print np.exp(result.params)\n",
    "params = result.params\n",
    "conf = result.conf_int()\n",
    "conf['OR'] = params\n",
    "conf.columns = ['2.5%', '97.5%', 'OR']\n",
    "#print np.exp(conf)\n",
    "predictions = result.predict()\n",
    "predictions_nominal = [ 0 if x < 0.5 else 1 for x in predictions]\n",
    "#print confusion_matrix(data['human'], predictions_nominal)\n",
    "print(classification_report(data['human'], predictions_nominal, digits=3))"
   ]
  },
  {
   "cell_type": "code",
   "execution_count": 139,
   "metadata": {},
   "outputs": [
    {
     "data": {
      "text/plain": [
       "-0.077785024167323594"
      ]
     },
     "execution_count": 139,
     "metadata": {},
     "output_type": "execute_result"
    }
   ],
   "source": [
    "np.corrcoef(data['human'], data['delta_c'])[0,1]"
   ]
  },
  {
   "cell_type": "code",
   "execution_count": 140,
   "metadata": {},
   "outputs": [
    {
     "name": "stdout",
     "output_type": "stream",
     "text": [
      "Optimization terminated successfully.\n",
      "         Current function value: 0.682842\n",
      "         Iterations 4\n",
      "                           Logit Regression Results                           \n",
      "==============================================================================\n",
      "Dep. Variable:                  human   No. Observations:                 5400\n",
      "Model:                          Logit   Df Residuals:                     5394\n",
      "Method:                           MLE   Df Model:                            5\n",
      "Date:                Thu, 18 Jan 2018   Pseudo R-squ.:                 0.01420\n",
      "Time:                        19:10:29   Log-Likelihood:                -3687.3\n",
      "converged:                       True   LL-Null:                       -3740.4\n",
      "                                        LLR p-value:                 2.611e-21\n",
      "================================================================================\n",
      "                   coef    std err          z      P>|z|      [0.025      0.975]\n",
      "--------------------------------------------------------------------------------\n",
      "length           0.0405      0.004      9.129      0.000       0.032       0.049\n",
      "elo              0.0004      0.000      1.912      0.056   -9.85e-06       0.001\n",
      "start_pieces     0.0329      0.007      4.748      0.000       0.019       0.047\n",
      "intercept       -0.4255      0.081     -5.278      0.000      -0.583      -0.267\n",
      "wp_center       -0.2019      0.077     -2.606      0.009      -0.354      -0.050\n",
      "bp_center        0.0450      0.079      0.573      0.567      -0.109       0.199\n",
      "================================================================================\n",
      "             precision    recall  f1-score   support\n",
      "\n",
      "          0      0.537     0.531     0.534      2617\n",
      "          1      0.564     0.570     0.567      2783\n",
      "\n",
      "avg / total      0.551     0.551     0.551      5400\n",
      "\n"
     ]
    }
   ],
   "source": [
    "# log model\n",
    "data['inter_lt']=data['length']*data['clip_type']\n",
    "data['inter_spt']=data['clip_type']*data['start_pieces']\n",
    "train_cols = ['length','elo','start_pieces','intercept','wp_center','bp_center']\n",
    "\n",
    "logit = sm.Logit(data['human'], data[train_cols])\n",
    "\n",
    "# fit the model\n",
    "result = logit.fit()\n",
    "print(result.summary())\n",
    "#print result.conf_int()\n",
    "#print np.exp(result.params)\n",
    "params = result.params\n",
    "conf = result.conf_int()\n",
    "conf['OR'] = params\n",
    "conf.columns = ['2.5%', '97.5%', 'OR']\n",
    "#print np.exp(conf)\n",
    "predictions = result.predict()\n",
    "predictions_nominal = [ 0 if x < 0.5 else 1 for x in predictions]\n",
    "#print confusion_matrix(data['human'], predictions_nominal)\n",
    "print(classification_report(data['human'], predictions_nominal, digits=3))"
   ]
  },
  {
   "cell_type": "code",
   "execution_count": null,
   "metadata": {
    "collapsed": true
   },
   "outputs": [],
   "source": []
  },
  {
   "cell_type": "markdown",
   "metadata": {},
   "source": [
    "### 4. What affects confidence (logistic, ANOVA)\n",
    "#### use all data in tur\n",
    "#### use AVONA first to test for interactions, then use logistic reg"
   ]
  },
  {
   "cell_type": "code",
   "execution_count": 141,
   "metadata": {
    "scrolled": true
   },
   "outputs": [
    {
     "name": "stdout",
     "output_type": "stream",
     "text": [
      "                            OLS Regression Results                            \n",
      "==============================================================================\n",
      "Dep. Variable:                delta_c   R-squared:                       0.025\n",
      "Model:                            OLS   Adj. R-squared:                  0.024\n",
      "Method:                 Least Squares   F-statistic:                     33.93\n",
      "Date:                Thu, 18 Jan 2018   Prob (F-statistic):           5.28e-28\n",
      "Time:                        19:10:30   Log-Likelihood:                -21793.\n",
      "No. Observations:                5400   AIC:                         4.360e+04\n",
      "Df Residuals:                    5395   BIC:                         4.363e+04\n",
      "Df Model:                           4                                         \n",
      "Covariance Type:            nonrobust                                         \n",
      "================================================================================\n",
      "                   coef    std err          t      P>|t|      [0.025      0.975]\n",
      "--------------------------------------------------------------------------------\n",
      "Intercept       20.8583      0.464     44.966      0.000      19.949      21.768\n",
      "length           0.2269      0.029      7.889      0.000       0.171       0.283\n",
      "elo              0.0114      0.001      8.244      0.000       0.009       0.014\n",
      "start_pieces    -0.0305      0.047     -0.652      0.515      -0.122       0.061\n",
      "center          -0.2704      0.483     -0.560      0.576      -1.218       0.677\n",
      "==============================================================================\n",
      "Omnibus:                      751.124   Durbin-Watson:                   0.934\n",
      "Prob(Omnibus):                  0.000   Jarque-Bera (JB):              332.949\n",
      "Skew:                           0.432   Prob(JB):                     5.03e-73\n",
      "Kurtosis:                       2.143   Cond. No.                         393.\n",
      "==============================================================================\n",
      "\n",
      "Warnings:\n",
      "[1] Standard Errors assume that the covariance matrix of the errors is correctly specified.\n"
     ]
    }
   ],
   "source": [
    "# linear\n",
    "formula = 'delta_c ~ length + elo + start_pieces+center'\n",
    "lm = ols(formula, data).fit()\n",
    "print(lm.summary())"
   ]
  },
  {
   "cell_type": "code",
   "execution_count": 142,
   "metadata": {},
   "outputs": [
    {
     "name": "stdout",
     "output_type": "stream",
     "text": [
      "                            OLS Regression Results                            \n",
      "==============================================================================\n",
      "Dep. Variable:                 choice   R-squared:                       0.038\n",
      "Model:                            OLS   Adj. R-squared:                  0.038\n",
      "Method:                 Least Squares   F-statistic:                     53.70\n",
      "Date:                Thu, 18 Jan 2018   Prob (F-statistic):           1.90e-44\n",
      "Time:                        19:10:30   Log-Likelihood:                -25264.\n",
      "No. Observations:                5400   AIC:                         5.054e+04\n",
      "Df Residuals:                    5395   BIC:                         5.057e+04\n",
      "Df Model:                           4                                         \n",
      "Covariance Type:            nonrobust                                         \n",
      "=====================================================================================\n",
      "                        coef    std err          t      P>|t|      [0.025      0.975]\n",
      "-------------------------------------------------------------------------------------\n",
      "Intercept            39.0688      0.881     44.336      0.000      37.341      40.796\n",
      "C(clip_type)[T.1]     5.8045      0.720      8.057      0.000       4.392       7.217\n",
      "length                0.5682      0.056     10.238      0.000       0.459       0.677\n",
      "elo                   0.0047      0.003      1.782      0.075      -0.000       0.010\n",
      "start_pieces          0.3360      0.073      4.601      0.000       0.193       0.479\n",
      "==============================================================================\n",
      "Omnibus:                      483.390   Durbin-Watson:                   2.094\n",
      "Prob(Omnibus):                  0.000   Jarque-Bera (JB):              152.287\n",
      "Skew:                          -0.070   Prob(JB):                     8.54e-34\n",
      "Kurtosis:                       2.189   Cond. No.                         358.\n",
      "==============================================================================\n",
      "\n",
      "Warnings:\n",
      "[1] Standard Errors assume that the covariance matrix of the errors is correctly specified.\n"
     ]
    }
   ],
   "source": [
    "# linear - using choice rather than delta_c just to check - higher power and starting pieces also signfiicant - but cannot interpret this\n",
    "formula = 'choice ~ C(clip_type) +length + elo + start_pieces'\n",
    "#formula = 'choice ~ clip_type +length + elo + start_pieces'\n",
    "lm = ols(formula, data).fit()\n",
    "print(lm.summary())"
   ]
  },
  {
   "cell_type": "code",
   "execution_count": 143,
   "metadata": {
    "scrolled": true
   },
   "outputs": [
    {
     "name": "stdout",
     "output_type": "stream",
     "text": [
      "                            OLS Regression Results                            \n",
      "==============================================================================\n",
      "Dep. Variable:                delta_c   R-squared:                       0.028\n",
      "Model:                            OLS   Adj. R-squared:                  0.027\n",
      "Method:                 Least Squares   F-statistic:                     26.10\n",
      "Date:                Thu, 18 Jan 2018   Prob (F-statistic):           8.84e-31\n",
      "Time:                        19:10:30   Log-Likelihood:                -21783.\n",
      "No. Observations:                5400   AIC:                         4.358e+04\n",
      "Df Residuals:                    5393   BIC:                         4.363e+04\n",
      "Df Model:                           6                                         \n",
      "Covariance Type:            nonrobust                                         \n",
      "============================================================================================\n",
      "                               coef    std err          t      P>|t|      [0.025      0.975]\n",
      "--------------------------------------------------------------------------------------------\n",
      "Intercept                   20.0453      0.660     30.373      0.000      18.751      21.339\n",
      "C(clip_type)[T.1]           -1.5390      0.675     -2.282      0.023      -2.861      -0.217\n",
      "length                       0.3463      0.060      5.769      0.000       0.229       0.464\n",
      "C(clip_type)[T.1]:length     0.0493      0.059      0.833      0.405      -0.067       0.165\n",
      "start_pieces                 0.1457      0.066      2.197      0.028       0.016       0.276\n",
      "length:start_pieces         -0.0198      0.006     -3.490      0.000      -0.031      -0.009\n",
      "elo                          0.0114      0.001      8.258      0.000       0.009       0.014\n",
      "==============================================================================\n",
      "Omnibus:                      739.646   Durbin-Watson:                   0.933\n",
      "Prob(Omnibus):                  0.000   Jarque-Bera (JB):              331.756\n",
      "Skew:                           0.432   Prob(JB):                     9.12e-73\n",
      "Kurtosis:                       2.147   Cond. No.                         587.\n",
      "==============================================================================\n",
      "\n",
      "Warnings:\n",
      "[1] Standard Errors assume that the covariance matrix of the errors is correctly specified.\n"
     ]
    }
   ],
   "source": [
    "# test for interaction between clip type and length, not significant\n",
    "interX_lm = ols(\"delta_c ~ C(clip_type)*length + length*start_pieces + C(clip_type)+ length + elo + start_pieces\", data).fit()\n",
    "#interX_lm = ols(\"delta_c ~ clip_type*length + length*start_pieces + clip_type+ length + elo + start_pieces\", data).fit()\n",
    "print(interX_lm.summary())"
   ]
  },
  {
   "cell_type": "code",
   "execution_count": 144,
   "metadata": {},
   "outputs": [
    {
     "name": "stdout",
     "output_type": "stream",
     "text": [
      "                  df        sum_sq       mean_sq          F        PR(>F)\n",
      "clip_type        1.0  1.904067e+02    190.406667   1.015961  3.135241e-01\n",
      "length           1.0  1.334226e+04  13342.263768  71.190903  4.119606e-17\n",
      "elo              1.0  1.275129e+04  12751.292360  68.037631  1.996666e-16\n",
      "start_pieces     1.0  2.944475e+02    294.447475   1.571096  2.101022e-01\n",
      "Residual      5395.0  1.011105e+06    187.415290        NaN           NaN\n"
     ]
    },
    {
     "name": "stderr",
     "output_type": "stream",
     "text": [
      "C:\\Users\\Bas\\Anaconda3\\lib\\site-packages\\scipy\\stats\\_distn_infrastructure.py:879: RuntimeWarning: invalid value encountered in greater\n",
      "  return (self.a < x) & (x < self.b)\n",
      "C:\\Users\\Bas\\Anaconda3\\lib\\site-packages\\scipy\\stats\\_distn_infrastructure.py:879: RuntimeWarning: invalid value encountered in less\n",
      "  return (self.a < x) & (x < self.b)\n",
      "C:\\Users\\Bas\\Anaconda3\\lib\\site-packages\\scipy\\stats\\_distn_infrastructure.py:1818: RuntimeWarning: invalid value encountered in less_equal\n",
      "  cond2 = cond0 & (x <= self.a)\n"
     ]
    }
   ],
   "source": [
    "#interM_lm = ols(\"delta_c ~ C(clip_type)+ length + elo + start_pieces\", data=data).fit()\n",
    "interM_lm = ols(\"delta_c ~ clip_type + length + elo + start_pieces\", data=data).fit()\n",
    "\n",
    "table2 = anova_lm(interM_lm)\n",
    "print(table2)"
   ]
  },
  {
   "cell_type": "markdown",
   "metadata": {},
   "source": [
    "### 5. What affects correctness (binary, logistic, try OLS)\n",
    "#### use all data in tur"
   ]
  },
  {
   "cell_type": "code",
   "execution_count": 145,
   "metadata": {
    "scrolled": false
   },
   "outputs": [
    {
     "name": "stdout",
     "output_type": "stream",
     "text": [
      "                            OLS Regression Results                            \n",
      "==============================================================================\n",
      "Dep. Variable:               feedback   R-squared:                       0.015\n",
      "Model:                            OLS   Adj. R-squared:                  0.014\n",
      "Method:                 Least Squares   F-statistic:                     13.99\n",
      "Date:                Thu, 18 Jan 2018   Prob (F-statistic):           7.25e-16\n",
      "Time:                        19:10:31   Log-Likelihood:                -3846.4\n",
      "No. Observations:                5400   AIC:                             7707.\n",
      "Df Residuals:                    5393   BIC:                             7753.\n",
      "Df Model:                           6                                         \n",
      "Covariance Type:            nonrobust                                         \n",
      "============================================================================================\n",
      "                               coef    std err          t      P>|t|      [0.025      0.975]\n",
      "--------------------------------------------------------------------------------------------\n",
      "Intercept                    0.6199      0.019     31.931      0.000       0.582       0.658\n",
      "C(clip_type)[T.1]           -0.1223      0.024     -5.050      0.000      -0.170      -0.075\n",
      "length                      -0.0051      0.001     -3.384      0.001      -0.008      -0.002\n",
      "C(clip_type)[T.1]:length     0.0150      0.002      7.160      0.000       0.011       0.019\n",
      "elo                       6.811e-05      5e-05      1.362      0.173   -2.99e-05       0.000\n",
      "start_pieces                -0.0010      0.002     -0.607      0.544      -0.004       0.002\n",
      "center                      -0.0458      0.017     -2.626      0.009      -0.080      -0.012\n",
      "==============================================================================\n",
      "Omnibus:                       39.246   Durbin-Watson:                   1.966\n",
      "Prob(Omnibus):                  0.000   Jarque-Bera (JB):              848.321\n",
      "Skew:                          -0.211   Prob(JB):                    6.16e-185\n",
      "Kurtosis:                       1.105   Cond. No.                         550.\n",
      "==============================================================================\n",
      "\n",
      "Warnings:\n",
      "[1] Standard Errors assume that the covariance matrix of the errors is correctly specified.\n",
      "                         df       sum_sq    mean_sq          F        PR(>F)\n",
      "C(clip_type)            1.0     1.275741   1.275741   5.235680  2.216667e-02\n",
      "length                  1.0     2.003718   2.003718   8.223321  4.151585e-03\n",
      "C(clip_type):length     1.0    13.460750  13.460750  55.243341  1.231818e-13\n",
      "elo                     1.0     0.452275   0.452275   1.856150  1.731267e-01\n",
      "start_pieces            1.0     1.586693   1.586693   6.511837  1.074322e-02\n",
      "center                  1.0     1.680229   1.680229   6.895714  8.664676e-03\n",
      "Residual             5393.0  1314.073743   0.243663        NaN           NaN\n"
     ]
    },
    {
     "name": "stderr",
     "output_type": "stream",
     "text": [
      "C:\\Users\\Bas\\Anaconda3\\lib\\site-packages\\scipy\\stats\\_distn_infrastructure.py:879: RuntimeWarning: invalid value encountered in greater\n",
      "  return (self.a < x) & (x < self.b)\n",
      "C:\\Users\\Bas\\Anaconda3\\lib\\site-packages\\scipy\\stats\\_distn_infrastructure.py:879: RuntimeWarning: invalid value encountered in less\n",
      "  return (self.a < x) & (x < self.b)\n",
      "C:\\Users\\Bas\\Anaconda3\\lib\\site-packages\\scipy\\stats\\_distn_infrastructure.py:1818: RuntimeWarning: invalid value encountered in less_equal\n",
      "  cond2 = cond0 & (x <= self.a)\n"
     ]
    }
   ],
   "source": [
    "#table1 = anova_lm(lm, interX_lm)\n",
    "\n",
    "interM_lm = ols(\"feedback ~  C(clip_type)*length + length + elo + start_pieces + center\", data=data).fit()\n",
    "print(interM_lm.summary())\n",
    "\n",
    "table2 = anova_lm(interM_lm)\n",
    "print(table2)"
   ]
  },
  {
   "cell_type": "code",
   "execution_count": 146,
   "metadata": {
    "scrolled": false
   },
   "outputs": [
    {
     "name": "stdout",
     "output_type": "stream",
     "text": [
      "Optimization terminated successfully.\n",
      "         Current function value: 0.682226\n",
      "         Iterations 4\n",
      "                           Logit Regression Results                           \n",
      "==============================================================================\n",
      "Dep. Variable:               feedback   No. Observations:                 5400\n",
      "Model:                          Logit   Df Residuals:                     5394\n",
      "Method:                           MLE   Df Model:                            5\n",
      "Date:                Thu, 18 Jan 2018   Pseudo R-squ.:                0.007538\n",
      "Time:                        19:10:31   Log-Likelihood:                -3684.0\n",
      "converged:                       True   LL-Null:                       -3712.0\n",
      "                                        LLR p-value:                 8.280e-11\n",
      "================================================================================\n",
      "                   coef    std err          z      P>|z|      [0.025      0.975]\n",
      "--------------------------------------------------------------------------------\n",
      "delta_c          0.0103      0.002      5.068      0.000       0.006       0.014\n",
      "length           0.0093      0.004      2.169      0.030       0.001       0.018\n",
      "elo              0.0002      0.000      0.794      0.427      -0.000       0.001\n",
      "start_pieces    -0.0074      0.007     -1.075      0.282      -0.021       0.006\n",
      "intercept        0.0726      0.080      0.904      0.366      -0.085       0.230\n",
      "center          -0.1926      0.071     -2.693      0.007      -0.333      -0.052\n",
      "================================================================================\n",
      "             precision    recall  f1-score   support\n",
      "\n",
      "          0      0.534     0.190     0.281      2411\n",
      "          1      0.570     0.866     0.688      2989\n",
      "\n",
      "avg / total      0.554     0.564     0.506      5400\n",
      "\n"
     ]
    }
   ],
   "source": [
    "# log model: of correctness\n",
    "\n",
    "train_cols = data.columns[6:11]\n",
    "train_cols = ['delta_c', 'length', 'elo', 'start_pieces', 'intercept','center']\n",
    "\n",
    "logit = sm.Logit(data['feedback'], data[train_cols])\n",
    "# fit the model\n",
    "result = logit.fit()\n",
    "print(result.summary())\n",
    "#print result.conf_int()\n",
    "#print np.exp(result.params)\n",
    "params = result.params\n",
    "conf = result.conf_int()\n",
    "conf['OR'] = params\n",
    "conf.columns = ['2.5%', '97.5%', 'OR']\n",
    "#print np.exp(conf)\n",
    "predictions = result.predict()\n",
    "predictions_nominal = [ 0 if x < 0.5 else 1 for x in predictions]\n",
    "#print confusion_matrix(data['human'], predictions_nominal)\n",
    "print(classification_report(data['feedback'], predictions_nominal, digits=3))"
   ]
  },
  {
   "cell_type": "code",
   "execution_count": 147,
   "metadata": {},
   "outputs": [
    {
     "data": {
      "text/plain": [
       "-0.059002641867863061"
      ]
     },
     "execution_count": 147,
     "metadata": {},
     "output_type": "execute_result"
    }
   ],
   "source": [
    "np.corrcoef(data['feedback'],data['center'])[0,1]"
   ]
  },
  {
   "cell_type": "code",
   "execution_count": 148,
   "metadata": {},
   "outputs": [
    {
     "data": {
      "text/plain": [
       "['delta_c', 'length', 'elo', 'start_pieces', 'intercept', 'center']"
      ]
     },
     "execution_count": 148,
     "metadata": {},
     "output_type": "execute_result"
    }
   ],
   "source": [
    "train_cols"
   ]
  },
  {
   "cell_type": "code",
   "execution_count": null,
   "metadata": {
    "collapsed": true
   },
   "outputs": [],
   "source": []
  },
  {
   "cell_type": "code",
   "execution_count": null,
   "metadata": {
    "collapsed": true
   },
   "outputs": [],
   "source": []
  },
  {
   "cell_type": "code",
   "execution_count": 149,
   "metadata": {
    "collapsed": true
   },
   "outputs": [],
   "source": [
    "tur_lt = tur.groupby(['length','clip_type']).mean().reset_index()\n",
    "tur_t0 = tur.loc[tur.clip_type==0]\n",
    "tur_t1 = tur.loc[tur.clip_type==1]\n",
    "tur_st1 = tur_t1.groupby(['user_name']).mean().reset_index()\n",
    "tur_st0 = tur_t0.groupby(['user_name']).mean().reset_index()"
   ]
  },
  {
   "cell_type": "code",
   "execution_count": 150,
   "metadata": {},
   "outputs": [
    {
     "data": {
      "text/plain": [
       "-0.038639160680698816"
      ]
     },
     "execution_count": 150,
     "metadata": {},
     "output_type": "execute_result"
    }
   ],
   "source": [
    "np.corrcoef(tur_st0.elo, tur_st0.feedback)[0,1]"
   ]
  },
  {
   "cell_type": "code",
   "execution_count": 151,
   "metadata": {},
   "outputs": [
    {
     "data": {
      "text/plain": [
       "SpearmanrResult(correlation=-0.1422038395295816, pvalue=0.45349048730946995)"
      ]
     },
     "execution_count": 151,
     "metadata": {},
     "output_type": "execute_result"
    }
   ],
   "source": [
    "sts.spearmanr(tur_st0.elo, tur_st0.feedback)"
   ]
  },
  {
   "cell_type": "code",
   "execution_count": 152,
   "metadata": {},
   "outputs": [
    {
     "data": {
      "text/plain": [
       "SpearmanrResult(correlation=0.086665937471066684, pvalue=0.64883796814050132)"
      ]
     },
     "execution_count": 152,
     "metadata": {},
     "output_type": "execute_result"
    }
   ],
   "source": [
    "sts.spearmanr(tur_sub.elo, tur_sub.feedback)"
   ]
  },
  {
   "cell_type": "markdown",
   "metadata": {
    "collapsed": true
   },
   "source": [
    "## With subjects' model fitting parameters\n",
    "### Question: does a particular parameter predict questionnair choices of strategies, or performance, or binary choice, or confidence?"
   ]
  },
  {
   "cell_type": "code",
   "execution_count": 153,
   "metadata": {
    "collapsed": true
   },
   "outputs": [],
   "source": [
    "#tur_param = read_csv(dump_dir + 'params_tur_final_short.csv')\n",
    "tur_param = pd.DataFrame.from_csv(dump_dir + 'params_tur_final_short.csv')"
   ]
  },
  {
   "cell_type": "code",
   "execution_count": 154,
   "metadata": {
    "collapsed": true
   },
   "outputs": [],
   "source": [
    "tur_param.reset_index(inplace=True)  "
   ]
  },
  {
   "cell_type": "code",
   "execution_count": 155,
   "metadata": {},
   "outputs": [
    {
     "data": {
      "text/html": [
       "<div>\n",
       "<style>\n",
       "    .dataframe thead tr:only-child th {\n",
       "        text-align: right;\n",
       "    }\n",
       "\n",
       "    .dataframe thead th {\n",
       "        text-align: left;\n",
       "    }\n",
       "\n",
       "    .dataframe tbody tr th {\n",
       "        vertical-align: top;\n",
       "    }\n",
       "</style>\n",
       "<table border=\"1\" class=\"dataframe\">\n",
       "  <thead>\n",
       "    <tr style=\"text-align: right;\">\n",
       "      <th></th>\n",
       "      <th>user_name</th>\n",
       "      <th>pruning</th>\n",
       "      <th>gamma</th>\n",
       "      <th>feature_drop</th>\n",
       "      <th>lapse</th>\n",
       "      <th>scaling</th>\n",
       "      <th>center</th>\n",
       "      <th>2-conn</th>\n",
       "      <th>2-unc</th>\n",
       "      <th>3-in-a-row</th>\n",
       "      <th>4-in-a-row</th>\n",
       "    </tr>\n",
       "  </thead>\n",
       "  <tbody>\n",
       "    <tr>\n",
       "      <th>0</th>\n",
       "      <td>AF</td>\n",
       "      <td>1.6168</td>\n",
       "      <td>0.009035</td>\n",
       "      <td>0.15734</td>\n",
       "      <td>0.010000</td>\n",
       "      <td>0.54988</td>\n",
       "      <td>0.69911</td>\n",
       "      <td>1.09400</td>\n",
       "      <td>0.22685</td>\n",
       "      <td>3.3035</td>\n",
       "      <td>15.738</td>\n",
       "    </tr>\n",
       "    <tr>\n",
       "      <th>1</th>\n",
       "      <td>AF</td>\n",
       "      <td>1.0001</td>\n",
       "      <td>0.032218</td>\n",
       "      <td>0.20299</td>\n",
       "      <td>0.029529</td>\n",
       "      <td>0.49411</td>\n",
       "      <td>0.98822</td>\n",
       "      <td>1.34510</td>\n",
       "      <td>0.99411</td>\n",
       "      <td>5.3410</td>\n",
       "      <td>29.906</td>\n",
       "    </tr>\n",
       "    <tr>\n",
       "      <th>2</th>\n",
       "      <td>AF</td>\n",
       "      <td>2.2955</td>\n",
       "      <td>0.009786</td>\n",
       "      <td>0.17821</td>\n",
       "      <td>0.015863</td>\n",
       "      <td>0.56828</td>\n",
       "      <td>0.98900</td>\n",
       "      <td>0.91372</td>\n",
       "      <td>0.56471</td>\n",
       "      <td>4.2575</td>\n",
       "      <td>17.661</td>\n",
       "    </tr>\n",
       "    <tr>\n",
       "      <th>3</th>\n",
       "      <td>AF</td>\n",
       "      <td>5.0000</td>\n",
       "      <td>0.003684</td>\n",
       "      <td>0.20145</td>\n",
       "      <td>0.020000</td>\n",
       "      <td>0.25000</td>\n",
       "      <td>1.06670</td>\n",
       "      <td>1.39220</td>\n",
       "      <td>0.30000</td>\n",
       "      <td>3.6923</td>\n",
       "      <td>15.000</td>\n",
       "    </tr>\n",
       "    <tr>\n",
       "      <th>4</th>\n",
       "      <td>AF</td>\n",
       "      <td>0.1000</td>\n",
       "      <td>0.018069</td>\n",
       "      <td>0.19878</td>\n",
       "      <td>0.021612</td>\n",
       "      <td>0.52833</td>\n",
       "      <td>0.88889</td>\n",
       "      <td>0.85964</td>\n",
       "      <td>0.40000</td>\n",
       "      <td>3.5000</td>\n",
       "      <td>18.333</td>\n",
       "    </tr>\n",
       "  </tbody>\n",
       "</table>\n",
       "</div>"
      ],
      "text/plain": [
       "  user_name  pruning     gamma  feature_drop     lapse  scaling   center  \\\n",
       "0        AF   1.6168  0.009035       0.15734  0.010000  0.54988  0.69911   \n",
       "1        AF   1.0001  0.032218       0.20299  0.029529  0.49411  0.98822   \n",
       "2        AF   2.2955  0.009786       0.17821  0.015863  0.56828  0.98900   \n",
       "3        AF   5.0000  0.003684       0.20145  0.020000  0.25000  1.06670   \n",
       "4        AF   0.1000  0.018069       0.19878  0.021612  0.52833  0.88889   \n",
       "\n",
       "    2-conn    2-unc  3-in-a-row  4-in-a-row  \n",
       "0  1.09400  0.22685      3.3035      15.738  \n",
       "1  1.34510  0.99411      5.3410      29.906  \n",
       "2  0.91372  0.56471      4.2575      17.661  \n",
       "3  1.39220  0.30000      3.6923      15.000  \n",
       "4  0.85964  0.40000      3.5000      18.333  "
      ]
     },
     "execution_count": 155,
     "metadata": {},
     "output_type": "execute_result"
    }
   ],
   "source": [
    "tur_param.head(5)"
   ]
  },
  {
   "cell_type": "code",
   "execution_count": 156,
   "metadata": {
    "collapsed": true
   },
   "outputs": [],
   "source": [
    "tur_param = tur_param.groupby([tur_param.user_name]).mean().reset_index()\n"
   ]
  },
  {
   "cell_type": "code",
   "execution_count": 157,
   "metadata": {},
   "outputs": [
    {
     "data": {
      "text/plain": [
       "10"
      ]
     },
     "execution_count": 157,
     "metadata": {},
     "output_type": "execute_result"
    }
   ],
   "source": [
    "list = ['pruning', 'gamma','feature_drop','lapse','scaling','center','2-conn','2-unc','3-in-a-row','4-in-a-row']\n",
    "len(list)"
   ]
  },
  {
   "cell_type": "code",
   "execution_count": 158,
   "metadata": {
    "collapsed": true
   },
   "outputs": [],
   "source": [
    "for i in range(0,10,1):\n",
    "    tur_sub = pd.merge(tur_sub,pd.DataFrame(tur_param[['user_name',list[i]]]),on='user_name')"
   ]
  },
  {
   "cell_type": "code",
   "execution_count": 159,
   "metadata": {},
   "outputs": [
    {
     "name": "stdout",
     "output_type": "stream",
     "text": [
      "pruning: 0.0618417340894\n",
      "gamma: -0.388959347359\n",
      "feature_drop: -0.768654547529\n",
      "lapse: -0.525320480993\n",
      "scaling: -0.317874106486\n",
      "center: 0.310372035836\n",
      "2-conn: 0.0436301954988\n",
      "2-unc: 0.218096649072\n",
      "3-in-a-row: 0.385122853609\n",
      "4-in-a-row: 0.181928714641\n"
     ]
    }
   ],
   "source": [
    "for i in range(0,10,1):\n",
    "    print(list[i]+\": \"+str(np.corrcoef(tur_sub.elo, tur_sub[list[i]])[0,1]))"
   ]
  },
  {
   "cell_type": "code",
   "execution_count": 160,
   "metadata": {},
   "outputs": [
    {
     "name": "stdout",
     "output_type": "stream",
     "text": [
      "pruning: SpearmanrResult(correlation=0.082127762421121228, pvalue=0.66614239689939259)\n",
      "gamma: SpearmanrResult(correlation=-0.33674608277278162, pvalue=0.068816655853432981)\n",
      "feature_drop: SpearmanrResult(correlation=-0.65457384628866533, pvalue=8.6991525056692576e-05)\n",
      "lapse: SpearmanrResult(correlation=-0.31137327812235394, pvalue=0.093948903726519289)\n",
      "scaling: SpearmanrResult(correlation=-0.3585577920336756, pvalue=0.05169052444299934)\n",
      "center: SpearmanrResult(correlation=0.31938574274880477, pvalue=0.085359237133774621)\n",
      "2-conn: SpearmanrResult(correlation=0.034943248509799546, pvalue=0.85455069198535827)\n",
      "2-unc: SpearmanrResult(correlation=0.30870245658020362, pvalue=0.09695298220107397)\n",
      "3-in-a-row: SpearmanrResult(correlation=0.59492549851397569, pvalue=0.0005253435524600669)\n",
      "4-in-a-row: SpearmanrResult(correlation=0.21477856568125198, pvalue=0.2543832802388693)\n"
     ]
    }
   ],
   "source": [
    "for i in range(0,10,1):\n",
    "    print(list[i]+\": \"+str(sts.spearmanr(tur_sub.elo, tur_sub[list[i]])))"
   ]
  },
  {
   "cell_type": "markdown",
   "metadata": {},
   "source": [
    "### We can see: tree size (1/gamma), feature drop, lapse, active scaling, center weight, and 3-in-a-row are relatively strongly correlated with Elo (consistent with previous results)\n",
    "#### The cleanest: Feature drop rate, 3 in a row"
   ]
  },
  {
   "cell_type": "code",
   "execution_count": 161,
   "metadata": {},
   "outputs": [
    {
     "data": {
      "image/png": "[encoded data removed]",
      "text/plain": [
       "<matplotlib.figure.Figure at 0x192483d4d68>"
      ]
     },
     "metadata": {},
     "output_type": "display_data"
    }
   ],
   "source": [
    "# showing the percentage correct for elo level\n",
    "fig, axes = plt.subplots(1, 1, figsize=(10,6))\n",
    "\n",
    "\n",
    "plt.scatter(tur_sub.elo, tur_sub['feature_drop'],s=50,color=greens)\n",
    "\n",
    "sns.despine()"
   ]
  },
  {
   "cell_type": "code",
   "execution_count": null,
   "metadata": {
    "collapsed": true
   },
   "outputs": [],
   "source": []
  },
  {
   "cell_type": "code",
   "execution_count": 162,
   "metadata": {},
   "outputs": [
    {
     "name": "stdout",
     "output_type": "stream",
     "text": [
      "pruning: 0.159095322557\n",
      "gamma: 0.0282300731617\n",
      "feature_drop: -0.0104156869484\n",
      "lapse: 0.156480870177\n",
      "scaling: -0.0678020234376\n",
      "center: -0.16964257014\n",
      "2-conn: 0.0168820019283\n",
      "2-unc: 0.477630368989\n",
      "3-in-a-row: 0.445637302178\n",
      "4-in-a-row: 0.0460636904592\n"
     ]
    }
   ],
   "source": [
    "for i in range(0,10,1):\n",
    "    print(list[i]+\": \"+str(np.corrcoef(tur_sub.choice, tur_sub[list[i]])[0,1]))"
   ]
  },
  {
   "cell_type": "code",
   "execution_count": 163,
   "metadata": {},
   "outputs": [
    {
     "name": "stdout",
     "output_type": "stream",
     "text": [
      "pruning: SpearmanrResult(correlation=0.13058954393770855, pvalue=0.49155981918115965)\n",
      "gamma: SpearmanrResult(correlation=0.17285873192436038, pvalue=0.36100144122309663)\n",
      "feature_drop: SpearmanrResult(correlation=-0.14260289210233593, pvalue=0.45221109012212057)\n",
      "lapse: SpearmanrResult(correlation=0.046941045606229144, pvalue=0.80543651525988347)\n",
      "scaling: SpearmanrResult(correlation=-0.050945494994438262, pvalue=0.7891945915897941)\n",
      "center: SpearmanrResult(correlation=0.013570634037819799, pvalue=0.94325913936572303)\n",
      "2-conn: SpearmanrResult(correlation=0.10656284760845385, pvalue=0.57516047496367917)\n",
      "2-unc: SpearmanrResult(correlation=0.17018909899888765, pvalue=0.36857844726721367)\n",
      "3-in-a-row: SpearmanrResult(correlation=0.2413793103448276, pvalue=0.19878819431788416)\n",
      "4-in-a-row: SpearmanrResult(correlation=-0.046496106785317015, pvalue=0.80724621401050078)\n"
     ]
    }
   ],
   "source": [
    "for i in range(0,10,1):\n",
    "    print(list[i]+\": \"+str(sts.spearmanr(tur_sub.choice, tur_sub[list[i]])))"
   ]
  },
  {
   "cell_type": "code",
   "execution_count": null,
   "metadata": {
    "collapsed": true
   },
   "outputs": [],
   "source": []
  },
  {
   "cell_type": "code",
   "execution_count": 164,
   "metadata": {},
   "outputs": [
    {
     "name": "stdout",
     "output_type": "stream",
     "text": [
      "pruning: -0.177720105498\n",
      "gamma: 0.0832244195681\n",
      "feature_drop: 0.102814548775\n",
      "lapse: -0.216762096827\n",
      "scaling: 0.0541720524592\n",
      "center: 0.0653100389956\n",
      "2-conn: -0.190720064424\n",
      "2-unc: -0.0643460860954\n",
      "3-in-a-row: 0.23038120946\n",
      "4-in-a-row: 0.273373274064\n"
     ]
    }
   ],
   "source": [
    "for i in range(0,10,1):\n",
    "    print(list[i]+\": \"+str(np.corrcoef(tur_sub.feedback, tur_sub[list[i]])[0,1]))"
   ]
  },
  {
   "cell_type": "code",
   "execution_count": 165,
   "metadata": {},
   "outputs": [
    {
     "name": "stdout",
     "output_type": "stream",
     "text": [
      "pruning: SpearmanrResult(correlation=-0.16523780705304517, pvalue=0.38287647848536766)\n",
      "gamma: SpearmanrResult(correlation=-0.19997783117740511, pvalue=0.28935809659556999)\n",
      "feature_drop: SpearmanrResult(correlation=0.27302095882349514, pvalue=0.14435738864289213)\n",
      "lapse: SpearmanrResult(correlation=-0.036076178898373751, pvalue=0.84988709117466643)\n",
      "scaling: SpearmanrResult(correlation=0.042534260306107324, pvalue=0.82340221924083057)\n",
      "center: SpearmanrResult(correlation=0.024496170856920449, pvalue=0.89776204320590136)\n",
      "2-conn: SpearmanrResult(correlation=-0.25899133369634986, pvalue=0.16697453757545552)\n",
      "2-unc: SpearmanrResult(correlation=-0.12403970152095171, pvalue=0.5137212415308432)\n",
      "3-in-a-row: SpearmanrResult(correlation=0.31822752867763016, pvalue=0.086562338538671332)\n",
      "4-in-a-row: SpearmanrResult(correlation=0.22113361509929094, pvalue=0.24025851829518305)\n"
     ]
    }
   ],
   "source": [
    "for i in range(0,10,1):\n",
    "    print(list[i]+\": \"+str(sts.spearmanr(tur_sub.feedback, tur_sub[list[i]])))"
   ]
  },
  {
   "cell_type": "code",
   "execution_count": 166,
   "metadata": {},
   "outputs": [
    {
     "data": {
      "image/png": "[encoded data removed]",
      "text/plain": [
       "<matplotlib.figure.Figure at 0x19247096d30>"
      ]
     },
     "metadata": {},
     "output_type": "display_data"
    }
   ],
   "source": [
    "# showing the percentage correct for elo level\n",
    "fig, axes = plt.subplots(1, 1, figsize=(10,6))\n",
    "\n",
    "plt.scatter(tur_sub.feedback, tur_sub['feature_drop'],s=50,color=greens)\n",
    "\n",
    "sns.despine()"
   ]
  },
  {
   "cell_type": "code",
   "execution_count": 167,
   "metadata": {},
   "outputs": [
    {
     "name": "stdout",
     "output_type": "stream",
     "text": [
      "pruning: 0.301930598946\n",
      "gamma: -0.332510234139\n",
      "feature_drop: -0.0761053398833\n",
      "lapse: 0.099925982061\n",
      "scaling: 0.0429492121853\n",
      "center: -0.344796439324\n",
      "2-conn: -0.330181403267\n",
      "2-unc: 0.411117357739\n",
      "3-in-a-row: 0.421307559742\n",
      "4-in-a-row: 0.133461888948\n"
     ]
    }
   ],
   "source": [
    "for i in range(0,10,1):\n",
    "    print(list[i]+\": \"+str(np.corrcoef(tur_sub.delta_c, tur_sub[list[i]])[0,1]))"
   ]
  },
  {
   "cell_type": "code",
   "execution_count": 168,
   "metadata": {},
   "outputs": [
    {
     "name": "stdout",
     "output_type": "stream",
     "text": [
      "pruning: SpearmanrResult(correlation=0.34646195784316197, pvalue=0.060712960876250631)\n",
      "gamma: SpearmanrResult(correlation=-0.15376057345512198, pvalue=0.41722969090297124)\n",
      "feature_drop: SpearmanrResult(correlation=-0.0022251891961667441, pvalue=0.99068892349047044)\n",
      "lapse: SpearmanrResult(correlation=-0.13262127609153793, pvalue=0.48478550710557844)\n",
      "scaling: SpearmanrResult(correlation=0.059857589376885408, pvalue=0.75336583211557795)\n",
      "center: SpearmanrResult(correlation=-0.3032932874375272, pvalue=0.10325874788763012)\n",
      "2-conn: SpearmanrResult(correlation=-0.40498443370234732, pvalue=0.026416625354687921)\n",
      "2-unc: SpearmanrResult(correlation=0.15309301669627198, pvalue=0.41927915157054851)\n",
      "3-in-a-row: SpearmanrResult(correlation=0.21651090878702414, pvalue=0.25047999944789279)\n",
      "4-in-a-row: SpearmanrResult(correlation=0.012461059498533763, pvalue=0.94789191878955126)\n"
     ]
    }
   ],
   "source": [
    "for i in range(0,10,1):\n",
    "    print(list[i]+\": \"+str(sts.spearmanr(tur_sub.delta_c, tur_sub[list[i]])))"
   ]
  },
  {
   "cell_type": "code",
   "execution_count": 169,
   "metadata": {},
   "outputs": [
    {
     "data": {
      "image/png": "[encoded data removed]",
      "text/plain": [
       "<matplotlib.figure.Figure at 0x192470bba20>"
      ]
     },
     "metadata": {},
     "output_type": "display_data"
    }
   ],
   "source": [
    "# showing the percentage correct for centering feature\n",
    "fig, axes = plt.subplots(1, 1, figsize=(10,6))\n",
    "\n",
    "\n",
    "plt.scatter(tur_sub.delta_c, tur_sub['center'],s=50,color=greens)\n",
    "\n",
    "'''\n",
    "plt.setp(\n",
    "    axes, \n",
    "    xlim=[-500,300], xticks=np.arange(-500, 301, 100), xlabel='Elo',\n",
    "    ylim=[0.40,0.65], yticks=np.arange(0.40, 0.66, 0.05), ylabel='Accuracy'\n",
    ")\n",
    "'''\n",
    "\n",
    "sns.despine()"
   ]
  },
  {
   "cell_type": "code",
   "execution_count": null,
   "metadata": {
    "collapsed": true
   },
   "outputs": [],
   "source": []
  },
  {
   "cell_type": "code",
   "execution_count": null,
   "metadata": {
    "collapsed": true
   },
   "outputs": [],
   "source": []
  },
  {
   "cell_type": "code",
   "execution_count": null,
   "metadata": {
    "collapsed": true
   },
   "outputs": [],
   "source": []
  }
 ],
 "metadata": {
  "anaconda-cloud": {},
  "kernelspec": {
   "display_name": "Python [default]",
   "language": "python",
   "name": "python3"
  },
  "language_info": {
   "codemirror_mode": {
    "name": "ipython",
    "version": 3
   },
   "file_extension": ".py",
   "mimetype": "text/x-python",
   "name": "python",
   "nbconvert_exporter": "python",
   "pygments_lexer": "ipython3",
   "version": "3.5.3"
  }
 },
 "nbformat": 4,
 "nbformat_minor": 1
}
