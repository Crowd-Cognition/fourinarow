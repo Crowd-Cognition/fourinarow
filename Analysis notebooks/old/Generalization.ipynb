{
 "cells": [
  {
   "cell_type": "code",
   "execution_count": 1,
   "metadata": {},
   "outputs": [],
   "source": [
    "import numpy as np\n",
    "import matplotlib.pyplot as plt\n",
    "import pylab \n",
    "import scipy.stats as sts\n",
    "import math\n",
    "import pandas as pd\n",
    "import statsmodels.formula.api as sm\n",
    "from matplotlib import rc,rcParams\n",
    "from matplotlib.ticker import FormatStrFormatter\n",
    "#rcParams['font.sans-serif'] = \"Helvetica Neue LT Std\"\n",
    "#rcParams['font.family'] = \"sans-serif\"\n",
    "\n",
    "direc = 'C:/Users/Bas/Google Drive/Bas Games/'\n",
    "fig_direc = 'C:/Users/Bas/Google Drive/Bas Zahy Gianni - Games/Manuscripts/Paper/Figures/'"
   ]
  },
  {
   "cell_type": "code",
   "execution_count": 2,
   "metadata": {},
   "outputs": [],
   "source": [
    "rcParams['figure.figsize'] = (8,6) #figure size in inches\n",
    "rcParams['font.family'] = \"sans-serif\" \n",
    "rcParams['font.weight'] = \"roman\" \n",
    "rcParams['font.style'] = \"normal\" # not 100% sure what this does but it was recommended\n",
    "rcParams['font.size'] = 32 # not 100% sure what this does but it was recommended\n",
    "rcParams['pdf.fonttype'] = 42\n",
    "rcParams['axes.linewidth'] = 2 #thickness of the border\n",
    "rcParams['xtick.major.width'] = rcParams['axes.linewidth'] # make sure line widths are consistent\n",
    "rcParams['ytick.major.width'] = rcParams['axes.linewidth']\n",
    "rcParams['axes.spines.right'] = False #hides right border\n",
    "rcParams['axes.spines.top'] = False #hides top\n",
    "rcParams['legend.frameon'] = False #hides box around the legend\n",
    "rcParams['legend.fontsize'] = 18 #font size in pt\n",
    "rcParams['axes.labelsize'] = 32 \n",
    "rcParams['xtick.labelsize'] = 24\n",
    "rcParams['ytick.labelsize'] = rcParams['xtick.labelsize']\n",
    "rcParams['lines.linewidth'] = 3\n",
    "rcParams['xtick.major.size'] = 5\n",
    "rcParams['ytick.major.size'] = rcParams['xtick.major.size'] \n",
    "\n",
    "#rcParams['font.sans-serif'] = \"Helvetica Neue LT Std\"\n",
    "#rcParams['pdf.fonttype'] = 42\n",
    "#rcParams['text.usetex'] = True\n",
    "#prop = font_manager.FontProperties(fname='C:/Windows/Fonts/HelveticaNeueLTCom-Roman.ttf')\n",
    "#rcParams['text.latex.preamble']=r'\\usepackage{amsmath}\\n\\usepackage{amsfonts}'"
   ]
  },
  {
   "cell_type": "code",
   "execution_count": 3,
   "metadata": {},
   "outputs": [
    {
     "ename": "OSError",
     "evalue": "C:/Users/Bas/Google Drive/Bas Games/Analysis/Generalization/prediction_2afc_final.txt not found.",
     "output_type": "error",
     "traceback": [
      "\u001b[1;31m---------------------------------------------------------------------------\u001b[0m",
      "\u001b[1;31mOSError\u001b[0m                                   Traceback (most recent call last)",
      "\u001b[1;32m<ipython-input-3-caab0b7f29a4>\u001b[0m in \u001b[0;36m<module>\u001b[1;34m\u001b[0m\n\u001b[1;32m----> 1\u001b[1;33m \u001b[0mP\u001b[0m \u001b[1;33m=\u001b[0m \u001b[0mnp\u001b[0m\u001b[1;33m.\u001b[0m\u001b[0mloadtxt\u001b[0m\u001b[1;33m(\u001b[0m\u001b[0mdirec\u001b[0m \u001b[1;33m+\u001b[0m \u001b[1;34m'Analysis/Generalization/prediction_2afc_final.txt'\u001b[0m\u001b[1;33m)\u001b[0m\u001b[1;33m\u001b[0m\u001b[1;33m\u001b[0m\u001b[0m\n\u001b[0m\u001b[0;32m      2\u001b[0m \u001b[0maccuracy_2afc_model\u001b[0m \u001b[1;33m=\u001b[0m \u001b[1;33m[\u001b[0m\u001b[1;36m100\u001b[0m\u001b[1;33m*\u001b[0m\u001b[0mnp\u001b[0m\u001b[1;33m.\u001b[0m\u001b[0mmean\u001b[0m\u001b[1;33m(\u001b[0m\u001b[0mnp\u001b[0m\u001b[1;33m.\u001b[0m\u001b[0mmean\u001b[0m\u001b[1;33m(\u001b[0m\u001b[0mP\u001b[0m\u001b[1;33m[\u001b[0m\u001b[0mP\u001b[0m\u001b[1;33m[\u001b[0m\u001b[1;33m:\u001b[0m\u001b[1;33m,\u001b[0m\u001b[1;36m0\u001b[0m\u001b[1;33m]\u001b[0m\u001b[1;33m==\u001b[0m\u001b[0mi\u001b[0m\u001b[1;33m,\u001b[0m\u001b[1;36m1\u001b[0m\u001b[1;33m:\u001b[0m\u001b[1;33m]\u001b[0m\u001b[1;33m,\u001b[0m\u001b[0maxis\u001b[0m\u001b[1;33m=\u001b[0m\u001b[1;36m1\u001b[0m\u001b[1;33m)\u001b[0m\u001b[1;33m>\u001b[0m\u001b[1;36m0.5\u001b[0m\u001b[1;33m)\u001b[0m \u001b[1;32mfor\u001b[0m \u001b[0mi\u001b[0m \u001b[1;32min\u001b[0m \u001b[0mrange\u001b[0m\u001b[1;33m(\u001b[0m\u001b[1;36m40\u001b[0m\u001b[1;33m)\u001b[0m\u001b[1;33m]\u001b[0m\u001b[1;33m\u001b[0m\u001b[1;33m\u001b[0m\u001b[0m\n\u001b[0;32m      3\u001b[0m \u001b[0mprediction_2afc_model\u001b[0m \u001b[1;33m=\u001b[0m \u001b[1;33m[\u001b[0m\u001b[0mnp\u001b[0m\u001b[1;33m.\u001b[0m\u001b[0mmean\u001b[0m\u001b[1;33m(\u001b[0m\u001b[0mP\u001b[0m\u001b[1;33m[\u001b[0m\u001b[0mP\u001b[0m\u001b[1;33m[\u001b[0m\u001b[1;33m:\u001b[0m\u001b[1;33m,\u001b[0m\u001b[1;36m0\u001b[0m\u001b[1;33m]\u001b[0m\u001b[1;33m==\u001b[0m\u001b[0mi\u001b[0m\u001b[1;33m,\u001b[0m\u001b[1;36m1\u001b[0m\u001b[1;33m:\u001b[0m\u001b[1;33m]\u001b[0m\u001b[1;33m,\u001b[0m\u001b[0maxis\u001b[0m\u001b[1;33m=\u001b[0m\u001b[1;36m1\u001b[0m\u001b[1;33m)\u001b[0m\u001b[1;33m>\u001b[0m\u001b[1;36m0.5\u001b[0m \u001b[1;32mfor\u001b[0m \u001b[0mi\u001b[0m \u001b[1;32min\u001b[0m \u001b[0mrange\u001b[0m\u001b[1;33m(\u001b[0m\u001b[1;36m40\u001b[0m\u001b[1;33m)\u001b[0m\u001b[1;33m]\u001b[0m\u001b[1;33m\u001b[0m\u001b[1;33m\u001b[0m\u001b[0m\n\u001b[0;32m      4\u001b[0m \u001b[1;33m\u001b[0m\u001b[0m\n\u001b[0;32m      5\u001b[0m \u001b[0mP\u001b[0m \u001b[1;33m=\u001b[0m \u001b[0mnp\u001b[0m\u001b[1;33m.\u001b[0m\u001b[0mloadtxt\u001b[0m\u001b[1;33m(\u001b[0m\u001b[0mdirec\u001b[0m \u001b[1;33m+\u001b[0m \u001b[1;34m'Analysis/Generalization/prediction_eval_final.txt'\u001b[0m\u001b[1;33m)\u001b[0m\u001b[1;33m\u001b[0m\u001b[1;33m\u001b[0m\u001b[0m\n",
      "\u001b[1;32m~\\AppData\\Local\\Continuum\\anaconda3\\lib\\site-packages\\numpy\\lib\\npyio.py\u001b[0m in \u001b[0;36mloadtxt\u001b[1;34m(fname, dtype, comments, delimiter, converters, skiprows, usecols, unpack, ndmin, encoding, max_rows)\u001b[0m\n\u001b[0;32m    960\u001b[0m             \u001b[0mfname\u001b[0m \u001b[1;33m=\u001b[0m \u001b[0mos_fspath\u001b[0m\u001b[1;33m(\u001b[0m\u001b[0mfname\u001b[0m\u001b[1;33m)\u001b[0m\u001b[1;33m\u001b[0m\u001b[1;33m\u001b[0m\u001b[0m\n\u001b[0;32m    961\u001b[0m         \u001b[1;32mif\u001b[0m \u001b[0m_is_string_like\u001b[0m\u001b[1;33m(\u001b[0m\u001b[0mfname\u001b[0m\u001b[1;33m)\u001b[0m\u001b[1;33m:\u001b[0m\u001b[1;33m\u001b[0m\u001b[1;33m\u001b[0m\u001b[0m\n\u001b[1;32m--> 962\u001b[1;33m             \u001b[0mfh\u001b[0m \u001b[1;33m=\u001b[0m \u001b[0mnp\u001b[0m\u001b[1;33m.\u001b[0m\u001b[0mlib\u001b[0m\u001b[1;33m.\u001b[0m\u001b[0m_datasource\u001b[0m\u001b[1;33m.\u001b[0m\u001b[0mopen\u001b[0m\u001b[1;33m(\u001b[0m\u001b[0mfname\u001b[0m\u001b[1;33m,\u001b[0m \u001b[1;34m'rt'\u001b[0m\u001b[1;33m,\u001b[0m \u001b[0mencoding\u001b[0m\u001b[1;33m=\u001b[0m\u001b[0mencoding\u001b[0m\u001b[1;33m)\u001b[0m\u001b[1;33m\u001b[0m\u001b[1;33m\u001b[0m\u001b[0m\n\u001b[0m\u001b[0;32m    963\u001b[0m             \u001b[0mfencoding\u001b[0m \u001b[1;33m=\u001b[0m \u001b[0mgetattr\u001b[0m\u001b[1;33m(\u001b[0m\u001b[0mfh\u001b[0m\u001b[1;33m,\u001b[0m \u001b[1;34m'encoding'\u001b[0m\u001b[1;33m,\u001b[0m \u001b[1;34m'latin1'\u001b[0m\u001b[1;33m)\u001b[0m\u001b[1;33m\u001b[0m\u001b[1;33m\u001b[0m\u001b[0m\n\u001b[0;32m    964\u001b[0m             \u001b[0mfh\u001b[0m \u001b[1;33m=\u001b[0m \u001b[0miter\u001b[0m\u001b[1;33m(\u001b[0m\u001b[0mfh\u001b[0m\u001b[1;33m)\u001b[0m\u001b[1;33m\u001b[0m\u001b[1;33m\u001b[0m\u001b[0m\n",
      "\u001b[1;32m~\\AppData\\Local\\Continuum\\anaconda3\\lib\\site-packages\\numpy\\lib\\_datasource.py\u001b[0m in \u001b[0;36mopen\u001b[1;34m(path, mode, destpath, encoding, newline)\u001b[0m\n\u001b[0;32m    264\u001b[0m \u001b[1;33m\u001b[0m\u001b[0m\n\u001b[0;32m    265\u001b[0m     \u001b[0mds\u001b[0m \u001b[1;33m=\u001b[0m \u001b[0mDataSource\u001b[0m\u001b[1;33m(\u001b[0m\u001b[0mdestpath\u001b[0m\u001b[1;33m)\u001b[0m\u001b[1;33m\u001b[0m\u001b[1;33m\u001b[0m\u001b[0m\n\u001b[1;32m--> 266\u001b[1;33m     \u001b[1;32mreturn\u001b[0m \u001b[0mds\u001b[0m\u001b[1;33m.\u001b[0m\u001b[0mopen\u001b[0m\u001b[1;33m(\u001b[0m\u001b[0mpath\u001b[0m\u001b[1;33m,\u001b[0m \u001b[0mmode\u001b[0m\u001b[1;33m,\u001b[0m \u001b[0mencoding\u001b[0m\u001b[1;33m=\u001b[0m\u001b[0mencoding\u001b[0m\u001b[1;33m,\u001b[0m \u001b[0mnewline\u001b[0m\u001b[1;33m=\u001b[0m\u001b[0mnewline\u001b[0m\u001b[1;33m)\u001b[0m\u001b[1;33m\u001b[0m\u001b[1;33m\u001b[0m\u001b[0m\n\u001b[0m\u001b[0;32m    267\u001b[0m \u001b[1;33m\u001b[0m\u001b[0m\n\u001b[0;32m    268\u001b[0m \u001b[1;33m\u001b[0m\u001b[0m\n",
      "\u001b[1;32m~\\AppData\\Local\\Continuum\\anaconda3\\lib\\site-packages\\numpy\\lib\\_datasource.py\u001b[0m in \u001b[0;36mopen\u001b[1;34m(self, path, mode, encoding, newline)\u001b[0m\n\u001b[0;32m    622\u001b[0m                                       encoding=encoding, newline=newline)\n\u001b[0;32m    623\u001b[0m         \u001b[1;32melse\u001b[0m\u001b[1;33m:\u001b[0m\u001b[1;33m\u001b[0m\u001b[1;33m\u001b[0m\u001b[0m\n\u001b[1;32m--> 624\u001b[1;33m             \u001b[1;32mraise\u001b[0m \u001b[0mIOError\u001b[0m\u001b[1;33m(\u001b[0m\u001b[1;34m\"%s not found.\"\u001b[0m \u001b[1;33m%\u001b[0m \u001b[0mpath\u001b[0m\u001b[1;33m)\u001b[0m\u001b[1;33m\u001b[0m\u001b[1;33m\u001b[0m\u001b[0m\n\u001b[0m\u001b[0;32m    625\u001b[0m \u001b[1;33m\u001b[0m\u001b[0m\n\u001b[0;32m    626\u001b[0m \u001b[1;33m\u001b[0m\u001b[0m\n",
      "\u001b[1;31mOSError\u001b[0m: C:/Users/Bas/Google Drive/Bas Games/Analysis/Generalization/prediction_2afc_final.txt not found."
     ]
    }
   ],
   "source": [
    "P = np.loadtxt(direc + 'Analysis/Generalization/prediction_2afc_final.txt')\n",
    "accuracy_2afc_model = [100*np.mean(np.mean(P[P[:,0]==i,1:],axis=1)>0.5) for i in range(40)]\n",
    "prediction_2afc_model = [np.mean(P[P[:,0]==i,1:],axis=1)>0.5 for i in range(40)]\n",
    "\n",
    "P = np.loadtxt(direc + 'Analysis/Generalization/prediction_eval_final.txt')\n",
    "accuracy_eval_model = [np.corrcoef(np.mean(P[P[:,0]==i,2:],axis=1),P[P[:,0]==i,1])[0,1] \\\n",
    "                      for i in range(40)]\n",
    "prediction_eval_model = [np.mean(P[P[:,0]==i,2:],axis=1) for i in range(40)]\n",
    "eval_moves = [P[P[:,0]==i,1] for i in range(40)]\n",
    "\n",
    "P = np.loadtxt(direc + 'Analysis/Generalization/performance_gen_2afc.txt')\n",
    "accuracy_2afc_oracle = [100*np.mean(P[P[:,0]==i,1]) for i in range(40)]\n",
    "prediction_2afc_oracle = [P[P[:,0]==i,1] for i in range(40)]\n",
    "\n",
    "P = np.loadtxt(direc + 'Analysis/Generalization/performance_gen_eval.txt')\n",
    "accuracy_eval_oracle = [np.corrcoef(P[P[:,0]==i,1],P[P[:,0]==i,2])[0,1] for i in range(40)]\n",
    "prediction_eval_oracle = [P[P[:,0]==i,2] for i in range(40)]\n",
    "\n",
    "P = np.loadtxt(direc + 'Analysis/Generalization/mean_across_subjects_2afc.txt')\n",
    "accuracy_2afc_map = [100*np.mean(P[P[:,0]==i,1]) for i in range(40)]\n",
    "prediction_2afc_map = [P[P[:,0]==i,1] for i in range(40)]\n",
    "\n",
    "P = np.round(np.loadtxt(direc + 'Analysis/Generalization/mean_across_subjects_eval.txt'))\n",
    "accuracy_eval_map = [np.corrcoef(P[P[:,0]==i,1],P[P[:,0]==i,2])[0,1] for i in range(40)]\n",
    "prediction_eval_map = [P[P[:,0]==i,2] for i in range(40)]\n",
    "\n",
    "P = np.loadtxt(direc + 'Analysis/Loglik/loglik_gen_final.txt')\n",
    "loglik_games = -np.mean(np.reshape(np.mean(P,axis=1),[40,5]),axis=1)\n"
   ]
  },
  {
   "cell_type": "code",
   "execution_count": 4,
   "metadata": {},
   "outputs": [],
   "source": [
    "def report_significance(p):\n",
    "    if p>0.05:\n",
    "        return \"p=%(p).02f\" % {'p':p}\n",
    "    elif p>0.01:\n",
    "        return \"p<0.05\"\n",
    "    elif p>0.001:\n",
    "        return \"p<0.01\"\n",
    "    else:\n",
    "        return \"p<0.001\"\n",
    "    \n",
    "def print_mean_and_sem(name,x,fmt):\n",
    "    return \"$\" + name + (\"=%(m)\" + fmt + \"\\\\pm %(sem)\" + fmt + \" \") % {'m': np.mean(x), \n",
    "                                                      'sem': np.std(x)/np.sqrt(len(x))} + \"$\"\n",
    "\n",
    "def print_mean_and_sem_and_p(name,x,baseline,fmt):\n",
    "    d = {'m': np.mean(x),'sem': np.std(x)/np.sqrt(len(x))}\n",
    "    return \"$\" + name + (\"=%(m)\" + fmt + \"\\\\pm %(sem)\" + fmt + \", \") % d + \\\n",
    "    report_significance(sts.ttest_1samp(x,popmean=baseline).pvalue) + \"$\""
   ]
  },
  {
   "cell_type": "code",
   "execution_count": null,
   "metadata": {},
   "outputs": [],
   "source": [
    "import string\n",
    "letters = list(string.ascii_uppercase)\n",
    "\n",
    "models = ['Model','Oracle','Mean-across-participants']\n",
    "data = ['2AFC','Evaluation']\n",
    "\n",
    "for i,acc in enumerate([accuracy_2afc_model,accuracy_2afc_oracle,accuracy_2afc_map,\n",
    "                        accuracy_eval_model,accuracy_eval_oracle,accuracy_eval_map]):\n",
    "    fig,ax=plt.subplots()\n",
    "    ax.set_title(data[i//3] + ': ' + models[i%3])\n",
    "    ax.set_ylabel('Frequency')\n",
    "    ax.set_yticks([])\n",
    "    if(i<3):\n",
    "        ax.axvline(x=50,linestyle='dashed',color='black')\n",
    "        ax.set_xlabel('Percent correctly predicted')\n",
    "    else:\n",
    "        ax.axvline(x=0,linestyle='dashed',color='black')\n",
    "        ax.set_xlabel('Correlation predicted/observed evaluations')\n",
    "    ax.hist(acc,24)\n",
    "    ax.spines['top'].set_visible(False)\n",
    "    ax.spines['right'].set_visible(False)\n",
    "    ax.text(0.02, 0.9, letters[i], horizontalalignment='center',\n",
    "        verticalalignment='center', transform=fig.transFigure, fontsize = 20)\n",
    "\n",
    "    fig.tight_layout()\n",
    "    fig.savefig(fig_direc + 'generalization1_' + letters[i] + '.pdf')\n",
    "    print(print_mean_and_sem_and_p(\"\\\\rho\",acc,0,\".02f\"),sts.ttest_1samp(acc,popmean=50))\n",
    "    plt.show()"
   ]
  },
  {
   "cell_type": "code",
   "execution_count": 4,
   "metadata": {},
   "outputs": [
    {
     "ename": "NameError",
     "evalue": "name 'accuracy_2afc_model' is not defined",
     "output_type": "error",
     "traceback": [
      "\u001b[1;31m---------------------------------------------------------------------------\u001b[0m",
      "\u001b[1;31mNameError\u001b[0m                                 Traceback (most recent call last)",
      "\u001b[1;32m<ipython-input-4-d729d574a1c9>\u001b[0m in \u001b[0;36m<module>\u001b[1;34m\u001b[0m\n\u001b[1;32m----> 1\u001b[1;33m \u001b[0mm\u001b[0m\u001b[1;33m,\u001b[0m\u001b[0ms\u001b[0m \u001b[1;33m=\u001b[0m\u001b[0mzip\u001b[0m\u001b[1;33m(\u001b[0m\u001b[1;33m*\u001b[0m\u001b[1;33m[\u001b[0m\u001b[1;33m(\u001b[0m\u001b[1;36m100\u001b[0m\u001b[1;33m*\u001b[0m\u001b[0mnp\u001b[0m\u001b[1;33m.\u001b[0m\u001b[0mmean\u001b[0m\u001b[1;33m(\u001b[0m\u001b[0mp\u001b[0m\u001b[1;33m)\u001b[0m\u001b[1;33m,\u001b[0m\u001b[1;36m100\u001b[0m\u001b[1;33m*\u001b[0m\u001b[0mnp\u001b[0m\u001b[1;33m.\u001b[0m\u001b[0mstd\u001b[0m\u001b[1;33m(\u001b[0m\u001b[0mp\u001b[0m\u001b[1;33m)\u001b[0m\u001b[1;33m/\u001b[0m\u001b[0mnp\u001b[0m\u001b[1;33m.\u001b[0m\u001b[0msqrt\u001b[0m\u001b[1;33m(\u001b[0m\u001b[0mlen\u001b[0m\u001b[1;33m(\u001b[0m\u001b[0mp\u001b[0m\u001b[1;33m)\u001b[0m\u001b[1;33m)\u001b[0m\u001b[1;33m)\u001b[0m \u001b[1;32mfor\u001b[0m \u001b[0mp\u001b[0m \u001b[1;32min\u001b[0m \u001b[0maccuracy_2afc_model\u001b[0m\u001b[1;33m]\u001b[0m\u001b[1;33m)\u001b[0m\u001b[1;33m\u001b[0m\u001b[1;33m\u001b[0m\u001b[0m\n\u001b[0m\u001b[0;32m      2\u001b[0m \u001b[0mfig\u001b[0m\u001b[1;33m,\u001b[0m\u001b[0max\u001b[0m\u001b[1;33m=\u001b[0m\u001b[0mplt\u001b[0m\u001b[1;33m.\u001b[0m\u001b[0msubplots\u001b[0m\u001b[1;33m(\u001b[0m\u001b[1;33m)\u001b[0m\u001b[1;33m\u001b[0m\u001b[1;33m\u001b[0m\u001b[0m\n\u001b[0;32m      3\u001b[0m \u001b[0max\u001b[0m\u001b[1;33m.\u001b[0m\u001b[0maxhline\u001b[0m\u001b[1;33m(\u001b[0m\u001b[1;36m50\u001b[0m\u001b[1;33m,\u001b[0m\u001b[0mlinestyle\u001b[0m\u001b[1;33m=\u001b[0m\u001b[1;34m'dashed'\u001b[0m\u001b[1;33m,\u001b[0m\u001b[0mcolor\u001b[0m\u001b[1;33m=\u001b[0m\u001b[1;34m'black'\u001b[0m\u001b[1;33m)\u001b[0m\u001b[1;33m\u001b[0m\u001b[1;33m\u001b[0m\u001b[0m\n\u001b[0;32m      4\u001b[0m \u001b[0max\u001b[0m\u001b[1;33m.\u001b[0m\u001b[0merrorbar\u001b[0m\u001b[1;33m(\u001b[0m\u001b[0mx\u001b[0m\u001b[1;33m=\u001b[0m\u001b[0mrange\u001b[0m\u001b[1;33m(\u001b[0m\u001b[1;36m1\u001b[0m\u001b[1;33m,\u001b[0m\u001b[1;36m41\u001b[0m\u001b[1;33m)\u001b[0m\u001b[1;33m,\u001b[0m\u001b[0my\u001b[0m\u001b[1;33m=\u001b[0m\u001b[0mnp\u001b[0m\u001b[1;33m.\u001b[0m\u001b[0msort\u001b[0m\u001b[1;33m(\u001b[0m\u001b[0mm\u001b[0m\u001b[1;33m)\u001b[0m\u001b[1;33m,\u001b[0m\u001b[0myerr\u001b[0m\u001b[1;33m=\u001b[0m\u001b[0mnp\u001b[0m\u001b[1;33m.\u001b[0m\u001b[0marray\u001b[0m\u001b[1;33m(\u001b[0m\u001b[0ms\u001b[0m\u001b[1;33m)\u001b[0m\u001b[1;33m[\u001b[0m\u001b[0mnp\u001b[0m\u001b[1;33m.\u001b[0m\u001b[0margsort\u001b[0m\u001b[1;33m(\u001b[0m\u001b[0mm\u001b[0m\u001b[1;33m)\u001b[0m\u001b[1;33m]\u001b[0m\u001b[1;33m,\u001b[0m\u001b[0mmarker\u001b[0m\u001b[1;33m=\u001b[0m\u001b[1;34m'p'\u001b[0m\u001b[1;33m)\u001b[0m\u001b[1;33m\u001b[0m\u001b[1;33m\u001b[0m\u001b[0m\n\u001b[0;32m      5\u001b[0m \u001b[0max\u001b[0m\u001b[1;33m.\u001b[0m\u001b[0mset_ylabel\u001b[0m\u001b[1;33m(\u001b[0m\u001b[1;34m'Percent correctly\\npredicted'\u001b[0m\u001b[1;33m)\u001b[0m\u001b[1;33m\u001b[0m\u001b[1;33m\u001b[0m\u001b[0m\n",
      "\u001b[1;31mNameError\u001b[0m: name 'accuracy_2afc_model' is not defined"
     ]
    }
   ],
   "source": [
    "m,s =zip(*[(100*np.mean(p),100*np.std(p)/np.sqrt(len(p))) for p in accuracy_2afc_model])\n",
    "fig,ax=plt.subplots()\n",
    "ax.axhline(50,linestyle='dashed',color='black')\n",
    "ax.errorbar(x=range(1,41),y=np.sort(m),yerr=np.array(s)[np.argsort(m)],marker='p')\n",
    "ax.set_ylabel('Percent correctly\\npredicted')\n",
    "ax.set_xlabel('Participant',labelpad=-5)\n",
    "ax.set_xticks([1,40])\n",
    "fig.subplots_adjust(bottom=0.15,right=0.95,left=0.25,top=0.95)\n",
    "fig.savefig(fig_direc+'2afc.pdf')\n",
    "plt.show()"
   ]
  },
  {
   "cell_type": "code",
   "execution_count": 93,
   "metadata": {},
   "outputs": [
    {
     "data": {
      "image/png": "[encoded data removed]",
      "text/plain": [
       "<Figure size 576x432 with 1 Axes>"
      ]
     },
     "metadata": {
      "needs_background": "light"
     },
     "output_type": "display_data"
    }
   ],
   "source": [
    "P = np.loadtxt(direc + 'Analysis/Generalization/performance_gen_eval.txt')\n",
    "fig,ax=plt.subplots()\n",
    "ax.xaxis.set_major_formatter(FormatStrFormatter('%g'))\n",
    "ax.yaxis.set_major_formatter(FormatStrFormatter('%g'))\n",
    "m = np.array([sts.spearmanr(e1,e2).correlation for e1,e2 in zip(prediction_eval_model,eval_moves)])\n",
    "lower = m-np.tanh(np.arctanh(m) - 1/np.sqrt(79))\n",
    "upper = np.tanh(np.arctanh(m) + 1/np.sqrt(79))-m\n",
    "ax.axhline(0,linestyle='dashed',color='black')\n",
    "ax.errorbar(x=range(1,41),y=np.sort(m),yerr=[np.array(lower)[np.argsort(m)],np.array(upper)[np.argsort(m)]],marker='p')\n",
    "ax.set_ylabel('Correlation\\npredicted/observed')\n",
    "ax.set_xlabel('Participant',labelpad=-5)\n",
    "ax.set_xticks([1,40])\n",
    "ax.set_ylim([-0.5,0.75])\n",
    "fig.subplots_adjust(bottom=0.15,right=0.95,left=0.25,top=0.95)\n",
    "fig.savefig(fig_direc+'eval.pdf')\n",
    "plt.show()"
   ]
  },
  {
   "cell_type": "code",
   "execution_count": 76,
   "metadata": {},
   "outputs": [
    {
     "data": {
      "text/plain": [
       "array([0.60468726, 0.62154038, 0.43023344, 0.30501776, 0.4054588 ,\n",
       "       0.81946171, 0.4991353 , 0.49189054, 0.40922645, 0.69635738,\n",
       "       0.28946066, 0.64676566, 0.63714806, 0.27743949, 0.55365277,\n",
       "       0.38064947, 0.69749173, 0.72851299, 0.32861412, 0.72098992,\n",
       "       0.78907374, 0.57692857, 0.80101744, 0.56151678, 0.06768654,\n",
       "       0.79341529, 0.35458136, 0.79572206, 0.73359276, 0.72261094,\n",
       "       0.76256153, 0.46641451, 0.34350467, 0.8389087 , 0.38434325,\n",
       "       0.72164604, 0.78698091, 0.7040801 , 0.67600272, 0.50806453])"
      ]
     },
     "execution_count": 76,
     "metadata": {},
     "output_type": "execute_result"
    }
   ],
   "source": [
    "upper"
   ]
  },
  {
   "cell_type": "code",
   "execution_count": null,
   "metadata": {},
   "outputs": [],
   "source": []
  },
  {
   "cell_type": "code",
   "execution_count": 56,
   "metadata": {},
   "outputs": [
    {
     "data": {
      "text/plain": [
       "0.33635877732512004"
      ]
     },
     "execution_count": 56,
     "metadata": {},
     "output_type": "execute_result"
    }
   ],
   "source": [
    "[sts.spearmanr(e1,e2).correlation for e1,e2 in zip(prediction_eval_model,eval_moves)]"
   ]
  },
  {
   "cell_type": "code",
   "execution_count": null,
   "metadata": {},
   "outputs": [],
   "source": []
  },
  {
   "cell_type": "code",
   "execution_count": null,
   "metadata": {},
   "outputs": [],
   "source": [
    "plt.hist(accuracy_eval_map,10)\n",
    "plt.show()\n",
    "print(\"eval:\",print_mean_and_sem_and_p(\"\\\\rho\",accuracy_eval_map,0,\".02f\"))\n",
    "\n",
    "plt.hist(accuracy_2afc_map,10)\n",
    "plt.show()\n",
    "print(\"2afc:\",print_mean_and_sem_and_p(\"p_{\\\\text{correct}}\",accuracy_2afc_map,0.5,\".03f\"))"
   ]
  },
  {
   "cell_type": "code",
   "execution_count": null,
   "metadata": {},
   "outputs": [],
   "source": [
    "plt.hist(accuracy_eval_oracle,10)\n",
    "plt.show()\n",
    "print(\"eval:\",print_mean_and_sem_and_p(\"\\\\rho\",accuracy_eval_oracle,0,\".02f\"))\n",
    "\n",
    "plt.hist(accuracy_2afc_oracle,10)\n",
    "plt.show()\n",
    "print(\"2afc:\",print_mean_and_sem_and_p(\"p_{\\\\text{correct}}\",accuracy_2afc_oracle,0.5,\".03f\"))"
   ]
  },
  {
   "cell_type": "code",
   "execution_count": null,
   "metadata": {},
   "outputs": [],
   "source": [
    "fig,ax=plt.subplots()\n",
    "ax.set_title('2AFC')\n",
    "ax.set_xlabel('Percent correctly predicted: model')\n",
    "ax.set_ylabel('Percent correctly predicted: baseline')\n",
    "plt.plot(accuracy_2afc_model,accuracy_2afc_oracle,'o',label='Oracle')\n",
    "plt.plot(accuracy_2afc_model,accuracy_2afc_map,'o',label = 'Mean-across-participants')\n",
    "plt.legend(frameon=False)\n",
    "plt.plot([40,85],[40,85],'-k')\n",
    "ax.spines['top'].set_visible(False)\n",
    "ax.spines['right'].set_visible(False)\n",
    "ax.text(0.02, 0.95, 'A', horizontalalignment='center',\n",
    "        verticalalignment='center', transform=fig.transFigure, fontsize = 20)\n",
    "\n",
    "fig.tight_layout()\n",
    "fig.savefig(fig_direc + 'generalization2_A.pdf')\n",
    "plt.show()\n",
    "\n",
    "print(sts.spearmanr(accuracy_2afc_model,accuracy_2afc_map))\n",
    "print(sts.spearmanr(accuracy_2afc_model,accuracy_2afc_oracle))"
   ]
  },
  {
   "cell_type": "code",
   "execution_count": null,
   "metadata": {},
   "outputs": [],
   "source": [
    "fig,ax=plt.subplots()\n",
    "ax.set_title('Evaluation')\n",
    "ax.set_xlabel('Correlation predicted/observed: model')\n",
    "ax.set_ylabel('Correlation predicted/observed: baseline')\n",
    "plt.plot(accuracy_eval_model,accuracy_eval_oracle,'o',label='Oracle')\n",
    "plt.plot(accuracy_eval_model,accuracy_eval_map,'o',label = 'Mean-across-participants')\n",
    "plt.legend(frameon=False)\n",
    "ax.spines['top'].set_visible(False)\n",
    "ax.spines['right'].set_visible(False)\n",
    "ax.text(0.02, 0.95, 'B', horizontalalignment='center',\n",
    "        verticalalignment='center', transform=fig.transFigure, fontsize = 20)\n",
    "\n",
    "plt.plot([-0.2,1],[-0.2,1],'-k')\n",
    "fig.tight_layout()\n",
    "fig.savefig(fig_direc + 'generalization2_B.pdf')\n",
    "plt.show()\n",
    "\n",
    "print(sts.spearmanr(accuracy_eval_model,accuracy_eval_map))\n",
    "print(sts.spearmanr(accuracy_eval_model,accuracy_eval_oracle))"
   ]
  },
  {
   "cell_type": "code",
   "execution_count": null,
   "metadata": {},
   "outputs": [],
   "source": [
    "fig,ax=plt.subplots()\n",
    "ax.set_xlabel('Log-likelihood for play-against-AI')\n",
    "ax.set_ylabel('2AFC accuracy')\n",
    "ax.spines['top'].set_visible(False)\n",
    "ax.spines['right'].set_visible(False)\n",
    "ax.text(0.02, 0.95, 'A', horizontalalignment='center',\n",
    "        verticalalignment='center', transform=fig.transFigure, fontsize = 20)\n",
    "plt.plot(loglik_games,accuracy_2afc_model,'ok')\n",
    "fig.tight_layout()\n",
    "fig.savefig(fig_direc + 'generalization3_A.pdf')\n",
    "plt.show()\n",
    "print(\"2afc-games:\",sts.spearmanr(loglik_games,accuracy_2afc_model))"
   ]
  },
  {
   "cell_type": "code",
   "execution_count": null,
   "metadata": {},
   "outputs": [],
   "source": [
    "fig,ax=plt.subplots()\n",
    "ax.set_xlabel('Log-likelihood for play-against-AI')\n",
    "ax.set_ylabel('Evaluation accuracy')\n",
    "ax.spines['top'].set_visible(False)\n",
    "ax.spines['right'].set_visible(False)\n",
    "ax.text(0.02, 0.95, 'B', horizontalalignment='center',\n",
    "        verticalalignment='center', transform=fig.transFigure, fontsize = 20)\n",
    "plt.plot(loglik_games,accuracy_eval_model,'ok')\n",
    "fig.tight_layout()\n",
    "fig.savefig(fig_direc + 'generalization3_B.pdf')\n",
    "plt.show()\n",
    "print(\"2afc-games:\",sts.spearmanr(loglik_games,accuracy_eval_model))"
   ]
  },
  {
   "cell_type": "code",
   "execution_count": null,
   "metadata": {},
   "outputs": [],
   "source": [
    "fig,ax=plt.subplots()\n",
    "ax.set_xlabel('Evaluation accuracy')\n",
    "ax.set_ylabel('2AFC accuracy')\n",
    "plt.plot(accuracy_eval_model,accuracy_2afc_model,'ok')\n",
    "ax.spines['top'].set_visible(False)\n",
    "ax.spines['right'].set_visible(False)\n",
    "ax.text(0.02, 0.95, 'C', horizontalalignment='center',\n",
    "        verticalalignment='center', transform=fig.transFigure, fontsize = 20)\n",
    "fig.tight_layout()\n",
    "fig.savefig(fig_direc + 'generalization3_C.pdf')\n",
    "plt.show()\n",
    "print(\"2afc-eval:\",sts.spearmanr(accuracy_eval_model,accuracy_2afc_model))"
   ]
  },
  {
   "cell_type": "code",
   "execution_count": null,
   "metadata": {},
   "outputs": [],
   "source": [
    "all_beta = [sm.ols(formula=\"y ~ x1 + x2 + x3\", \n",
    "        data=pd.DataFrame({'y' : eval_moves[i],\n",
    "                           'x1': prediction_eval_model[i], \n",
    "                           'x2' : prediction_eval_map[i], \n",
    "                           'x3' : prediction_eval_oracle[i]})\n",
    "       ).fit().params for i in range(40)]\n",
    "\n",
    "for x in ['x1','x2','x3']:\n",
    "    beta = [b[x] for b in all_beta]\n",
    "    print(print_mean_and_sem_and_p(\"\\\\beta\",beta,0,\".02f\"))"
   ]
  },
  {
   "cell_type": "code",
   "execution_count": null,
   "metadata": {},
   "outputs": [],
   "source": [
    "from scipy.optimize import minimize\n",
    "\n",
    "def accuracy_2afc(X,beta):\n",
    "    return np.mean(np.dot(np.vstack(X).T,np.array(beta)/np.sum(beta))>0.5)\n",
    "\n",
    "def get_beta(i):\n",
    "    f = lambda beta: 1-accuracy_2afc([prediction_2afc_map[i],\n",
    "                                     prediction_2afc_model[i],\n",
    "                                     prediction_2afc_map[i]],beta)\n",
    "    return minimize(f,[1/3,1/3,1/3], method='COBYLA', options={'disp': False})\n"
   ]
  },
  {
   "cell_type": "code",
   "execution_count": null,
   "metadata": {},
   "outputs": [],
   "source": [
    "f = lambda beta: 1-accuracy_2afc([prediction_2afc_map[0],\n",
    "                                     prediction_2afc_model[0],\n",
    "                                     prediction_2afc_map[0]],beta)\n",
    "f([1,2,0])"
   ]
  },
  {
   "cell_type": "code",
   "execution_count": null,
   "metadata": {},
   "outputs": [],
   "source": []
  },
  {
   "cell_type": "code",
   "execution_count": null,
   "metadata": {},
   "outputs": [],
   "source": []
  }
 ],
 "metadata": {
  "kernelspec": {
   "display_name": "Python 3",
   "language": "python",
   "name": "python3"
  },
  "language_info": {
   "codemirror_mode": {
    "name": "ipython",
    "version": 3
   },
   "file_extension": ".py",
   "mimetype": "text/x-python",
   "name": "python",
   "nbconvert_exporter": "python",
   "pygments_lexer": "ipython3",
   "version": "3.7.4"
  }
 },
 "nbformat": 4,
 "nbformat_minor": 1
}
