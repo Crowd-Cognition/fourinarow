{
 "cells": [
  {
   "cell_type": "code",
   "execution_count": 103,
   "metadata": {},
   "outputs": [],
   "source": [
    "import json\n",
    "import numpy as np\n",
    "import os\n",
    "import pandas as pd"
   ]
  },
  {
   "cell_type": "code",
   "execution_count": 104,
   "metadata": {},
   "outputs": [],
   "source": [
    "behavior_names = ['XY_05232017', 'NG_05242017', 'NK_05242017', 'DN_05302017', 'MS_05312017','ST_05312017',\n",
    "                  'CU_06012017', 'AM_06012017', 'EA_06062017', 'CM_06062017', 'LC_06072017', 'TP_06082017',\n",
    "                  'TC_10112017', 'CF_10122017', 'VS_10172017', 'NP_10202017', 'MH_11272017', 'DB_11282017',\n",
    "                  'RR_11282017', 'EL_11292017', 'VD_11292017', 'JS_11302017', 'HR_12012017', 'MA_12012017',\n",
    "                  'FD_12012017','CS_12042017','KD_01092018','IR_01092018','AA_01112018','AM2_01112018',\n",
    "                  'HZ_01242018','DA_02072018','CV_02092018','MS2_02192018','EC_02212018','TB_02212018',\n",
    "                  'JW_02232018','LL_02232018','KL_02232018']\n",
    "\n",
    "behavior_names_short = [name.split('_')[0] for name in behavior_names]\n",
    "\n",
    "N = len(behavior_names)\n",
    "\n",
    "direc = 'Y:/bas/data/behavior/'"
   ]
  },
  {
   "cell_type": "code",
   "execution_count": 105,
   "metadata": {},
   "outputs": [],
   "source": [
    "data_output = [json.load(open(direc + 'output/FreechoiceData' + name + '.txt')) for name in behavior_names]"
   ]
  },
  {
   "cell_type": "code",
   "execution_count": 106,
   "metadata": {},
   "outputs": [],
   "source": [
    "data_db = [json.load(open(direc + 'database/Database' + name + '.json')) for name in behavior_names_short]"
   ]
  },
  {
   "cell_type": "code",
   "execution_count": 107,
   "metadata": {},
   "outputs": [],
   "source": [
    "fnames = [direc + \"console/console\" + name + \".log\" for name in behavior_names]\n",
    "data_console = [open(name,\"r\").readlines() if os.path.isfile(name) else [] for name in fnames]"
   ]
  },
  {
   "cell_type": "code",
   "execution_count": 108,
   "metadata": {},
   "outputs": [],
   "source": [
    "X = np.array([[[int(e['response']),int(e['trial_id'])] for e in d if 'response' in e][-216:] for d in data_db[3:]])"
   ]
  },
  {
   "cell_type": "code",
   "execution_count": 109,
   "metadata": {},
   "outputs": [],
   "source": [
    "choices = np.empty([36,216],dtype=int)\n",
    "for i in range(36):\n",
    "    choices[i,X[i,:,1]]=X[i,:,0]"
   ]
  },
  {
   "cell_type": "code",
   "execution_count": 110,
   "metadata": {},
   "outputs": [
    {
     "data": {
      "text/plain": [
       "215"
      ]
     },
     "execution_count": 110,
     "metadata": {},
     "output_type": "execute_result"
    }
   ],
   "source": [
    "np.max(X[:,:,1])"
   ]
  },
  {
   "cell_type": "code",
   "execution_count": 111,
   "metadata": {},
   "outputs": [
    {
     "data": {
      "text/plain": [
       "1.0"
      ]
     },
     "execution_count": 111,
     "metadata": {},
     "output_type": "execute_result"
    }
   ],
   "source": [
    "np.mean(np.array([d['choices'] for d in data_output[3:]])==choices)"
   ]
  },
  {
   "cell_type": "code",
   "execution_count": 112,
   "metadata": {},
   "outputs": [],
   "source": [
    "#helper functions that encode boards as and moves as integers for the model fitting pipeline\n",
    "def encode_board(pieces):\n",
    "    return np.sum([2**i for i,p in enumerate(pieces) if p=='1']).astype(np.int64)\n",
    "\n",
    "def encode_move(m):\n",
    "    return 2**int(m)\n",
    "\n"
   ]
  },
  {
   "cell_type": "code",
   "execution_count": 169,
   "metadata": {},
   "outputs": [],
   "source": [
    "direc = 'C:/Users/svo/Documents/FourinarowData/Data/freechoice/'\n",
    "if not os.path.exists(direc + 'splits/'):\n",
    "    os.mkdir(direc + 'splits/')\n",
    "for i,d in enumerate(data_db[3:]):\n",
    "    if not os.path.exists(direc + 'splits/' + str(i+1)):\n",
    "        os.mkdir(direc + 'splits/' + str(i+1))\n",
    "    d_valid = [e for e in d if 'response' in e][-216:]\n",
    "    d_valid = [e for e in d_valid if e['response']!='99']\n",
    "    df = pd.DataFrame([(encode_board(e['bp']),\n",
    "                             encode_board(e['wp']),\n",
    "                             'Black' if e['color']=='0' else 'White',\n",
    "                             encode_move(e['response']),\n",
    "                             e['rt'],\n",
    "                             e['user_name'])\n",
    "                            for e in d_valid],\n",
    "                 columns=['bp','wp','color','m','rt','user_name'])\n",
    "    df.loc[df['color']=='Black','bp']-=df[df['color']=='Black']['m']\n",
    "    df.loc[df['color']=='White','wp']-=df[df['color']=='White']['m']\n",
    "    df['group'] = (5*(np.random.permutation(len(df))/len(df))).astype(int)+1\n",
    "    df = df[['bp','wp','color','m','rt','group','user_name']]\n",
    "    with open(direc + 'splits/' + str(i+1) + '/data.csv','w') as f:\n",
    "        f.write(df.to_csv(None, index = False, header=False,sep='\\t',line_terminator ='\\n')[:-1])\n",
    "    for g in range(1,6):\n",
    "        with open(direc + 'splits/' + str(i+1) + '/' + str(g) + '.csv','w') as f:\n",
    "            f.write(df[df['group']==g].to_csv(None, index = False, header=False,sep='\\t',line_terminator ='\\n')[:-1])\n",
    "    "
   ]
  },
  {
   "cell_type": "code",
   "execution_count": null,
   "metadata": {},
   "outputs": [],
   "source": []
  },
  {
   "cell_type": "code",
   "execution_count": 170,
   "metadata": {},
   "outputs": [
    {
     "data": {
      "text/plain": [
       "0      False\n",
       "1      False\n",
       "2      False\n",
       "3      False\n",
       "4      False\n",
       "       ...  \n",
       "209    False\n",
       "210    False\n",
       "211    False\n",
       "212    False\n",
       "213    False\n",
       "Length: 214, dtype: bool"
      ]
     },
     "execution_count": 170,
     "metadata": {},
     "output_type": "execute_result"
    }
   ],
   "source": [
    "(df['bp']%(2*df['m']))>=df['m']"
   ]
  },
  {
   "cell_type": "code",
   "execution_count": null,
   "metadata": {},
   "outputs": [],
   "source": []
  }
 ],
 "metadata": {
  "kernelspec": {
   "display_name": "Python 3",
   "language": "python",
   "name": "python3"
  },
  "language_info": {
   "codemirror_mode": {
    "name": "ipython",
    "version": 3
   },
   "file_extension": ".py",
   "mimetype": "text/x-python",
   "name": "python",
   "nbconvert_exporter": "python",
   "pygments_lexer": "ipython3",
   "version": "3.7.4"
  }
 },
 "nbformat": 4,
 "nbformat_minor": 4
}
